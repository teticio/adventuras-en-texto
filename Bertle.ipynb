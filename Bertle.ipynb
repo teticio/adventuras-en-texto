{
 "cells": [
  {
   "cell_type": "markdown",
   "metadata": {
    "colab_type": "text",
    "id": "TbJFh_0q1Byx"
   },
   "source": [
    "<img width=\"220px\" src=\"https://github.com/teticio/aventuras-con-textos/blob/master/Bertle.gif?raw=1\"></img>\n",
    "Vamos a hacer un motor de búsqueda semántica con los datos de stack **overflow**."
   ]
  },
  {
   "cell_type": "markdown",
   "metadata": {
    "colab_type": "text",
    "id": "saHnefyr1By1"
   },
   "source": [
    "### Instalar librerías"
   ]
  },
  {
   "cell_type": "code",
   "execution_count": 1,
   "metadata": {
    "ExecuteTime": {
     "end_time": "2019-09-01T11:06:16.799965Z",
     "start_time": "2019-09-01T11:06:15.401813Z"
    },
    "colab": {
     "base_uri": "https://localhost:8080/",
     "height": 108
    },
    "colab_type": "code",
    "id": "b2sx6N651By2",
    "outputId": "daa16b01-525e-4737-e070-5246cb73a076"
   },
   "outputs": [
    {
     "name": "stderr",
     "output_type": "stream",
     "text": [
      "/usr/lib/python3/dist-packages/tensorflow/python/framework/dtypes.py:516: FutureWarning: Passing (type, 1) or '1type' as a synonym of type is deprecated; in a future version of numpy, it will be understood as (type, (1,)) / '(1,)type'.\n",
      "  _np_qint8 = np.dtype([(\"qint8\", np.int8, 1)])\n",
      "/usr/lib/python3/dist-packages/tensorflow/python/framework/dtypes.py:517: FutureWarning: Passing (type, 1) or '1type' as a synonym of type is deprecated; in a future version of numpy, it will be understood as (type, (1,)) / '(1,)type'.\n",
      "  _np_quint8 = np.dtype([(\"quint8\", np.uint8, 1)])\n",
      "/usr/lib/python3/dist-packages/tensorflow/python/framework/dtypes.py:518: FutureWarning: Passing (type, 1) or '1type' as a synonym of type is deprecated; in a future version of numpy, it will be understood as (type, (1,)) / '(1,)type'.\n",
      "  _np_qint16 = np.dtype([(\"qint16\", np.int16, 1)])\n",
      "/usr/lib/python3/dist-packages/tensorflow/python/framework/dtypes.py:519: FutureWarning: Passing (type, 1) or '1type' as a synonym of type is deprecated; in a future version of numpy, it will be understood as (type, (1,)) / '(1,)type'.\n",
      "  _np_quint16 = np.dtype([(\"quint16\", np.uint16, 1)])\n",
      "/usr/lib/python3/dist-packages/tensorflow/python/framework/dtypes.py:520: FutureWarning: Passing (type, 1) or '1type' as a synonym of type is deprecated; in a future version of numpy, it will be understood as (type, (1,)) / '(1,)type'.\n",
      "  _np_qint32 = np.dtype([(\"qint32\", np.int32, 1)])\n",
      "/usr/lib/python3/dist-packages/tensorflow/python/framework/dtypes.py:525: FutureWarning: Passing (type, 1) or '1type' as a synonym of type is deprecated; in a future version of numpy, it will be understood as (type, (1,)) / '(1,)type'.\n",
      "  np_resource = np.dtype([(\"resource\", np.ubyte, 1)])\n",
      "/usr/lib/python3/dist-packages/tensorboard/compat/tensorflow_stub/dtypes.py:541: FutureWarning: Passing (type, 1) or '1type' as a synonym of type is deprecated; in a future version of numpy, it will be understood as (type, (1,)) / '(1,)type'.\n",
      "  _np_qint8 = np.dtype([(\"qint8\", np.int8, 1)])\n",
      "/usr/lib/python3/dist-packages/tensorboard/compat/tensorflow_stub/dtypes.py:542: FutureWarning: Passing (type, 1) or '1type' as a synonym of type is deprecated; in a future version of numpy, it will be understood as (type, (1,)) / '(1,)type'.\n",
      "  _np_quint8 = np.dtype([(\"quint8\", np.uint8, 1)])\n",
      "/usr/lib/python3/dist-packages/tensorboard/compat/tensorflow_stub/dtypes.py:543: FutureWarning: Passing (type, 1) or '1type' as a synonym of type is deprecated; in a future version of numpy, it will be understood as (type, (1,)) / '(1,)type'.\n",
      "  _np_qint16 = np.dtype([(\"qint16\", np.int16, 1)])\n",
      "/usr/lib/python3/dist-packages/tensorboard/compat/tensorflow_stub/dtypes.py:544: FutureWarning: Passing (type, 1) or '1type' as a synonym of type is deprecated; in a future version of numpy, it will be understood as (type, (1,)) / '(1,)type'.\n",
      "  _np_quint16 = np.dtype([(\"quint16\", np.uint16, 1)])\n",
      "/usr/lib/python3/dist-packages/tensorboard/compat/tensorflow_stub/dtypes.py:545: FutureWarning: Passing (type, 1) or '1type' as a synonym of type is deprecated; in a future version of numpy, it will be understood as (type, (1,)) / '(1,)type'.\n",
      "  _np_qint32 = np.dtype([(\"qint32\", np.int32, 1)])\n",
      "/usr/lib/python3/dist-packages/tensorboard/compat/tensorflow_stub/dtypes.py:550: FutureWarning: Passing (type, 1) or '1type' as a synonym of type is deprecated; in a future version of numpy, it will be understood as (type, (1,)) / '(1,)type'.\n",
      "  np_resource = np.dtype([(\"resource\", np.ubyte, 1)])\n"
     ]
    }
   ],
   "source": [
    "# instalar BERT\n",
    "import sys\n",
    "\n",
    "!test -d bert_repo || git clone https://github.com/google-research/bert bert_repo\n",
    "if not 'bert_repo' in sys.path:\n",
    "    sys.path += ['bert_repo']\n",
    "\n",
    "# import python modules defined by BERT\n",
    "import tokenization"
   ]
  },
  {
   "cell_type": "code",
   "execution_count": 2,
   "metadata": {
    "ExecuteTime": {
     "end_time": "2019-09-01T11:06:16.975401Z",
     "start_time": "2019-09-01T11:06:16.801484Z"
    },
    "colab": {
     "base_uri": "https://localhost:8080/",
     "height": 35
    },
    "colab_type": "code",
    "id": "VF0-idjT1By-",
    "outputId": "9c9cf4b7-7d9e-4671-8b43-2ce3acc1859f"
   },
   "outputs": [
    {
     "name": "stderr",
     "output_type": "stream",
     "text": [
      "Using TensorFlow backend.\n",
      "/home/teticio/.local/lib/python3.6/site-packages/fuzzywuzzy/fuzz.py:11: UserWarning: Using slow pure-python SequenceMatcher. Install python-Levenshtein to remove this warning\n",
      "  warnings.warn('Using slow pure-python SequenceMatcher. Install python-Levenshtein to remove this warning')\n"
     ]
    }
   ],
   "source": [
    "import os\n",
    "import pickle\n",
    "import numpy as np\n",
    "import pandas as pd\n",
    "from bs4 import BeautifulSoup\n",
    "from tqdm import tqdm_notebook\n",
    "import tensorflow as tf\n",
    "import tensorflow_hub as hub\n",
    "from sklearn.metrics.pairwise import cosine_similarity\n",
    "from IPython.core.display import display, HTML\n",
    "from keras.utils import get_file\n",
    "from fuzzywuzzy import fuzz\n",
    "from copy import deepcopy\n",
    "\n",
    "os.environ['TFHUB_CACHE_DIR'] = './tfhub'"
   ]
  },
  {
   "cell_type": "code",
   "execution_count": 3,
   "metadata": {
    "ExecuteTime": {
     "end_time": "2019-09-01T11:06:17.456759Z",
     "start_time": "2019-09-01T11:06:16.976936Z"
    },
    "colab": {},
    "colab_type": "code",
    "id": "eSGd3XSI1BzC"
   },
   "outputs": [],
   "source": [
    "sess = tf.Session()"
   ]
  },
  {
   "cell_type": "code",
   "execution_count": 4,
   "metadata": {
    "ExecuteTime": {
     "end_time": "2019-09-01T11:06:17.467119Z",
     "start_time": "2019-09-01T11:06:17.459071Z"
    },
    "colab": {},
    "colab_type": "code",
    "id": "E5rwPbBt1Bzb"
   },
   "outputs": [],
   "source": [
    "batch_size = 32  #@param {type : 'number'}\n",
    "max_len = 512  #@param {type : 'number'}\n",
    "\n",
    "\n",
    "def prepare_inputs_for_bert(texts, max_len):\n",
    "    examples = []\n",
    "    mask = []\n",
    "    segment = []\n",
    "    label = []\n",
    "    for text in texts:\n",
    "        q = tokenizer.tokenize(text)\n",
    "        pad = [0] * (max_len - (len(q) + 2))\n",
    "        examples.append(\n",
    "            tokenizer.convert_tokens_to_ids(['[CLS]'] + q +\n",
    "                                            ['[SEP]'])[:max_len] + pad)\n",
    "        mask.append([1] * min(len(q) + 2, max_len) + pad)\n",
    "        segment.append([0] * max_len)\n",
    "    return (np.array(examples), np.array(mask), np.array(segment))"
   ]
  },
  {
   "cell_type": "markdown",
   "metadata": {
    "colab_type": "text",
    "id": "GtaYy2_31BzM"
   },
   "source": [
    "### Descargar el modelo de BERT"
   ]
  },
  {
   "cell_type": "code",
   "execution_count": 5,
   "metadata": {
    "ExecuteTime": {
     "end_time": "2019-09-01T11:06:21.022762Z",
     "start_time": "2019-09-01T11:06:18.469667Z"
    },
    "colab": {},
    "colab_type": "code",
    "id": "XJqaqdxb1BzN",
    "outputId": "ed98bda9-b49f-48ad-e756-3fbaa95aceab"
   },
   "outputs": [
    {
     "name": "stderr",
     "output_type": "stream",
     "text": [
      "WARNING: Logging before flag parsing goes to stderr.\n",
      "W0901 13:06:20.783304 140364281870144 deprecation_wrapper.py:119] From bert_repo/tokenization.py:125: The name tf.gfile.GFile is deprecated. Please use tf.io.gfile.GFile instead.\n",
      "\n"
     ]
    }
   ],
   "source": [
    "#modelo_de_bert = 'bert_uncased_L-12_H-768_A-12/1'  #@param [\"bert_uncased_L-12_H-768_A-12/1\", \"bert_cased_L-12_H-768_A-12/1\", \"bert_uncased_L-24_H-1024_A-16/1\", \"bert_cased_L-24_H-1024_A-16/1\", \"bert_multi_cased_L-12_H-768_A-12/1\"]\n",
    "modelo_de_bert = 'bert_multi_cased_L-12_H-768_A-12/1'  #@param [\"bert_uncased_L-12_H-768_A-12/1\", \"bert_cased_L-12_H-768_A-12/1\", \"bert_uncased_L-24_H-1024_A-16/1\", \"bert_cased_L-24_H-1024_A-16/1\", \"bert_multi_cased_L-12_H-768_A-12/1\"]\n",
    "bert = hub.Module('https://tfhub.dev/google/' + modelo_de_bert)\n",
    "\n",
    "# instanciar el tokenizador\n",
    "tokenization_info = bert(signature='tokenization_info', as_dict=True)\n",
    "vocab_file, do_lower_case = sess.run([\n",
    "    tokenization_info['vocab_file'],\n",
    "    tokenization_info['do_lower_case'],\n",
    "])\n",
    "tokenizer = tokenization.FullTokenizer(vocab_file=vocab_file,\n",
    "                                       do_lower_case=do_lower_case)"
   ]
  },
  {
   "cell_type": "code",
   "execution_count": 6,
   "metadata": {
    "ExecuteTime": {
     "end_time": "2019-09-01T11:06:21.028717Z",
     "start_time": "2019-09-01T11:06:21.024225Z"
    },
    "colab": {},
    "colab_type": "code",
    "id": "95dgBq2T1BzR"
   },
   "outputs": [],
   "source": [
    "input_ids = tf.placeholder(name='input_ids',\n",
    "                           shape=(batch_size, max_len),\n",
    "                           dtype='int32')\n",
    "input_mask = tf.placeholder(name='input_mask',\n",
    "                            shape=(batch_size, max_len),\n",
    "                            dtype='int32')\n",
    "segment_ids = tf.placeholder(name='segment_ids',\n",
    "                             shape=(batch_size, max_len),\n",
    "                             dtype='int32')"
   ]
  },
  {
   "cell_type": "code",
   "execution_count": 7,
   "metadata": {
    "ExecuteTime": {
     "end_time": "2019-09-01T11:06:22.898645Z",
     "start_time": "2019-09-01T11:06:21.438754Z"
    },
    "colab": {},
    "colab_type": "code",
    "id": "fjpaFpgh1BzV"
   },
   "outputs": [],
   "source": [
    "# instanciar el modelo\n",
    "bert_model = bert(dict(input_ids=input_ids,\n",
    "                       input_mask=input_mask,\n",
    "                       segment_ids=segment_ids),\n",
    "                  signature=\"tokens\",\n",
    "                  as_dict=True)\n",
    "sess.run(tf.global_variables_initializer())"
   ]
  },
  {
   "cell_type": "markdown",
   "metadata": {},
   "source": [
    "### Descargar los datos de stack overflow"
   ]
  },
  {
   "cell_type": "code",
   "execution_count": 19,
   "metadata": {
    "ExecuteTime": {
     "end_time": "2019-09-01T11:17:23.182139Z",
     "start_time": "2019-09-01T11:17:20.804622Z"
    },
    "colab": {},
    "colab_type": "code",
    "id": "VC_AEHa41Bzg"
   },
   "outputs": [
    {
     "name": "stdout",
     "output_type": "stream",
     "text": [
      "Downloading data from https://docs.google.com/uc?export=download&id=1BPosRNTemuPD5XifQLOxQWe2wLwTIHt3\n",
      "10256384/Unknown - 1s 0us/step"
     ]
    }
   ],
   "source": [
    "get_file(\n",
    "    os.getcwd() + '/stackoverflow.p',\n",
    "    origin=\n",
    "    'https://docs.google.com/uc?export=download&id=1BPosRNTemuPD5XifQLOxQWe2wLwTIHt3'\n",
    ")\n",
    "data = pickle.load(open('stackoverflow.p', 'rb'))"
   ]
  },
  {
   "cell_type": "markdown",
   "metadata": {
    "colab_type": "text",
    "id": "qDyhUI5X1Bza"
   },
   "source": [
    "### Calcular los embedding con BERT para las preguntas de stack overflow"
   ]
  },
  {
   "cell_type": "code",
   "execution_count": 213,
   "metadata": {
    "ExecuteTime": {
     "end_time": "2019-09-01T12:37:34.991015Z",
     "start_time": "2019-09-01T12:36:20.019922Z"
    },
    "colab": {},
    "colab_type": "code",
    "id": "RevP-2Y71Bzr",
    "outputId": "21b7ec19-8452-459b-aa33-523c273ff7e1"
   },
   "outputs": [
    {
     "data": {
      "application/vnd.jupyter.widget-view+json": {
       "model_id": "fa55eb9c499e4ef2ba9faa922f35555c",
       "version_major": 2,
       "version_minor": 0
      },
      "text/plain": [
       "HBox(children=(IntProgress(value=0, max=153), HTML(value='')))"
      ]
     },
     "metadata": {},
     "output_type": "display_data"
    }
   ],
   "source": [
    "bert_embeddings = []\n",
    "for _, i in enumerate(tqdm_notebook(range(0, len(data), batch_size))):\n",
    "    texts = []\n",
    "    for j in range(batch_size):\n",
    "        if i + j < len(data):\n",
    "            texts.append(data['title'][i + j])\n",
    "        else:\n",
    "            # añadir unos dummy para completar el último batch\n",
    "            texts.append('')\n",
    "    examples, mask, segment = prepare_inputs_for_bert(texts, max_len)\n",
    "    bert_embeddings.append(\n",
    "        sess.run(bert_model['pooled_output'],\n",
    "                 feed_dict={\n",
    "                     input_ids: examples,\n",
    "                     input_mask: mask,\n",
    "                     segment_ids: segment\n",
    "                 }))\n",
    "bert_embeddings = np.vstack(bert_embeddings)[:len(data)]"
   ]
  },
  {
   "cell_type": "markdown",
   "metadata": {},
   "source": [
    "### Calcular los embedding con ELMo para las preguntas de stack overflow"
   ]
  },
  {
   "cell_type": "code",
   "execution_count": 15,
   "metadata": {
    "ExecuteTime": {
     "end_time": "2019-09-01T11:11:09.549910Z",
     "start_time": "2019-09-01T11:11:07.547357Z"
    }
   },
   "outputs": [],
   "source": [
    "elmo = hub.Module(\"https://tfhub.dev/google/elmo/2\", trainable=True)\n",
    "sentences = tf.placeholder(name='sentences',\n",
    "                           shape=(batch_size, ),\n",
    "                           dtype='string')\n",
    "elmo_model = elmo(sentences, signature='default', as_dict=True)['default']\n",
    "sess.run(tf.global_variables_initializer())"
   ]
  },
  {
   "cell_type": "code",
   "execution_count": 214,
   "metadata": {
    "ExecuteTime": {
     "end_time": "2019-09-01T12:37:44.435951Z",
     "start_time": "2019-09-01T12:37:36.356545Z"
    }
   },
   "outputs": [
    {
     "data": {
      "application/vnd.jupyter.widget-view+json": {
       "model_id": "5f0c2243d0094fb38920e6fccb9f62f2",
       "version_major": 2,
       "version_minor": 0
      },
      "text/plain": [
       "HBox(children=(IntProgress(value=0, max=153), HTML(value='')))"
      ]
     },
     "metadata": {},
     "output_type": "display_data"
    }
   ],
   "source": [
    "elmo_embeddings = []\n",
    "for _, i in enumerate(tqdm_notebook(range(0, len(data), batch_size))):\n",
    "    texts = []\n",
    "    for j in range(batch_size):\n",
    "        if i + j < len(data):\n",
    "            texts.append(data['title'][i + j])\n",
    "        else:\n",
    "            # añadir unos dummy para completar el último batch\n",
    "            texts.append('')\n",
    "    elmo_embeddings.append(sess.run(elmo_model, feed_dict={sentences: texts}))\n",
    "elmo_embeddings = np.vstack(elmo_embeddings)[:len(data)]"
   ]
  },
  {
   "cell_type": "markdown",
   "metadata": {},
   "source": [
    "### Probar el motor de búsqueda semántica"
   ]
  },
  {
   "cell_type": "code",
   "execution_count": 215,
   "metadata": {
    "ExecuteTime": {
     "end_time": "2019-09-01T12:37:46.036809Z",
     "start_time": "2019-09-01T12:37:46.034221Z"
    }
   },
   "outputs": [],
   "source": [
    "busqueda = 'cargar un csv con pandas'  #@param {type: 'string'}\n",
    "top_n = 10  #@param {type: 'integer'}"
   ]
  },
  {
   "cell_type": "markdown",
   "metadata": {},
   "source": [
    "### Hacemos un búsqueda \"fuzzy\" en los títulos"
   ]
  },
  {
   "cell_type": "code",
   "execution_count": 216,
   "metadata": {
    "ExecuteTime": {
     "end_time": "2019-09-01T12:37:48.813318Z",
     "start_time": "2019-09-01T12:37:46.443448Z"
    },
    "scrolled": true
   },
   "outputs": [],
   "source": [
    "fuzzy = sorted(\n",
    "    [(fuzz.partial_ratio(busqueda.lower(), data['title'][_].lower()), _)\n",
    "     for _ in range(len(data))],\n",
    "    reverse=True)"
   ]
  },
  {
   "cell_type": "code",
   "execution_count": 217,
   "metadata": {
    "ExecuteTime": {
     "end_time": "2019-09-01T12:37:48.828148Z",
     "start_time": "2019-09-01T12:37:48.814664Z"
    },
    "scrolled": true
   },
   "outputs": [
    {
     "data": {
      "text/html": [
       "<img width=\"220px\" src=\"https://cdn.sstatic.net/Sites/stackoverflow/company/img/logos/so/so-logo.svg?v=a010291124bf\"></img>"
      ],
      "text/plain": [
       "<IPython.core.display.HTML object>"
      ]
     },
     "metadata": {},
     "output_type": "display_data"
    },
    {
     "data": {
      "text/html": [
       "<h2>Resultados de la búsqueda <i>cargar un csv con pandas</i></h2>"
      ],
      "text/plain": [
       "<IPython.core.display.HTML object>"
      ]
     },
     "metadata": {},
     "output_type": "display_data"
    },
    {
     "data": {
      "text/html": [
       " <p><h3>[76.00] <a href=\"https://es.stackoverflow.com/questions/84019/considerar-columnas-vac%c3%adas-al-cargar-csv-con-python\"> Considerar columnas vacías al <span style=\"color:red\">cargar</span> <span style=\"color:red\">CSV</span> <span style=\"color:red\">con</span> Python </a></h3></p> Estoy programando en Python y leo desde una plantilla <span style=\"color:red\">CSV</span> <span style=\"color:red\">con</span> Numpy de esta forma: <span style=\"color:red\">csv</span> = np.genfromtxt('MMRExport.csv',delimiter=\",\", dtype=str) Pero dentro del <span style=\"color:red\">CSV</span> tengo filas de datos vacíos y no los toma en cuenta, por ejemplo la primera fila tiene: \"A\",\"B\",\"C\",\"\",\"D\",\"E\",\"\" Entonces las columnas que tienen campos vacíos no las considera o me lanza error en los casos, que filas siguientes tengan <span style=\"color:red\">un</span> dato en esa ubicación. Por ejemplo, si la fila 2 es de la misma forma que la fila 1 no hay prob ..."
      ],
      "text/plain": [
       "<IPython.core.display.HTML object>"
      ]
     },
     "metadata": {},
     "output_type": "display_data"
    },
    {
     "data": {
      "text/html": [
       " <p><h3>[71.00] <a href=\"https://es.stackoverflow.com/questions/228878/como-cargar-un-select-con-un-option-definido-de-la-base-de-datos\"> Como <span style=\"color:red\">cargar</span> <span style=\"color:red\">un</span> select <span style=\"color:red\">con</span> <span style=\"color:red\">un</span> option definido de la base de datos </a></h3></p> Estoy haciendo <span style=\"color:red\">un</span> proyecto <span style=\"color:red\">con</span> visual studio 2015 mvc 5 c# en el cual tengo una lista de artículos que vienen <span style=\"color:red\">con</span> una configuración predeterminada pero también se puede crear desde cero o se puede modificar las ya predeterminadas. Tengo en mi base de datos una tabla llamada Doors la cual tiene <span style=\"color:red\">un</span> solo registro de una sola puerta ya configurada que es <span style=\"color:red\">con</span> la que estoy probando. Entonces en una vista me carga unos combobox <span style=\"color:red\">con</span> las opciones de personalización de la puerta. Las tablas ya poseen dato ..."
      ],
      "text/plain": [
       "<IPython.core.display.HTML object>"
      ]
     },
     "metadata": {},
     "output_type": "display_data"
    },
    {
     "data": {
      "text/html": [
       " <p><h3>[71.00] <a href=\"https://es.stackoverflow.com/questions/91009/error-cargar-archivo-csv-pandas-python-3\"> Error <span style=\"color:red\">cargar</span> archivo <span style=\"color:red\">CSV</span> <span style=\"color:red\">Pandas</span> Python 3 </a></h3></p> A <span style=\"color:red\">cargar</span> <span style=\"color:red\">un</span> archivo usando <span style=\"color:red\">Pandas</span> la columna 14 al agregarla me genera error, yo creo porque tiene elementos muy largos. La cargo de la sigiente manera: df4 = pd.read_csv('MAPI.csv', header=0, sep=';',usecols=[1,3,9,14,19],parse_dates = ['FOUND ON DATE '],dayfirst = True) El error que tengo es el siguiente: UnicodeDecodeError: 'utf-8' codec can't decode byte 0xd1 in position 18: invalid continuation byte Adjunto una parte del archivo: https://drive.google.com/file/d/0B11sJdX_AaJBM0lvam0wdE11Yjg/ ..."
      ],
      "text/plain": [
       "<IPython.core.display.HTML object>"
      ]
     },
     "metadata": {},
     "output_type": "display_data"
    },
    {
     "data": {
      "text/html": [
       " <p><h3>[71.00] <a href=\"https://es.stackoverflow.com/questions/277300/recargar-un-combobox-con-dobleclick-datagridview\"> Recargar <span style=\"color:red\">un</span> combobox <span style=\"color:red\">con</span> DobleClick DataGridView </a></h3></p> Al darle double click al DataGridView , no me lista en el CboListDepartamento ''Mi codigo Es el siguiente : CboTorresP.Text = Convert.ToString(DgvPropietario.SelectedCells.Item(0).Value.ToString) cboDepartP.Text = Convert.ToString(DgvPropietario.SelectedCells.Item(2).Value.ToString) txtDNIP.Text = Convert.ToString(DgvPropietario.SelectedCells.Item(3).Value.ToString) txtNomP.Text = Convert.ToString(DgvPropietario.SelectedCells.Item(4).Value.ToString) txtCelP.Text = Convert.ToString(DgvPropietario ..."
      ],
      "text/plain": [
       "<IPython.core.display.HTML object>"
      ]
     },
     "metadata": {},
     "output_type": "display_data"
    },
    {
     "data": {
      "text/html": [
       " <p><h3>[67.00] <a href=\"https://es.stackoverflow.com/questions/148872/usar-un-case-con-datos-de-una-tabla-y-que-los-resultados-de-ese-case-los-guarde\"> Usar <span style=\"color:red\">un</span> case <span style=\"color:red\">con</span> datos de una tabla y que los resultados de ese case los guarde en una tabla </a></h3></p> Tengo 1 tabla llamada 'CFACTURACOMISION' la cual tiene las columnas. CLFILIAL, CLCLIENTE, CLASESOR, FOFACTURA, FECHAFACTURA, MNFACTURA, MNDESCUENTO MNIVA, MNTOTAL, FEVENCIMIENTO, CONDICIONESDEPAGO, PROMVENTA. El principal objetivo de esta tabla es capturar las facturas para después verificar que todos los pagos que se realizaron y posteriormente darle una comisión al vendedor que realizó esa venta. Primeramente hago la suma de todos los pagos realizados a una factura, obteniendo los datos de la ..."
      ],
      "text/plain": [
       "<IPython.core.display.HTML object>"
      ]
     },
     "metadata": {},
     "output_type": "display_data"
    },
    {
     "data": {
      "text/html": [
       " <p><h3>[67.00] <a href=\"https://es.stackoverflow.com/questions/261683/como-comparar-un-input-con-un-dato-de-una-tabla-php-mysql\"> ¿Como comparar <span style=\"color:red\">un</span> input <span style=\"color:red\">con</span> <span style=\"color:red\">un</span> dato de una tabla php mysql? </a></h3></p> Buenas noches/dias/tarde Este es mi primera pregunta y quisiera saber como podria comparar <span style=\"color:red\">un</span> input <span style=\"color:red\">con</span> <span style=\"color:red\">un</span> dato de una tabla, por ejemplo tengo <span style=\"color:red\">un</span> formulario que se ingresa nick,nombre,contraseña y email ,pero quiero validar que el nick y email que se ingresa en el formulario no se encuentren en la tabla para realizar el registro, pero si se encuentran mandar <span style=\"color:red\">un</span> error y no se pueda registrar. pages.php Lo que hago aqui es recibir los datos del formulario por post siempre y cuando no esten vacio, ..."
      ],
      "text/plain": [
       "<IPython.core.display.HTML object>"
      ]
     },
     "metadata": {},
     "output_type": "display_data"
    },
    {
     "data": {
      "text/html": [
       " <p><h3>[67.00] <a href=\"https://es.stackoverflow.com/questions/45706/estructura-html-para-cargar-art%c3%adculos-con-distintas-estructuras-desde-php\"> Estructura HTML para <span style=\"color:red\">cargar</span> artículos <span style=\"color:red\">con</span> distintas estructuras desde PHP [cerrada] </a></h3></p> Buenas, Tengo una duda referente a cómo debería ser la estructura HTML en una web que cargue artículos desde PHP. Si todos los artículos tuviesen la misma estructura, por ejemplo, una foto, <span style=\"color:red\">un</span> extracto del artículo, el artículo y una imagen dentro, no tendría problemas...pero los artículos lo normal es que algunos tengan 2 fotos, otros 5, otros ninguno...tengan citas para resaltar cosas importantes del artículo...etc. Es en esta situación cuando no sé cómo hacer para que pueda guardar los artícu ..."
      ],
      "text/plain": [
       "<IPython.core.display.HTML object>"
      ]
     },
     "metadata": {},
     "output_type": "display_data"
    },
    {
     "data": {
      "text/html": [
       " <p><h3>[67.00] <a href=\"https://es.stackoverflow.com/questions/146883/es-posible-cargar-una-lista-de-palabras-en-un-arreglo-desde-un-archivo-de-texto\"> Es posible <span style=\"color:red\">cargar</span> una lista de palabras en <span style=\"color:red\">un</span> arreglo desde <span style=\"color:red\">un</span> archivo de texto? </a></h3></p> Hola pues como dice la pregunta lo que quiero saber es si es posible <span style=\"color:red\">cargar</span> una lista de palabras en <span style=\"color:red\">un</span> arreglo de la forma que lo estoy haciendo. Si alguien me puede ayudar por favor aquí esta <span style=\"color:red\">un</span> fragmento del código: #include<iostream> #include<synchapi.h> #include<string.h> #include<stdio.h> using namespace std; int main() { FILE *cargar_verbos; int c_v=0;// este lo utilizo como contador string c__v; // este lo utilizo para <span style=\"color:red\">cargar</span> la palabra cargar_verbos=fopen(\"verbos_ar.txt\",\"r\"); // el sig ..."
      ],
      "text/plain": [
       "<IPython.core.display.HTML object>"
      ]
     },
     "metadata": {},
     "output_type": "display_data"
    },
    {
     "data": {
      "text/html": [
       " <p><h3>[67.00] <a href=\"https://es.stackoverflow.com/questions/107757/c%c3%b3mo-cargar-una-lista-anidada-desde-firebase\"> ¿Cómo <span style=\"color:red\">cargar</span> una lista anidada desde Firebase? </a></h3></p> tengo <span style=\"color:red\">un</span> problema y es que quiero <span style=\"color:red\">cargar</span> en <span style=\"color:red\">un</span> recyclerview una lista de pedidos que contiene otra lista anidada cada uno, es una aplicación de pedidos y la he estructurado de la siguiente manera en Firebase \"Pedidos\" : { //Aquí el Uid de cada usuario \"1pkGJtMl5vMzFx8hSkLWKHzic4y1\" : { //Aquí el key de cada pedido \"-KvjkZG9-o785U5FF-Ij\" : { //Esta es la lista de items que pide \"items\" : { \"hamburguesa\" : \"true\", \"perro\" : \"true\" }, //Aquí el Uid de la persona que pide \"solicitante\" : \"3sZACUy3zs ..."
      ],
      "text/plain": [
       "<IPython.core.display.HTML object>"
      ]
     },
     "metadata": {},
     "output_type": "display_data"
    },
    {
     "data": {
      "text/html": [
       " <p><h3>[67.00] <a href=\"https://es.stackoverflow.com/questions/199239/es-posible-crear-un-solo-login-para-multibles-tablas-en-laravel-es-decir-difer\"> ¿Es posible crear <span style=\"color:red\">un</span> solo login para multibles tablas en Laravel, es decir diferentes modelos? </a></h3></p> Soy nuevo en el mundo de Laravel y estoy haciendo una aplicación donde tengo 3 modelos direntes, <span style=\"color:red\">con</span> sus respectivos controladores y migraciones, he querido crear <span style=\"color:red\">un</span> login que dependiendo el tipo de usuario me redireccione a otras vistas, tengo 3 tablas (modelos) diferentes porque cada usuario tiene campos diferentes en la BD, quiero saber si es posible crear <span style=\"color:red\">un</span> solo login para todos, porque he estado investigando y solo que crean varios login para cada tipo de usuario diferente. ..."
      ],
      "text/plain": [
       "<IPython.core.display.HTML object>"
      ]
     },
     "metadata": {},
     "output_type": "display_data"
    }
   ],
   "source": [
    "display(\n",
    "    HTML(\n",
    "        '<img width=\"220px\" src=\"https://cdn.sstatic.net/Sites/stackoverflow/company/img/logos/so/so-logo.svg?v=a010291124bf\"></img>'\n",
    "    ))\n",
    "display(HTML('<h2>Resultados de la búsqueda <i>' + busqueda + '</i></h2>'))\n",
    "for _, (score, i) in enumerate(fuzzy[:top_n]):\n",
    "    output = ''\n",
    "    text = f'<p><h3>[{score:.2f}] <a href=\"{data[\"url\"][i]}\"> {data[\"title\"][i]} </a></h3></p> {data[\"text\"][i][0:500]} ...'\n",
    "    for word in text.split():\n",
    "        if word.lower() in busqueda.lower().split():\n",
    "            output += ' <span style=\"color:red\">' + str(word) + '</span>'\n",
    "        else:\n",
    "            output += \" \" + str(word)\n",
    "    display(HTML(output))"
   ]
  },
  {
   "cell_type": "markdown",
   "metadata": {},
   "source": [
    "### Tenemos en cuenta la proximidad semántica con BERT..."
   ]
  },
  {
   "cell_type": "code",
   "execution_count": 218,
   "metadata": {
    "ExecuteTime": {
     "end_time": "2019-09-01T12:37:48.850392Z",
     "start_time": "2019-09-01T12:37:48.830025Z"
    },
    "colab": {},
    "colab_type": "code",
    "id": "XVO2sVao1Bz6"
   },
   "outputs": [],
   "source": [
    "target_embeddings = [bert_embeddings[_[1]] for _ in fuzzy[:top_n]]\n",
    "cosine_similarities = cosine_similarity(target_embeddings, bert_embeddings)"
   ]
  },
  {
   "cell_type": "code",
   "execution_count": 219,
   "metadata": {
    "ExecuteTime": {
     "end_time": "2019-09-01T12:37:48.871042Z",
     "start_time": "2019-09-01T12:37:48.851896Z"
    }
   },
   "outputs": [
    {
     "data": {
      "text/html": [
       "<p><h3><a href =\"https://es.stackoverflow.com/questions/84019/considerar-columnas-vac%c3%adas-al-cargar-csv-con-python\">Considerar columnas vacías al cargar CSV con Python</a></h3><h4>[0.99] <a href =\"https://es.stackoverflow.com/questions/156713/convocar-procedimiento-almacenado-en-sql-desde-java\">Convocar procedimiento almacenado en sql desde Java</a></h4></p><h4>[0.99] <a href =\"https://es.stackoverflow.com/questions/188933/obtener-valor-de-una-lista-en-python\">Obtener valor de una lista en Python</a></h4></p><h4>[0.99] <a href =\"https://es.stackoverflow.com/questions/275546/invertir-una-matriz-en-python-con-numpy\">Invertir una matriz en Python con Numpy</a></h4></p>"
      ],
      "text/plain": [
       "<IPython.core.display.HTML object>"
      ]
     },
     "metadata": {},
     "output_type": "display_data"
    },
    {
     "data": {
      "text/html": [
       "<p><h3><a href =\"https://es.stackoverflow.com/questions/228878/como-cargar-un-select-con-un-option-definido-de-la-base-de-datos\">Como cargar un select con un option definido de la base de datos</a></h3><h4>[0.99] <a href =\"https://es.stackoverflow.com/questions/262247/como-llenar-un-select-con-la-base-de-datos\">Como llenar un select con la base de datos</a></h4></p><h4>[0.99] <a href =\"https://es.stackoverflow.com/questions/102640/como-guardar-una-imagen-en-base-de-datos-por-la-url\">Como guardar una imagen en Base de datos por la URL</a></h4></p><h4>[0.99] <a href =\"https://es.stackoverflow.com/questions/221674/como-establecer-buscador-individual-en-columna-de-tabla-con-datatable\">Como establecer buscador individual en columna de tabla con datatable</a></h4></p>"
      ],
      "text/plain": [
       "<IPython.core.display.HTML object>"
      ]
     },
     "metadata": {},
     "output_type": "display_data"
    },
    {
     "data": {
      "text/html": [
       "<p><h3><a href =\"https://es.stackoverflow.com/questions/91009/error-cargar-archivo-csv-pandas-python-3\">Error cargar archivo CSV Pandas Python 3</a></h3><h4>[0.98] <a href =\"https://es.stackoverflow.com/questions/39433/asp-net-mvc-encapsulando-razor-en-una-sola-linea-de-c%c3%b3digo\">ASP.NET MVC - Encapsulando Razor en una sola linea de código</a></h4></p><h4>[0.98] <a href =\"https://es.stackoverflow.com/questions/122285/winforms-c-error-con-combobox-anidados-con-mscorlib-dll-en-visual-studio\">Winforms C# Error con ComboBox anidados con mscorlib.dll en Visual Studio</a></h4></p><h4>[0.98] <a href =\"https://es.stackoverflow.com/questions/274298/como-enviar-imagen-base64-a-web-services-post-c\">Como enviar imagen base64 a web services POST C#</a></h4></p>"
      ],
      "text/plain": [
       "<IPython.core.display.HTML object>"
      ]
     },
     "metadata": {},
     "output_type": "display_data"
    },
    {
     "data": {
      "text/html": [
       "<p><h3><a href =\"https://es.stackoverflow.com/questions/277300/recargar-un-combobox-con-dobleclick-datagridview\">Recargar un combobox con DobleClick DataGridView</a></h3><h4>[0.99] <a href =\"https://es.stackoverflow.com/questions/71964/cargar-im%c3%a1genes-desde-mysql-en-php-con-librer%c3%ada-fileuploader\">Cargar imágenes desde mysql en php con librería fileuploader</a></h4></p><h4>[0.99] <a href =\"https://es.stackoverflow.com/questions/83352/empaquetar-aplicaci%c3%b3n-python-con-pyinstaller\">Empaquetar aplicación Python con PyInstaller</a></h4></p><h4>[0.99] <a href =\"https://es.stackoverflow.com/questions/2891/mostrar-datos-con-listview-con-django-1-8\">Mostrar datos con ListView con Django 1.8</a></h4></p>"
      ],
      "text/plain": [
       "<IPython.core.display.HTML object>"
      ]
     },
     "metadata": {},
     "output_type": "display_data"
    },
    {
     "data": {
      "text/html": [
       "<p><h3><a href =\"https://es.stackoverflow.com/questions/148872/usar-un-case-con-datos-de-una-tabla-y-que-los-resultados-de-ese-case-los-guarde\">Usar un case con datos de una tabla y que los resultados de ese case los guarde en una tabla</a></h3><h4>[0.99] <a href =\"https://es.stackoverflow.com/questions/97590/crear-una-tabla-si-existe-la-base-de-datos-si-no-crearla-en-otra-base\">Crear una tabla si existe la base de datos, si no crearla en otra base</a></h4></p><h4>[0.99] <a href =\"https://es.stackoverflow.com/questions/151320/eliminar-los-caracteres-en-dos-cadenas-si-el-caracter-coincide-con-la-cadena\">Eliminar los caracteres en dos cadenas si el caracter coincide con la cadena</a></h4></p><h4>[0.99] <a href =\"https://es.stackoverflow.com/questions/227942/como-puedo-autollenar-un-formulario-al-escribir-la-informacion-en-un-input\">Como puedo autollenar un formulario al escribir la informacion en un input</a></h4></p>"
      ],
      "text/plain": [
       "<IPython.core.display.HTML object>"
      ]
     },
     "metadata": {},
     "output_type": "display_data"
    },
    {
     "data": {
      "text/html": [
       "<p><h3><a href =\"https://es.stackoverflow.com/questions/261683/como-comparar-un-input-con-un-dato-de-una-tabla-php-mysql\">¿Como comparar un input con un dato de una tabla php mysql?</a></h3><h4>[1.00] <a href =\"https://es.stackoverflow.com/questions/4114/como-generar-un-pdf-en-java-con-un-archivo-jasper\">¿Como generar un PDF en Java con un archivo .jasper?</a></h4></p><h4>[1.00] <a href =\"https://es.stackoverflow.com/questions/37630/como-enviar-cabeceras-desde-php-a-web-service-soap-en-java\">¿Como enviar cabeceras desde php a web service SOAP en java?</a></h4></p><h4>[1.00] <a href =\"https://es.stackoverflow.com/questions/148577/como-definir-el-tama%c3%b1o-de-un-campo-entero-en-flask-usando-flask-sqlalchemy\">¿Como definir el tamaño de un campo entero en Flask usando Flask-SQLAlchemy?</a></h4></p>"
      ],
      "text/plain": [
       "<IPython.core.display.HTML object>"
      ]
     },
     "metadata": {},
     "output_type": "display_data"
    },
    {
     "data": {
      "text/html": [
       "<p><h3><a href =\"https://es.stackoverflow.com/questions/45706/estructura-html-para-cargar-art%c3%adculos-con-distintas-estructuras-desde-php\">Estructura HTML para cargar artículos con distintas estructuras desde PHP [cerrada]</a></h3><h4>[0.99] <a href =\"https://es.stackoverflow.com/questions/60290/introducir-condicional-ternario-en-php\">Introducir condicional ternario en PHP [duplicada]</a></h4></p><h4>[0.99] <a href =\"https://es.stackoverflow.com/questions/263502/setear-un-nuevo-metodo-para-elementos-del-dom\">Setear un nuevo metodo para Elementos del DOM [cerrada]</a></h4></p><h4>[0.99] <a href =\"https://es.stackoverflow.com/questions/75680/login-desde-formulario-php\">Login desde formulario PHP [cerrada]</a></h4></p>"
      ],
      "text/plain": [
       "<IPython.core.display.HTML object>"
      ]
     },
     "metadata": {},
     "output_type": "display_data"
    },
    {
     "data": {
      "text/html": [
       "<p><h3><a href =\"https://es.stackoverflow.com/questions/146883/es-posible-cargar-una-lista-de-palabras-en-un-arreglo-desde-un-archivo-de-texto\">Es posible cargar una lista de palabras en un arreglo desde un archivo de texto?</a></h3><h4>[0.99] <a href =\"https://es.stackoverflow.com/questions/167263/existe-alguna-manera-de-crear-una-lista-por-cada-elemento-de-otra-lista\">Existe alguna manera de crear una lista por cada elemento de otra lista?</a></h4></p><h4>[0.99] <a href =\"https://es.stackoverflow.com/questions/82975/hay-forma-de-implementar-un-repositorio-orm-con-un-servicio-rest-como-datasource\">Hay forma de implementar un repositorio ORM con un servicio Rest como datasource?</a></h4></p><h4>[0.99] <a href =\"https://es.stackoverflow.com/questions/266681/como-especifico-el-tama%c3%b1o-de-una-cadena-de-caracteres-en-vb-net\">Como especifico el tamaño de una cadena de caracteres en vb.net?</a></h4></p>"
      ],
      "text/plain": [
       "<IPython.core.display.HTML object>"
      ]
     },
     "metadata": {},
     "output_type": "display_data"
    },
    {
     "data": {
      "text/html": [
       "<p><h3><a href =\"https://es.stackoverflow.com/questions/107757/c%c3%b3mo-cargar-una-lista-anidada-desde-firebase\">¿Cómo cargar una lista anidada desde Firebase?</a></h3><h4>[0.99] <a href =\"https://es.stackoverflow.com/questions/225397/c%c3%b3mo-obtener-el-valor-de-un-input-html-en-twig\">¿Cómo obtener el valor de un input HTML en Twig?</a></h4></p><h4>[0.99] <a href =\"https://es.stackoverflow.com/questions/59071/c%c3%b3mo-crear-un-modelo-de-tabla-para-poder-personalizar-los-componentes-en-un-jta\">¿Cómo crear un modelo de tabla para poder personalizar los componentes en un JTABLE?</a></h4></p><h4>[0.99] <a href =\"https://es.stackoverflow.com/questions/285596/c%c3%b3mo-puedo-enviar-un-archivo-mediante-ajax-con-laravel\">¿Cómo puedo enviar un archivo mediante Ajax con Laravel?</a></h4></p>"
      ],
      "text/plain": [
       "<IPython.core.display.HTML object>"
      ]
     },
     "metadata": {},
     "output_type": "display_data"
    },
    {
     "data": {
      "text/html": [
       "<p><h3><a href =\"https://es.stackoverflow.com/questions/199239/es-posible-crear-un-solo-login-para-multibles-tablas-en-laravel-es-decir-difer\">¿Es posible crear un solo login para multibles tablas en Laravel, es decir diferentes modelos?</a></h3><h4>[0.99] <a href =\"https://es.stackoverflow.com/questions/93915/como-puedo-mostrar-un-error-404-en-una-aplicaci%c3%b3n-jsf\">¿Como puedo mostrar un error 404 en una aplicación JSF?</a></h4></p><h4>[0.99] <a href =\"https://es.stackoverflow.com/questions/213552/se-puede-enviar-un-json-por-soap-en-php\">¿Se puede enviar un json por SOAP en PHP?</a></h4></p><h4>[0.99] <a href =\"https://es.stackoverflow.com/questions/133591/como-se-valida-que-un-vector-no-pueda-repetir-letras-en-c\">¿Como se valida que un vector no pueda repetir letras en c++?</a></h4></p>"
      ],
      "text/plain": [
       "<IPython.core.display.HTML object>"
      ]
     },
     "metadata": {},
     "output_type": "display_data"
    }
   ],
   "source": [
    "for i in range(top_n):\n",
    "    output = f'<p><h3><a href =\"{data[\"url\"][fuzzy[i][1]]}\">{data[\"title\"][fuzzy[i][1]]}</a></h3>'\n",
    "    top_args = np.flip(np.argsort(cosine_similarities[i]))\n",
    "    for j in range(1, 4):\n",
    "        output += f'<h4>[{cosine_similarities[i, top_args[j]]:.2f}] <a href =\"{data[\"url\"][top_args[j]]}\">{data[\"title\"][top_args[j]]}</a></h4></p>'\n",
    "    display(HTML(output))"
   ]
  },
  {
   "cell_type": "markdown",
   "metadata": {},
   "source": [
    "### ...y con ELMo"
   ]
  },
  {
   "cell_type": "code",
   "execution_count": 220,
   "metadata": {
    "ExecuteTime": {
     "end_time": "2019-09-01T12:37:50.047592Z",
     "start_time": "2019-09-01T12:37:50.027676Z"
    }
   },
   "outputs": [],
   "source": [
    "target_embeddings = [elmo_embeddings[_[1]] for _ in fuzzy[:top_n]]\n",
    "cosine_similarities = cosine_similarity(target_embeddings, elmo_embeddings)"
   ]
  },
  {
   "cell_type": "code",
   "execution_count": 221,
   "metadata": {
    "ExecuteTime": {
     "end_time": "2019-09-01T12:37:51.377371Z",
     "start_time": "2019-09-01T12:37:51.358894Z"
    }
   },
   "outputs": [
    {
     "data": {
      "text/html": [
       "<p><h3><a href =\"https://es.stackoverflow.com/questions/84019/considerar-columnas-vac%c3%adas-al-cargar-csv-con-python\">Considerar columnas vacías al cargar CSV con Python</a></h3><h4>[0.84] <a href =\"https://es.stackoverflow.com/questions/178387/problemas-al-abrir-archivo-csv-con-php\">Problemas al abrir archivo CSV con PHP</a></h4></p><h4>[0.82] <a href =\"https://es.stackoverflow.com/questions/31331/problemas-con-div-al-recargar-jquery\">Problemas con Div al recargar jquery</a></h4></p><h4>[0.82] <a href =\"https://es.stackoverflow.com/questions/224706/problema-al-crear-objeto-con-tinker-laravel\">Problema al crear objeto con tinker (Laravel)</a></h4></p>"
      ],
      "text/plain": [
       "<IPython.core.display.HTML object>"
      ]
     },
     "metadata": {},
     "output_type": "display_data"
    },
    {
     "data": {
      "text/html": [
       "<p><h3><a href =\"https://es.stackoverflow.com/questions/228878/como-cargar-un-select-con-un-option-definido-de-la-base-de-datos\">Como cargar un select con un option definido de la base de datos</a></h3><h4>[0.95] <a href =\"https://es.stackoverflow.com/questions/262247/como-llenar-un-select-con-la-base-de-datos\">Como llenar un select con la base de datos</a></h4></p><h4>[0.94] <a href =\"https://es.stackoverflow.com/questions/131410/necesito-cargar-un-menu-de-la-base-de-datos-en-la-vista-de-mi-proyecto-net-mvc\">Necesito cargar un menu de la base de datos en la vista de mi proyecto .net mvc</a></h4></p><h4>[0.93] <a href =\"https://es.stackoverflow.com/questions/123703/como-podria-buscar-un-registro-de-una-base-de-datos-sql-desde-java\">Como podria buscar un registro de una base de datos sql desde java</a></h4></p>"
      ],
      "text/plain": [
       "<IPython.core.display.HTML object>"
      ]
     },
     "metadata": {},
     "output_type": "display_data"
    },
    {
     "data": {
      "text/html": [
       "<p><h3><a href =\"https://es.stackoverflow.com/questions/91009/error-cargar-archivo-csv-pandas-python-3\">Error cargar archivo CSV Pandas Python 3</a></h3><h4>[0.82] <a href =\"https://es.stackoverflow.com/questions/86493/error-con-sorted-python-3\">Error con Sorted Python 3</a></h4></p><h4>[0.76] <a href =\"https://es.stackoverflow.com/questions/237398/error-conexion-python-y-mysql\">Error conexion Python y MySQL</a></h4></p><h4>[0.74] <a href =\"https://es.stackoverflow.com/questions/200078/error-formato-datepicker-jsp\">Error formato “datepicker” JSP</a></h4></p>"
      ],
      "text/plain": [
       "<IPython.core.display.HTML object>"
      ]
     },
     "metadata": {},
     "output_type": "display_data"
    },
    {
     "data": {
      "text/html": [
       "<p><h3><a href =\"https://es.stackoverflow.com/questions/277300/recargar-un-combobox-con-dobleclick-datagridview\">Recargar un combobox con DobleClick DataGridView</a></h3><h4>[0.85] <a href =\"https://es.stackoverflow.com/questions/107803/c%c3%b3mo-abrir-un-toggle-con-jquery\">¿Cómo abrir un Toggle con jquery?</a></h4></p><h4>[0.85] <a href =\"https://es.stackoverflow.com/questions/138649/problemas-con-ajax-en-jquery\">¿Problemas con Ajax en jQuery?</a></h4></p><h4>[0.85] <a href =\"https://es.stackoverflow.com/questions/108375/c%c3%b3mo-usar-plugin-datatables-con-ajax\">¿Cómo usar plugin DataTables con AJAX?</a></h4></p>"
      ],
      "text/plain": [
       "<IPython.core.display.HTML object>"
      ]
     },
     "metadata": {},
     "output_type": "display_data"
    },
    {
     "data": {
      "text/html": [
       "<p><h3><a href =\"https://es.stackoverflow.com/questions/148872/usar-un-case-con-datos-de-una-tabla-y-que-los-resultados-de-ese-case-los-guarde\">Usar un case con datos de una tabla y que los resultados de ese case los guarde en una tabla</a></h3><h4>[0.95] <a href =\"https://es.stackoverflow.com/questions/186198/como-puedo-contar-el-numero-de-veces-que-una-clase-de-mi-elemento-html-cambia\">¿como puedo contar el numero de veces que una clase de mi elemento html cambia?</a></h4></p><h4>[0.95] <a href =\"https://es.stackoverflow.com/questions/171936/c%c3%b3mo-puedo-listar-ficheros-de-una-carpeta-que-su-ruta-es-introducido-por-usuari\">¿Cómo puedo listar ficheros de una carpeta que su ruta es introducido por usuario en java?</a></h4></p><h4>[0.94] <a href =\"https://es.stackoverflow.com/questions/243909/al-ver-los-valores-en-tiempo-de-ejecuci%c3%b3n-se-muestra-error-interno-en-el-compil\">Al ver los valores en tiempo de ejecución se muestra “Error interno en el compilador C#”, y no el valor de variable durante depuración</a></h4></p>"
      ],
      "text/plain": [
       "<IPython.core.display.HTML object>"
      ]
     },
     "metadata": {},
     "output_type": "display_data"
    },
    {
     "data": {
      "text/html": [
       "<p><h3><a href =\"https://es.stackoverflow.com/questions/261683/como-comparar-un-input-con-un-dato-de-una-tabla-php-mysql\">¿Como comparar un input con un dato de una tabla php mysql?</a></h3><h4>[0.95] <a href =\"https://es.stackoverflow.com/questions/240673/como-hacer-para-hacer-un-trigger-donde-despues-de-insertar-un-registro-me-haga\">¿Como hacer para hacer un trigger donde despues de insertar un registro me haga un update en una tabla diferente sin que de error de tabla mutante?</a></h4></p><h4>[0.94] <a href =\"https://es.stackoverflow.com/questions/9410/como-enviar-desde-un-servlet-con-gson-para-que-funcione-un-campo-con-la-libreri\">¿Como enviar desde un servlet con gson para que funcione un campo con la libreria typehead.js?</a></h4></p><h4>[0.94] <a href =\"https://es.stackoverflow.com/questions/154624/como-elimitar-datos-de-un-arreglo-vue-y-una-tabla-en-html\">¿Como elimitar datos de un arreglo vue y una tabla en html?</a></h4></p>"
      ],
      "text/plain": [
       "<IPython.core.display.HTML object>"
      ]
     },
     "metadata": {},
     "output_type": "display_data"
    },
    {
     "data": {
      "text/html": [
       "<p><h3><a href =\"https://es.stackoverflow.com/questions/45706/estructura-html-para-cargar-art%c3%adculos-con-distintas-estructuras-desde-php\">Estructura HTML para cargar artículos con distintas estructuras desde PHP [cerrada]</a></h3><h4>[0.90] <a href =\"https://es.stackoverflow.com/questions/194953/mostrar-imagen-que-se-encuentra-alojada-en-ftp-desde-java-jsp-mysql\">Mostrar imagen que se encuentra alojada en FTP desde Java JSP MYSQL</a></h4></p><h4>[0.90] <a href =\"https://es.stackoverflow.com/questions/109956/como-puedo-verificar-si-una-base-de-datos-mysql-determinada-existe-desde-java\">Como puedo verificar si una base de datos MySQL determinada existe desde Java?</a></h4></p><h4>[0.90] <a href =\"https://es.stackoverflow.com/questions/57729/c%c3%b3mo-saber-qu%c3%a9-arquitectura-tiene-mi-windows-usando-c\">¿Cómo saber qué arquitectura tiene mi Windows usando C++?</a></h4></p>"
      ],
      "text/plain": [
       "<IPython.core.display.HTML object>"
      ]
     },
     "metadata": {},
     "output_type": "display_data"
    },
    {
     "data": {
      "text/html": [
       "<p><h3><a href =\"https://es.stackoverflow.com/questions/146883/es-posible-cargar-una-lista-de-palabras-en-un-arreglo-desde-un-archivo-de-texto\">Es posible cargar una lista de palabras en un arreglo desde un archivo de texto?</a></h3><h4>[0.96] <a href =\"https://es.stackoverflow.com/questions/157401/es-posible-agregar-una-funci%c3%b3n-en-el-evento-de-filtrar-los-datos-de-un-datatable\">es posible agregar una función en el evento de filtrar los datos de un datatable? [cerrada]</a></h4></p><h4>[0.96] <a href =\"https://es.stackoverflow.com/questions/119567/como-comprobar-que-una-fecha-se-encuentra-en-un-intervalo-de-fechas-con-php-y-m\">¿Como comprobar que una fecha se encuentra en un intervalo de fechas con PHP y MYSQLI?</a></h4></p><h4>[0.96] <a href =\"https://es.stackoverflow.com/questions/215304/sera-que-puedo-hacer-en-mi-query-un-select-con-un-rango-de-fecha-segun-el-mes-en\">Sera que puedo hacer en mi query un SELECT con un rango de fecha segun el mes en curso</a></h4></p>"
      ],
      "text/plain": [
       "<IPython.core.display.HTML object>"
      ]
     },
     "metadata": {},
     "output_type": "display_data"
    },
    {
     "data": {
      "text/html": [
       "<p><h3><a href =\"https://es.stackoverflow.com/questions/107757/c%c3%b3mo-cargar-una-lista-anidada-desde-firebase\">¿Cómo cargar una lista anidada desde Firebase?</a></h3><h4>[0.93] <a href =\"https://es.stackoverflow.com/questions/45636/c%c3%b3mo-puedo-cerrar-una-app-desde-una-clase\">¿Cómo puedo cerrar una app desde una clase?</a></h4></p><h4>[0.92] <a href =\"https://es.stackoverflow.com/questions/231367/c%c3%b3mo-llamo-una-funci%c3%b3n-desde-dentro-de-otra-powershell\">¿Cómo llamo una función desde dentro de otra? PowerShell</a></h4></p><h4>[0.92] <a href =\"https://es.stackoverflow.com/questions/105432/c%c3%b3mo-ejecutar-un-m%c3%a9todo-desde-otro-m%c3%a9todo\">¿Cómo ejecutar un método desde otro método?</a></h4></p>"
      ],
      "text/plain": [
       "<IPython.core.display.HTML object>"
      ]
     },
     "metadata": {},
     "output_type": "display_data"
    },
    {
     "data": {
      "text/html": [
       "<p><h3><a href =\"https://es.stackoverflow.com/questions/199239/es-posible-crear-un-solo-login-para-multibles-tablas-en-laravel-es-decir-difer\">¿Es posible crear un solo login para multibles tablas en Laravel, es decir diferentes modelos?</a></h3><h4>[0.92] <a href =\"https://es.stackoverflow.com/questions/57389/es-posible-que-post-solo-seleccione-textarea-que-posean-un-value\">¿Es posible que $_POST solo seleccione textarea que posean un value?</a></h4></p><h4>[0.90] <a href =\"https://es.stackoverflow.com/questions/198963/crear-procedure-con-parametros-de-entrada-e-insertar-posteriormente-en-bd-tras\">Crear procedure con parametros de entrada, e insertar posteriormente en BD tras una validación</a></h4></p><h4>[0.89] <a href =\"https://es.stackoverflow.com/questions/220766/es-posible-asignar-a-un-button-html-un-value-para-despu%c3%a9s-recuperar-el-value-e\">¿Es posible asignar a un button html, un value para después recuperar el value en una variable php sin utilizar form?</a></h4></p>"
      ],
      "text/plain": [
       "<IPython.core.display.HTML object>"
      ]
     },
     "metadata": {},
     "output_type": "display_data"
    }
   ],
   "source": [
    "for i in range(top_n):\n",
    "    output = f'<p><h3><a href =\"{data[\"url\"][fuzzy[i][1]]}\">{data[\"title\"][fuzzy[i][1]]}</a></h3>'\n",
    "    top_args = np.flip(np.argsort(cosine_similarities[i]))\n",
    "    for j in range(1, 4):\n",
    "        output += f'<h4>[{cosine_similarities[i, top_args[j]]:.2f}] <a href =\"{data[\"url\"][top_args[j]]}\">{data[\"title\"][top_args[j]]}</a></h4></p>'\n",
    "    display(HTML(output))"
   ]
  },
  {
   "cell_type": "code",
   "execution_count": 208,
   "metadata": {
    "ExecuteTime": {
     "end_time": "2019-09-01T12:33:00.035559Z",
     "start_time": "2019-09-01T12:33:00.033228Z"
    }
   },
   "outputs": [],
   "source": [
    "# sacar gráfico de los embedding"
   ]
  }
 ],
 "metadata": {
  "accelerator": "GPU",
  "colab": {
   "name": "Bertle.ipynb",
   "provenance": [],
   "version": "0.3.2"
  },
  "kernelspec": {
   "display_name": "Python 3",
   "language": "python",
   "name": "python3"
  },
  "language_info": {
   "codemirror_mode": {
    "name": "ipython",
    "version": 3
   },
   "file_extension": ".py",
   "mimetype": "text/x-python",
   "name": "python",
   "nbconvert_exporter": "python",
   "pygments_lexer": "ipython3",
   "version": "3.6.8"
  }
 },
 "nbformat": 4,
 "nbformat_minor": 1
}
