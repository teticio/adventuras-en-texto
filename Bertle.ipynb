{
 "cells": [
  {
   "cell_type": "markdown",
   "metadata": {},
   "source": [
    "<a href=\"https://colab.research.google.com/github/teticio/aventuras-con-textos/blob/master/Bertle.ipynb\" target=\"_parent\"><img src=\"https://colab.research.google.com/assets/colab-badge.svg\" alt=\"Open In Colab\"/></a>"
   ]
  },
  {
   "cell_type": "markdown",
   "metadata": {
    "colab_type": "text",
    "id": "TbJFh_0q1Byx",
    "lang": "es"
   },
   "source": [
    "<img width=\"220px\" src=\"https://github.com/teticio/aventuras-con-textos/blob/master/Bertle.gif?raw=1\"></img>\n",
    "Vamos a hacer un motor de búsqueda semántica con los datos de stack **overflow**."
   ]
  },
  {
   "cell_type": "markdown",
   "metadata": {
    "lang": "en"
   },
   "source": [
    "<img width=\"220px\" src=\"https://github.com/teticio/aventuras-con-textos/blob/master/Bertle.gif?raw=1\"></img>\n",
    "We are going to make a semantic search engine using data from stack **overflow**."
   ]
  },
  {
   "cell_type": "markdown",
   "metadata": {
    "colab_type": "text",
    "id": "saHnefyr1By1",
    "lang": "es"
   },
   "source": [
    "### Instalar librerías"
   ]
  },
  {
   "cell_type": "markdown",
   "metadata": {
    "lang": "en"
   },
   "source": [
    "### Install libraries"
   ]
  },
  {
   "cell_type": "code",
   "execution_count": null,
   "metadata": {
    "ExecuteTime": {
     "end_time": "2019-09-01T13:01:58.971156Z",
     "start_time": "2019-09-01T13:01:57.571478Z"
    },
    "colab": {
     "base_uri": "https://localhost:8080/",
     "height": 108
    },
    "colab_type": "code",
    "id": "b2sx6N651By2",
    "outputId": "daa16b01-525e-4737-e070-5246cb73a076"
   },
   "outputs": [],
   "source": [
    "# instalar BERT\n",
    "# install BERT\n",
    "import sys\n",
    "\n",
    "!test -d bert_repo || git clone https://github.com/google-research/bert bert_repo\n",
    "if not 'bert_repo' in sys.path:\n",
    "    sys.path += ['bert_repo']\n",
    "\n",
    "# importar módulos de python de BERT\n",
    "# import python modules defined by BERT\n",
    "import tokenization"
   ]
  },
  {
   "cell_type": "code",
   "execution_count": 2,
   "metadata": {
    "ExecuteTime": {
     "end_time": "2019-09-01T13:01:59.144705Z",
     "start_time": "2019-09-01T13:01:58.972700Z"
    },
    "colab": {
     "base_uri": "https://localhost:8080/",
     "height": 35
    },
    "colab_type": "code",
    "id": "VF0-idjT1By-",
    "outputId": "9c9cf4b7-7d9e-4671-8b43-2ce3acc1859f"
   },
   "outputs": [
    {
     "name": "stderr",
     "output_type": "stream",
     "text": [
      "Using TensorFlow backend.\n",
      "/home/teticio/.local/lib/python3.6/site-packages/fuzzywuzzy/fuzz.py:11: UserWarning: Using slow pure-python SequenceMatcher. Install python-Levenshtein to remove this warning\n",
      "  warnings.warn('Using slow pure-python SequenceMatcher. Install python-Levenshtein to remove this warning')\n"
     ]
    }
   ],
   "source": [
    "import os\n",
    "import pickle\n",
    "import numpy as np\n",
    "import pandas as pd\n",
    "from bs4 import BeautifulSoup\n",
    "from tqdm import tqdm_notebook\n",
    "import tensorflow as tf\n",
    "import tensorflow_hub as hub\n",
    "from sklearn.metrics.pairwise import cosine_similarity\n",
    "from IPython.core.display import display, HTML\n",
    "from keras.utils import get_file\n",
    "from fuzzywuzzy import fuzz\n",
    "from copy import deepcopy\n",
    "\n",
    "os.environ['TFHUB_CACHE_DIR'] = './tfhub'"
   ]
  },
  {
   "cell_type": "code",
   "execution_count": 3,
   "metadata": {
    "ExecuteTime": {
     "end_time": "2019-09-01T13:01:59.634122Z",
     "start_time": "2019-09-01T13:01:59.146310Z"
    },
    "colab": {},
    "colab_type": "code",
    "id": "eSGd3XSI1BzC"
   },
   "outputs": [],
   "source": [
    "sess = tf.Session()"
   ]
  },
  {
   "cell_type": "code",
   "execution_count": 4,
   "metadata": {
    "ExecuteTime": {
     "end_time": "2019-09-01T13:01:59.644584Z",
     "start_time": "2019-09-01T13:01:59.636465Z"
    },
    "colab": {},
    "colab_type": "code",
    "id": "E5rwPbBt1Bzb"
   },
   "outputs": [],
   "source": [
    "batch_size = 32  #@param {type : 'number'}\n",
    "max_len = 512  #@param {type : 'number'}\n",
    "\n",
    "\n",
    "def prepare_inputs_for_bert(texts, max_len):\n",
    "    examples = []\n",
    "    mask = []\n",
    "    segment = []\n",
    "    label = []\n",
    "    for text in texts:\n",
    "        q = tokenizer.tokenize(text)\n",
    "        pad = [0] * (max_len - (len(q) + 2))\n",
    "        examples.append(\n",
    "            tokenizer.convert_tokens_to_ids(['[CLS]'] + q +\n",
    "                                            ['[SEP]'])[:max_len] + pad)\n",
    "        mask.append([1] * min(len(q) + 2, max_len) + pad)\n",
    "        segment.append([0] * max_len)\n",
    "    return (np.array(examples), np.array(mask), np.array(segment))"
   ]
  },
  {
   "cell_type": "markdown",
   "metadata": {
    "colab_type": "text",
    "id": "GtaYy2_31BzM",
    "lang": "es"
   },
   "source": [
    "### Descargar el modelo de BERT"
   ]
  },
  {
   "cell_type": "markdown",
   "metadata": {
    "lang": "en"
   },
   "source": [
    "### Download the BERT model"
   ]
  },
  {
   "cell_type": "code",
   "execution_count": 5,
   "metadata": {
    "ExecuteTime": {
     "end_time": "2019-09-01T13:02:02.180621Z",
     "start_time": "2019-09-01T13:01:59.645720Z"
    },
    "colab": {},
    "colab_type": "code",
    "id": "XJqaqdxb1BzN",
    "outputId": "ed98bda9-b49f-48ad-e756-3fbaa95aceab"
   },
   "outputs": [
    {
     "name": "stderr",
     "output_type": "stream",
     "text": [
      "WARNING: Logging before flag parsing goes to stderr.\n",
      "W0901 15:02:01.942592 140282311845696 deprecation_wrapper.py:119] From bert_repo/tokenization.py:125: The name tf.gfile.GFile is deprecated. Please use tf.io.gfile.GFile instead.\n",
      "\n"
     ]
    }
   ],
   "source": [
    "#modelo_de_bert = 'bert_uncased_L-12_H-768_A-12/1'  #@param [\"bert_uncased_L-12_H-768_A-12/1\", \"bert_cased_L-12_H-768_A-12/1\", \"bert_uncased_L-24_H-1024_A-16/1\", \"bert_cased_L-24_H-1024_A-16/1\", \"bert_multi_cased_L-12_H-768_A-12/1\"]\n",
    "modelo_de_bert = 'bert_multi_cased_L-12_H-768_A-12/1'  #@param [\"bert_uncased_L-12_H-768_A-12/1\", \"bert_cased_L-12_H-768_A-12/1\", \"bert_uncased_L-24_H-1024_A-16/1\", \"bert_cased_L-24_H-1024_A-16/1\", \"bert_multi_cased_L-12_H-768_A-12/1\"]\n",
    "bert = hub.Module('https://tfhub.dev/google/' + modelo_de_bert)\n",
    "\n",
    "# instanciar el tokenizador\n",
    "# create instance of tokenizer\n",
    "tokenization_info = bert(signature='tokenization_info', as_dict=True)\n",
    "vocab_file, do_lower_case = sess.run([\n",
    "    tokenization_info['vocab_file'],\n",
    "    tokenization_info['do_lower_case'],\n",
    "])\n",
    "tokenizer = tokenization.FullTokenizer(vocab_file=vocab_file,\n",
    "                                       do_lower_case=do_lower_case)"
   ]
  },
  {
   "cell_type": "code",
   "execution_count": 6,
   "metadata": {
    "ExecuteTime": {
     "end_time": "2019-09-01T13:02:02.186363Z",
     "start_time": "2019-09-01T13:02:02.182039Z"
    },
    "colab": {},
    "colab_type": "code",
    "id": "95dgBq2T1BzR"
   },
   "outputs": [],
   "source": [
    "input_ids = tf.placeholder(name='input_ids',\n",
    "                           shape=(batch_size, max_len),\n",
    "                           dtype='int32')\n",
    "input_mask = tf.placeholder(name='input_mask',\n",
    "                            shape=(batch_size, max_len),\n",
    "                            dtype='int32')\n",
    "segment_ids = tf.placeholder(name='segment_ids',\n",
    "                             shape=(batch_size, max_len),\n",
    "                             dtype='int32')"
   ]
  },
  {
   "cell_type": "code",
   "execution_count": 7,
   "metadata": {
    "ExecuteTime": {
     "end_time": "2019-09-01T13:02:03.627443Z",
     "start_time": "2019-09-01T13:02:02.187467Z"
    },
    "colab": {},
    "colab_type": "code",
    "id": "fjpaFpgh1BzV"
   },
   "outputs": [],
   "source": [
    "# instanciar el modelo\n",
    "# create instance of model\n",
    "bert_model = bert(dict(input_ids=input_ids,\n",
    "                       input_mask=input_mask,\n",
    "                       segment_ids=segment_ids),\n",
    "                  signature=\"tokens\",\n",
    "                  as_dict=True)\n",
    "sess.run(tf.global_variables_initializer())"
   ]
  },
  {
   "cell_type": "markdown",
   "metadata": {
    "lang": "es"
   },
   "source": [
    "### Descargar los datos de stack overflow"
   ]
  },
  {
   "cell_type": "markdown",
   "metadata": {
    "lang": "en"
   },
   "source": [
    "### Download stack overflow data"
   ]
  },
  {
   "cell_type": "code",
   "execution_count": 8,
   "metadata": {
    "ExecuteTime": {
     "end_time": "2019-09-01T13:02:03.648458Z",
     "start_time": "2019-09-01T13:02:03.630051Z"
    },
    "colab": {},
    "colab_type": "code",
    "id": "VC_AEHa41Bzg"
   },
   "outputs": [],
   "source": [
    "get_file(\n",
    "    os.getcwd() + '/stackoverflow.p',\n",
    "    origin=\n",
    "    'https://docs.google.com/uc?export=download&id=1BPosRNTemuPD5XifQLOxQWe2wLwTIHt3'\n",
    ")\n",
    "data = pickle.load(open('stackoverflow.p', 'rb'))"
   ]
  },
  {
   "cell_type": "markdown",
   "metadata": {
    "colab_type": "text",
    "id": "qDyhUI5X1Bza",
    "lang": "es"
   },
   "source": [
    "### Calcular los embedding con BERT para las preguntas de stack overflow"
   ]
  },
  {
   "cell_type": "markdown",
   "metadata": {
    "lang": "en"
   },
   "source": [
    "### Calculate embedding for stack overflow questions with BERT"
   ]
  },
  {
   "cell_type": "code",
   "execution_count": 9,
   "metadata": {
    "ExecuteTime": {
     "end_time": "2019-09-01T13:03:18.862150Z",
     "start_time": "2019-09-01T13:02:03.649836Z"
    },
    "colab": {},
    "colab_type": "code",
    "id": "RevP-2Y71Bzr",
    "outputId": "21b7ec19-8452-459b-aa33-523c273ff7e1"
   },
   "outputs": [
    {
     "data": {
      "application/vnd.jupyter.widget-view+json": {
       "model_id": "036d1c9b4e924f6e86db7b2228986411",
       "version_major": 2,
       "version_minor": 0
      },
      "text/plain": [
       "HBox(children=(IntProgress(value=0, max=153), HTML(value='')))"
      ]
     },
     "metadata": {},
     "output_type": "display_data"
    },
    {
     "name": "stdout",
     "output_type": "stream",
     "text": [
      "\n"
     ]
    }
   ],
   "source": [
    "bert_embeddings = []\n",
    "for _, i in enumerate(tqdm_notebook(range(0, len(data), batch_size))):\n",
    "    texts = []\n",
    "    for j in range(batch_size):\n",
    "        if i + j < len(data):\n",
    "            texts.append(data['title'][i + j])\n",
    "        else:\n",
    "            # añadir unos dummy para completar el último batch\n",
    "            # add some dummies to complete the final batch\n",
    "            texts.append('')\n",
    "    examples, mask, segment = prepare_inputs_for_bert(texts, max_len)\n",
    "    bert_embeddings.append(\n",
    "        sess.run(bert_model['pooled_output'],\n",
    "                 feed_dict={\n",
    "                     input_ids: examples,\n",
    "                     input_mask: mask,\n",
    "                     segment_ids: segment\n",
    "                 }))\n",
    "bert_embeddings = np.vstack(bert_embeddings)[:len(data)]"
   ]
  },
  {
   "cell_type": "markdown",
   "metadata": {
    "lang": "es"
   },
   "source": [
    "### Calcular los embedding con ELMo para las preguntas de stack overflow"
   ]
  },
  {
   "cell_type": "markdown",
   "metadata": {
    "lang": "en"
   },
   "source": [
    "### Calculate embedding for stack overflow questions with ELMo "
   ]
  },
  {
   "cell_type": "code",
   "execution_count": 10,
   "metadata": {
    "ExecuteTime": {
     "end_time": "2019-09-01T13:03:20.698709Z",
     "start_time": "2019-09-01T13:03:18.863675Z"
    }
   },
   "outputs": [],
   "source": [
    "elmo = hub.Module(\"https://tfhub.dev/google/elmo/2\", trainable=True)\n",
    "sentences = tf.placeholder(name='sentences',\n",
    "                           shape=(batch_size, ),\n",
    "                           dtype='string')\n",
    "elmo_model = elmo(sentences, signature='default', as_dict=True)['default']\n",
    "sess.run(tf.global_variables_initializer())"
   ]
  },
  {
   "cell_type": "code",
   "execution_count": 11,
   "metadata": {
    "ExecuteTime": {
     "end_time": "2019-09-01T13:03:29.919570Z",
     "start_time": "2019-09-01T13:03:20.700481Z"
    }
   },
   "outputs": [
    {
     "data": {
      "application/vnd.jupyter.widget-view+json": {
       "model_id": "a7bd2d44431c448e9d3be7c3bd354bc2",
       "version_major": 2,
       "version_minor": 0
      },
      "text/plain": [
       "HBox(children=(IntProgress(value=0, max=153), HTML(value='')))"
      ]
     },
     "metadata": {},
     "output_type": "display_data"
    },
    {
     "name": "stdout",
     "output_type": "stream",
     "text": [
      "\n"
     ]
    }
   ],
   "source": [
    "elmo_embeddings = []\n",
    "for _, i in enumerate(tqdm_notebook(range(0, len(data), batch_size))):\n",
    "    texts = []\n",
    "    for j in range(batch_size):\n",
    "        if i + j < len(data):\n",
    "            texts.append(data['title'][i + j])\n",
    "        else:\n",
    "            # añadir unos dummy para completar el último batch\n",
    "            # add some dummies to complete the final batch\n",
    "            texts.append('')\n",
    "    elmo_embeddings.append(sess.run(elmo_model, feed_dict={sentences: texts}))\n",
    "elmo_embeddings = np.vstack(elmo_embeddings)[:len(data)]"
   ]
  },
  {
   "cell_type": "markdown",
   "metadata": {
    "lang": "es"
   },
   "source": [
    "### Probar el motor de búsqueda semántica"
   ]
  },
  {
   "cell_type": "markdown",
   "metadata": {
    "lang": "en"
   },
   "source": [
    "### Test the semantic search engine"
   ]
  },
  {
   "cell_type": "code",
   "execution_count": 38,
   "metadata": {
    "ExecuteTime": {
     "end_time": "2019-09-01T13:16:14.498860Z",
     "start_time": "2019-09-01T13:16:14.496042Z"
    }
   },
   "outputs": [],
   "source": [
    "# search\n",
    "busqueda = 'invertir matriz'  #@param {type: 'string'}\n",
    "top_n = 10  #@param {type: 'integer'}\n",
    "n_similar = 3  #@param {type: 'integer'}"
   ]
  },
  {
   "cell_type": "markdown",
   "metadata": {
    "lang": "es"
   },
   "source": [
    "### Hacemos un búsqueda \"fuzzy\" en los títulos"
   ]
  },
  {
   "cell_type": "markdown",
   "metadata": {
    "lang": "en"
   },
   "source": [
    "### We do a \"fuzzy\" search in the titles"
   ]
  },
  {
   "cell_type": "code",
   "execution_count": 39,
   "metadata": {
    "ExecuteTime": {
     "end_time": "2019-09-01T13:16:16.045415Z",
     "start_time": "2019-09-01T13:16:14.765364Z"
    },
    "scrolled": true
   },
   "outputs": [],
   "source": [
    "fuzzy = sorted(\n",
    "    [(fuzz.partial_ratio(busqueda.lower(), data['title'][_].lower()), _)\n",
    "     for _ in range(len(data))],\n",
    "    reverse=True)"
   ]
  },
  {
   "cell_type": "markdown",
   "metadata": {
    "lang": "es"
   },
   "source": [
    "### Tenemos en cuenta la proximidad semántica"
   ]
  },
  {
   "cell_type": "markdown",
   "metadata": {
    "lang": "en"
   },
   "source": [
    "### We consider semantic proximity"
   ]
  },
  {
   "cell_type": "code",
   "execution_count": 40,
   "metadata": {
    "ExecuteTime": {
     "end_time": "2019-09-01T13:16:16.062354Z",
     "start_time": "2019-09-01T13:16:16.046882Z"
    },
    "colab": {},
    "colab_type": "code",
    "id": "XVO2sVao1Bz6"
   },
   "outputs": [],
   "source": [
    "#target_embeddings = [bert_embeddings[_[1]] for _ in fuzzy[:top_n]]\n",
    "#cosine_similarities = cosine_similarity(target_embeddings, bert_embeddings)\n",
    "target_embeddings = [elmo_embeddings[_[1]] for _ in fuzzy[:top_n]]\n",
    "cosine_similarities = cosine_similarity(target_embeddings, elmo_embeddings)"
   ]
  },
  {
   "cell_type": "code",
   "execution_count": 41,
   "metadata": {
    "ExecuteTime": {
     "end_time": "2019-09-01T13:16:16.084401Z",
     "start_time": "2019-09-01T13:16:16.064133Z"
    },
    "scrolled": true
   },
   "outputs": [
    {
     "data": {
      "text/html": [
       "<img width=\"220px\" src=\"https://cdn.sstatic.net/Sites/stackoverflow/company/img/logos/so/so-logo.svg?v=a010291124bf\"></img>"
      ],
      "text/plain": [
       "<IPython.core.display.HTML object>"
      ]
     },
     "metadata": {},
     "output_type": "display_data"
    },
    {
     "data": {
      "text/html": [
       "<h2>Resultados de la búsqueda <i>invertir matriz</i></h2>"
      ],
      "text/plain": [
       "<IPython.core.display.HTML object>"
      ]
     },
     "metadata": {},
     "output_type": "display_data"
    },
    {
     "data": {
      "text/html": [
       " <p><h2><a href=\"https://es.stackoverflow.com/questions/125971/c%c3%b3mo-puedo-invertir-una-matriz-en-python\"> ¿Cómo puedo <b>invertir</b> una <b>matriz</b> en Python? </a></h2><br>¿Cómo podría <b>invertir</b> una <b>matriz</b> en Python 3 para leerla de forma contraria sin usar la función --> sopa=sopa[::-1] como se ve en el ejemplo? Lo quiero hacer de otra manera, pero no conozco otra forma. def encuentra_maximo (sopa): num=-1 dim=extrae_dimension(sopa) num=recorre_horizontal(sopa,dim,num) num=recorre_vertical(sopa,dim,num) sopa=sopa[::-1] #esta función invierte la matriz. num=recorre_horizontal(sopa,dim,num) num=recorre_vertical(sopa,dim,num) return num Espero que con este ejemplo me ...<br><br><a href =\"https://es.stackoverflow.com/questions/129513/c%c3%b3mo-trabajar-con-listas-en-python\">¿Cómo trabajar con listas en Python?</a><br><a href =\"https://es.stackoverflow.com/questions/54551/c%c3%b3mo-puedo-ejecutar-python-en-mi-navegador\">¿Cómo puedo ejecutar Python en mi navegador?</a><br><a href =\"https://es.stackoverflow.com/questions/314/c%c3%b3mo-sumar-vectores-representados-por-tuplas-en-python\">¿Cómo sumar vectores representados por tuplas en Python?</a></p>"
      ],
      "text/plain": [
       "<IPython.core.display.HTML object>"
      ]
     },
     "metadata": {},
     "output_type": "display_data"
    },
    {
     "data": {
      "text/html": [
       " <p><h2><a href=\"https://es.stackoverflow.com/questions/228046/invertir-una-lista\"> <b>Invertir</b> una lista [cerrada] </a></h2><br>no sé porque no me da ;n; agradecería si alguien me ayuda a encontrar una respuesta a mi problema #include <iostream> #include <stdlib.h> using namespace std; struct nodo{ int nro; struct nodo*sgte; }; typedef struct nodo *Tlista; void InsertFirst(Tlista&lista,int valor) { Tlista q; q = new(struct nodo); q->nro = valor; q->sgte = lista; lista = q; } void InsertEnd(Tlista&lista,int valor) { Tlista t,q = new(struct nodo); q->nro = valor; q->sgte = NULL; if(lista == NULL) { lista = q; } else { t = ...<br><br><a href =\"https://es.stackoverflow.com/questions/269676/separar-una-lista-intercalada\">Separar una lista intercalada [cerrada]</a><br><a href =\"https://es.stackoverflow.com/questions/18214/arreglo-de-objetos-java\">Arreglo de objetos Java [cerrada]</a><br><a href =\"https://es.stackoverflow.com/questions/111755/select2-cambia-de-tama%c3%b1o\">Select2 cambia de tamaño [cerrada]</a></p>"
      ],
      "text/plain": [
       "<IPython.core.display.HTML object>"
      ]
     },
     "metadata": {},
     "output_type": "display_data"
    },
    {
     "data": {
      "text/html": [
       " <p><h2><a href=\"https://es.stackoverflow.com/questions/107419/generar-matriz-en-python-desde-un-fichero-csv-donde-hacer-b%c3%basquedas-mostrando-fi\"> Generar <b>matriz</b> en Python desde un fichero CSV donde hacer búsquedas mostrando fila encontrada </a></h2><br>Tengo un fichero CSV, delimitado por comas, con datos de prueba: #----------------------------------------------- CID ,categoria,edad, Alias ,Nombre,Provincia #----------------------------------------------- 0 ,suave ,18 ,@depende1,José ,Alicante 3282 ,basto ,27 ,@Basto27 ,Ramon ,Madrid 2015 ,mustio ,35 ,@mustio35,Luis ,Huelva 0 ,elegante ,22 ,@Dosydos ,Xavi ,Valencia Necesito leer el fichero y construir una matriz. A partir de ésta, al seleccionar una columna, se mostraran todos sus elementos y ...<br><br><a href =\"https://es.stackoverflow.com/questions/289539/como-puedo-utilizar-un-pincel-y-elegir-un-color-para-pintar-en-c-windowsform\">Como puedo utilizar un pincel y elegir un color para pintar en c# windowsform</a><br><a href =\"https://es.stackoverflow.com/questions/248549/usando-regex-en-python-como-separar-un-n%c3%bamero-decimal-de-un-string-sin-que-lean\">Usando regex en Python como separar un número decimal de un string sin que lean caracteres especiales y caracteres cómo ñ</a><br><a href =\"https://es.stackoverflow.com/questions/241771/como-ocultar-un-label-boton-u-otro-widget-en-una-gui-tkinter-python\">¿como ocultar un label, boton u otro widget en una GUI? tkinter, python</a></p>"
      ],
      "text/plain": [
       "<IPython.core.display.HTML object>"
      ]
     },
     "metadata": {},
     "output_type": "display_data"
    },
    {
     "data": {
      "text/html": [
       " <p><h2><a href=\"https://es.stackoverflow.com/questions/17610/insertar-atributos-en-todos-los-campos-en-un-modelform-django-1-8\"> Insertar atributos en todos los campos en un ModelForm Django 1.8 </a></h2><br>Hola amigos estoy con un problema de un modelForm en django 1.8, el código es el siguiente: class TrabajoForm(forms.ModelForm): class Meta: model = Trabajo exclude = ['fecha_solicitud', 'revisado'] def __init__(self, *args, **kwargs): super().__init__(*args, **kwargs) for field in self.fields: fields[field].widget.attrs.update({'class': 'form-control'}) Lo que deseo es darle una clase css a todos los campos del formulario, según el error que me da Django al momento de usarlo es el 'self' no se e ...<br><br><a href =\"https://es.stackoverflow.com/questions/279549/entendiendo-las-relaciones-en-laravel-en-migraciones-y-en-su-orm-eloquent\">Entendiendo las relaciones en Laravel (en migraciones y en su ORM Eloquent)</a><br><a href =\"https://es.stackoverflow.com/questions/81993/c%c3%b3mo-insertar-registros-en-tablas-que-est%c3%a1n-relacionadas-entre-s%c3%ad\">Cómo insertar Registros en Tablas que están relacionadas entre sí</a><br><a href =\"https://es.stackoverflow.com/questions/3508/modificando-algunos-comportamientos-del-django-admin-en-cuanto-a-sus-formularios\">Modificando algunos comportamientos del Django admin en cuanto a sus formularios generados</a></p>"
      ],
      "text/plain": [
       "<IPython.core.display.HTML object>"
      ]
     },
     "metadata": {},
     "output_type": "display_data"
    },
    {
     "data": {
      "text/html": [
       " <p><h2><a href=\"https://es.stackoverflow.com/questions/189138/generar-archivo-csv-a-partir-de-matriz-listas-anidadas\"> Generar archivo csv a partir de <b>matriz</b> (listas anidadas) </a></h2><br>Tengo una <b>matriz</b> de 1000x5, en el formato ['1', 'Visa', '4539897685939002', '116', '5/2022\\n'] Todos los valores dentro de cada fila son strings y están ordenados de forma creciente por el primer índice de cada fila, algo así: ['1', 'Visa', '4539897685939002', '116', '5/2022\\n'] ['2', 'MasterCard', '5159561932089468', '627', '2/2023\\n'] Intento ingresar la <b>matriz</b> a un archivo csv, en primera instancia me salía un error que no podía escribir listas en el archivo, luego intenté ingresar las filas ...<br><br><a href =\"https://es.stackoverflow.com/questions/44391/proyecto-asp-net-al-subir-a-servidor-deja-de-funcionar\">Proyecto Asp.Net al subir a servidor deja de funcionar</a><br><a href =\"https://es.stackoverflow.com/questions/5047/procesar-json-encodedata-a-trav%c3%a9s-de-ajax-jquery\">Procesar json_encode($data) a través de ajax jquery</a><br><a href =\"https://es.stackoverflow.com/questions/28365/es-recomendable-cargar-todo-un-archivo-de-texto-a-un-string\">¿Es recomendable cargar todo un archivo de texto a un string?</a></p>"
      ],
      "text/plain": [
       "<IPython.core.display.HTML object>"
      ]
     },
     "metadata": {},
     "output_type": "display_data"
    },
    {
     "data": {
      "text/html": [
       " <p><h2><a href=\"https://es.stackoverflow.com/questions/275546/invertir-una-matriz-en-python-con-numpy\"> <b>Invertir</b> una <b>matriz</b> en Python con Numpy </a></h2><br>Al momento de elegir la fila y posición de la <b>matriz</b> me guarda la variable de arriba hacia abajo, ejemplo: fila= 3 posicion=2 import numpy as np matriz=np.zeros([10,4], dtype=object) print(matriz) Respuesta: filas|A|B|C|D| 10) [[0 0 0 0] 9) [0 0 0 0] 8) [0 0 0 0] 7) [0 0 x 0] 6) [0 0 0 0] 5) [0 0 0 0] 4) [0 0 0 0] 3) [0 0 0 0] 2) [0 0 0 0] 1) [0 0 0 0]] ...<br><br><a href =\"https://es.stackoverflow.com/questions/125971/c%c3%b3mo-puedo-invertir-una-matriz-en-python\">¿Cómo puedo invertir una matriz en Python?</a><br><a href =\"https://es.stackoverflow.com/questions/32867/formatear-una-lista-en-python\">¿Formatear una lista en Python?</a><br><a href =\"https://es.stackoverflow.com/questions/38511/crear-una-regla-en-regedit-con-c\">Crear una regla en regedit con C++</a></p>"
      ],
      "text/plain": [
       "<IPython.core.display.HTML object>"
      ]
     },
     "metadata": {},
     "output_type": "display_data"
    },
    {
     "data": {
      "text/html": [
       " <p><h2><a href=\"https://es.stackoverflow.com/questions/252946/pasar-datos-de-fichero-a-matriz-en-c\"> Pasar datos de fichero a <b>matriz</b> en c++ [cerrada] </a></h2><br>Soy muy nuevo en C++, y os quería consultar cuál sería la mejor manera de leer un archivo, y extraer los números de este y convertirlos en matriz. ¿Cómo puedo transformar los string a números independientes mediante cada salto de línea? Adjunto el código mediante el cual abro el archivo. #include<stdlib.h> #include<fstream> #include<iostream> using namespace std; void lectura(); int main(){ lectura(); system(\"pause\"); return 0; }void lectura(){ ifstream archivo; string texto; fopen(\"nile\",ios::i ...<br><br><a href =\"https://es.stackoverflow.com/questions/244092/pasar-datos-de-datagridview-a-combobox\">Pasar datos de datagridview a combobox</a><br><a href =\"https://es.stackoverflow.com/questions/106332/mostrar-datos-de-json-a-un-datatable-en-php\">Mostrar datos de json a un datatable en php</a><br><a href =\"https://es.stackoverflow.com/questions/265864/sustituir-elemenos-de-una-lista-con-append-en-python\">Sustituir elemenos de una lista con append en Python [cerrada]</a></p>"
      ],
      "text/plain": [
       "<IPython.core.display.HTML object>"
      ]
     },
     "metadata": {},
     "output_type": "display_data"
    },
    {
     "data": {
      "text/html": [
       " <p><h2><a href=\"https://es.stackoverflow.com/questions/289508/como-puedo-insertar-varios-datos-en-un-tabla-tomando-datos-de-otra-tabla\"> Cómo puedo insertar varios datos en un tabla tomando datos de otra tabla? </a></h2><br>Estoy tratando de insertar varios datos en una tabla a otra pero no me está tomando los datos desde el html, he intentado varias formas, también intenté tomar el número como una variable he insertarlo directo pero no me funcionó. Esto es lo que estoy intentando hacer, que de 2 tablas me traiga un valor y los inserte en en una tabla llamada cantidad, que tiene 2 id y solo 3 campos, donde está el id, del conteo y el id del producto pero cuando intento insertar los datos, la página sólo se recarga. ...<br><br><a href =\"https://es.stackoverflow.com/questions/186706/c%c3%b3mo-puedo-crear-un-registro-de-nuevo-usuario-m%c3%a1s-su-foto-de-perfil\">Cómo puedo crear un registro de nuevo usuario más su foto de perfil?</a><br><a href =\"https://es.stackoverflow.com/questions/22660/c%c3%b3mo-puedo-modificar-datos-de-una-clase-padre-creandola-como-una-clase-hija\">Cómo puedo modificar datos de una clase padre creandola como una clase hija?</a><br><a href =\"https://es.stackoverflow.com/questions/124430/c%c3%b3mo-puedo-mostrar-u-ocultar-el-texto-de-un-select-simple-al-seleccionar-opcione\">Cómo puedo mostrar u ocultar el texto de un select simple al seleccionar opciones de otro select (multiple)?</a></p>"
      ],
      "text/plain": [
       "<IPython.core.display.HTML object>"
      ]
     },
     "metadata": {},
     "output_type": "display_data"
    },
    {
     "data": {
      "text/html": [
       " <p><h2><a href=\"https://es.stackoverflow.com/questions/202932/convertir-imagen-rgb2hsv\"> convertir imagen rgb2hsv </a></h2><br>def hsv_to_rgb(R,G,B): def get_H(): if B < G: return get_c() else: return 360 - get_c() def get_S(): if R+G+B == 0: return \"undef\" return 1-(3/(R+G+B))*min(R, G, B) def get_I(): return (R+G+B)/3 def get_c(): return math.acos((2*R-G-B)/(2*math.sqrt((R-G)**2+(R-B)*(G-B)))) return get_H(), get_S(), get_I() # Ejemplo values = [(100, 0, 0), (0, 60, 0), (0, 0, 240), (122, 121, 122), (2, 243, 4)] for pair in values: R, G, B = pair print(\"\\n---------\") print(\"R: {} | G: {} | B: {}\".format(R, G, B)) H, S ...<br><br><a href =\"https://es.stackoverflow.com/questions/110033/convertir-php-a-perl\">convertir php a perl</a><br><a href =\"https://es.stackoverflow.com/questions/27584/guardar-imagen-pdf\">guardar imagen pdf</a><br><a href =\"https://es.stackoverflow.com/questions/107252/convertir-listdocument-a-json\">convertir List<Document> a json</a></p>"
      ],
      "text/plain": [
       "<IPython.core.display.HTML object>"
      ]
     },
     "metadata": {},
     "output_type": "display_data"
    },
    {
     "data": {
      "text/html": [
       " <p><h2><a href=\"https://es.stackoverflow.com/questions/1948/c%c3%b3mo-convertir-datos-le%c3%addos-en-java-de-excel-a-xml\"> ¿Cómo convertir datos leídos en Java de Excel a XML? </a></h2><br>Me gustaría saber como puedo convertir datos leídos por una clase Java que me permite leer documentos en Excel .xls , .xlsx y .xlsm mediante la librería POI a una estructura XML, cabe mencionar que la clase lee los archivos y me muestra los resultados en consola. Ahora, ¿cómo podría generar una estructura XML a partir de esos datos?, ¿necesito alguna librería en específico o qué puedo hacer? Adjunto el código que lee los datos de Excel: public class ExcelReader{ public void displayFromExcel() th ...<br><br><a href =\"https://es.stackoverflow.com/questions/235169/c%c3%b3mo-pasar-datos-de-un-formulario-html-a-javascript\">¿Cómo pasar datos de un formulario HTML a JavaScript?</a><br><a href =\"https://es.stackoverflow.com/questions/193020/c%c3%b3mo-ejecutar-un-m%c3%a9todo-de-c-a-trav%c3%a9s-de-un-archivo-xml\">¿Cómo ejecutar un método de C# a través de un archivo XML?</a><br><a href =\"https://es.stackoverflow.com/questions/102658/c%c3%b3mo-recorrer-un-arreglo-multidimensional-autogenerado-a-trav%c3%a9s-de-post-en-ph\">¿Cómo recorrer un arreglo multidimensional autogenerado a través de $_POST en PHP?</a></p>"
      ],
      "text/plain": [
       "<IPython.core.display.HTML object>"
      ]
     },
     "metadata": {},
     "output_type": "display_data"
    }
   ],
   "source": [
    "display(\n",
    "    HTML(\n",
    "        '<img width=\"220px\" src=\"https://cdn.sstatic.net/Sites/stackoverflow/company/img/logos/so/so-logo.svg?v=a010291124bf\"></img>'\n",
    "    ))\n",
    "display(HTML('<h2>Resultados de la búsqueda <i>' + busqueda + '</i></h2>'))\n",
    "for _, (score, i) in enumerate(fuzzy[:top_n]):\n",
    "    output = ''\n",
    "    text = f'<p><h2><a href=\"{data[\"url\"][i]}\"> {data[\"title\"][i]} </a></h2><br>{data[\"text\"][i][0:500]} ...<br>'\n",
    "    for word in text.split():\n",
    "        if word.lower() in busqueda.lower().split():\n",
    "            output += ' <b>' + str(word) + '</b>'\n",
    "        else:\n",
    "            output += \" \" + str(word)\n",
    "    top_args = np.flip(np.argsort(cosine_similarities[_]))\n",
    "    for similar in range(1, n_similar + 1):\n",
    "        output += f'<br><a href =\"{data[\"url\"][top_args[similar]]}\">{data[\"title\"][top_args[similar]]}</a>'\n",
    "    output += '</p>'\n",
    "    display(HTML(output))"
   ]
  }
 ],
 "metadata": {
  "accelerator": "GPU",
  "colab": {
   "name": "Bertle.ipynb",
   "provenance": [],
   "version": "0.3.2"
  },
  "kernelspec": {
   "display_name": "Python 3",
   "language": "python",
   "name": "python3"
  },
  "language_info": {
   "codemirror_mode": {
    "name": "ipython",
    "version": 3
   },
   "file_extension": ".py",
   "mimetype": "text/x-python",
   "name": "python",
   "nbconvert_exporter": "python",
   "pygments_lexer": "ipython3",
   "version": "3.6.9"
  },
  "nbTranslate": {
   "displayLangs": [
    "es"
   ],
   "hotkey": "alt-t",
   "langInMainMenu": true,
   "sourceLang": "es",
   "targetLang": "en",
   "useGoogleTranslate": true
  },
  "toc": {
   "base_numbering": 1,
   "nav_menu": {},
   "number_sections": false,
   "sideBar": true,
   "skip_h1_title": false,
   "title_cell": "Table of Contents",
   "title_sidebar": "Contents",
   "toc_cell": false,
   "toc_position": {},
   "toc_section_display": true,
   "toc_window_display": false
  },
  "varInspector": {
   "cols": {
    "lenName": 16,
    "lenType": 16,
    "lenVar": 40
   },
   "kernels_config": {
    "python": {
     "delete_cmd_postfix": "",
     "delete_cmd_prefix": "del ",
     "library": "var_list.py",
     "varRefreshCmd": "print(var_dic_list())"
    },
    "r": {
     "delete_cmd_postfix": ") ",
     "delete_cmd_prefix": "rm(",
     "library": "var_list.r",
     "varRefreshCmd": "cat(var_dic_list()) "
    }
   },
   "types_to_exclude": [
    "module",
    "function",
    "builtin_function_or_method",
    "instance",
    "_Feature"
   ],
   "window_display": false
  }
 },
 "nbformat": 4,
 "nbformat_minor": 1
}
