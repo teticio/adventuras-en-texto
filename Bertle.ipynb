{
 "cells": [
  {
   "cell_type": "markdown",
   "metadata": {
    "colab_type": "text",
    "id": "TbJFh_0q1Byx"
   },
   "source": [
    "<p><img width=\"220px\" src=\"https://github.com/teticio/aventuras-con-textos/blob/master/Bertle.gif?raw=1\"></p>\n",
    "Vamos a hacer un motor de búsqueda semántica con los datos de Wikipedia."
   ]
  },
  {
   "cell_type": "markdown",
   "metadata": {
    "colab_type": "text",
    "id": "saHnefyr1By1"
   },
   "source": [
    "### Instalar librerías"
   ]
  },
  {
   "cell_type": "code",
   "execution_count": 1,
   "metadata": {
    "ExecuteTime": {
     "end_time": "2019-08-19T21:32:52.930103Z",
     "start_time": "2019-08-19T21:32:51.499792Z"
    },
    "colab": {
     "base_uri": "https://localhost:8080/",
     "height": 108
    },
    "colab_type": "code",
    "id": "b2sx6N651By2",
    "outputId": "daa16b01-525e-4737-e070-5246cb73a076"
   },
   "outputs": [
    {
     "name": "stdout",
     "output_type": "stream",
     "text": [
      "Cloning into 'bert_repo'...\n",
      "remote: Enumerating objects: 333, done.\u001b[K\n",
      "remote: Total 333 (delta 0), reused 0 (delta 0), pack-reused 333\u001b[K\n",
      "Receiving objects: 100% (333/333), 279.30 KiB | 7.55 MiB/s, done.\n",
      "Resolving deltas: 100% (183/183), done.\n"
     ]
    }
   ],
   "source": [
    "# instalar BERT\n",
    "import sys\n",
    "\n",
    "!test -d bert_repo || git clone https://github.com/google-research/bert bert_repo\n",
    "if not 'bert_repo' in sys.path:\n",
    "    sys.path += ['bert_repo']\n",
    "\n",
    "# import python modules defined by BERT\n",
    "import tokenization"
   ]
  },
  {
   "cell_type": "code",
   "execution_count": 2,
   "metadata": {
    "ExecuteTime": {
     "end_time": "2019-08-19T21:32:53.090631Z",
     "start_time": "2019-08-19T21:32:52.935250Z"
    },
    "colab": {
     "base_uri": "https://localhost:8080/",
     "height": 35
    },
    "colab_type": "code",
    "id": "VF0-idjT1By-",
    "outputId": "9c9cf4b7-7d9e-4671-8b43-2ce3acc1859f"
   },
   "outputs": [
    {
     "name": "stderr",
     "output_type": "stream",
     "text": [
      "Using TensorFlow backend.\n"
     ]
    }
   ],
   "source": [
    "import os\n",
    "import pickle\n",
    "import numpy as np\n",
    "import pandas as pd\n",
    "from bs4 import BeautifulSoup\n",
    "from tqdm import tqdm_notebook\n",
    "import tensorflow as tf\n",
    "import tensorflow_hub as hub\n",
    "from sklearn.metrics.pairwise import cosine_similarity\n",
    "from IPython.core.display import display, HTML\n",
    "from keras.utils import get_file\n",
    "\n",
    "os.environ['TFHUB_CACHE_DIR'] = './tfhub'"
   ]
  },
  {
   "cell_type": "code",
   "execution_count": 0,
   "metadata": {
    "ExecuteTime": {
     "end_time": "2019-08-19T21:32:53.644545Z",
     "start_time": "2019-08-19T21:32:53.092213Z"
    },
    "colab": {},
    "colab_type": "code",
    "id": "eSGd3XSI1BzC"
   },
   "outputs": [],
   "source": [
    "sess = tf.Session()"
   ]
  },
  {
   "cell_type": "code",
   "execution_count": 0,
   "metadata": {
    "ExecuteTime": {
     "end_time": "2019-08-19T21:33:21.510925Z",
     "start_time": "2019-08-19T21:33:21.504410Z"
    },
    "colab": {},
    "colab_type": "code",
    "id": "E5rwPbBt1Bzb"
   },
   "outputs": [],
   "source": [
    "batch_size = 32  #@param {type : 'number'}\n",
    "max_len = 512  #@param {type : 'number'}\n",
    "min_len = 100  #@param {type : 'number'}\n",
    "\n",
    "\n",
    "def prepare_inputs_for_bert(texts, max_len):\n",
    "    examples = []\n",
    "    mask = []\n",
    "    segment = []\n",
    "    label = []\n",
    "    for text in texts:\n",
    "        q = tokenizer.tokenize(text)\n",
    "        pad = [0] * (max_len - (len(q) + 2))\n",
    "        examples.append(\n",
    "            tokenizer.convert_tokens_to_ids(['[CLS]'] + q +\n",
    "                                            ['[SEP]'])[:max_len] + pad)\n",
    "        mask.append([1] * min(len(q) + 2, max_len) + pad)\n",
    "        segment.append([0] * max_len)\n",
    "    return (np.array(examples), np.array(mask), np.array(segment))"
   ]
  },
  {
   "cell_type": "markdown",
   "metadata": {
    "colab_type": "text",
    "id": "epHFbPMF1BzG"
   },
   "source": [
    "### Código para leer el fichero de [Wikipedia](https://wiki.kiwix.org/wiki/Content_in_all_languages) (en formato ZIM)"
   ]
  },
  {
   "cell_type": "code",
   "execution_count": 0,
   "metadata": {
    "ExecuteTime": {
     "end_time": "2019-08-19T21:32:54.880596Z",
     "start_time": "2019-08-19T21:32:54.831525Z"
    },
    "colab": {},
    "colab_type": "code",
    "id": "-3OPKTbw1BzI"
   },
   "outputs": [],
   "source": [
    "# 'robado' de https://github.com/kimbauters/ZIMply/blob/master/zimply/zimply.py\n",
    "\n",
    "import io\n",
    "import lzma\n",
    "import logging\n",
    "from functools import partial, lru_cache\n",
    "from collections import namedtuple\n",
    "from struct import Struct, pack, unpack\n",
    "\n",
    "ZERO = pack(\"B\", 0)  # defined for zero terminated fields\n",
    "Field = namedtuple(\"Field\", [\"format\", \"field_name\"])  # a tuple\n",
    "Article = namedtuple(\"Article\", [\"data\", \"namespace\", \"mimetype\"])  # a triple\n",
    "\n",
    "iso639_3to1 = {\"ara\": \"ar\", \"dan\": \"da\", \"nld\": \"nl\", \"eng\": \"en\",\n",
    "               \"fin\": \"fi\", \"fra\": \"fr\", \"deu\": \"de\", \"hun\": \"hu\",\n",
    "               \"ita\": \"it\", \"nor\": \"no\", \"por\": \"pt\", \"ron\": \"ro\",\n",
    "               \"rus\": \"ru\", \"spa\": \"es\", \"swe\": \"sv\", \"tur\": \"tr\"}\n",
    "\n",
    "\n",
    "def read_zero_terminated(file, encoding):\n",
    "    \"\"\"\n",
    "    Retrieve a ZERO terminated string by reading byte by byte until the ending\n",
    "    ZERO terminated field is encountered.\n",
    "    :param file: the file to read from\n",
    "    :param encoding: the encoding used for the file\n",
    "    :return: the decoded string, up to but not including the ZERO termination\n",
    "    \"\"\"\n",
    "    # read until we find the ZERO termination\n",
    "    buffer = iter(partial(file.read, 1), ZERO)\n",
    "    # join all the bytes together\n",
    "    field = b\"\".join(buffer)\n",
    "    # transform the bytes into a string and return the string\n",
    "    return field.decode(encoding=encoding, errors=\"ignore\")\n",
    "\n",
    "\n",
    "def convert_size(size):\n",
    "    \"\"\"\n",
    "    Convert a given size in bytes to a human-readable string of the file size.\n",
    "    :param size: the size in bytes\n",
    "    :return: a human-readable string of the size\n",
    "    \"\"\"\n",
    "    size_name = (\"B\", \"KB\", \"MB\", \"GB\", \"TB\", \"PB\", \"EB\", \"ZB\", \"YB\")\n",
    "    power = int(floor(log(size, 1024)))\n",
    "    base = pow(1024, power)\n",
    "    size = round(size/base, 2)\n",
    "    return '%s %s' % (size, size_name[power])\n",
    "\n",
    "\n",
    "HEADER = [  # define the HEADER structure of a ZIM file\n",
    "    Field(\"I\", \"magicNumber\"),\n",
    "    Field(\"I\", \"version\"),\n",
    "    Field(\"Q\", \"uuid_low\"),\n",
    "    Field(\"Q\", \"uuid_high\"),\n",
    "    Field(\"I\", \"articleCount\"),\n",
    "    Field(\"I\", \"clusterCount\"),\n",
    "    Field(\"Q\", \"urlPtrPos\"),\n",
    "    Field(\"Q\", \"titlePtrPos\"),\n",
    "    Field(\"Q\", \"clusterPtrPos\"),\n",
    "    Field(\"Q\", \"mimeListPos\"),\n",
    "    Field(\"I\", \"mainPage\"),\n",
    "    Field(\"I\", \"layoutPage\"),\n",
    "    Field(\"Q\", \"checksumPos\")\n",
    "]\n",
    "\n",
    "ARTICLE_ENTRY = [  # define the ARTICLE ENTRY structure of a ZIM file\n",
    "    Field(\"H\", \"mimetype\"),\n",
    "    Field(\"B\", \"parameterLen\"),\n",
    "    Field(\"c\", \"namespace\"),\n",
    "    Field(\"I\", \"revision\"),\n",
    "    Field(\"I\", \"clusterNumber\"),\n",
    "    Field(\"I\", \"blobNumber\")\n",
    "    # zero terminated url of variable length; not a Field\n",
    "    # zero terminated title of variable length; not a Field\n",
    "    # variable length parameter data as per parameterLen; not a Field\n",
    "]\n",
    "\n",
    "REDIRECT_ENTRY = [  # define the REDIRECT ENTRY structure of a ZIM file\n",
    "    Field(\"H\", \"mimetype\"),\n",
    "    Field(\"B\", \"parameterLen\"),\n",
    "    Field(\"c\", \"namespace\"),\n",
    "    Field(\"I\", \"revision\"),\n",
    "    Field(\"I\", \"redirectIndex\")\n",
    "    # zero terminated url of variable length; not a Field\n",
    "    # zero terminated title of variable length; not a Field\n",
    "    # variable length parameter data as per parameterLen; not a Field\n",
    "]\n",
    "\n",
    "CLUSTER = [  # define the CLUSTER structure of a ZIM file\n",
    "    Field(\"B\", \"compressionType\")\n",
    "]\n",
    "\n",
    "\n",
    "class Block:\n",
    "    def __init__(self, structure, encoding):\n",
    "        self._structure = structure\n",
    "        self._encoding = encoding\n",
    "        # Create a new Struct object to correctly read the binary data in this\n",
    "        # block in particular, pass it along that it is a little endian (<),\n",
    "        # along with all expected fields.\n",
    "        self._compiled = Struct(\"<\" + \"\".join(\n",
    "            [field.format for field in self._structure]))\n",
    "        self.size = self._compiled.size\n",
    "\n",
    "    def unpack(self, buffer, offset=0):\n",
    "        # Use the Struct to read the binary data in the buffer\n",
    "        # where this block appears at the given offset.\n",
    "        values = self._compiled.unpack_from(buffer, offset)\n",
    "        # Match up each value with the corresponding field in the block\n",
    "        # and put it in a dictionary for easy reference.\n",
    "        return {field.field_name: value for value, field in\n",
    "                zip(values, self._structure)}\n",
    "\n",
    "    def _unpack_from_file(self, file, offset=None):\n",
    "        if offset is not None:\n",
    "            # move the pointer in the file to the specified offset;\n",
    "            # this is not index 0\n",
    "            file.seek(offset)\n",
    "        # read in the amount of data corresponding to the block size\n",
    "        buffer = file.read(self.size)\n",
    "        # return the values of the fields after unpacking them\n",
    "        return self.unpack(buffer)\n",
    "\n",
    "    def unpack_from_file(self, file, seek=None):\n",
    "        # When more advanced behaviour is needed,\n",
    "        # this method can be overridden by subclassing.\n",
    "        return self._unpack_from_file(file, seek)\n",
    "\n",
    "\n",
    "class HeaderBlock(Block):\n",
    "    def __init__(self, encoding):\n",
    "        super().__init__(HEADER, encoding)\n",
    "\n",
    "\n",
    "class MimeTypeListBlock(Block):\n",
    "    def __init__(self, encoding):\n",
    "        super().__init__(\"\", encoding)\n",
    "\n",
    "    def unpack_from_file(self, file, offset=None):\n",
    "        # move the pointer in the file to the specified offset as\n",
    "        # this is not index 0 when an offset is specified\n",
    "        if offset is not None:\n",
    "            file.seek(offset)\n",
    "        mimetypes = []  # prepare an empty list to store the mimetypes\n",
    "        while True:\n",
    "            # get the next zero terminated field\n",
    "            s = read_zero_terminated(file, self._encoding)\n",
    "            mimetypes.append(s)  # add the newly found mimetype to the list\n",
    "            if s == \"\":  # the last entry must be an empty string\n",
    "                mimetypes.pop()  # pop the last entry\n",
    "                return mimetypes  # return the list of mimetypes we found\n",
    "\n",
    "\n",
    "class ClusterBlock(Block):\n",
    "    def __init__(self, encoding):\n",
    "        super().__init__(CLUSTER, encoding)\n",
    "\n",
    "\n",
    "@lru_cache(maxsize=32)  # provide an LRU cache for this object\n",
    "class ClusterData(object):\n",
    "    def __init__(self, file, offset, encoding):\n",
    "        self.file = file  # store the file\n",
    "        self.offset = offset  # store the offset\n",
    "        cluster_info = ClusterBlock(encoding).unpack_from_file(\n",
    "            self.file, self.offset)  # Get the cluster fields.\n",
    "        # Verify whether the cluster has LZMA2 compression\n",
    "        self.compressed = cluster_info['compressionType'] == 4\n",
    "        # at the moment, we don't have any uncompressed data\n",
    "        self.uncompressed = None\n",
    "        self._decompress()  # decompress the contents as needed\n",
    "        # Prepare storage to keep track of the offsets\n",
    "        # of the blobs in the cluster.\n",
    "        self._offsets = []\n",
    "        # proceed to actually read the offsets of the blobs in this cluster\n",
    "        self._read_offsets()\n",
    "\n",
    "    def _decompress(self, chunk_size=32768):\n",
    "        if self.compressed:\n",
    "            # create a bytes stream to store the uncompressed cluster data\n",
    "            self.buffer = io.BytesIO()\n",
    "            decompressor = lzma.LZMADecompressor()  # prepare the decompressor\n",
    "            # move the file pointer to the start of the blobs as long as we\n",
    "            # don't reach the end of the stream.\n",
    "            self.file.seek(self.offset + 1)\n",
    "\n",
    "            while not decompressor.eof:\n",
    "                chunk = self.file.read(chunk_size)  # read in a chunk\n",
    "                data = decompressor.decompress(chunk)  # decompress the chunk\n",
    "                self.buffer.write(data)  # and store it in the buffer area\n",
    "\n",
    "    def _source_buffer(self):\n",
    "        # get the file buffer or the decompressed buffer\n",
    "        buffer = self.buffer if self.compressed else self.file\n",
    "        # move the buffer to the starting position\n",
    "        buffer.seek(0 if self.compressed else self.offset + 1)\n",
    "        return buffer\n",
    "\n",
    "    def _read_offsets(self):\n",
    "        # get the buffer for this cluster\n",
    "        buffer = self._source_buffer()\n",
    "        # read the offset for the first blob\n",
    "        offset0 = unpack(\"<I\", buffer.read(4))[0]\n",
    "        # store this one in the list of offsets\n",
    "        self._offsets.append(offset0)\n",
    "        # calculate the number of blobs by dividing the first blob by 4\n",
    "        number_of_blobs = int(offset0 / 4)\n",
    "        for idx in range(number_of_blobs - 1):\n",
    "            # store the offsets to all other blobs\n",
    "            self._offsets.append(unpack(\"<I\", buffer.read(4))[0])\n",
    "\n",
    "    def read_blob(self, blob_index):\n",
    "        # check if the blob falls within the range\n",
    "        if blob_index >= len(self._offsets) - 1:\n",
    "            raise IOError(\"Blob index exceeds number of blobs available: %s\" %\n",
    "                          blob_index)\n",
    "        buffer = self._source_buffer()  # get the buffer for this cluster\n",
    "        # calculate the size of the blob\n",
    "        blob_size = self._offsets[blob_index+1] - self._offsets[blob_index]\n",
    "        # move to the position of the blob relative to current position\n",
    "        buffer.seek(self._offsets[blob_index], 1)\n",
    "        return buffer.read(blob_size)\n",
    "\n",
    "\n",
    "class DirectoryBlock(Block):\n",
    "    def __init__(self, structure, encoding):\n",
    "        super().__init__(structure, encoding)\n",
    "\n",
    "    def unpack_from_file(self, file, seek=None):\n",
    "        # read the first fields as defined in the ARTICLE_ENTRY structure\n",
    "        field_values = super()._unpack_from_file(file, seek)\n",
    "        # then read in the url, which is a zero terminated field\n",
    "        field_values[\"url\"] = read_zero_terminated(file, self._encoding)\n",
    "        # followed by the title, which is again a zero terminated field\n",
    "        field_values[\"title\"] = read_zero_terminated(file, self._encoding)\n",
    "        field_values[\"namespace\"] = field_values[\"namespace\"].decode(\n",
    "            encoding=self._encoding, errors=\"ignore\")\n",
    "        return field_values\n",
    "\n",
    "\n",
    "class ArticleEntryBlock(DirectoryBlock):\n",
    "    def __init__(self, encoding):\n",
    "        super().__init__(ARTICLE_ENTRY, encoding)\n",
    "\n",
    "\n",
    "class RedirectEntryBlock(DirectoryBlock):\n",
    "    def __init__(self, encoding):\n",
    "        super().__init__(REDIRECT_ENTRY, encoding)        \n",
    "\n",
    "\n",
    "class ZIMFile:\n",
    "    \"\"\"\n",
    "    The main class to access a ZIM file.\n",
    "    Two important public methods are:\n",
    "        get_article_by_url(...)\n",
    "      is used to retrieve an article given its namespace and url.\n",
    "\n",
    "        get_main_page()\n",
    "      is used to retrieve the main page article for the given ZIM file.\n",
    "    \"\"\"\n",
    "    def __init__(self, filename, encoding):\n",
    "        self._enc = encoding\n",
    "        # open the file as a binary file\n",
    "        self.file = open(filename, \"rb\")\n",
    "        # retrieve the header fields\n",
    "        self.header_fields = HeaderBlock(self._enc).unpack_from_file(self.file)\n",
    "        self.mimetype_list = MimeTypeListBlock(self._enc).unpack_from_file(\n",
    "            self.file, self.header_fields[\"mimeListPos\"])\n",
    "        # create the object once for easy access\n",
    "        self.redirectEntryBlock = RedirectEntryBlock(self._enc)\n",
    "\n",
    "        self.articleEntryBlock = ArticleEntryBlock(self._enc)\n",
    "        self.clusterFormat = ClusterBlock(self._enc)\n",
    "\n",
    "    def _read_offset(self, index, field_name, field_format, length):\n",
    "        # move to the desired position in the file\n",
    "        if index != 0xffffffff:\n",
    "            self.file.seek(self.header_fields[field_name] + int(length*index))\n",
    "\n",
    "            # and read and return the particular format\n",
    "            read = self.file.read(length)\n",
    "            # return unpack(\"<\" + field_format, self.file.read(length))[0]\n",
    "            return unpack(\"<\" + field_format, read)[0]\n",
    "        return None\n",
    "\n",
    "    def _read_url_offset(self, index):\n",
    "        return self._read_offset(index, \"urlPtrPos\", \"Q\", 8)\n",
    "\n",
    "    def _read_title_offset(self, index):\n",
    "        return self._read_offset(index, \"titlePtrPos\", \"L\", 4)\n",
    "\n",
    "    def _read_cluster_offset(self, index):\n",
    "        return self._read_offset(index, \"clusterPtrPos\", \"Q\", 8)\n",
    "\n",
    "    def _read_directory_entry(self, offset):\n",
    "        \"\"\"\n",
    "        Read a directory entry using an offset.\n",
    "        :return: a DirectoryBlock - either as Article Entry or Redirect Entry\n",
    "        \"\"\"\n",
    "        logging.debug(\"reading entry with offset \" + str(offset))\n",
    "\n",
    "        self.file.seek(offset)  # move to the desired offset\n",
    "\n",
    "        # retrieve the mimetype to determine the type of block\n",
    "        fields = unpack(\"<H\", self.file.read(2))\n",
    "\n",
    "        # get block class\n",
    "        if fields[0] == 0xffff:\n",
    "            directory_block = self.redirectEntryBlock\n",
    "        else:\n",
    "            directory_block = self.articleEntryBlock\n",
    "        # unpack and return the desired Directory Block\n",
    "        return directory_block.unpack_from_file(self.file, offset)\n",
    "\n",
    "    def read_directory_entry_by_index(self, index):\n",
    "        \"\"\"\n",
    "        Read a directory entry using an index.\n",
    "        :return: a DirectoryBlock - either as Article Entry or Redirect Entry\n",
    "        \"\"\"\n",
    "        # find the offset for the given index\n",
    "        offset = self._read_url_offset(index)\n",
    "        if offset is not None:\n",
    "            # read the entry at that offset\n",
    "            directory_values = self._read_directory_entry(offset)\n",
    "            # set the index in the list of values\n",
    "            directory_values[\"index\"] = index\n",
    "            return directory_values  # and return all these directory values\n",
    "\n",
    "    def _read_blob(self, cluster_index, blob_index):\n",
    "        # get the cluster offset\n",
    "        offset = self._read_cluster_offset(cluster_index)\n",
    "        # get the actual cluster data\n",
    "        cluster_data = ClusterData(self.file, offset, self._enc)\n",
    "        # return the data read from the cluster at the given blob index\n",
    "        return cluster_data.read_blob(blob_index)\n",
    "\n",
    "    def _get_article_by_index(self, index, follow_redirect=True):\n",
    "        # get the info from the DirectoryBlock at the given index\n",
    "        entry = self.read_directory_entry_by_index(index)\n",
    "        if entry is not None:\n",
    "            # check if we have a Redirect Entry\n",
    "            if 'redirectIndex' in entry.keys():\n",
    "                # if we follow up on redirects, return the article it is\n",
    "                # pointing to\n",
    "                if follow_redirect:\n",
    "                    logging.debug(\"redirect to \" + str(entry['redirectIndex']))\n",
    "                    return self._get_article_by_index(entry['redirectIndex'],\n",
    "                                                      follow_redirect)\n",
    "                # otherwise, simply return no data\n",
    "                # and provide the redirect index as the metadata.\n",
    "                else:\n",
    "                    return Article(None, entry['namespace'],\n",
    "                                   entry['redirectIndex'])\n",
    "            else:  # otherwise, we have an Article Entry\n",
    "                # get the data and return the Article\n",
    "                data = self._read_blob(entry['clusterNumber'],\n",
    "                                       entry['blobNumber'])\n",
    "                return Article(data, entry['namespace'],\n",
    "                               self.mimetype_list[entry['mimetype']])\n",
    "        else:\n",
    "            return None\n",
    "\n",
    "    def _get_entry_by_url(self, namespace, url, linear=False):\n",
    "        if linear:  # if we are performing a linear search ...\n",
    "            # ... simply iterate over all articles\n",
    "            for idx in range(self.header_fields['articleCount']):\n",
    "                # get the info from the DirectoryBlock at that index\n",
    "                entry = self.read_directory_entry_by_index(idx)\n",
    "                # if we found the article ...\n",
    "                if entry['url'] == url and entry['namespace'] == namespace:\n",
    "                    # return the DirectoryBlock entry and index of the entry\n",
    "                    return entry, idx\n",
    "            # return None, None if we could not find the entry\n",
    "            return None, None\n",
    "        else:\n",
    "            front = middle = 0\n",
    "            end = len(self)\n",
    "            title = full_url(namespace, url)\n",
    "            logging.debug(\"performing binary search with boundaries \" +\n",
    "                          str(front) + \" - \" + str(end))\n",
    "            found = False\n",
    "            # continue as long as the boundaries don't cross and\n",
    "            # we haven't found it\n",
    "            while front <= end and not found:\n",
    "                middle = floor((front + end) / 2)  # determine the middle index\n",
    "                entry = self.read_directory_entry_by_index(middle)\n",
    "                logging.debug(\"checking \" + entry['url'])\n",
    "                found_title = full_url(entry['namespace'], entry['url'])\n",
    "                if found_title == title:\n",
    "                    found = True  # flag it if the item is found\n",
    "                else:\n",
    "                    if found_title < title:  # if the middle is too early ...\n",
    "                        # move the front index to middle\n",
    "                        # (+ 1 to ensure boundaries can be crossed)\n",
    "                        front = middle + 1\n",
    "                    else:  # if the middle falls too late ...\n",
    "                        # move the end index to middle\n",
    "                        # (- 1 to ensure boundaries can be crossed)\n",
    "                        end = middle - 1\n",
    "            if found:\n",
    "                # return the tuple with directory entry and index\n",
    "                # (note the comma before the second argument)\n",
    "                return self.read_directory_entry_by_index(middle), middle\n",
    "            return None, None\n",
    "\n",
    "    def get_article_by_url(self, namespace, url, follow_redirect=True):\n",
    "        entry, idx = self._get_entry_by_url(namespace, url)  # get the entry\n",
    "        if idx:  # we found an index and return the article at that index\n",
    "            return self._get_article_by_index(\n",
    "                idx, follow_redirect=follow_redirect)\n",
    "\n",
    "    def get_main_page(self):\n",
    "        \"\"\"\n",
    "        Get the main page of the ZIM file.\n",
    "        \"\"\"\n",
    "        main_page = self._get_article_by_index(self.header_fields['mainPage'])\n",
    "        if main_page is not None:\n",
    "            return main_page\n",
    "\n",
    "    def metadata(self):\n",
    "        \"\"\"\n",
    "        Retrieve the metadata attached to the ZIM file.\n",
    "        :return: a dict with the entry url as key and the metadata as value\n",
    "        \"\"\"\n",
    "        metadata = {}\n",
    "        # iterate backwards over the entries\n",
    "        for i in range(self.header_fields['articleCount'] - 1, -1, -1):\n",
    "            entry = self.read_directory_entry_by_index(i)  # get the entry\n",
    "            if entry['namespace'] == 'M':  # check that it is still metadata\n",
    "                # turn the key to lowercase as per Kiwix standards\n",
    "                m_name = entry['url'].lower()\n",
    "                # get the data, which is encoded as an article\n",
    "                metadata[m_name] = self._get_article_by_index(i)[0]\n",
    "            else:  # stop as soon as we are no longer looking at metadata\n",
    "                break\n",
    "        return metadata\n",
    "\n",
    "    def __len__(self):  # retrieve the number of articles in the ZIM file\n",
    "        return self.header_fields['articleCount']\n",
    "\n",
    "    def __iter__(self):\n",
    "        \"\"\"\n",
    "        Create an iterator generator to retrieve all articles in the ZIM file.\n",
    "        :return: a yielded entry of an article, containing its full URL,\n",
    "                  its title, and the index of the article\n",
    "        \"\"\"\n",
    "        for idx in range(self.header_fields['articleCount']):\n",
    "            # get the Directory Entry\n",
    "            entry = self.read_directory_entry_by_index(idx)\n",
    "            if entry['namespace'] == \"A\":\n",
    "                # add the full url to the entry\n",
    "                entry['fullUrl'] = full_url(entry['namespace'], entry['url'])\n",
    "                yield entry['fullUrl'], entry['title'], idx\n",
    "\n",
    "    def close(self):\n",
    "        self.file.close()\n",
    "\n",
    "    def __exit__(self, *_):\n",
    "        \"\"\"\n",
    "        Ensure the ZIM file is properly closed when the object is destroyed.\n",
    "        \"\"\"\n",
    "        self.close()"
   ]
  },
  {
   "cell_type": "markdown",
   "metadata": {
    "colab_type": "text",
    "id": "GtaYy2_31BzM"
   },
   "source": [
    "### Descargar el modelo de BERT"
   ]
  },
  {
   "cell_type": "code",
   "execution_count": 0,
   "metadata": {
    "ExecuteTime": {
     "end_time": "2019-08-19T21:32:58.393054Z",
     "start_time": "2019-08-19T21:32:56.024872Z"
    },
    "colab": {},
    "colab_type": "code",
    "id": "XJqaqdxb1BzN",
    "outputId": "ed98bda9-b49f-48ad-e756-3fbaa95aceab"
   },
   "outputs": [
    {
     "name": "stderr",
     "output_type": "stream",
     "text": [
      "WARNING: Logging before flag parsing goes to stderr.\n",
      "W0819 23:32:58.338438 140547067238208 deprecation_wrapper.py:119] From bert_repo/tokenization.py:125: The name tf.gfile.GFile is deprecated. Please use tf.io.gfile.GFile instead.\n",
      "\n"
     ]
    }
   ],
   "source": [
    "modelo_de_bert = 'bert_cased_L-12_H-768_A-12/1'  #@param [\"bert_uncased_L-12_H-768_A-12/1\", \"bert_cased_L-12_H-768_A-12/1\", \"bert_uncased_L-24_H-1024_A-16/1\", \"bert_cased_L-24_H-1024_A-16/1\", \"bert_multi_cased_L-12_H-768_A-12/1\"]\n",
    "#modelo_de_bert = 'bert_multi_cased_L-12_H-768_A-12/1'  #@param [\"bert_uncased_L-12_H-768_A-12/1\", \"bert_cased_L-12_H-768_A-12/1\", \"bert_uncased_L-24_H-1024_A-16/1\", \"bert_cased_L-24_H-1024_A-16/1\", \"bert_multi_cased_L-12_H-768_A-12/1\"]\n",
    "bert = hub.Module('https://tfhub.dev/google/' + modelo_de_bert)\n",
    "\n",
    "# instanciar el tokenizador\n",
    "tokenization_info = bert(signature='tokenization_info', as_dict=True)\n",
    "vocab_file, do_lower_case = sess.run([\n",
    "    tokenization_info['vocab_file'],\n",
    "    tokenization_info['do_lower_case'],\n",
    "])\n",
    "tokenizer = tokenization.FullTokenizer(vocab_file=vocab_file,\n",
    "                                       do_lower_case=do_lower_case)"
   ]
  },
  {
   "cell_type": "code",
   "execution_count": 0,
   "metadata": {
    "ExecuteTime": {
     "end_time": "2019-08-19T21:32:58.399534Z",
     "start_time": "2019-08-19T21:32:58.394479Z"
    },
    "colab": {},
    "colab_type": "code",
    "id": "95dgBq2T1BzR"
   },
   "outputs": [],
   "source": [
    "input_ids = tf.placeholder(name='input_ids',\n",
    "                           shape=(batch_size, max_len),\n",
    "                           dtype='int32')\n",
    "input_mask = tf.placeholder(name='input_mask',\n",
    "                            shape=(batch_size, max_len),\n",
    "                            dtype='int32')\n",
    "segment_ids = tf.placeholder(name='segment_ids',\n",
    "                             shape=(batch_size, max_len),\n",
    "                             dtype='int32')"
   ]
  },
  {
   "cell_type": "code",
   "execution_count": 0,
   "metadata": {
    "ExecuteTime": {
     "end_time": "2019-08-19T21:33:20.230108Z",
     "start_time": "2019-08-19T21:33:18.974273Z"
    },
    "colab": {},
    "colab_type": "code",
    "id": "fjpaFpgh1BzV"
   },
   "outputs": [],
   "source": [
    "# instanciar el modelo\n",
    "bert_model = bert(dict(input_ids=input_ids,\n",
    "                       input_mask=input_mask,\n",
    "                       segment_ids=segment_ids),\n",
    "                  signature=\"tokens\",\n",
    "                  as_dict=True)\n",
    "sess.run(tf.global_variables_initializer())"
   ]
  },
  {
   "cell_type": "markdown",
   "metadata": {
    "colab_type": "text",
    "id": "qDyhUI5X1Bza"
   },
   "source": [
    "### Calcular los embedding para todos los artículos de Wikipedia"
   ]
  },
  {
   "cell_type": "code",
   "execution_count": 0,
   "metadata": {
    "ExecuteTime": {
     "end_time": "2019-08-19T21:33:22.767033Z",
     "start_time": "2019-08-19T21:33:22.763135Z"
    },
    "colab": {},
    "colab_type": "code",
    "id": "VC_AEHa41Bzg"
   },
   "outputs": [],
   "source": [
    "get_file(\n",
    "    os.getcwd() + '/wikipedia_en_mathematics_nopic.zim',\n",
    "#    os.getcwd() + '/wikipedia_es_mathematics_nopic.zim',\n",
    "    origin=\n",
    "    'http://download.kiwix.org/zim/wikipedia_en_mathematics_nopic.zim'\n",
    "#    'http://download.kiwix.org/zim/wikipedia_es_mathematics_nopic.zim'\n",
    ")\n",
    "zim_file = ZIMFile('wikipedia_en_mathematics_nopic.zim', 'utf-8')\n",
    "#zim_file = ZIMFile('wikipedia_es_mathematics_nopic.zim', 'utf-8')"
   ]
  },
  {
   "cell_type": "code",
   "execution_count": 0,
   "metadata": {
    "ExecuteTime": {
     "end_time": "2019-08-19T21:33:28.325925Z",
     "start_time": "2019-08-19T21:33:24.293130Z"
    },
    "colab": {},
    "colab_type": "code",
    "id": "x_L4gZNR1Bzl"
   },
   "outputs": [],
   "source": [
    "urls = [\n",
    "    'https://en.wikipedia.org/wiki/' +\n",
    "#    'https://es.wikipedia.org/wiki/' +\n",
    "    zim_file.read_directory_entry_by_index(i)[\"url\"]\n",
    "    for i in range(zim_file.header_fields['articleCount'])\n",
    "]\n",
    "pickle.dump(urls, open('urls.p', 'wb'))"
   ]
  },
  {
   "cell_type": "code",
   "execution_count": 0,
   "metadata": {
    "ExecuteTime": {
     "start_time": "2019-08-19T21:40:50.472Z"
    },
    "colab": {},
    "colab_type": "code",
    "id": "RevP-2Y71Bzr",
    "outputId": "21b7ec19-8452-459b-aa33-523c273ff7e1"
   },
   "outputs": [
    {
     "name": "stdout",
     "output_type": "stream",
     "text": [
      "Read 0 embeddings\n"
     ]
    },
    {
     "data": {
      "application/vnd.jupyter.widget-view+json": {
       "model_id": "6d7c32ebb71045608127006add49d343",
       "version_major": 2,
       "version_minor": 0
      },
      "text/plain": [
       "HBox(children=(IntProgress(value=0, max=8203), HTML(value='')))"
      ]
     },
     "metadata": {
      "tags": []
     },
     "output_type": "display_data"
    }
   ],
   "source": [
    "save_every = 100\n",
    "#embeddings = []\n",
    "embeddings = pickle.load(open('embeddings.p', 'rb'))\n",
    "print(f'Read {len(embeddings * batch_size)} embeddings')\n",
    "\n",
    "for _, i in enumerate(\n",
    "        tqdm_notebook(\n",
    "            range(len(embeddings * batch_size),\n",
    "                  zim_file.header_fields['articleCount'], batch_size))):\n",
    "    texts = []\n",
    "    for j in range(batch_size):\n",
    "        if i + j < zim_file.header_fields['articleCount']:\n",
    "            soup = BeautifulSoup(\n",
    "                zim_file._get_article_by_index(i + j).data, \"lxml\")\n",
    "\n",
    "            # kill all script and style elements\n",
    "            for script in soup([\"script\", \"style\"]):\n",
    "                script.decompose()  # rip it out\n",
    "\n",
    "            # get text\n",
    "            text = soup.get_text()\n",
    "\n",
    "            # break into lines and remove leading and trailing space on each\n",
    "            lines = (line.strip() for line in text.splitlines())\n",
    "\n",
    "            # break multi-headlines into a line each\n",
    "            chunks = (phrase.strip() for line in lines\n",
    "                      for phrase in line.split(\"  \"))\n",
    "\n",
    "            # drop blank lines\n",
    "            texts.append('\\n'.join(chunk for chunk in chunks if chunk))\n",
    "\n",
    "        else:\n",
    "            # añadir unos dummy para completar el último batch\n",
    "            texts.append('')\n",
    "\n",
    "    examples, mask, segment = prepare_inputs_for_bert(texts, max_len)\n",
    "    embeddings.append(\n",
    "        sess.run(bert_model['pooled_output'],\n",
    "                 feed_dict={\n",
    "                     input_ids: examples,\n",
    "                     input_mask: mask,\n",
    "                     segment_ids: segment\n",
    "                 }))\n",
    "\n",
    "    # eliminar documentos sin contenido\n",
    "    for _, text in enumerate(texts):\n",
    "        if len(text.split(' ')) < min_len:\n",
    "            embeddings[-1][_] = np.zeros((embeddings[-1][_].shape[0]))\n",
    "\n",
    "    if (_ + 1) % save_every == 0:\n",
    "        pickle.dump(embeddings, open('embeddings.p', 'wb'))"
   ]
  },
  {
   "cell_type": "markdown",
   "metadata": {
    "colab_type": "text",
    "id": "bqenIlX27_wk"
   },
   "source": [
    "### Guardar los embeddings..."
   ]
  },
  {
   "cell_type": "code",
   "execution_count": 0,
   "metadata": {
    "ExecuteTime": {
     "end_time": "2019-08-19T21:30:50.340680Z",
     "start_time": "2019-08-19T21:30:50.278192Z"
    },
    "colab": {},
    "colab_type": "code",
    "id": "h8TVP7ZW1Bzv"
   },
   "outputs": [],
   "source": [
    "pickle.dump(embeddings, open('embeddings.p', 'wb'))"
   ]
  },
  {
   "cell_type": "markdown",
   "metadata": {
    "colab_type": "text",
    "id": "yvj6Fv6h7vEj"
   },
   "source": [
    "### ... o descargar unos embeddings ya calculados"
   ]
  },
  {
   "cell_type": "code",
   "execution_count": null,
   "metadata": {
    "colab": {
     "base_uri": "https://localhost:8080/",
     "height": 346
    },
    "colab_type": "code",
    "id": "bJhWmV7n7dcB",
    "outputId": "e5b643a8-4776-43ac-bad6-680ec171ceed"
   },
   "outputs": [],
   "source": [
    "# https://docs.google.com/uc?export=download&id=1wRk49hNSCo8kaAIVyC1cAt5ywAe4MWYg\n",
    "!test -e embeddings.p || wget --load-cookies /tmp/cookies.txt \"https://docs.google.com/uc?export=download&confirm=$(wget --quiet --save-cookies /tmp/cookies.txt --keep-session-cookies --no-check-certificate 'https://docs.google.com/uc?export=download&id=1wRk49hNSCo8kaAIVyC1cAt5ywAe4MWYg' -O- | sed -rn 's/.*confirm=([0-9A-Za-z_]+).*/\\1\\n/p')&id=1wRk49hNSCo8kaAIVyC1cAt5ywAe4MWYg\" -O embeddings.p && rm -rf /tmp/cookies.txt\n",
    "\n",
    "# https://docs.google.com/uc?export=download&id=1DCBmuqSTK_N7VhaxxIzyMBvbdOPSqwfX\n",
    "!test -e urls.p || wget --load-cookies /tmp/cookies.txt \"https://docs.google.com/uc?export=download&confirm=$(wget --quiet --save-cookies /tmp/cookies.txt --keep-session-cookies --no-check-certificate 'https://docs.google.com/uc?export=download&id=1DCBmuqSTK_N7VhaxxIzyMBvbdOPSqwfX' -O- | sed -rn 's/.*confirm=([0-9A-Za-z_]+).*/\\1\\n/p')&id=1DCBmuqSTK_N7VhaxxIzyMBvbdOPSqwfX\" -O urls.p && rm -rf /tmp/cookies.txt"
   ]
  },
  {
   "cell_type": "markdown",
   "metadata": {
    "colab_type": "text",
    "id": "DTKkRyN81Bzz"
   },
   "source": [
    "### Probar el motor de búsqueda semántica"
   ]
  },
  {
   "cell_type": "code",
   "execution_count": null,
   "metadata": {
    "ExecuteTime": {
     "end_time": "2019-08-20T18:06:37.312157Z",
     "start_time": "2019-08-20T18:06:37.266355Z"
    },
    "colab": {
     "base_uri": "https://localhost:8080/",
     "height": 207
    },
    "colab_type": "code",
    "id": "aHyNldCY1Bz0",
    "outputId": "7d48fd72-547e-46f3-ecc7-fae521b292d3"
   },
   "outputs": [],
   "source": [
    "wiki_embeddings = np.vstack(pickle.load(open('embeddings.p', 'rb')))\n",
    "print(f'Loaded {wiki_embeddings.shape[1]} embeddings with {wiki_embeddings.shape[0]} dimensions')\n",
    "urls = pickle.load(open('urls.p', 'rb'))"
   ]
  },
  {
   "cell_type": "code",
   "execution_count": 0,
   "metadata": {
    "ExecuteTime": {
     "end_time": "2019-08-19T21:30:56.528191Z",
     "start_time": "2019-08-19T21:30:54.096226Z"
    },
    "colab": {},
    "colab_type": "code",
    "id": "XVO2sVao1Bz6"
   },
   "outputs": [],
   "source": [
    "busqueda = 'the cosine rule'  #@param {type: 'string'}\n",
    "top_n = 10  #@param {type: 'integer'}\n",
    "\n",
    "input_ids, input_mask, segment_ids = prepare_inputs_for_bert([busqueda], max_len)\n",
    "bert_model = bert(dict(input_ids=input_ids,\n",
    "                       input_mask=input_mask,\n",
    "                       segment_ids=segment_ids),\n",
    "                  signature=\"tokens\",\n",
    "                  as_dict=True)\n",
    "sess.run(tf.global_variables_initializer())\n",
    "target_embedding = sess.run(bert_model['pooled_output'])"
   ]
  },
  {
   "cell_type": "code",
   "execution_count": 0,
   "metadata": {
    "ExecuteTime": {
     "end_time": "2019-08-19T21:30:56.664657Z",
     "start_time": "2019-08-19T21:30:56.529688Z"
    },
    "colab": {},
    "colab_type": "code",
    "id": "5fAemsX41Bz-",
    "outputId": "61b29fdf-3d39-4f9b-9803-9e797bd2085e"
   },
   "outputs": [
    {
     "data": {
      "text/html": [
       "<h2>Resultados de la búsqueda <i>What the hell is going on?</i></h2>"
      ],
      "text/plain": [
       "<IPython.core.display.HTML object>"
      ]
     },
     "metadata": {
      "tags": []
     },
     "output_type": "display_data"
    },
    {
     "data": {
      "text/html": [
       "<h3>1. <a href=https://en.wikipedia.org/wiki/%_(m/m)>https://en.wikipedia.org/wiki/%_(m/m)</a> [0.97]</h3>"
      ],
      "text/plain": [
       "<IPython.core.display.HTML object>"
      ]
     },
     "metadata": {
      "tags": []
     },
     "output_type": "display_data"
    },
    {
     "data": {
      "text/html": [
       "<iframe src=https://en.wikipedia.org/wiki/%_(m/m) width=100%></iframe>"
      ],
      "text/plain": [
       "<IPython.core.display.HTML object>"
      ]
     },
     "metadata": {
      "tags": []
     },
     "output_type": "display_data"
    },
    {
     "data": {
      "text/html": [
       "<h3>2. <a href=https://en.wikipedia.org/wiki/(g,K)-module>https://en.wikipedia.org/wiki/(g,K)-module</a> [0.97]</h3>"
      ],
      "text/plain": [
       "<IPython.core.display.HTML object>"
      ]
     },
     "metadata": {
      "tags": []
     },
     "output_type": "display_data"
    },
    {
     "data": {
      "text/html": [
       "<iframe src=https://en.wikipedia.org/wiki/(g,K)-module width=100%></iframe>"
      ],
      "text/plain": [
       "<IPython.core.display.HTML object>"
      ]
     },
     "metadata": {
      "tags": []
     },
     "output_type": "display_data"
    },
    {
     "data": {
      "text/html": [
       "<h3>3. <a href=https://en.wikipedia.org/wiki/!_(math)>https://en.wikipedia.org/wiki/!_(math)</a> [0.96]</h3>"
      ],
      "text/plain": [
       "<IPython.core.display.HTML object>"
      ]
     },
     "metadata": {
      "tags": []
     },
     "output_type": "display_data"
    },
    {
     "data": {
      "text/html": [
       "<iframe src=https://en.wikipedia.org/wiki/!_(math) width=100%></iframe>"
      ],
      "text/plain": [
       "<IPython.core.display.HTML object>"
      ]
     },
     "metadata": {
      "tags": []
     },
     "output_type": "display_data"
    },
    {
     "data": {
      "text/html": [
       "<h3>4. <a href=https://en.wikipedia.org/wiki/0-dimentional>https://en.wikipedia.org/wiki/0-dimentional</a> [0.96]</h3>"
      ],
      "text/plain": [
       "<IPython.core.display.HTML object>"
      ]
     },
     "metadata": {
      "tags": []
     },
     "output_type": "display_data"
    },
    {
     "data": {
      "text/html": [
       "<iframe src=https://en.wikipedia.org/wiki/0-dimentional width=100%></iframe>"
      ],
      "text/plain": [
       "<IPython.core.display.HTML object>"
      ]
     },
     "metadata": {
      "tags": []
     },
     "output_type": "display_data"
    },
    {
     "data": {
      "text/html": [
       "<h3>5. <a href=https://en.wikipedia.org/wiki/0-dimentional_space>https://en.wikipedia.org/wiki/0-dimentional_space</a> [0.96]</h3>"
      ],
      "text/plain": [
       "<IPython.core.display.HTML object>"
      ]
     },
     "metadata": {
      "tags": []
     },
     "output_type": "display_data"
    },
    {
     "data": {
      "text/html": [
       "<iframe src=https://en.wikipedia.org/wiki/0-dimentional_space width=100%></iframe>"
      ],
      "text/plain": [
       "<IPython.core.display.HTML object>"
      ]
     },
     "metadata": {
      "tags": []
     },
     "output_type": "display_data"
    },
    {
     "data": {
      "text/html": [
       "<h3>6. <a href=https://en.wikipedia.org/wiki/0-polytope>https://en.wikipedia.org/wiki/0-polytope</a> [0.96]</h3>"
      ],
      "text/plain": [
       "<IPython.core.display.HTML object>"
      ]
     },
     "metadata": {
      "tags": []
     },
     "output_type": "display_data"
    },
    {
     "data": {
      "text/html": [
       "<iframe src=https://en.wikipedia.org/wiki/0-polytope width=100%></iframe>"
      ],
      "text/plain": [
       "<IPython.core.display.HTML object>"
      ]
     },
     "metadata": {
      "tags": []
     },
     "output_type": "display_data"
    },
    {
     "data": {
      "text/html": [
       "<h3>7. <a href=https://en.wikipedia.org/wiki/\"Fractal_derivative\">https://en.wikipedia.org/wiki/\"Fractal_derivative\"</a> [0.96]</h3>"
      ],
      "text/plain": [
       "<IPython.core.display.HTML object>"
      ]
     },
     "metadata": {
      "tags": []
     },
     "output_type": "display_data"
    },
    {
     "data": {
      "text/html": [
       "<iframe src=https://en.wikipedia.org/wiki/\"Fractal_derivative\" width=100%></iframe>"
      ],
      "text/plain": [
       "<IPython.core.display.HTML object>"
      ]
     },
     "metadata": {
      "tags": []
     },
     "output_type": "display_data"
    },
    {
     "data": {
      "text/html": [
       "<h3>8. <a href=https://en.wikipedia.org/wiki/0-inversive_semigroup>https://en.wikipedia.org/wiki/0-inversive_semigroup</a> [0.96]</h3>"
      ],
      "text/plain": [
       "<IPython.core.display.HTML object>"
      ]
     },
     "metadata": {
      "tags": []
     },
     "output_type": "display_data"
    },
    {
     "data": {
      "text/html": [
       "<iframe src=https://en.wikipedia.org/wiki/0-inversive_semigroup width=100%></iframe>"
      ],
      "text/plain": [
       "<IPython.core.display.HTML object>"
      ]
     },
     "metadata": {
      "tags": []
     },
     "output_type": "display_data"
    },
    {
     "data": {
      "text/html": [
       "<h3>9. <a href=https://en.wikipedia.org/wiki/0-sharp>https://en.wikipedia.org/wiki/0-sharp</a> [0.96]</h3>"
      ],
      "text/plain": [
       "<IPython.core.display.HTML object>"
      ]
     },
     "metadata": {
      "tags": []
     },
     "output_type": "display_data"
    },
    {
     "data": {
      "text/html": [
       "<iframe src=https://en.wikipedia.org/wiki/0-sharp width=100%></iframe>"
      ],
      "text/plain": [
       "<IPython.core.display.HTML object>"
      ]
     },
     "metadata": {
      "tags": []
     },
     "output_type": "display_data"
    },
    {
     "data": {
      "text/html": [
       "<h3>10. <a href=https://en.wikipedia.org/wiki/0-1_integer_program>https://en.wikipedia.org/wiki/0-1_integer_program</a> [0.96]</h3>"
      ],
      "text/plain": [
       "<IPython.core.display.HTML object>"
      ]
     },
     "metadata": {
      "tags": []
     },
     "output_type": "display_data"
    },
    {
     "data": {
      "text/html": [
       "<iframe src=https://en.wikipedia.org/wiki/0-1_integer_program width=100%></iframe>"
      ],
      "text/plain": [
       "<IPython.core.display.HTML object>"
      ]
     },
     "metadata": {
      "tags": []
     },
     "output_type": "display_data"
    },
    {
     "data": {
      "text/html": [
       "<h3>11. <a href=https://en.wikipedia.org/wiki/0-1_integer_programming>https://en.wikipedia.org/wiki/0-1_integer_programming</a> [0.96]</h3>"
      ],
      "text/plain": [
       "<IPython.core.display.HTML object>"
      ]
     },
     "metadata": {
      "tags": []
     },
     "output_type": "display_data"
    },
    {
     "data": {
      "text/html": [
       "<iframe src=https://en.wikipedia.org/wiki/0-1_integer_programming width=100%></iframe>"
      ],
      "text/plain": [
       "<IPython.core.display.HTML object>"
      ]
     },
     "metadata": {
      "tags": []
     },
     "output_type": "display_data"
    },
    {
     "data": {
      "text/html": [
       "<h3>12. <a href=https://en.wikipedia.org/wiki/0-1_integer_programs>https://en.wikipedia.org/wiki/0-1_integer_programs</a> [0.96]</h3>"
      ],
      "text/plain": [
       "<IPython.core.display.HTML object>"
      ]
     },
     "metadata": {
      "tags": []
     },
     "output_type": "display_data"
    },
    {
     "data": {
      "text/html": [
       "<iframe src=https://en.wikipedia.org/wiki/0-1_integer_programs width=100%></iframe>"
      ],
      "text/plain": [
       "<IPython.core.display.HTML object>"
      ]
     },
     "metadata": {
      "tags": []
     },
     "output_type": "display_data"
    },
    {
     "data": {
      "text/html": [
       "<h3>13. <a href=https://en.wikipedia.org/wiki/0-1_linear_programming>https://en.wikipedia.org/wiki/0-1_linear_programming</a> [0.96]</h3>"
      ],
      "text/plain": [
       "<IPython.core.display.HTML object>"
      ]
     },
     "metadata": {
      "tags": []
     },
     "output_type": "display_data"
    },
    {
     "data": {
      "text/html": [
       "<iframe src=https://en.wikipedia.org/wiki/0-1_linear_programming width=100%></iframe>"
      ],
      "text/plain": [
       "<IPython.core.display.HTML object>"
      ]
     },
     "metadata": {
      "tags": []
     },
     "output_type": "display_data"
    },
    {
     "data": {
      "text/html": [
       "<h3>14. <a href=https://en.wikipedia.org/wiki/(7,2)-torus_knot>https://en.wikipedia.org/wiki/(7,2)-torus_knot</a> [0.96]</h3>"
      ],
      "text/plain": [
       "<IPython.core.display.HTML object>"
      ]
     },
     "metadata": {
      "tags": []
     },
     "output_type": "display_data"
    },
    {
     "data": {
      "text/html": [
       "<iframe src=https://en.wikipedia.org/wiki/(7,2)-torus_knot width=100%></iframe>"
      ],
      "text/plain": [
       "<IPython.core.display.HTML object>"
      ]
     },
     "metadata": {
      "tags": []
     },
     "output_type": "display_data"
    },
    {
     "data": {
      "text/html": [
       "<h3>15. <a href=https://en.wikipedia.org/wiki/(Infinity,_1)-category>https://en.wikipedia.org/wiki/(Infinity,_1)-category</a> [0.96]</h3>"
      ],
      "text/plain": [
       "<IPython.core.display.HTML object>"
      ]
     },
     "metadata": {
      "tags": []
     },
     "output_type": "display_data"
    },
    {
     "data": {
      "text/html": [
       "<iframe src=https://en.wikipedia.org/wiki/(Infinity,_1)-category width=100%></iframe>"
      ],
      "text/plain": [
       "<IPython.core.display.HTML object>"
      ]
     },
     "metadata": {
      "tags": []
     },
     "output_type": "display_data"
    },
    {
     "data": {
      "text/html": [
       "<h3>16. <a href=https://en.wikipedia.org/wiki/(infinity,1)-category>https://en.wikipedia.org/wiki/(infinity,1)-category</a> [0.96]</h3>"
      ],
      "text/plain": [
       "<IPython.core.display.HTML object>"
      ]
     },
     "metadata": {
      "tags": []
     },
     "output_type": "display_data"
    },
    {
     "data": {
      "text/html": [
       "<iframe src=https://en.wikipedia.org/wiki/(infinity,1)-category width=100%></iframe>"
      ],
      "text/plain": [
       "<IPython.core.display.HTML object>"
      ]
     },
     "metadata": {
      "tags": []
     },
     "output_type": "display_data"
    },
    {
     "data": {
      "text/html": [
       "<h3>17. <a href=https://en.wikipedia.org/wiki/(infinity,1)_category>https://en.wikipedia.org/wiki/(infinity,1)_category</a> [0.96]</h3>"
      ],
      "text/plain": [
       "<IPython.core.display.HTML object>"
      ]
     },
     "metadata": {
      "tags": []
     },
     "output_type": "display_data"
    },
    {
     "data": {
      "text/html": [
       "<iframe src=https://en.wikipedia.org/wiki/(infinity,1)_category width=100%></iframe>"
      ],
      "text/plain": [
       "<IPython.core.display.HTML object>"
      ]
     },
     "metadata": {
      "tags": []
     },
     "output_type": "display_data"
    },
    {
     "data": {
      "text/html": [
       "<h3>18. <a href=https://en.wikipedia.org/wiki/(infinity,_1)-category>https://en.wikipedia.org/wiki/(infinity,_1)-category</a> [0.96]</h3>"
      ],
      "text/plain": [
       "<IPython.core.display.HTML object>"
      ]
     },
     "metadata": {
      "tags": []
     },
     "output_type": "display_data"
    },
    {
     "data": {
      "text/html": [
       "<iframe src=https://en.wikipedia.org/wiki/(infinity,_1)-category width=100%></iframe>"
      ],
      "text/plain": [
       "<IPython.core.display.HTML object>"
      ]
     },
     "metadata": {
      "tags": []
     },
     "output_type": "display_data"
    },
    {
     "data": {
      "text/html": [
       "<h3>19. <a href=https://en.wikipedia.org/wiki/(∞,1)-category>https://en.wikipedia.org/wiki/(∞,1)-category</a> [0.96]</h3>"
      ],
      "text/plain": [
       "<IPython.core.display.HTML object>"
      ]
     },
     "metadata": {
      "tags": []
     },
     "output_type": "display_data"
    },
    {
     "data": {
      "text/html": [
       "<iframe src=https://en.wikipedia.org/wiki/(∞,1)-category width=100%></iframe>"
      ],
      "text/plain": [
       "<IPython.core.display.HTML object>"
      ]
     },
     "metadata": {
      "tags": []
     },
     "output_type": "display_data"
    },
    {
     "data": {
      "text/html": [
       "<h3>20. <a href=https://en.wikipedia.org/wiki/(∞,1)_category>https://en.wikipedia.org/wiki/(∞,1)_category</a> [0.96]</h3>"
      ],
      "text/plain": [
       "<IPython.core.display.HTML object>"
      ]
     },
     "metadata": {
      "tags": []
     },
     "output_type": "display_data"
    },
    {
     "data": {
      "text/html": [
       "<iframe src=https://en.wikipedia.org/wiki/(∞,1)_category width=100%></iframe>"
      ],
      "text/plain": [
       "<IPython.core.display.HTML object>"
      ]
     },
     "metadata": {
      "tags": []
     },
     "output_type": "display_data"
    },
    {
     "data": {
      "text/html": [
       "<h3>21. <a href=https://en.wikipedia.org/wiki/(∞,_1)-category>https://en.wikipedia.org/wiki/(∞,_1)-category</a> [0.96]</h3>"
      ],
      "text/plain": [
       "<IPython.core.display.HTML object>"
      ]
     },
     "metadata": {
      "tags": []
     },
     "output_type": "display_data"
    },
    {
     "data": {
      "text/html": [
       "<iframe src=https://en.wikipedia.org/wiki/(∞,_1)-category width=100%></iframe>"
      ],
      "text/plain": [
       "<IPython.core.display.HTML object>"
      ]
     },
     "metadata": {
      "tags": []
     },
     "output_type": "display_data"
    },
    {
     "data": {
      "text/html": [
       "<h3>22. <a href=https://en.wikipedia.org/wiki//0>https://en.wikipedia.org/wiki//0</a> [0.96]</h3>"
      ],
      "text/plain": [
       "<IPython.core.display.HTML object>"
      ]
     },
     "metadata": {
      "tags": []
     },
     "output_type": "display_data"
    },
    {
     "data": {
      "text/html": [
       "<iframe src=https://en.wikipedia.org/wiki//0 width=100%></iframe>"
      ],
      "text/plain": [
       "<IPython.core.display.HTML object>"
      ]
     },
     "metadata": {
      "tags": []
     },
     "output_type": "display_data"
    },
    {
     "data": {
      "text/html": [
       "<h3>23. <a href=https://en.wikipedia.org/wiki/0-face>https://en.wikipedia.org/wiki/0-face</a> [0.95]</h3>"
      ],
      "text/plain": [
       "<IPython.core.display.HTML object>"
      ]
     },
     "metadata": {
      "tags": []
     },
     "output_type": "display_data"
    },
    {
     "data": {
      "text/html": [
       "<iframe src=https://en.wikipedia.org/wiki/0-face width=100%></iframe>"
      ],
      "text/plain": [
       "<IPython.core.display.HTML object>"
      ]
     },
     "metadata": {
      "tags": []
     },
     "output_type": "display_data"
    },
    {
     "data": {
      "text/html": [
       "<h3>24. <a href=https://en.wikipedia.org/wiki/s/css_modules/mobile_main_page.css>https://en.wikipedia.org/wiki/s/css_modules/mobile_main_page.css</a> [0.95]</h3>"
      ],
      "text/plain": [
       "<IPython.core.display.HTML object>"
      ]
     },
     "metadata": {
      "tags": []
     },
     "output_type": "display_data"
    },
    {
     "data": {
      "text/html": [
       "<iframe src=https://en.wikipedia.org/wiki/s/css_modules/mobile_main_page.css width=100%></iframe>"
      ],
      "text/plain": [
       "<IPython.core.display.HTML object>"
      ]
     },
     "metadata": {
      "tags": []
     },
     "output_type": "display_data"
    },
    {
     "data": {
      "text/html": [
       "<h3>25. <a href=https://en.wikipedia.org/wiki/0-1_Knapsack_problem>https://en.wikipedia.org/wiki/0-1_Knapsack_problem</a> [0.95]</h3>"
      ],
      "text/plain": [
       "<IPython.core.display.HTML object>"
      ]
     },
     "metadata": {
      "tags": []
     },
     "output_type": "display_data"
    },
    {
     "data": {
      "text/html": [
       "<iframe src=https://en.wikipedia.org/wiki/0-1_Knapsack_problem width=100%></iframe>"
      ],
      "text/plain": [
       "<IPython.core.display.HTML object>"
      ]
     },
     "metadata": {
      "tags": []
     },
     "output_type": "display_data"
    },
    {
     "data": {
      "text/html": [
       "<h3>26. <a href=https://en.wikipedia.org/wiki/0-1_knapsack_problem>https://en.wikipedia.org/wiki/0-1_knapsack_problem</a> [0.95]</h3>"
      ],
      "text/plain": [
       "<IPython.core.display.HTML object>"
      ]
     },
     "metadata": {
      "tags": []
     },
     "output_type": "display_data"
    },
    {
     "data": {
      "text/html": [
       "<iframe src=https://en.wikipedia.org/wiki/0-1_knapsack_problem width=100%></iframe>"
      ],
      "text/plain": [
       "<IPython.core.display.HTML object>"
      ]
     },
     "metadata": {
      "tags": []
     },
     "output_type": "display_data"
    },
    {
     "data": {
      "text/html": [
       "<h3>27. <a href=https://en.wikipedia.org/wiki/+_(arithmetic)>https://en.wikipedia.org/wiki/+_(arithmetic)</a> [0.95]</h3>"
      ],
      "text/plain": [
       "<IPython.core.display.HTML object>"
      ]
     },
     "metadata": {
      "tags": []
     },
     "output_type": "display_data"
    },
    {
     "data": {
      "text/html": [
       "<iframe src=https://en.wikipedia.org/wiki/+_(arithmetic) width=100%></iframe>"
      ],
      "text/plain": [
       "<IPython.core.display.HTML object>"
      ]
     },
     "metadata": {
      "tags": []
     },
     "output_type": "display_data"
    },
    {
     "data": {
      "text/html": [
       "<h3>28. <a href=https://en.wikipedia.org/wiki/+_(math)>https://en.wikipedia.org/wiki/+_(math)</a> [0.95]</h3>"
      ],
      "text/plain": [
       "<IPython.core.display.HTML object>"
      ]
     },
     "metadata": {
      "tags": []
     },
     "output_type": "display_data"
    },
    {
     "data": {
      "text/html": [
       "<iframe src=https://en.wikipedia.org/wiki/+_(math) width=100%></iframe>"
      ],
      "text/plain": [
       "<IPython.core.display.HTML object>"
      ]
     },
     "metadata": {
      "tags": []
     },
     "output_type": "display_data"
    },
    {
     "data": {
      "text/html": [
       "<h3>29. <a href=https://en.wikipedia.org/wiki/+_(mathematics)>https://en.wikipedia.org/wiki/+_(mathematics)</a> [0.95]</h3>"
      ],
      "text/plain": [
       "<IPython.core.display.HTML object>"
      ]
     },
     "metadata": {
      "tags": []
     },
     "output_type": "display_data"
    },
    {
     "data": {
      "text/html": [
       "<iframe src=https://en.wikipedia.org/wiki/+_(mathematics) width=100%></iframe>"
      ],
      "text/plain": [
       "<IPython.core.display.HTML object>"
      ]
     },
     "metadata": {
      "tags": []
     },
     "output_type": "display_data"
    },
    {
     "data": {
      "text/html": [
       "<h3>30. <a href=https://en.wikipedia.org/wiki/+_(maths)>https://en.wikipedia.org/wiki/+_(maths)</a> [0.95]</h3>"
      ],
      "text/plain": [
       "<IPython.core.display.HTML object>"
      ]
     },
     "metadata": {
      "tags": []
     },
     "output_type": "display_data"
    },
    {
     "data": {
      "text/html": [
       "<iframe src=https://en.wikipedia.org/wiki/+_(maths) width=100%></iframe>"
      ],
      "text/plain": [
       "<IPython.core.display.HTML object>"
      ]
     },
     "metadata": {
      "tags": []
     },
     "output_type": "display_data"
    },
    {
     "data": {
      "text/html": [
       "<h3>31. <a href=https://en.wikipedia.org/wiki/(2,3)-torus_knot>https://en.wikipedia.org/wiki/(2,3)-torus_knot</a> [0.95]</h3>"
      ],
      "text/plain": [
       "<IPython.core.display.HTML object>"
      ]
     },
     "metadata": {
      "tags": []
     },
     "output_type": "display_data"
    },
    {
     "data": {
      "text/html": [
       "<iframe src=https://en.wikipedia.org/wiki/(2,3)-torus_knot width=100%></iframe>"
      ],
      "text/plain": [
       "<IPython.core.display.HTML object>"
      ]
     },
     "metadata": {
      "tags": []
     },
     "output_type": "display_data"
    },
    {
     "data": {
      "text/html": [
       "<h3>32. <a href=https://en.wikipedia.org/wiki/(2,3)_torus_knot>https://en.wikipedia.org/wiki/(2,3)_torus_knot</a> [0.95]</h3>"
      ],
      "text/plain": [
       "<IPython.core.display.HTML object>"
      ]
     },
     "metadata": {
      "tags": []
     },
     "output_type": "display_data"
    },
    {
     "data": {
      "text/html": [
       "<iframe src=https://en.wikipedia.org/wiki/(2,3)_torus_knot width=100%></iframe>"
      ],
      "text/plain": [
       "<IPython.core.display.HTML object>"
      ]
     },
     "metadata": {
      "tags": []
     },
     "output_type": "display_data"
    },
    {
     "data": {
      "text/html": [
       "<h3>33. <a href=https://en.wikipedia.org/wiki/(3,2)-torus_knot>https://en.wikipedia.org/wiki/(3,2)-torus_knot</a> [0.95]</h3>"
      ],
      "text/plain": [
       "<IPython.core.display.HTML object>"
      ]
     },
     "metadata": {
      "tags": []
     },
     "output_type": "display_data"
    },
    {
     "data": {
      "text/html": [
       "<iframe src=https://en.wikipedia.org/wiki/(3,2)-torus_knot width=100%></iframe>"
      ],
      "text/plain": [
       "<IPython.core.display.HTML object>"
      ]
     },
     "metadata": {
      "tags": []
     },
     "output_type": "display_data"
    },
    {
     "data": {
      "text/html": [
       "<h3>34. <a href=https://en.wikipedia.org/wiki/(−1,_−1,_−1)_pretzel_knot>https://en.wikipedia.org/wiki/(−1,_−1,_−1)_pretzel_knot</a> [0.95]</h3>"
      ],
      "text/plain": [
       "<IPython.core.display.HTML object>"
      ]
     },
     "metadata": {
      "tags": []
     },
     "output_type": "display_data"
    },
    {
     "data": {
      "text/html": [
       "<iframe src=https://en.wikipedia.org/wiki/(−1,_−1,_−1)_pretzel_knot width=100%></iframe>"
      ],
      "text/plain": [
       "<IPython.core.display.HTML object>"
      ]
     },
     "metadata": {
      "tags": []
     },
     "output_type": "display_data"
    },
    {
     "data": {
      "text/html": [
       "<h3>35. <a href=https://en.wikipedia.org/wiki/(mathematical_constant)>https://en.wikipedia.org/wiki/(mathematical_constant)</a> [0.95]</h3>"
      ],
      "text/plain": [
       "<IPython.core.display.HTML object>"
      ]
     },
     "metadata": {
      "tags": []
     },
     "output_type": "display_data"
    },
    {
     "data": {
      "text/html": [
       "<iframe src=https://en.wikipedia.org/wiki/(mathematical_constant) width=100%></iframe>"
      ],
      "text/plain": [
       "<IPython.core.display.HTML object>"
      ]
     },
     "metadata": {
      "tags": []
     },
     "output_type": "display_data"
    },
    {
     "data": {
      "text/html": [
       "<h3>36. <a href=https://en.wikipedia.org/wiki/0!>https://en.wikipedia.org/wiki/0!</a> [0.95]</h3>"
      ],
      "text/plain": [
       "<IPython.core.display.HTML object>"
      ]
     },
     "metadata": {
      "tags": []
     },
     "output_type": "display_data"
    },
    {
     "data": {
      "text/html": [
       "<iframe src=https://en.wikipedia.org/wiki/0! width=100%></iframe>"
      ],
      "text/plain": [
       "<IPython.core.display.HTML object>"
      ]
     },
     "metadata": {
      "tags": []
     },
     "output_type": "display_data"
    },
    {
     "data": {
      "text/html": [
       "<h3>37. <a href=https://en.wikipedia.org/wiki/.rle>https://en.wikipedia.org/wiki/.rle</a> [0.95]</h3>"
      ],
      "text/plain": [
       "<IPython.core.display.HTML object>"
      ]
     },
     "metadata": {
      "tags": []
     },
     "output_type": "display_data"
    },
    {
     "data": {
      "text/html": [
       "<iframe src=https://en.wikipedia.org/wiki/.rle width=100%></iframe>"
      ],
      "text/plain": [
       "<IPython.core.display.HTML object>"
      ]
     },
     "metadata": {
      "tags": []
     },
     "output_type": "display_data"
    },
    {
     "data": {
      "text/html": [
       "<h3>38. <a href=https://en.wikipedia.org/wiki/(2,1)-Pascal_triangle>https://en.wikipedia.org/wiki/(2,1)-Pascal_triangle</a> [0.95]</h3>"
      ],
      "text/plain": [
       "<IPython.core.display.HTML object>"
      ]
     },
     "metadata": {
      "tags": []
     },
     "output_type": "display_data"
    },
    {
     "data": {
      "text/html": [
       "<iframe src=https://en.wikipedia.org/wiki/(2,1)-Pascal_triangle width=100%></iframe>"
      ],
      "text/plain": [
       "<IPython.core.display.HTML object>"
      ]
     },
     "metadata": {
      "tags": []
     },
     "output_type": "display_data"
    },
    {
     "data": {
      "text/html": [
       "<h3>39. <a href=https://en.wikipedia.org/wiki/-163>https://en.wikipedia.org/wiki/-163</a> [0.95]</h3>"
      ],
      "text/plain": [
       "<IPython.core.display.HTML object>"
      ]
     },
     "metadata": {
      "tags": []
     },
     "output_type": "display_data"
    },
    {
     "data": {
      "text/html": [
       "<iframe src=https://en.wikipedia.org/wiki/-163 width=100%></iframe>"
      ],
      "text/plain": [
       "<IPython.core.display.HTML object>"
      ]
     },
     "metadata": {
      "tags": []
     },
     "output_type": "display_data"
    },
    {
     "data": {
      "text/html": [
       "<h3>40. <a href=https://en.wikipedia.org/wiki/*-regular_semigroup>https://en.wikipedia.org/wiki/*-regular_semigroup</a> [0.95]</h3>"
      ],
      "text/plain": [
       "<IPython.core.display.HTML object>"
      ]
     },
     "metadata": {
      "tags": []
     },
     "output_type": "display_data"
    },
    {
     "data": {
      "text/html": [
       "<iframe src=https://en.wikipedia.org/wiki/*-regular_semigroup width=100%></iframe>"
      ],
      "text/plain": [
       "<IPython.core.display.HTML object>"
      ]
     },
     "metadata": {
      "tags": []
     },
     "output_type": "display_data"
    },
    {
     "data": {
      "text/html": [
       "<h3>41. <a href=https://en.wikipedia.org/wiki/*-semigroup>https://en.wikipedia.org/wiki/*-semigroup</a> [0.95]</h3>"
      ],
      "text/plain": [
       "<IPython.core.display.HTML object>"
      ]
     },
     "metadata": {
      "tags": []
     },
     "output_type": "display_data"
    },
    {
     "data": {
      "text/html": [
       "<iframe src=https://en.wikipedia.org/wiki/*-semigroup width=100%></iframe>"
      ],
      "text/plain": [
       "<IPython.core.display.HTML object>"
      ]
     },
     "metadata": {
      "tags": []
     },
     "output_type": "display_data"
    },
    {
     "data": {
      "text/html": [
       "<h3>42. <a href=https://en.wikipedia.org/wiki/+_construction>https://en.wikipedia.org/wiki/+_construction</a> [0.95]</h3>"
      ],
      "text/plain": [
       "<IPython.core.display.HTML object>"
      ]
     },
     "metadata": {
      "tags": []
     },
     "output_type": "display_data"
    },
    {
     "data": {
      "text/html": [
       "<iframe src=https://en.wikipedia.org/wiki/+_construction width=100%></iframe>"
      ],
      "text/plain": [
       "<IPython.core.display.HTML object>"
      ]
     },
     "metadata": {
      "tags": []
     },
     "output_type": "display_data"
    },
    {
     "data": {
      "text/html": [
       "<h3>43. <a href=https://en.wikipedia.org/wiki/(ε,_δ)-definition_of_limit>https://en.wikipedia.org/wiki/(ε,_δ)-definition_of_limit</a> [0.95]</h3>"
      ],
      "text/plain": [
       "<IPython.core.display.HTML object>"
      ]
     },
     "metadata": {
      "tags": []
     },
     "output_type": "display_data"
    },
    {
     "data": {
      "text/html": [
       "<iframe src=https://en.wikipedia.org/wiki/(ε,_δ)-definition_of_limit width=100%></iframe>"
      ],
      "text/plain": [
       "<IPython.core.display.HTML object>"
      ]
     },
     "metadata": {
      "tags": []
     },
     "output_type": "display_data"
    },
    {
     "data": {
      "text/html": [
       "<h3>44. <a href=https://en.wikipedia.org/wiki/(ε,δ)-definition>https://en.wikipedia.org/wiki/(ε,δ)-definition</a> [0.95]</h3>"
      ],
      "text/plain": [
       "<IPython.core.display.HTML object>"
      ]
     },
     "metadata": {
      "tags": []
     },
     "output_type": "display_data"
    },
    {
     "data": {
      "text/html": [
       "<iframe src=https://en.wikipedia.org/wiki/(ε,δ)-definition width=100%></iframe>"
      ],
      "text/plain": [
       "<IPython.core.display.HTML object>"
      ]
     },
     "metadata": {
      "tags": []
     },
     "output_type": "display_data"
    },
    {
     "data": {
      "text/html": [
       "<h3>45. <a href=https://en.wikipedia.org/wiki/\"complete_class_theorem\">https://en.wikipedia.org/wiki/\"complete_class_theorem\"</a> [0.94]</h3>"
      ],
      "text/plain": [
       "<IPython.core.display.HTML object>"
      ]
     },
     "metadata": {
      "tags": []
     },
     "output_type": "display_data"
    },
    {
     "data": {
      "text/html": [
       "<iframe src=https://en.wikipedia.org/wiki/\"complete_class_theorem\" width=100%></iframe>"
      ],
      "text/plain": [
       "<IPython.core.display.HTML object>"
      ]
     },
     "metadata": {
      "tags": []
     },
     "output_type": "display_data"
    },
    {
     "data": {
      "text/html": [
       "<h3>46. <a href=https://en.wikipedia.org/wiki/(p,_q)-shuffle>https://en.wikipedia.org/wiki/(p,_q)-shuffle</a> [0.94]</h3>"
      ],
      "text/plain": [
       "<IPython.core.display.HTML object>"
      ]
     },
     "metadata": {
      "tags": []
     },
     "output_type": "display_data"
    },
    {
     "data": {
      "text/html": [
       "<iframe src=https://en.wikipedia.org/wiki/(p,_q)-shuffle width=100%></iframe>"
      ],
      "text/plain": [
       "<IPython.core.display.HTML object>"
      ]
     },
     "metadata": {
      "tags": []
     },
     "output_type": "display_data"
    },
    {
     "data": {
      "text/html": [
       "<h3>47. <a href=https://en.wikipedia.org/wiki/(p,q)_shuffle>https://en.wikipedia.org/wiki/(p,q)_shuffle</a> [0.94]</h3>"
      ],
      "text/plain": [
       "<IPython.core.display.HTML object>"
      ]
     },
     "metadata": {
      "tags": []
     },
     "output_type": "display_data"
    },
    {
     "data": {
      "text/html": [
       "<iframe src=https://en.wikipedia.org/wiki/(p,q)_shuffle width=100%></iframe>"
      ],
      "text/plain": [
       "<IPython.core.display.HTML object>"
      ]
     },
     "metadata": {
      "tags": []
     },
     "output_type": "display_data"
    },
    {
     "data": {
      "text/html": [
       "<h3>48. <a href=https://en.wikipedia.org/wiki/(2,3,7)_triangle_group>https://en.wikipedia.org/wiki/(2,3,7)_triangle_group</a> [0.94]</h3>"
      ],
      "text/plain": [
       "<IPython.core.display.HTML object>"
      ]
     },
     "metadata": {
      "tags": []
     },
     "output_type": "display_data"
    },
    {
     "data": {
      "text/html": [
       "<iframe src=https://en.wikipedia.org/wiki/(2,3,7)_triangle_group width=100%></iframe>"
      ],
      "text/plain": [
       "<IPython.core.display.HTML object>"
      ]
     },
     "metadata": {
      "tags": []
     },
     "output_type": "display_data"
    },
    {
     "data": {
      "text/html": [
       "<h3>49. <a href=https://en.wikipedia.org/wiki/.(9)>https://en.wikipedia.org/wiki/.(9)</a> [0.94]</h3>"
      ],
      "text/plain": [
       "<IPython.core.display.HTML object>"
      ]
     },
     "metadata": {
      "tags": []
     },
     "output_type": "display_data"
    },
    {
     "data": {
      "text/html": [
       "<iframe src=https://en.wikipedia.org/wiki/.(9) width=100%></iframe>"
      ],
      "text/plain": [
       "<IPython.core.display.HTML object>"
      ]
     },
     "metadata": {
      "tags": []
     },
     "output_type": "display_data"
    },
    {
     "data": {
      "text/html": [
       "<h3>50. <a href=https://en.wikipedia.org/wiki/.9...>https://en.wikipedia.org/wiki/.9...</a> [0.94]</h3>"
      ],
      "text/plain": [
       "<IPython.core.display.HTML object>"
      ]
     },
     "metadata": {
      "tags": []
     },
     "output_type": "display_data"
    },
    {
     "data": {
      "text/html": [
       "<iframe src=https://en.wikipedia.org/wiki/.9... width=100%></iframe>"
      ],
      "text/plain": [
       "<IPython.core.display.HTML object>"
      ]
     },
     "metadata": {
      "tags": []
     },
     "output_type": "display_data"
    },
    {
     "data": {
      "text/html": [
       "<h3>51. <a href=https://en.wikipedia.org/wiki/.9..._=_1>https://en.wikipedia.org/wiki/.9..._=_1</a> [0.94]</h3>"
      ],
      "text/plain": [
       "<IPython.core.display.HTML object>"
      ]
     },
     "metadata": {
      "tags": []
     },
     "output_type": "display_data"
    },
    {
     "data": {
      "text/html": [
       "<iframe src=https://en.wikipedia.org/wiki/.9..._=_1 width=100%></iframe>"
      ],
      "text/plain": [
       "<IPython.core.display.HTML object>"
      ]
     },
     "metadata": {
      "tags": []
     },
     "output_type": "display_data"
    },
    {
     "data": {
      "text/html": [
       "<h3>52. <a href=https://en.wikipedia.org/wiki/.99...>https://en.wikipedia.org/wiki/.99...</a> [0.94]</h3>"
      ],
      "text/plain": [
       "<IPython.core.display.HTML object>"
      ]
     },
     "metadata": {
      "tags": []
     },
     "output_type": "display_data"
    },
    {
     "data": {
      "text/html": [
       "<iframe src=https://en.wikipedia.org/wiki/.99... width=100%></iframe>"
      ],
      "text/plain": [
       "<IPython.core.display.HTML object>"
      ]
     },
     "metadata": {
      "tags": []
     },
     "output_type": "display_data"
    },
    {
     "data": {
      "text/html": [
       "<h3>53. <a href=https://en.wikipedia.org/wiki/.99..._=_1>https://en.wikipedia.org/wiki/.99..._=_1</a> [0.94]</h3>"
      ],
      "text/plain": [
       "<IPython.core.display.HTML object>"
      ]
     },
     "metadata": {
      "tags": []
     },
     "output_type": "display_data"
    },
    {
     "data": {
      "text/html": [
       "<iframe src=https://en.wikipedia.org/wiki/.99..._=_1 width=100%></iframe>"
      ],
      "text/plain": [
       "<IPython.core.display.HTML object>"
      ]
     },
     "metadata": {
      "tags": []
     },
     "output_type": "display_data"
    },
    {
     "data": {
      "text/html": [
       "<h3>54. <a href=https://en.wikipedia.org/wiki/.999>https://en.wikipedia.org/wiki/.999</a> [0.94]</h3>"
      ],
      "text/plain": [
       "<IPython.core.display.HTML object>"
      ]
     },
     "metadata": {
      "tags": []
     },
     "output_type": "display_data"
    },
    {
     "data": {
      "text/html": [
       "<iframe src=https://en.wikipedia.org/wiki/.999 width=100%></iframe>"
      ],
      "text/plain": [
       "<IPython.core.display.HTML object>"
      ]
     },
     "metadata": {
      "tags": []
     },
     "output_type": "display_data"
    },
    {
     "data": {
      "text/html": [
       "<h3>55. <a href=https://en.wikipedia.org/wiki/.999.>https://en.wikipedia.org/wiki/.999.</a> [0.94]</h3>"
      ],
      "text/plain": [
       "<IPython.core.display.HTML object>"
      ]
     },
     "metadata": {
      "tags": []
     },
     "output_type": "display_data"
    },
    {
     "data": {
      "text/html": [
       "<iframe src=https://en.wikipedia.org/wiki/.999. width=100%></iframe>"
      ],
      "text/plain": [
       "<IPython.core.display.HTML object>"
      ]
     },
     "metadata": {
      "tags": []
     },
     "output_type": "display_data"
    },
    {
     "data": {
      "text/html": [
       "<h3>56. <a href=https://en.wikipedia.org/wiki/.999..>https://en.wikipedia.org/wiki/.999..</a> [0.94]</h3>"
      ],
      "text/plain": [
       "<IPython.core.display.HTML object>"
      ]
     },
     "metadata": {
      "tags": []
     },
     "output_type": "display_data"
    },
    {
     "data": {
      "text/html": [
       "<iframe src=https://en.wikipedia.org/wiki/.999.. width=100%></iframe>"
      ],
      "text/plain": [
       "<IPython.core.display.HTML object>"
      ]
     },
     "metadata": {
      "tags": []
     },
     "output_type": "display_data"
    },
    {
     "data": {
      "text/html": [
       "<h3>57. <a href=https://en.wikipedia.org/wiki/.999...>https://en.wikipedia.org/wiki/.999...</a> [0.94]</h3>"
      ],
      "text/plain": [
       "<IPython.core.display.HTML object>"
      ]
     },
     "metadata": {
      "tags": []
     },
     "output_type": "display_data"
    },
    {
     "data": {
      "text/html": [
       "<iframe src=https://en.wikipedia.org/wiki/.999... width=100%></iframe>"
      ],
      "text/plain": [
       "<IPython.core.display.HTML object>"
      ]
     },
     "metadata": {
      "tags": []
     },
     "output_type": "display_data"
    },
    {
     "data": {
      "text/html": [
       "<h3>58. <a href=https://en.wikipedia.org/wiki/.999...=1>https://en.wikipedia.org/wiki/.999...=1</a> [0.94]</h3>"
      ],
      "text/plain": [
       "<IPython.core.display.HTML object>"
      ]
     },
     "metadata": {
      "tags": []
     },
     "output_type": "display_data"
    },
    {
     "data": {
      "text/html": [
       "<iframe src=https://en.wikipedia.org/wiki/.999...=1 width=100%></iframe>"
      ],
      "text/plain": [
       "<IPython.core.display.HTML object>"
      ]
     },
     "metadata": {
      "tags": []
     },
     "output_type": "display_data"
    },
    {
     "data": {
      "text/html": [
       "<h3>59. <a href=https://en.wikipedia.org/wiki/.999..._=_1>https://en.wikipedia.org/wiki/.999..._=_1</a> [0.94]</h3>"
      ],
      "text/plain": [
       "<IPython.core.display.HTML object>"
      ]
     },
     "metadata": {
      "tags": []
     },
     "output_type": "display_data"
    },
    {
     "data": {
      "text/html": [
       "<iframe src=https://en.wikipedia.org/wiki/.999..._=_1 width=100%></iframe>"
      ],
      "text/plain": [
       "<IPython.core.display.HTML object>"
      ]
     },
     "metadata": {
      "tags": []
     },
     "output_type": "display_data"
    },
    {
     "data": {
      "text/html": [
       "<h3>60. <a href=https://en.wikipedia.org/wiki/.999_=_1>https://en.wikipedia.org/wiki/.999_=_1</a> [0.94]</h3>"
      ],
      "text/plain": [
       "<IPython.core.display.HTML object>"
      ]
     },
     "metadata": {
      "tags": []
     },
     "output_type": "display_data"
    },
    {
     "data": {
      "text/html": [
       "<iframe src=https://en.wikipedia.org/wiki/.999_=_1 width=100%></iframe>"
      ],
      "text/plain": [
       "<IPython.core.display.HTML object>"
      ]
     },
     "metadata": {
      "tags": []
     },
     "output_type": "display_data"
    },
    {
     "data": {
      "text/html": [
       "<h3>61. <a href=https://en.wikipedia.org/wiki/.9_repeating>https://en.wikipedia.org/wiki/.9_repeating</a> [0.94]</h3>"
      ],
      "text/plain": [
       "<IPython.core.display.HTML object>"
      ]
     },
     "metadata": {
      "tags": []
     },
     "output_type": "display_data"
    },
    {
     "data": {
      "text/html": [
       "<iframe src=https://en.wikipedia.org/wiki/.9_repeating width=100%></iframe>"
      ],
      "text/plain": [
       "<IPython.core.display.HTML object>"
      ]
     },
     "metadata": {
      "tags": []
     },
     "output_type": "display_data"
    },
    {
     "data": {
      "text/html": [
       "<h3>62. <a href=https://en.wikipedia.org/wiki/0,(9)>https://en.wikipedia.org/wiki/0,(9)</a> [0.94]</h3>"
      ],
      "text/plain": [
       "<IPython.core.display.HTML object>"
      ]
     },
     "metadata": {
      "tags": []
     },
     "output_type": "display_data"
    },
    {
     "data": {
      "text/html": [
       "<iframe src=https://en.wikipedia.org/wiki/0,(9) width=100%></iframe>"
      ],
      "text/plain": [
       "<IPython.core.display.HTML object>"
      ]
     },
     "metadata": {
      "tags": []
     },
     "output_type": "display_data"
    },
    {
     "data": {
      "text/html": [
       "<h3>63. <a href=https://en.wikipedia.org/wiki/0,999...>https://en.wikipedia.org/wiki/0,999...</a> [0.94]</h3>"
      ],
      "text/plain": [
       "<IPython.core.display.HTML object>"
      ]
     },
     "metadata": {
      "tags": []
     },
     "output_type": "display_data"
    },
    {
     "data": {
      "text/html": [
       "<iframe src=https://en.wikipedia.org/wiki/0,999... width=100%></iframe>"
      ],
      "text/plain": [
       "<IPython.core.display.HTML object>"
      ]
     },
     "metadata": {
      "tags": []
     },
     "output_type": "display_data"
    },
    {
     "data": {
      "text/html": [
       "<h3>64. <a href=https://en.wikipedia.org/wiki/0.(9)>https://en.wikipedia.org/wiki/0.(9)</a> [0.94]</h3>"
      ],
      "text/plain": [
       "<IPython.core.display.HTML object>"
      ]
     },
     "metadata": {
      "tags": []
     },
     "output_type": "display_data"
    },
    {
     "data": {
      "text/html": [
       "<iframe src=https://en.wikipedia.org/wiki/0.(9) width=100%></iframe>"
      ],
      "text/plain": [
       "<IPython.core.display.HTML object>"
      ]
     },
     "metadata": {
      "tags": []
     },
     "output_type": "display_data"
    },
    {
     "data": {
      "text/html": [
       "<h3>65. <a href=https://en.wikipedia.org/wiki/0.111..._=_1_(binary)>https://en.wikipedia.org/wiki/0.111..._=_1_(binary)</a> [0.94]</h3>"
      ],
      "text/plain": [
       "<IPython.core.display.HTML object>"
      ]
     },
     "metadata": {
      "tags": []
     },
     "output_type": "display_data"
    },
    {
     "data": {
      "text/html": [
       "<iframe src=https://en.wikipedia.org/wiki/0.111..._=_1_(binary) width=100%></iframe>"
      ],
      "text/plain": [
       "<IPython.core.display.HTML object>"
      ]
     },
     "metadata": {
      "tags": []
     },
     "output_type": "display_data"
    },
    {
     "data": {
      "text/html": [
       "<h3>66. <a href=https://en.wikipedia.org/wiki/0.9*>https://en.wikipedia.org/wiki/0.9*</a> [0.94]</h3>"
      ],
      "text/plain": [
       "<IPython.core.display.HTML object>"
      ]
     },
     "metadata": {
      "tags": []
     },
     "output_type": "display_data"
    },
    {
     "data": {
      "text/html": [
       "<iframe src=https://en.wikipedia.org/wiki/0.9* width=100%></iframe>"
      ],
      "text/plain": [
       "<IPython.core.display.HTML object>"
      ]
     },
     "metadata": {
      "tags": []
     },
     "output_type": "display_data"
    },
    {
     "data": {
      "text/html": [
       "<h3>67. <a href=https://en.wikipedia.org/wiki/0.9...>https://en.wikipedia.org/wiki/0.9...</a> [0.94]</h3>"
      ],
      "text/plain": [
       "<IPython.core.display.HTML object>"
      ]
     },
     "metadata": {
      "tags": []
     },
     "output_type": "display_data"
    },
    {
     "data": {
      "text/html": [
       "<iframe src=https://en.wikipedia.org/wiki/0.9... width=100%></iframe>"
      ],
      "text/plain": [
       "<IPython.core.display.HTML object>"
      ]
     },
     "metadata": {
      "tags": []
     },
     "output_type": "display_data"
    },
    {
     "data": {
      "text/html": [
       "<h3>68. <a href=https://en.wikipedia.org/wiki/0.9..._=_1>https://en.wikipedia.org/wiki/0.9..._=_1</a> [0.94]</h3>"
      ],
      "text/plain": [
       "<IPython.core.display.HTML object>"
      ]
     },
     "metadata": {
      "tags": []
     },
     "output_type": "display_data"
    },
    {
     "data": {
      "text/html": [
       "<iframe src=https://en.wikipedia.org/wiki/0.9..._=_1 width=100%></iframe>"
      ],
      "text/plain": [
       "<IPython.core.display.HTML object>"
      ]
     },
     "metadata": {
      "tags": []
     },
     "output_type": "display_data"
    },
    {
     "data": {
      "text/html": [
       "<h3>69. <a href=https://en.wikipedia.org/wiki/0.9..._equals_1>https://en.wikipedia.org/wiki/0.9..._equals_1</a> [0.94]</h3>"
      ],
      "text/plain": [
       "<IPython.core.display.HTML object>"
      ]
     },
     "metadata": {
      "tags": []
     },
     "output_type": "display_data"
    },
    {
     "data": {
      "text/html": [
       "<iframe src=https://en.wikipedia.org/wiki/0.9..._equals_1 width=100%></iframe>"
      ],
      "text/plain": [
       "<IPython.core.display.HTML object>"
      ]
     },
     "metadata": {
      "tags": []
     },
     "output_type": "display_data"
    },
    {
     "data": {
      "text/html": [
       "<h3>70. <a href=https://en.wikipedia.org/wiki/0.99...>https://en.wikipedia.org/wiki/0.99...</a> [0.94]</h3>"
      ],
      "text/plain": [
       "<IPython.core.display.HTML object>"
      ]
     },
     "metadata": {
      "tags": []
     },
     "output_type": "display_data"
    },
    {
     "data": {
      "text/html": [
       "<iframe src=https://en.wikipedia.org/wiki/0.99... width=100%></iframe>"
      ],
      "text/plain": [
       "<IPython.core.display.HTML object>"
      ]
     },
     "metadata": {
      "tags": []
     },
     "output_type": "display_data"
    },
    {
     "data": {
      "text/html": [
       "<h3>71. <a href=https://en.wikipedia.org/wiki/0.99..._=_1>https://en.wikipedia.org/wiki/0.99..._=_1</a> [0.94]</h3>"
      ],
      "text/plain": [
       "<IPython.core.display.HTML object>"
      ]
     },
     "metadata": {
      "tags": []
     },
     "output_type": "display_data"
    },
    {
     "data": {
      "text/html": [
       "<iframe src=https://en.wikipedia.org/wiki/0.99..._=_1 width=100%></iframe>"
      ],
      "text/plain": [
       "<IPython.core.display.HTML object>"
      ]
     },
     "metadata": {
      "tags": []
     },
     "output_type": "display_data"
    },
    {
     "data": {
      "text/html": [
       "<h3>72. <a href=https://en.wikipedia.org/wiki/0.99..._equals_1>https://en.wikipedia.org/wiki/0.99..._equals_1</a> [0.94]</h3>"
      ],
      "text/plain": [
       "<IPython.core.display.HTML object>"
      ]
     },
     "metadata": {
      "tags": []
     },
     "output_type": "display_data"
    },
    {
     "data": {
      "text/html": [
       "<iframe src=https://en.wikipedia.org/wiki/0.99..._equals_1 width=100%></iframe>"
      ],
      "text/plain": [
       "<IPython.core.display.HTML object>"
      ]
     },
     "metadata": {
      "tags": []
     },
     "output_type": "display_data"
    },
    {
     "data": {
      "text/html": [
       "<h3>73. <a href=https://en.wikipedia.org/wiki/0.999>https://en.wikipedia.org/wiki/0.999</a> [0.94]</h3>"
      ],
      "text/plain": [
       "<IPython.core.display.HTML object>"
      ]
     },
     "metadata": {
      "tags": []
     },
     "output_type": "display_data"
    },
    {
     "data": {
      "text/html": [
       "<iframe src=https://en.wikipedia.org/wiki/0.999 width=100%></iframe>"
      ],
      "text/plain": [
       "<IPython.core.display.HTML object>"
      ]
     },
     "metadata": {
      "tags": []
     },
     "output_type": "display_data"
    },
    {
     "data": {
      "text/html": [
       "<h3>74. <a href=https://en.wikipedia.org/wiki/0.999.>https://en.wikipedia.org/wiki/0.999.</a> [0.94]</h3>"
      ],
      "text/plain": [
       "<IPython.core.display.HTML object>"
      ]
     },
     "metadata": {
      "tags": []
     },
     "output_type": "display_data"
    },
    {
     "data": {
      "text/html": [
       "<iframe src=https://en.wikipedia.org/wiki/0.999. width=100%></iframe>"
      ],
      "text/plain": [
       "<IPython.core.display.HTML object>"
      ]
     },
     "metadata": {
      "tags": []
     },
     "output_type": "display_data"
    },
    {
     "data": {
      "text/html": [
       "<h3>75. <a href=https://en.wikipedia.org/wiki/0.999..>https://en.wikipedia.org/wiki/0.999..</a> [0.94]</h3>"
      ],
      "text/plain": [
       "<IPython.core.display.HTML object>"
      ]
     },
     "metadata": {
      "tags": []
     },
     "output_type": "display_data"
    },
    {
     "data": {
      "text/html": [
       "<iframe src=https://en.wikipedia.org/wiki/0.999.. width=100%></iframe>"
      ],
      "text/plain": [
       "<IPython.core.display.HTML object>"
      ]
     },
     "metadata": {
      "tags": []
     },
     "output_type": "display_data"
    },
    {
     "data": {
      "text/html": [
       "<h3>76. <a href=https://en.wikipedia.org/wiki/0.999...>https://en.wikipedia.org/wiki/0.999...</a> [0.94]</h3>"
      ],
      "text/plain": [
       "<IPython.core.display.HTML object>"
      ]
     },
     "metadata": {
      "tags": []
     },
     "output_type": "display_data"
    },
    {
     "data": {
      "text/html": [
       "<iframe src=https://en.wikipedia.org/wiki/0.999... width=100%></iframe>"
      ],
      "text/plain": [
       "<IPython.core.display.HTML object>"
      ]
     },
     "metadata": {
      "tags": []
     },
     "output_type": "display_data"
    },
    {
     "data": {
      "text/html": [
       "<h3>77. <a href=https://en.wikipedia.org/wiki/0.999....>https://en.wikipedia.org/wiki/0.999....</a> [0.94]</h3>"
      ],
      "text/plain": [
       "<IPython.core.display.HTML object>"
      ]
     },
     "metadata": {
      "tags": []
     },
     "output_type": "display_data"
    },
    {
     "data": {
      "text/html": [
       "<iframe src=https://en.wikipedia.org/wiki/0.999.... width=100%></iframe>"
      ],
      "text/plain": [
       "<IPython.core.display.HTML object>"
      ]
     },
     "metadata": {
      "tags": []
     },
     "output_type": "display_data"
    },
    {
     "data": {
      "text/html": [
       "<h3>78. <a href=https://en.wikipedia.org/wiki/0.999...=1>https://en.wikipedia.org/wiki/0.999...=1</a> [0.94]</h3>"
      ],
      "text/plain": [
       "<IPython.core.display.HTML object>"
      ]
     },
     "metadata": {
      "tags": []
     },
     "output_type": "display_data"
    },
    {
     "data": {
      "text/html": [
       "<iframe src=https://en.wikipedia.org/wiki/0.999...=1 width=100%></iframe>"
      ],
      "text/plain": [
       "<IPython.core.display.HTML object>"
      ]
     },
     "metadata": {
      "tags": []
     },
     "output_type": "display_data"
    },
    {
     "data": {
      "text/html": [
       "<h3>79. <a href=https://en.wikipedia.org/wiki/0.999..._=_1>https://en.wikipedia.org/wiki/0.999..._=_1</a> [0.94]</h3>"
      ],
      "text/plain": [
       "<IPython.core.display.HTML object>"
      ]
     },
     "metadata": {
      "tags": []
     },
     "output_type": "display_data"
    },
    {
     "data": {
      "text/html": [
       "<iframe src=https://en.wikipedia.org/wiki/0.999..._=_1 width=100%></iframe>"
      ],
      "text/plain": [
       "<IPython.core.display.HTML object>"
      ]
     },
     "metadata": {
      "tags": []
     },
     "output_type": "display_data"
    },
    {
     "data": {
      "text/html": [
       "<h3>80. <a href=https://en.wikipedia.org/wiki/0.999..._equals_1>https://en.wikipedia.org/wiki/0.999..._equals_1</a> [0.94]</h3>"
      ],
      "text/plain": [
       "<IPython.core.display.HTML object>"
      ]
     },
     "metadata": {
      "tags": []
     },
     "output_type": "display_data"
    },
    {
     "data": {
      "text/html": [
       "<iframe src=https://en.wikipedia.org/wiki/0.999..._equals_1 width=100%></iframe>"
      ],
      "text/plain": [
       "<IPython.core.display.HTML object>"
      ]
     },
     "metadata": {
      "tags": []
     },
     "output_type": "display_data"
    },
    {
     "data": {
      "text/html": [
       "<h3>81. <a href=https://en.wikipedia.org/wiki/0.9999>https://en.wikipedia.org/wiki/0.9999</a> [0.94]</h3>"
      ],
      "text/plain": [
       "<IPython.core.display.HTML object>"
      ]
     },
     "metadata": {
      "tags": []
     },
     "output_type": "display_data"
    },
    {
     "data": {
      "text/html": [
       "<iframe src=https://en.wikipedia.org/wiki/0.9999 width=100%></iframe>"
      ],
      "text/plain": [
       "<IPython.core.display.HTML object>"
      ]
     },
     "metadata": {
      "tags": []
     },
     "output_type": "display_data"
    },
    {
     "data": {
      "text/html": [
       "<h3>82. <a href=https://en.wikipedia.org/wiki/0.9999...>https://en.wikipedia.org/wiki/0.9999...</a> [0.94]</h3>"
      ],
      "text/plain": [
       "<IPython.core.display.HTML object>"
      ]
     },
     "metadata": {
      "tags": []
     },
     "output_type": "display_data"
    },
    {
     "data": {
      "text/html": [
       "<iframe src=https://en.wikipedia.org/wiki/0.9999... width=100%></iframe>"
      ],
      "text/plain": [
       "<IPython.core.display.HTML object>"
      ]
     },
     "metadata": {
      "tags": []
     },
     "output_type": "display_data"
    },
    {
     "data": {
      "text/html": [
       "<h3>83. <a href=https://en.wikipedia.org/wiki/\"Bairy\"_function>https://en.wikipedia.org/wiki/\"Bairy\"_function</a> [0.94]</h3>"
      ],
      "text/plain": [
       "<IPython.core.display.HTML object>"
      ]
     },
     "metadata": {
      "tags": []
     },
     "output_type": "display_data"
    },
    {
     "data": {
      "text/html": [
       "<iframe src=https://en.wikipedia.org/wiki/\"Bairy\"_function width=100%></iframe>"
      ],
      "text/plain": [
       "<IPython.core.display.HTML object>"
      ]
     },
     "metadata": {
      "tags": []
     },
     "output_type": "display_data"
    },
    {
     "data": {
      "text/html": [
       "<h3>84. <a href=https://en.wikipedia.org/wiki/0-form>https://en.wikipedia.org/wiki/0-form</a> [0.94]</h3>"
      ],
      "text/plain": [
       "<IPython.core.display.HTML object>"
      ]
     },
     "metadata": {
      "tags": []
     },
     "output_type": "display_data"
    },
    {
     "data": {
      "text/html": [
       "<iframe src=https://en.wikipedia.org/wiki/0-form width=100%></iframe>"
      ],
      "text/plain": [
       "<IPython.core.display.HTML object>"
      ]
     },
     "metadata": {
      "tags": []
     },
     "output_type": "display_data"
    },
    {
     "data": {
      "text/html": [
       "<h3>85. <a href=https://en.wikipedia.org/wiki/s/css_modules/inserted_style.css>https://en.wikipedia.org/wiki/s/css_modules/inserted_style.css</a> [0.94]</h3>"
      ],
      "text/plain": [
       "<IPython.core.display.HTML object>"
      ]
     },
     "metadata": {
      "tags": []
     },
     "output_type": "display_data"
    },
    {
     "data": {
      "text/html": [
       "<iframe src=https://en.wikipedia.org/wiki/s/css_modules/inserted_style.css width=100%></iframe>"
      ],
      "text/plain": [
       "<IPython.core.display.HTML object>"
      ]
     },
     "metadata": {
      "tags": []
     },
     "output_type": "display_data"
    },
    {
     "data": {
      "text/html": [
       "<h3>86. <a href=https://en.wikipedia.org/wiki/(Cantor-)Schröder-Bernstein_theorem>https://en.wikipedia.org/wiki/(Cantor-)Schröder-Bernstein_theorem</a> [0.94]</h3>"
      ],
      "text/plain": [
       "<IPython.core.display.HTML object>"
      ]
     },
     "metadata": {
      "tags": []
     },
     "output_type": "display_data"
    },
    {
     "data": {
      "text/html": [
       "<iframe src=https://en.wikipedia.org/wiki/(Cantor-)Schröder-Bernstein_theorem width=100%></iframe>"
      ],
      "text/plain": [
       "<IPython.core.display.HTML object>"
      ]
     },
     "metadata": {
      "tags": []
     },
     "output_type": "display_data"
    },
    {
     "data": {
      "text/html": [
       "<h3>87. <a href=https://en.wikipedia.org/wiki/(Cantor–)Schröder–Bernstein_theorem>https://en.wikipedia.org/wiki/(Cantor–)Schröder–Bernstein_theorem</a> [0.94]</h3>"
      ],
      "text/plain": [
       "<IPython.core.display.HTML object>"
      ]
     },
     "metadata": {
      "tags": []
     },
     "output_type": "display_data"
    },
    {
     "data": {
      "text/html": [
       "<iframe src=https://en.wikipedia.org/wiki/(Cantor–)Schröder–Bernstein_theorem width=100%></iframe>"
      ],
      "text/plain": [
       "<IPython.core.display.HTML object>"
      ]
     },
     "metadata": {
      "tags": []
     },
     "output_type": "display_data"
    },
    {
     "data": {
      "text/html": [
       "<h3>88. <a href=https://en.wikipedia.org/wiki/\"Tac-plane\">https://en.wikipedia.org/wiki/\"Tac-plane\"</a> [0.94]</h3>"
      ],
      "text/plain": [
       "<IPython.core.display.HTML object>"
      ]
     },
     "metadata": {
      "tags": []
     },
     "output_type": "display_data"
    },
    {
     "data": {
      "text/html": [
       "<iframe src=https://en.wikipedia.org/wiki/\"Tac-plane\" width=100%></iframe>"
      ],
      "text/plain": [
       "<IPython.core.display.HTML object>"
      ]
     },
     "metadata": {
      "tags": []
     },
     "output_type": "display_data"
    },
    {
     "data": {
      "text/html": [
       "<h3>89. <a href=https://en.wikipedia.org/wiki/*-algebra>https://en.wikipedia.org/wiki/*-algebra</a> [0.94]</h3>"
      ],
      "text/plain": [
       "<IPython.core.display.HTML object>"
      ]
     },
     "metadata": {
      "tags": []
     },
     "output_type": "display_data"
    },
    {
     "data": {
      "text/html": [
       "<iframe src=https://en.wikipedia.org/wiki/*-algebra width=100%></iframe>"
      ],
      "text/plain": [
       "<IPython.core.display.HTML object>"
      ]
     },
     "metadata": {
      "tags": []
     },
     "output_type": "display_data"
    },
    {
     "data": {
      "text/html": [
       "<h3>90. <a href=https://en.wikipedia.org/wiki/*-homomorphism>https://en.wikipedia.org/wiki/*-homomorphism</a> [0.94]</h3>"
      ],
      "text/plain": [
       "<IPython.core.display.HTML object>"
      ]
     },
     "metadata": {
      "tags": []
     },
     "output_type": "display_data"
    },
    {
     "data": {
      "text/html": [
       "<iframe src=https://en.wikipedia.org/wiki/*-homomorphism width=100%></iframe>"
      ],
      "text/plain": [
       "<IPython.core.display.HTML object>"
      ]
     },
     "metadata": {
      "tags": []
     },
     "output_type": "display_data"
    },
    {
     "data": {
      "text/html": [
       "<h3>91. <a href=https://en.wikipedia.org/wiki/*-ring>https://en.wikipedia.org/wiki/*-ring</a> [0.94]</h3>"
      ],
      "text/plain": [
       "<IPython.core.display.HTML object>"
      ]
     },
     "metadata": {
      "tags": []
     },
     "output_type": "display_data"
    },
    {
     "data": {
      "text/html": [
       "<iframe src=https://en.wikipedia.org/wiki/*-ring width=100%></iframe>"
      ],
      "text/plain": [
       "<IPython.core.display.HTML object>"
      ]
     },
     "metadata": {
      "tags": []
     },
     "output_type": "display_data"
    },
    {
     "data": {
      "text/html": [
       "<h3>92. <a href=https://en.wikipedia.org/wiki/*_algebra>https://en.wikipedia.org/wiki/*_algebra</a> [0.94]</h3>"
      ],
      "text/plain": [
       "<IPython.core.display.HTML object>"
      ]
     },
     "metadata": {
      "tags": []
     },
     "output_type": "display_data"
    },
    {
     "data": {
      "text/html": [
       "<iframe src=https://en.wikipedia.org/wiki/*_algebra width=100%></iframe>"
      ],
      "text/plain": [
       "<IPython.core.display.HTML object>"
      ]
     },
     "metadata": {
      "tags": []
     },
     "output_type": "display_data"
    },
    {
     "data": {
      "text/html": [
       "<h3>93. <a href=https://en.wikipedia.org/wiki/*_ring>https://en.wikipedia.org/wiki/*_ring</a> [0.94]</h3>"
      ],
      "text/plain": [
       "<IPython.core.display.HTML object>"
      ]
     },
     "metadata": {
      "tags": []
     },
     "output_type": "display_data"
    },
    {
     "data": {
      "text/html": [
       "<iframe src=https://en.wikipedia.org/wiki/*_ring width=100%></iframe>"
      ],
      "text/plain": [
       "<IPython.core.display.HTML object>"
      ]
     },
     "metadata": {
      "tags": []
     },
     "output_type": "display_data"
    },
    {
     "data": {
      "text/html": [
       "<h3>94. <a href=https://en.wikipedia.org/wiki/*algebra>https://en.wikipedia.org/wiki/*algebra</a> [0.94]</h3>"
      ],
      "text/plain": [
       "<IPython.core.display.HTML object>"
      ]
     },
     "metadata": {
      "tags": []
     },
     "output_type": "display_data"
    },
    {
     "data": {
      "text/html": [
       "<iframe src=https://en.wikipedia.org/wiki/*algebra width=100%></iframe>"
      ],
      "text/plain": [
       "<IPython.core.display.HTML object>"
      ]
     },
     "metadata": {
      "tags": []
     },
     "output_type": "display_data"
    },
    {
     "data": {
      "text/html": [
       "<h3>95. <a href=https://en.wikipedia.org/wiki/style.css>https://en.wikipedia.org/wiki/style.css</a> [0.93]</h3>"
      ],
      "text/plain": [
       "<IPython.core.display.HTML object>"
      ]
     },
     "metadata": {
      "tags": []
     },
     "output_type": "display_data"
    },
    {
     "data": {
      "text/html": [
       "<iframe src=https://en.wikipedia.org/wiki/style.css width=100%></iframe>"
      ],
      "text/plain": [
       "<IPython.core.display.HTML object>"
      ]
     },
     "metadata": {
      "tags": []
     },
     "output_type": "display_data"
    },
    {
     "data": {
      "text/html": [
       "<h3>96. <a href=https://en.wikipedia.org/wiki/+_h.c.>https://en.wikipedia.org/wiki/+_h.c.</a> [0.93]</h3>"
      ],
      "text/plain": [
       "<IPython.core.display.HTML object>"
      ]
     },
     "metadata": {
      "tags": []
     },
     "output_type": "display_data"
    },
    {
     "data": {
      "text/html": [
       "<iframe src=https://en.wikipedia.org/wiki/+_h.c. width=100%></iframe>"
      ],
      "text/plain": [
       "<IPython.core.display.HTML object>"
      ]
     },
     "metadata": {
      "tags": []
     },
     "output_type": "display_data"
    },
    {
     "data": {
      "text/html": [
       "<h3>97. <a href=https://en.wikipedia.org/wiki/0-ary_function>https://en.wikipedia.org/wiki/0-ary_function</a> [0.93]</h3>"
      ],
      "text/plain": [
       "<IPython.core.display.HTML object>"
      ]
     },
     "metadata": {
      "tags": []
     },
     "output_type": "display_data"
    },
    {
     "data": {
      "text/html": [
       "<iframe src=https://en.wikipedia.org/wiki/0-ary_function width=100%></iframe>"
      ],
      "text/plain": [
       "<IPython.core.display.HTML object>"
      ]
     },
     "metadata": {
      "tags": []
     },
     "output_type": "display_data"
    },
    {
     "data": {
      "text/html": [
       "<h3>98. <a href=https://en.wikipedia.org/wiki/*R>https://en.wikipedia.org/wiki/*R</a> [0.93]</h3>"
      ],
      "text/plain": [
       "<IPython.core.display.HTML object>"
      ]
     },
     "metadata": {
      "tags": []
     },
     "output_type": "display_data"
    },
    {
     "data": {
      "text/html": [
       "<iframe src=https://en.wikipedia.org/wiki/*R width=100%></iframe>"
      ],
      "text/plain": [
       "<IPython.core.display.HTML object>"
      ]
     },
     "metadata": {
      "tags": []
     },
     "output_type": "display_data"
    },
    {
     "data": {
      "text/html": [
       "<h3>99. <a href=https://en.wikipedia.org/wiki/-yllion>https://en.wikipedia.org/wiki/-yllion</a> [0.93]</h3>"
      ],
      "text/plain": [
       "<IPython.core.display.HTML object>"
      ]
     },
     "metadata": {
      "tags": []
     },
     "output_type": "display_data"
    },
    {
     "data": {
      "text/html": [
       "<iframe src=https://en.wikipedia.org/wiki/-yllion width=100%></iframe>"
      ],
      "text/plain": [
       "<IPython.core.display.HTML object>"
      ]
     },
     "metadata": {
      "tags": []
     },
     "output_type": "display_data"
    },
    {
     "data": {
      "text/html": [
       "<h3>100. <a href=https://en.wikipedia.org/wiki/0-based>https://en.wikipedia.org/wiki/0-based</a> [0.93]</h3>"
      ],
      "text/plain": [
       "<IPython.core.display.HTML object>"
      ]
     },
     "metadata": {
      "tags": []
     },
     "output_type": "display_data"
    },
    {
     "data": {
      "text/html": [
       "<iframe src=https://en.wikipedia.org/wiki/0-based width=100%></iframe>"
      ],
      "text/plain": [
       "<IPython.core.display.HTML object>"
      ]
     },
     "metadata": {
      "tags": []
     },
     "output_type": "display_data"
    }
   ],
   "source": [
    "display(HTML('<h2>Resultados de la búsqueda <i>' + busqueda + '</i></h2>'))\n",
    "cosine_similarities = pd.Series(\n",
    "    cosine_similarity(target_embedding, wiki_embeddings).flatten())\n",
    "for _, (i, similarity) in enumerate(\n",
    "        cosine_similarities.nlargest(top_n).iteritems()):\n",
    "    #cosine_similarities[:top_n]):\n",
    "    display(\n",
    "        HTML(\n",
    "            f'<h3>{_+1}. <a href={urls[i]}>{urls[i]}</a> [{similarity:.2f}]</h3>'\n",
    "        ))\n",
    "    display(HTML(f'<iframe src={urls[i]} width=100%></iframe>'))"
   ]
  },
  {
   "cell_type": "code",
   "execution_count": 0,
   "metadata": {
    "ExecuteTime": {
     "end_time": "2019-08-19T21:31:11.350506Z",
     "start_time": "2019-08-19T21:31:11.343543Z"
    },
    "colab": {},
    "colab_type": "code",
    "id": "QadvG7be1B0D",
    "outputId": "ff762c02-14c2-444e-f979-79410f39d2e6"
   },
   "outputs": [
    {
     "data": {
      "text/plain": [
       "80     0.971763\n",
       "118    0.965222\n",
       "72     0.964789\n",
       "220    0.964650\n",
       "221    0.964650\n",
       "         ...   \n",
       "162    0.933477\n",
       "214    0.931993\n",
       "148    0.931704\n",
       "174    0.931340\n",
       "216    0.930934\n",
       "Length: 100, dtype: float32"
      ]
     },
     "execution_count": 62,
     "metadata": {
      "tags": []
     },
     "output_type": "execute_result"
    }
   ],
   "source": [
    "cosine_similarities.nlargest(top_n)"
   ]
  },
  {
   "cell_type": "code",
   "execution_count": 0,
   "metadata": {
    "ExecuteTime": {
     "end_time": "2019-08-19T21:31:18.984902Z",
     "start_time": "2019-08-19T21:31:18.980930Z"
    },
    "colab": {},
    "colab_type": "code",
    "id": "BdCLwPjG1B0H",
    "outputId": "23ec18b2-43a0-49dd-c521-12e53f204bb6"
   },
   "outputs": [
    {
     "data": {
      "text/plain": [
       "{'mimetype': 65535,\n",
       " 'parameterLen': 0,\n",
       " 'namespace': 'A',\n",
       " 'revision': 0,\n",
       " 'redirectIndex': 44757,\n",
       " 'url': '%_(m/m)',\n",
       " 'title': '% (m/m)',\n",
       " 'index': 80}"
      ]
     },
     "execution_count": 63,
     "metadata": {
      "tags": []
     },
     "output_type": "execute_result"
    }
   ],
   "source": [
    "zim_file.read_directory_entry_by_index(80)"
   ]
  },
  {
   "cell_type": "code",
   "execution_count": 0,
   "metadata": {
    "ExecuteTime": {
     "end_time": "2019-08-19T21:31:22.624816Z",
     "start_time": "2019-08-19T21:31:22.611632Z"
    },
    "colab": {},
    "colab_type": "code",
    "id": "M1XKT5831B0L",
    "outputId": "ead501fd-fa81-4d31-dfd7-8446a1484519"
   },
   "outputs": [
    {
     "data": {
      "text/plain": [
       "array([-0.6173339 ,  0.35600293,  0.999423  , -0.9719144 ,  0.8103372 ,\n",
       "        0.9246552 ,  0.8675921 , -0.98224944, -0.94116396, -0.16642661,\n",
       "        0.9514643 ,  0.99759835, -0.9968541 , -0.9989308 ,  0.7549797 ,\n",
       "       -0.89472145,  0.97404265, -0.4129406 , -0.9997963 , -0.44846937,\n",
       "       -0.5562623 , -0.9993068 ,  0.01442672,  0.96910954,  0.73092484,\n",
       "        0.06198874,  0.9717974 ,  0.9998766 ,  0.22340038, -0.06159596,\n",
       "        0.14495343, -0.98291194,  0.84052336, -0.996476  ,  0.30666623,\n",
       "        0.40763193,  0.81835127, -0.32179165,  0.36002043, -0.94476223,\n",
       "       -0.07742736, -0.38110703,  0.3280883 , -0.28620195,  0.9284604 ,\n",
       "        0.02824433,  0.05038396, -0.02548568, -0.22309022,  0.9980485 ,\n",
       "       -0.7870583 ,  0.8756449 , -0.99342674,  0.9322175 ,  0.9892239 ,\n",
       "        0.32599097,  0.99188745,  0.03568626, -0.9979344 ,  0.08339415,\n",
       "        0.9559087 ,  0.07659546,  0.7312044 ,  0.1983641 , -0.16569139,\n",
       "       -0.36792797, -0.8229595 ,  0.25180548, -0.41104653,  0.27677423,\n",
       "        0.04974609,  0.12417179,  0.9263076 , -0.74192786, -0.20347677,\n",
       "       -0.8299497 , -0.01864976, -0.9994722 ,  0.7888888 ,  0.99982285,\n",
       "        0.7129669 , -0.9992011 ,  0.97531736, -0.22190829, -0.77583236,\n",
       "        0.7071851 , -0.99828583, -0.9987885 ,  0.09760847, -0.12708783,\n",
       "        0.9007581 , -0.96883667,  0.5603622 , -0.8306109 ,  0.99984276,\n",
       "       -0.9801947 , -0.2830541 ,  0.16394687,  0.93046725, -0.7753798 ,\n",
       "       -0.4001117 ,  0.89732033,  0.99773014, -0.9945667 ,  0.99778116,\n",
       "        0.25857827, -0.8597462 , -0.78986835,  0.6311355 ,  0.18801871,\n",
       "        0.9519585 , -0.9231303 , -0.8300742 ,  0.015896  ,  0.9343434 ,\n",
       "       -0.8496727 ,  0.97151864,  0.62789047, -0.10665561,  0.9999158 ,\n",
       "       -0.00681237,  0.9609869 ,  0.9932445 ,  0.78131086, -0.7652173 ,\n",
       "       -0.06026424, -0.55827725,  0.91319484, -0.53317845, -0.07136299,\n",
       "        0.81729794, -0.976207  , -0.997363  ,  0.9982867 , -0.17021707,\n",
       "        0.9997364 , -0.9982233 ,  0.9824405 , -0.9997002 , -0.9169502 ,\n",
       "       -0.81705886,  0.0426954 , -0.98424363, -0.31095758,  0.9660463 ,\n",
       "        0.02425047, -0.96054953, -0.81991994,  0.71832305, -0.8912325 ,\n",
       "        0.45577395,  0.5807669 , -0.73308194,  0.76485455,  0.99578583,\n",
       "        0.95541275,  0.9845219 , -0.03692639, -0.9448248 ,  0.8871554 ,\n",
       "        0.97167075, -0.9989699 ,  0.8947744 , -0.98434234,  0.99614376,\n",
       "        0.8749552 ,  0.72331816, -0.9965739 ,  0.9997773 , -0.7089528 ,\n",
       "        0.12866743,  0.23571613,  0.03888301, -0.99780375,  0.31744388,\n",
       "        0.34279785,  0.11023371,  0.99554604, -0.98368406,  0.9930681 ,\n",
       "       -0.01211098,  0.17431413,  0.6650963 ,  0.9972558 , -0.995622  ,\n",
       "       -0.9382958 , -0.96733254,  0.21738863,  0.7062563 ,  0.24003412,\n",
       "        0.5224807 ,  0.7221321 ,  0.9977837 , -0.10005055, -0.9769241 ,\n",
       "       -0.3091187 ,  0.96180004,  0.0258713 ,  0.99985486, -0.35712   ,\n",
       "       -0.9992824 , -0.83486396,  0.91459155,  0.7844975 , -0.2532917 ,\n",
       "        0.8715559 , -0.69650424, -0.07633669,  0.98911494, -0.7465203 ,\n",
       "        0.9976868 , -0.00135703,  0.6238018 ,  0.45778742,  0.9426017 ,\n",
       "       -0.7442123 , -0.12872757,  0.19306473, -0.7550547 ,  0.9996972 ,\n",
       "       -0.99856186, -0.04773355,  0.18394917, -0.98918474, -0.99554425,\n",
       "        0.8623497 ,  0.03140948, -0.4646839 , -0.02706689,  0.6567859 ,\n",
       "        0.15544128,  0.8660012 ,  0.98009866, -0.46893176, -0.4482192 ,\n",
       "       -0.9996141 , -0.9949418 , -0.24063782, -0.95240855, -0.06734711,\n",
       "        0.60188556, -0.22804432, -0.7504208 , -0.9982319 ,  0.80810785,\n",
       "        0.646173  , -0.91558903,  0.07113191, -0.6952473 , -0.9976999 ,\n",
       "        0.28519726, -0.79270554, -0.9929659 ,  0.9988157 , -0.7870104 ,\n",
       "        0.99478066,  0.794993  , -0.975492  ,  0.8903324 , -0.9972579 ,\n",
       "       -0.07703421, -0.879395  ,  0.22583714,  0.3937175 , -0.6456214 ,\n",
       "        0.12404042,  0.9846947 , -0.8386333 , -0.86544347,  0.83431584,\n",
       "       -0.999399  ,  0.70082104, -0.14811733,  0.99843186,  0.8159574 ,\n",
       "       -0.43805948,  0.9500821 ,  0.9694166 , -0.9837334 , -0.999466  ,\n",
       "        0.92107254,  0.31950295, -0.98681116, -0.12379926,  0.9997357 ,\n",
       "       -0.9964056 , -0.3054575 , -0.8784277 , -0.9732987 , -0.9989111 ,\n",
       "        0.14927125, -0.7275934 ,  0.21255024,  0.9456058 ,  0.35540387,\n",
       "        0.1818282 ,  0.98403525,  0.91174245,  0.36048695, -0.02839005,\n",
       "        0.04733765, -0.9488479 , -0.5449835 ,  0.5344623 ,  0.17712027,\n",
       "       -0.9997179 ,  0.9992967 , -0.9865996 ,  0.8834036 ,  0.97008705,\n",
       "       -0.99278486,  0.65346754,  0.21745965, -0.94321877,  0.01210418,\n",
       "        0.9997148 ,  0.9189917 , -0.07722945,  0.04788761,  0.94587606,\n",
       "       -0.27448478,  0.62773746, -0.88570964, -0.46416086,  0.16122195,\n",
       "       -0.87177986,  0.98078084,  0.85348254, -0.9813055 ,  0.994654  ,\n",
       "        0.09244225,  0.15657954, -0.6987667 ,  0.7500817 ,  0.9585157 ,\n",
       "       -0.02229383, -0.46176782, -0.38258213,  0.37774578, -0.9772585 ,\n",
       "        0.01611537, -0.99407524, -0.16261812,  0.91346854,  0.92718333,\n",
       "       -0.9431241 ,  0.8645414 , -0.12141769,  0.9035175 , -0.9962514 ,\n",
       "        0.9999161 , -0.9508409 , -0.0240325 ,  0.6922681 , -0.89306086,\n",
       "       -0.33843675,  0.9592657 ,  0.9866898 ,  0.9696317 , -0.96311027,\n",
       "       -0.8088989 ,  0.33581114,  0.9168684 , -0.972827  ,  0.01994532,\n",
       "       -0.999048  , -0.79585236,  0.9741567 ,  0.9940879 , -0.02612285,\n",
       "       -0.5076083 , -0.9967457 ,  0.8617064 , -0.8202848 , -0.48741573,\n",
       "       -0.09873719, -0.81483495,  0.56532013,  0.9968247 , -0.43430802,\n",
       "        0.7128118 ,  0.06288237, -0.96005756,  0.8467815 ,  0.77096146,\n",
       "        0.9994865 , -0.9493025 ,  0.44217065,  0.9595377 , -0.11638081,\n",
       "       -0.79658556,  0.28402457,  0.9982478 , -0.9167152 , -0.16516711,\n",
       "       -0.9990508 ,  0.10070629, -0.27661872, -0.41654977, -0.5888792 ,\n",
       "        0.17707804, -0.87643033,  0.93540454,  0.40007848,  0.5737159 ,\n",
       "        0.0268725 ,  0.77711   , -0.2316325 , -0.11173096, -0.2837615 ,\n",
       "       -0.13412069,  0.5077114 ,  0.19744699,  0.9348477 , -0.7714244 ,\n",
       "        0.99907446,  0.22162573, -0.99982876, -0.9957665 , -0.6377996 ,\n",
       "       -0.9970509 ,  0.36244506, -0.95339525,  0.9585912 ,  0.95518756,\n",
       "       -0.99814445, -0.99844956, -0.95080054, -0.90147644,  0.8121357 ,\n",
       "        0.37764204, -0.09078311,  0.552891  , -0.3711627 ,  0.02655236,\n",
       "       -0.2705475 ,  0.0451512 , -0.7975671 , -0.35674596, -0.99595976,\n",
       "        0.75383043, -0.9997996 , -0.90535957,  0.99649084, -0.9953488 ,\n",
       "       -0.911299  , -0.8462879 , -0.90142107, -0.7452074 ,  0.33711216,\n",
       "        0.9219848 , -0.3950733 , -0.7867206 , -0.9959478 ,  0.96804166,\n",
       "       -0.88236374,  0.14301853, -0.905922  , -0.956541  ,  0.9990709 ,\n",
       "        0.8960036 , -0.21165656, -0.13120566, -0.9956632 ,  0.98119724,\n",
       "       -0.87635446, -0.9276528 , -0.9334653 ,  0.00561562, -0.7044668 ,\n",
       "       -0.99889654, -0.05216125,  0.9962344 ,  0.90387756,  0.97680056,\n",
       "        0.18052422, -0.06907227, -0.8547239 ,  0.20183568, -0.9997834 ,\n",
       "        0.7816868 ,  0.91992414, -0.8979033 , -0.75996983,  0.98250973,\n",
       "        0.920649  , -0.9698714 , -0.9805893 ,  0.9230375 ,  0.24230675,\n",
       "        0.78445154, -0.6233028 , -0.49710166,  0.27748317, -0.10785827,\n",
       "       -0.9788121 , -0.8237062 ,  0.99579966, -0.9986901 ,  0.96217656,\n",
       "        0.99160105,  0.9977131 , -0.08575157,  0.30256212, -0.9738159 ,\n",
       "       -0.8436035 , -0.4799287 ,  0.1749561 , -0.9997023 ,  0.9993567 ,\n",
       "       -0.9997521 ,  0.7009082 , -0.6307236 ,  0.8316899 ,  0.9827726 ,\n",
       "       -0.37047613, -0.99962515, -0.9994912 ,  0.76580304,  0.18518451,\n",
       "        0.9805505 ,  0.26937842,  0.04089017, -0.5837642 , -0.3596146 ,\n",
       "        0.9930322 , -0.8266854 , -0.45540205, -0.9966888 ,  0.9992017 ,\n",
       "        0.37843546, -0.9950772 ,  0.99119043, -0.9972811 ,  0.9594934 ,\n",
       "        0.9078829 ,  0.8016208 ,  0.77978784, -0.99873495,  0.99985504,\n",
       "       -0.99945736,  0.9562911 , -0.99988395, -0.99840957,  0.99927855,\n",
       "       -0.98231685, -0.7737217 , -0.9988531 , -0.9968792 ,  0.8178901 ,\n",
       "        0.16871479, -0.43164337,  0.9759671 , -0.99953234, -0.9936095 ,\n",
       "       -0.42205185, -0.92380524, -0.70586526,  0.99266565, -0.61085045,\n",
       "        0.9495429 , -0.2519566 ,  0.861503  ,  0.34862024,  0.99697834,\n",
       "        0.91079617, -0.7320485 , -0.8920452 , -0.9872601 ,  0.96486914,\n",
       "       -0.63738525,  0.15050532,  0.851517  , -0.03111879, -0.67857856,\n",
       "        0.25361472, -0.99624074,  0.57638776,  0.17257822,  0.97485524,\n",
       "        0.88711655,  0.7522404 , -0.21110493, -0.3477127 , -0.12066507,\n",
       "       -0.9811592 ,  0.49691933, -0.9987256 ,  0.91167474, -0.8827925 ,\n",
       "       -0.07450961, -0.32167554, -0.02127667, -0.7542362 ,  0.99849975,\n",
       "        0.99345   , -0.906522  ,  0.10829046,  0.97509146, -0.63644314,\n",
       "        0.8712377 , -0.9841971 ,  0.03128716,  0.96862966, -0.1734617 ,\n",
       "        0.912513  , -0.23518847,  0.07578535,  0.9453901 , -0.9935363 ,\n",
       "       -0.8985213 , -0.599735  ,  0.4480657 , -0.05542274, -0.93376607,\n",
       "        0.03535568,  0.9819085 , -0.40278727, -0.99921316,  0.96353465,\n",
       "       -0.99843365, -0.14517453,  0.9559294 , -0.25204116,  0.999583  ,\n",
       "       -0.88583493,  0.17312749,  0.07847247, -0.99920386, -0.9986869 ,\n",
       "        0.04908729, -0.0246402 , -0.94349873,  0.99834496,  0.06190752,\n",
       "        0.8829688 , -0.99891174,  0.15988964,  0.99604034,  0.14733222,\n",
       "        0.6569723 , -0.8688204 , -0.70000815, -0.94226205, -0.51935184,\n",
       "        0.13447483,  0.86329216, -0.8983377 , -0.8809112 , -0.7373284 ,\n",
       "        0.99971646, -0.99632365, -0.5879365 , -0.91644776,  0.762883  ,\n",
       "        0.94173956,  0.3675615 , -0.06917011, -0.7468931 ,  0.9756295 ,\n",
       "       -0.9446923 ,  0.99436104, -0.988738  , -0.9842348 ,  0.9995225 ,\n",
       "        0.44878256, -0.98362225, -0.00257322, -0.1986053 ,  0.50779974,\n",
       "        0.11762121,  0.7923819 , -0.38468564, -0.09853946, -0.93165934,\n",
       "        0.78697914, -0.83780235, -0.9726443 , -0.06660265, -0.12505403,\n",
       "       -0.6663676 ,  0.9909503 ,  0.93697083,  0.99976605, -0.99916023,\n",
       "        0.3574107 ,  0.20166942,  0.99765915,  0.06283999, -0.67838347,\n",
       "        0.89375067,  0.9985094 , -0.7952439 ,  0.56527835,  0.04468166,\n",
       "       -0.02948951,  0.3520936 , -0.25257504,  0.99719125, -0.92670393,\n",
       "        0.17368425, -0.9147061 , -0.99961674,  0.999625  ,  0.1030972 ,\n",
       "        0.98881334,  0.21444656,  0.71266186, -0.26406488,  0.98227125,\n",
       "       -0.9673806 , -0.8597676 , -0.99981576,  0.1628567 , -0.8979792 ,\n",
       "       -0.97778887, -0.0960491 ,  0.9419562 , -0.9988048 , -0.9572805 ,\n",
       "       -0.41369432, -0.9998894 ,  0.8371032 , -0.9859695 , -0.89508605,\n",
       "       -0.9398916 ,  0.99753684, -0.14848225, -0.6441388 ,  0.8907617 ,\n",
       "       -0.8409685 ,  0.9298792 ,  0.88311565, -0.5196358 ,  0.26738155,\n",
       "       -0.08824916, -0.6554941 , -0.99097866, -0.9336715 , -0.8880422 ,\n",
       "        0.81097096, -0.9734282 , -0.09180956,  0.991259  ,  0.95095295,\n",
       "       -0.996231  , -0.98334026,  0.99163646,  0.30311427,  0.95984954,\n",
       "       -0.20067742, -0.99943024, -0.9997265 ,  0.07705014,  0.22331943,\n",
       "        0.99071145, -0.3489476 ,  0.64493656,  0.4046469 , -0.09890429,\n",
       "        0.4371602 , -0.6395691 , -0.4734106 , -0.2678542 ,  0.01706643,\n",
       "        0.9998319 , -0.64944655,  0.9755084 ], dtype=float32)"
      ]
     },
     "execution_count": 64,
     "metadata": {
      "tags": []
     },
     "output_type": "execute_result"
    }
   ],
   "source": [
    "wiki_embeddings[80]"
   ]
  },
  {
   "cell_type": "code",
   "execution_count": 0,
   "metadata": {
    "ExecuteTime": {
     "end_time": "2019-08-19T21:04:54.449317Z",
     "start_time": "2019-08-19T21:04:54.435343Z"
    },
    "colab": {},
    "colab_type": "code",
    "id": "Qdw2NjmI1B0P",
    "outputId": "44f04160-997a-42eb-f67c-dd78aa9ee8f5"
   },
   "outputs": [
    {
     "data": {
      "text/plain": [
       "array([[-0.6933161 ,  0.47025025,  0.9999135 , -0.99660355,  0.9851954 ,\n",
       "         0.960818  ,  0.99358225, -0.996475  , -0.99219203, -0.7776344 ,\n",
       "         0.9933404 ,  0.999158  , -0.9991851 , -0.9998188 ,  0.9236561 ,\n",
       "        -0.9897535 ,  0.9928965 , -0.5995832 , -0.9999628 , -0.765159  ,\n",
       "        -0.62131405, -0.9998955 ,  0.15941896,  0.9845404 ,  0.9890971 ,\n",
       "         0.15024652,  0.9925182 ,  0.99997085,  0.9569553 , -0.51040554,\n",
       "         0.31240803, -0.99369186,  0.95905554, -0.9990525 ,  0.03317375,\n",
       "         0.20919818,  0.92802966, -0.1934318 ,  0.9283809 , -0.9463296 ,\n",
       "        -0.92103636, -0.8984851 ,  0.8453491 , -0.55665684,  0.9435064 ,\n",
       "         0.3248134 , -0.02579121, -0.13935095, -0.01328326,  0.9995653 ,\n",
       "        -0.9913313 ,  0.9966662 , -0.99844533,  0.9975055 ,  0.99748653,\n",
       "         0.39023528,  0.99779487,  0.10745329, -0.9996951 ,  0.5747412 ,\n",
       "         0.9779437 ,  0.31994483,  0.9732678 , -0.23498113,  0.69712627,\n",
       "        -0.6403185 , -0.9487672 , -0.00240412, -0.4839408 ,  0.19311474,\n",
       "         0.46952567,  0.41689837,  0.996195  , -0.95393246,  0.05613215,\n",
       "        -0.91529   , -0.32887936, -0.9999126 ,  0.9785041 ,  0.9999692 ,\n",
       "         0.85608226, -0.999804  ,  0.99741006, -0.2122518 , -0.85458684,\n",
       "         0.8450539 , -0.9997768 , -0.9996548 ,  0.1307191 , -0.7365172 ,\n",
       "         0.95987034, -0.99419844,  0.8729572 , -0.9551996 ,  0.99998164,\n",
       "        -0.9611276 , -0.10686378,  0.25688815,  0.9753676 , -0.8757349 ,\n",
       "        -0.86505   ,  0.96470726,  0.9997929 , -0.9988086 ,  0.99968404,\n",
       "         0.89456445, -0.9707254 , -0.89096636,  0.89101326, -0.10552558,\n",
       "         0.9958607 , -0.99559325, -0.90743774, -0.07411636,  0.9841092 ,\n",
       "        -0.90598404,  0.9942226 ,  0.87744284, -0.26624304,  0.99998355,\n",
       "        -0.04175166,  0.99160737,  0.9992321 ,  0.94568247, -0.95251983,\n",
       "        -0.25584677, -0.8230736 ,  0.94036454, -0.7449509 , -0.6466038 ,\n",
       "         0.81811357, -0.9945417 , -0.9994797 ,  0.9996701 , -0.19574004,\n",
       "         0.9999757 , -0.99945503,  0.99707955, -0.9999485 , -0.8763079 ,\n",
       "        -0.8882787 ,  0.05785398, -0.9956289 , -0.01671937,  0.99538755,\n",
       "         0.03671717, -0.9810744 , -0.843104  ,  0.7827672 , -0.95064986,\n",
       "         0.6358514 ,  0.78344303, -0.9855788 ,  0.985133  ,  0.99889165,\n",
       "         0.97980154,  0.9931151 ,  0.160448  , -0.98329645,  0.9536909 ,\n",
       "         0.99430275, -0.9997382 ,  0.76976216, -0.99739325,  0.99942076,\n",
       "         0.9860794 ,  0.90486854, -0.9982324 ,  0.99994093, -0.8193278 ,\n",
       "        -0.36094594,  0.06227987,  0.06061668, -0.999786  ,  0.5071223 ,\n",
       "         0.47399065,  0.8789767 ,  0.9992468 , -0.9985771 ,  0.99940383,\n",
       "         0.8426559 ,  0.23105724,  0.8545465 ,  0.999542  , -0.9978668 ,\n",
       "        -0.9927829 , -0.9913767 ,  0.00819889,  0.8444791 ,  0.8259371 ,\n",
       "         0.51736265,  0.9839267 ,  0.99978614,  0.91111726, -0.9979216 ,\n",
       "        -0.386908  ,  0.9861755 , -0.00737973,  0.99997777, -0.75013167,\n",
       "        -0.9998377 , -0.8641132 ,  0.9825534 ,  0.9977231 , -0.26051998,\n",
       "         0.9948772 , -0.82928276, -0.24372874,  0.99476   , -0.98395103,\n",
       "         0.9996186 ,  0.5797137 ,  0.94715285,  0.8479663 ,  0.99587876,\n",
       "        -0.948249  , -0.04258311,  0.15979287, -0.82155323,  0.9999078 ,\n",
       "        -0.99969155, -0.21894486,  0.56480443, -0.9958044 , -0.9990203 ,\n",
       "         0.9931301 ,  0.0655954 , -0.9467537 , -0.21823491,  0.9107894 ,\n",
       "         0.2357352 ,  0.9609615 ,  0.9932826 , -0.7553919 , -0.8879082 ,\n",
       "        -0.9998641 , -0.99938565, -0.9516443 , -0.97834885, -0.00588643,\n",
       "         0.6990955 , -0.35527942, -0.9707327 , -0.99968845,  0.979137  ,\n",
       "         0.7501278 , -0.9548547 ,  0.02797682, -0.8424152 , -0.9995846 ,\n",
       "         0.80399966, -0.94055337, -0.9986151 ,  0.9996023 , -0.91789067,\n",
       "         0.9989606 ,  0.99065095, -0.9974326 ,  0.93664217, -0.9998106 ,\n",
       "        -0.12342565, -0.99576974,  0.4698604 ,  0.8354154 , -0.8756804 ,\n",
       "         0.04010534,  0.9952459 , -0.9898649 , -0.8848492 ,  0.84278494,\n",
       "        -0.9999216 ,  0.9422152 , -0.32854396,  0.99950147,  0.9506701 ,\n",
       "        -0.5074199 ,  0.9939023 ,  0.95857215, -0.99308705, -0.9998512 ,\n",
       "         0.9572989 ,  0.87882274, -0.9954048 , -0.1457714 ,  0.9999571 ,\n",
       "        -0.9997067 , -0.9493419 , -0.97685045, -0.99756616, -0.99981076,\n",
       "         0.466447  , -0.9132178 ,  0.28280956,  0.99259824,  0.4807373 ,\n",
       "         0.19362497,  0.996211  ,  0.9977475 ,  0.3260721 , -0.42693615,\n",
       "         0.10190855, -0.9842596 , -0.9225563 ,  0.7545416 ,  0.04504658,\n",
       "        -0.9999707 ,  0.99987984, -0.9975111 ,  0.9943333 ,  0.9844127 ,\n",
       "        -0.9986329 ,  0.92144436,  0.29283708, -0.9848582 , -0.03594415,\n",
       "         0.9999198 ,  0.9953501 , -0.00473434,  0.17584315,  0.9598737 ,\n",
       "        -0.37665084,  0.85960376, -0.9142636 , -0.7928772 ,  0.15156068,\n",
       "        -0.9465574 ,  0.9968637 ,  0.8497833 , -0.99429876,  0.99841434,\n",
       "        -0.05993666,  0.8968736 , -0.89824694,  0.9451634 ,  0.99261165,\n",
       "         0.00603308, -0.55140364, -0.10905943,  0.2051649 , -0.99177384,\n",
       "         0.30444756, -0.9987022 , -0.7468773 ,  0.9745651 ,  0.9961709 ,\n",
       "        -0.9979496 ,  0.99600536, -0.09509431,  0.95904875, -0.99964345,\n",
       "         0.9999868 , -0.99936014,  0.01621102,  0.79673076, -0.9513783 ,\n",
       "        -0.8024244 ,  0.9963747 ,  0.9952907 ,  0.98834705, -0.85109174,\n",
       "        -0.7569752 ,  0.9561757 ,  0.9882105 , -0.99206203, -0.09592494,\n",
       "        -0.99989134, -0.8582141 ,  0.99663717,  0.99904156,  0.0349458 ,\n",
       "         0.5201901 , -0.99907374,  0.9866499 , -0.941943  , -0.94110507,\n",
       "         0.00248493, -0.9207919 ,  0.87116075,  0.9994638 , -0.7732258 ,\n",
       "         0.7798929 ,  0.13956302, -0.9939911 ,  0.9424594 ,  0.8477642 ,\n",
       "         0.99990356, -0.98673606,  0.4119096 ,  0.9943767 , -0.20998943,\n",
       "        -0.80614245,  0.7150352 ,  0.9997182 , -0.9939638 , -0.16827264,\n",
       "        -0.9997865 , -0.03872789, -0.61955094, -0.52679443, -0.57581156,\n",
       "         0.05737103, -0.92066085,  0.9802725 ,  0.01441856,  0.9066811 ,\n",
       "        -0.19503437,  0.99135655,  0.18172133, -0.12461296, -0.28477433,\n",
       "        -0.49517563,  0.438826  ,  0.42027697,  0.9931565 , -0.9926249 ,\n",
       "         0.9997054 , -0.5328933 , -0.9999783 , -0.9994986 , -0.81795293,\n",
       "        -0.9994159 ,  0.941152  , -0.998519  ,  0.9929677 ,  0.9728981 ,\n",
       "        -0.9996262 , -0.9998613 , -0.9992661 , -0.995535  ,  0.9437887 ,\n",
       "         0.69250005,  0.09218968,  0.7238395 , -0.45356986, -0.00730482,\n",
       "        -0.11124516, -0.01447965, -0.9845342 , -0.5171325 , -0.9996992 ,\n",
       "         0.74900264, -0.99997425, -0.8250774 ,  0.9990751 , -0.99831843,\n",
       "        -0.9646465 , -0.9482979 , -0.96527666, -0.92517394,  0.48355252,\n",
       "         0.98946387, -0.19372915, -0.6990744 , -0.99913764,  0.99532324,\n",
       "        -0.9293696 ,  0.07202856, -0.9192045 , -0.9875344 ,  0.9998171 ,\n",
       "         0.9224128 , -0.3394883 ,  0.00309223, -0.999399  ,  0.9945986 ,\n",
       "        -0.97912294, -0.92353433, -0.9917561 ,  0.2047741 , -0.97799295,\n",
       "        -0.99986684, -0.0527619 ,  0.99935687,  0.9984433 ,  0.9868331 ,\n",
       "         0.35427487, -0.3429379 , -0.96385366,  0.03508134, -0.9999501 ,\n",
       "         0.92269343,  0.9286931 , -0.99424136, -0.89757997,  0.9973235 ,\n",
       "         0.9893136 , -0.98309886, -0.99269474,  0.9747151 ,  0.16021538,\n",
       "         0.9848829 , -0.78747845, -0.49599648,  0.29127306,  0.08719803,\n",
       "        -0.9953074 , -0.94595385,  0.9978375 , -0.9998559 ,  0.9946124 ,\n",
       "         0.99908394,  0.9997286 , -0.28413907,  0.2769574 , -0.99617946,\n",
       "        -0.9957184 , -0.7960825 ,  0.55714726, -0.99995464,  0.9999165 ,\n",
       "        -0.9999791 ,  0.71372294, -0.84294146,  0.95412886,  0.9961099 ,\n",
       "        -0.5175611 , -0.9999291 , -0.99985373,  0.9113734 ,  0.143239  ,\n",
       "         0.99280024,  0.42002583,  0.2592181 , -0.72948074,  0.07797517,\n",
       "         0.998348  , -0.9699434 , -0.9225621 , -0.9996912 ,  0.9997827 ,\n",
       "         0.80472106, -0.9988326 ,  0.99830157, -0.9996791 ,  0.9464683 ,\n",
       "         0.98302746,  0.88866305,  0.99295133, -0.99981135,  0.99997693,\n",
       "        -0.99984974,  0.9993627 , -0.99998564, -0.99983037,  0.99984676,\n",
       "        -0.994222  , -0.87273526, -0.99980366, -0.9992807 ,  0.80595934,\n",
       "         0.03584233, -0.26841104,  0.99315554, -0.99984616, -0.99923164,\n",
       "        -0.36948055, -0.9727934 , -0.9127561 ,  0.9985458 , -0.84069633,\n",
       "         0.9964129 , -0.2934165 ,  0.9817969 ,  0.4407313 ,  0.998994  ,\n",
       "         0.9973269 , -0.88840663, -0.71426487, -0.9967801 ,  0.99407494,\n",
       "        -0.7190124 ,  0.38834837,  0.98316586,  0.15065594, -0.81641924,\n",
       "         0.2748167 , -0.9985956 ,  0.41695666, -0.13246296,  0.93138754,\n",
       "         0.9674912 ,  0.8987637 , -0.29879588, -0.6547213 , -0.35751465,\n",
       "        -0.9966333 ,  0.5766715 , -0.999676  ,  0.9914718 , -0.9874957 ,\n",
       "         0.01112048, -0.46702006,  0.21207184, -0.9898168 ,  0.9997306 ,\n",
       "         0.9992782 , -0.9957466 ,  0.03749803,  0.99293524, -0.87860477,\n",
       "         0.9931581 , -0.99563587,  0.12816577,  0.9801504 , -0.8460404 ,\n",
       "         0.99157023, -0.2171454 ,  0.02687228,  0.9833573 , -0.9974202 ,\n",
       "        -0.9684378 , -0.81235623,  0.45803392,  0.54354835, -0.98438436,\n",
       "         0.00223447,  0.99497736, -0.42791006, -0.9998458 ,  0.9829021 ,\n",
       "        -0.9996024 , -0.17885135,  0.9892139 , -0.6121348 ,  0.9999504 ,\n",
       "        -0.88718724,  0.17269777,  0.38991132, -0.9998787 , -0.99967355,\n",
       "        -0.01522932, -0.13293922, -0.9690215 ,  0.999845  , -0.2894395 ,\n",
       "         0.9204088 , -0.9998886 ,  0.17813888,  0.99869484,  0.16621438,\n",
       "         0.9423383 , -0.9014797 , -0.99025524, -0.9764738 , -0.6182169 ,\n",
       "        -0.04264976,  0.9375148 , -0.99670357, -0.95169044, -0.89487964,\n",
       "         0.9999608 , -0.9991126 , -0.9502415 , -0.991731  ,  0.5313402 ,\n",
       "         0.9355142 ,  0.4537584 ,  0.0578354 , -0.958784  ,  0.9637383 ,\n",
       "        -0.9629705 ,  0.9981935 , -0.99668866, -0.9975046 ,  0.9998287 ,\n",
       "         0.8473257 , -0.9983924 ,  0.5247203 , -0.43642715,  0.5212936 ,\n",
       "         0.20982724,  0.86137056, -0.98263156, -0.13608712, -0.9994786 ,\n",
       "         0.97084886, -0.91021556, -0.9939167 , -0.8074217 , -0.30128095,\n",
       "        -0.989698  ,  0.9970862 ,  0.9853787 ,  0.9999586 , -0.9998637 ,\n",
       "         0.9365104 , -0.03672982,  0.99949515,  0.03250434, -0.7079749 ,\n",
       "         0.96345407,  0.9997392 , -0.8361567 ,  0.89621407, -0.11565053,\n",
       "         0.01809548,  0.39884594, -0.280875  ,  0.9992037 , -0.9716134 ,\n",
       "        -0.04573712, -0.9900145 , -0.99992055,  0.99993557,  0.03386543,\n",
       "         0.9952927 ,  0.23815097,  0.8102406 , -0.9505731 ,  0.98853666,\n",
       "        -0.99198085, -0.9556475 , -0.99997985, -0.01014318, -0.9960411 ,\n",
       "        -0.994273  , -0.02574693,  0.9943548 , -0.9997495 , -0.99699277,\n",
       "        -0.537512  , -0.9999834 ,  0.9785806 , -0.99629235, -0.9564988 ,\n",
       "        -0.9936543 ,  0.9996843 , -0.47213736, -0.78629255,  0.9885906 ,\n",
       "        -0.989427  ,  0.97418636,  0.9850124 , -0.6646035 ,  0.12477359,\n",
       "         0.15514258, -0.8385489 , -0.9976481 , -0.97740483, -0.9784749 ,\n",
       "         0.9557674 , -0.99494344, -0.9444633 ,  0.99788386,  0.99548554,\n",
       "        -0.99925894, -0.997317  ,  0.99834174,  0.45571268,  0.99328035,\n",
       "        -0.57327664, -0.9998984 , -0.99994415,  0.06484761,  0.15665896,\n",
       "         0.99698186, -0.40176585,  0.9725539 ,  0.83080304, -0.82088304,\n",
       "         0.7623768 , -0.8265311 , -0.3858043 , -0.39515734, -0.02406197,\n",
       "         0.9999785 , -0.8914965 ,  0.9972204 ]], dtype=float32)"
      ]
     },
     "execution_count": 29,
     "metadata": {
      "tags": []
     },
     "output_type": "execute_result"
    }
   ],
   "source": [
    "target_embedding"
   ]
  },
  {
   "cell_type": "code",
   "execution_count": 0,
   "metadata": {
    "ExecuteTime": {
     "end_time": "2019-08-19T21:05:35.893078Z",
     "start_time": "2019-08-19T21:05:35.888152Z"
    },
    "colab": {},
    "colab_type": "code",
    "id": "HSwCqAUr1B0W",
    "outputId": "536cc9a4-a9b2-4ed8-bb26-3229e0506419"
   },
   "outputs": [
    {
     "data": {
      "text/plain": [
       "array([0.99182254], dtype=float32)"
      ]
     },
     "execution_count": 30,
     "metadata": {
      "tags": []
     },
     "output_type": "execute_result"
    }
   ],
   "source": [
    "np.dot(target_embedding, wiki_embeddings[169394])/np.linalg.norm(target_embedding)/np.linalg.norm(wiki_embeddings[169394])"
   ]
  },
  {
   "cell_type": "code",
   "execution_count": 0,
   "metadata": {
    "ExecuteTime": {
     "end_time": "2019-08-19T21:31:34.634000Z",
     "start_time": "2019-08-19T21:31:34.595647Z"
    },
    "colab": {},
    "colab_type": "code",
    "id": "zIWYtoOe1B0d",
    "outputId": "337aabbf-b548-47bd-9e75-a6c2d7d330ba"
   },
   "outputs": [
    {
     "data": {
      "text/plain": [
       "'Mass fraction (chemistry)\\nMass fraction (chemistry)\\nIn chemistry, the mass fraction of a substance within a mixture is the ratio\\n(alternatively denoted\\n) of the mass\\nof that substance to the total mass\\nof the mixture.[1] Expressed as a formula, the mass fraction is:\\nBecause the individual masses of the ingredients of a mixture sum to\\n, their mass fractions sum to unity:\\nMass fraction can also be expressed, with a denominator of 100, as percentage by mass (in commercial contexts often called percentage by weight, abbreviated wt%; see mass versus weight). It is one way of expressing the composition of a mixture in a dimensionless size; mole fraction (percentage by moles, mol%) and volume fraction (percentage by volume, vol%) are others.\\nWhen the prevalences of interest are those of individual chemical elements, rather than of compounds or other substances, the term mass fraction can also refer to the ratio of the mass of an element to the total mass of a sample. In these contexts an alternative term is mass percent composition.\\nThe mass fraction of an element in a compound can be calculated from the compound\\'s empirical formula[2] or its chemical formula.[3]\\nTerminology\\n\"Percent concentration\" does not refer to this quantity. This improper name persists, especially in elementary textbooks. In biology, the unit \"%\" is sometimes (incorrectly) used to denote mass concentration, also called \"mass/volume percentage.\" A solution with 1 g of solute dissolved in a final volume of 100 mL of solution would be labeled as \"1 %\" or \"1 % m/v\" (mass/volume). This is incorrect because the unit \"%\" can only be used for dimensionless quantities. Instead, the concentration should simply be given in units of g/mL. \"Percent solution\" or \"percentage solution\" are thus terms best reserved for \"mass percent solutions\" (m/m = m% = mass solute/mass total solution after mixing), or \"volume percent solutions\" (v/v = v% = volume solute per volume of total solution after mixing). The very ambiguous terms \"percent solution\" and \"percentage solutions\" with no other qualifiers continue to occasionally be encountered.\\nIn thermal engineering, vapor quality is used for the mass fraction of vapor in the steam.\\nIn alloys, especially those of noble metals, the term fineness is used for the mass fraction of the noble metal in the alloy.\\nProperties\\nThe mass fraction is independent of temperature until phase change does not occur.\\nMixing ratio\\nThe mixing of two pure components can be expressed introducing the (mass) mixing ratio of them\\n. Then the mass fractions of the components will be:\\nThe mass ratio equals the ratio of mass fractions of components:\\ndue to division of both numerator and denominator by the sum of masses of components.\\nMass concentration\\nThe mass fraction of a component in a solution is the ratio of the mass concentration of that component ρi (density of that component in the mixture) to the density of solution\\n.\\nMolar concentration\\nThe relation to molar concentration is like that from above substituting the relation between mass and molar concentration\\nwhere\\nis the molar concentration and\\nis the molar mass of the component\\n.\\nMass percentage\\nThe mass percentage is sometimes called weight percent (wt%) or weight-weight percentage.\\nMole fraction\\nThe mole fraction\\ncan be calculated using the formula\\nwhere\\nis the molar mass of the component\\nand\\nis the average molar mass of the mixture.\\nReplacing the expression of the molar mass-products:\\nSpatial variation and gradient\\nIn a spatially non-uniform mixture, the mass fraction gradient gives rise to the phenomenon of diffusion.\\nSee also\\nMass-flux fraction\\nReferences\\nIUPAC, Compendium of Chemical Terminology, 2nd ed. (the \"Gold Book\") (1997). Online corrected version: \\xa0(2006–) \"mass fraction\". doi:10.1351/goldbook.M03722 Formula from Mass Composition \"How to Calculate Mass Percent Composition\". ThoughtCo. Retrieved 2018-01-05.\\nArticles related to solutionsSolution\\nIdeal solution\\nAqueous solution\\nSolid solution\\nBuffer solution\\nFlory–Huggins\\nMixture\\nSuspension\\nColloid\\nPhase diagram\\nPhase separation\\nEutectic point\\nAlloy\\nSaturation\\nSupersaturation\\nSerial dilution\\nDilution (equation)\\nApparent molar property\\nMiscibility gap\\nConcentrationand related quantities\\nMolar concentration\\nMass concentration\\nNumber concentration\\nVolume concentration\\nNormality\\nPercentage solution\\nMolality\\nMole fraction\\nMass fraction\\nIsotopic abundance\\nMixing ratio\\nTernary plot\\nSolubility\\nSolubility equilibrium\\nTotal dissolved solids\\nSolvation\\nSolvation shell\\nEnthalpy of solution\\nLattice energy\\nRaoult\\'s law\\nHenry\\'s law\\nSolubility table (data)\\nSolubility chart\\nSolvent\\n(Category)\\nAcid dissociation constant\\nProtic solvent\\nInorganic nonaqueous solvent\\nSolvation\\nList of boiling and freezing information of solvents\\nPartition coefficient\\nPolarity\\nHydrophobe\\nHydrophile\\nLipophilic\\nAmphiphile\\nLyonium ion\\nLyate ion\\nThis article is issued from\\nWikipedia.\\nThe text is licensed under Creative\\nCommons - Attribution - Sharealike.\\nAdditional terms may apply for the media files.'"
      ]
     },
     "execution_count": 65,
     "metadata": {
      "tags": []
     },
     "output_type": "execute_result"
    }
   ],
   "source": [
    "soup = BeautifulSoup(\n",
    "    zim_file._get_article_by_index(80).data, \"lxml\")\n",
    "\n",
    "# kill all script and style elements\n",
    "for script in soup([\"script\", \"style\"]):\n",
    "    script.decompose()  # rip it out\n",
    "\n",
    "# get text\n",
    "text = soup.get_text()\n",
    "\n",
    "# break into lines and remove leading and trailing space on each\n",
    "lines = (line.strip() for line in text.splitlines())\n",
    "# break multi-headlines into a line each\n",
    "chunks = (phrase.strip() for line in lines\n",
    "          for phrase in line.split(\"  \"))\n",
    "# drop blank lines\n",
    "'\\n'.join(chunk for chunk in chunks if chunk)"
   ]
  },
  {
   "cell_type": "code",
   "execution_count": 0,
   "metadata": {
    "colab": {},
    "colab_type": "code",
    "id": "PS_kJGY-1B0h"
   },
   "outputs": [],
   "source": []
  }
 ],
 "metadata": {
  "accelerator": "GPU",
  "colab": {
   "name": "Bertle.ipynb",
   "provenance": [],
   "version": "0.3.2"
  },
  "kernelspec": {
   "display_name": "Python 3",
   "language": "python",
   "name": "python3"
  },
  "language_info": {
   "codemirror_mode": {
    "name": "ipython",
    "version": 3
   },
   "file_extension": ".py",
   "mimetype": "text/x-python",
   "name": "python",
   "nbconvert_exporter": "python",
   "pygments_lexer": "ipython3",
   "version": "3.6.8"
  }
 },
 "nbformat": 4,
 "nbformat_minor": 1
}
