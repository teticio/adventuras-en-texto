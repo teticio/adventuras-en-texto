{
  "nbformat": 4,
  "nbformat_minor": 0,
  "metadata": {
    "accelerator": "GPU",
    "colab": {
      "name": "BERT predict.ipynb",
      "provenance": [],
      "collapsed_sections": [],
      "include_colab_link": true
    },
    "kernelspec": {
      "display_name": "Python 3",
      "language": "python",
      "name": "python3"
    },
    "language_info": {
      "codemirror_mode": {
        "name": "ipython",
        "version": 3
      },
      "file_extension": ".py",
      "mimetype": "text/x-python",
      "name": "python",
      "nbconvert_exporter": "python",
      "pygments_lexer": "ipython3",
      "version": "3.6.8"
    },
    "nbTranslate": {
      "displayLangs": [
        "es"
      ],
      "hotkey": "alt-t",
      "langInMainMenu": true,
      "sourceLang": "es",
      "targetLang": "en",
      "useGoogleTranslate": true
    },
    "toc": {
      "base_numbering": 1,
      "nav_menu": {},
      "number_sections": false,
      "sideBar": true,
      "skip_h1_title": false,
      "title_cell": "Table of Contents",
      "title_sidebar": "Contents",
      "toc_cell": false,
      "toc_position": {},
      "toc_section_display": true,
      "toc_window_display": false
    },
    "varInspector": {
      "cols": {
        "lenName": 16,
        "lenType": 16,
        "lenVar": 40
      },
      "kernels_config": {
        "python": {
          "delete_cmd_postfix": "",
          "delete_cmd_prefix": "del ",
          "library": "var_list.py",
          "varRefreshCmd": "print(var_dic_list())"
        },
        "r": {
          "delete_cmd_postfix": ") ",
          "delete_cmd_prefix": "rm(",
          "library": "var_list.r",
          "varRefreshCmd": "cat(var_dic_list()) "
        }
      },
      "types_to_exclude": [
        "module",
        "function",
        "builtin_function_or_method",
        "instance",
        "_Feature"
      ],
      "window_display": false
    }
  },
  "cells": [
    {
      "cell_type": "markdown",
      "metadata": {
        "id": "view-in-github",
        "colab_type": "text"
      },
      "source": [
        "<a href=\"https://colab.research.google.com/github/teticio/aventuras-con-textos/blob/master/BERT_entiende.ipynb\" target=\"_parent\"><img src=\"https://colab.research.google.com/assets/colab-badge.svg\" alt=\"Open In Colab\"/></a>"
      ]
    },
    {
      "cell_type": "markdown",
      "metadata": {
        "colab_type": "text",
        "id": "-_qTxZ6ijepG",
        "lang": "es"
      },
      "source": [
        "# Contestar preguntas sobre un texto\n",
        "\n",
        "BERT ha conseguido resultados del estado del arte en la tarea de SQuAD (Stanford Question Answering Dataset), que consiste en indentificar la sección de un texto que corresponda a una pregunta.\n",
        "\n",
        "Por ejemplo:\n",
        "\n",
        "Q: *Where do water droplets collide with ice crystals to form precipitation?*\n",
        "\n",
        "A: In meteorology, precipitation is any product of the condensation of atmospheric water vapor that falls under gravity. The main forms of precipitation include drizzle, rain, sleet, snow, graupel and hail… Precipitation forms as smaller droplets coalesce via collision with other rain drops or ice crystals **within a cloud**. Short, intense periods of rain in scattered locations are called “showers”.\n",
        "\n",
        "Vamos a usar un modelo que ha sido fine-tuneado con esta tarea para contestar preguntas sobre textos en general."
      ]
    },
    {
      "cell_type": "markdown",
      "metadata": {
        "lang": "en",
        "id": "HO7ipdfBJ6lr",
        "colab_type": "text"
      },
      "source": [
        "# Answer questions about a text\n",
        "\n",
        "BERT has acheived state of the art results in the SQuAD task (Stanford Question Answering Dataset), which consists of identifying the section of a text that corresponds to a question.\n",
        "\n",
        "For example:\n",
        "\n",
        "Q: *Where do water droplets collide with ice crystals to form precipitation?*\n",
        "\n",
        "A: In meteorology, precipitation is any product of the condensation of atmospheric water vapor that falls under gravity. The main forms of precipitation include drizzle, rain, sleet, snow, graupel and hail… Precipitation forms as smaller droplets coalesce via collision with other rain drops or ice crystals **within a cloud**. Short, intense periods of rain in scattered locations are called “showers”.\n",
        "\n",
        "We are going to use a model that has been fine-tuned with the task to answer general questions about texts."
      ]
    },
    {
      "cell_type": "markdown",
      "metadata": {
        "colab_type": "text",
        "id": "Cwp7ENpPh7oa",
        "lang": "es"
      },
      "source": [
        "### Descargar el modelo de BERT pre-entrenado con SQUAD"
      ]
    },
    {
      "cell_type": "markdown",
      "metadata": {
        "lang": "en",
        "id": "Vabe5dhJJ6lu",
        "colab_type": "text"
      },
      "source": [
        "### Download the BERT model pre-trained with SQUAD"
      ]
    },
    {
      "cell_type": "code",
      "metadata": {
        "ExecuteTime": {
          "end_time": "2019-10-01T19:58:27.903264Z",
          "start_time": "2019-10-01T19:58:19.961133Z"
        },
        "colab_type": "code",
        "id": "K5_6isvosq17",
        "outputId": "751cf56c-7390-44e1-b89d-7336e6afc8d6",
        "colab": {
          "base_uri": "https://localhost:8080/",
          "height": 126
        }
      },
      "source": [
        "# de https://github.com/Maaarcocr\n",
        "!test -f squad_bert_base.tgz || wget https://s3.eu-west-2.amazonaws.com/nlpfiles/squad_bert_base.tgz\n",
        "!test -e squad_bert_base || tar -xvf squad_bert_base.tgz"
      ],
      "execution_count": 3,
      "outputs": [
        {
          "output_type": "stream",
          "text": [
            "squad_bert_base/\n",
            "squad_bert_base/bert_config.json\n",
            "squad_bert_base/model.ckpt-14599.meta\n",
            "squad_bert_base/vocab.txt\n",
            "squad_bert_base/model.ckpt-14599.data-00000-of-00001\n",
            "squad_bert_base/model.ckpt-14599.index\n"
          ],
          "name": "stdout"
        }
      ]
    },
    {
      "cell_type": "markdown",
      "metadata": {
        "colab_type": "text",
        "id": "q_jboSJ5iGRU",
        "lang": "es"
      },
      "source": [
        "### Instalar e importar BERT"
      ]
    },
    {
      "cell_type": "markdown",
      "metadata": {
        "lang": "en",
        "id": "KmOtuDaAJ6l4",
        "colab_type": "text"
      },
      "source": [
        "### Install and import BERT"
      ]
    },
    {
      "cell_type": "code",
      "metadata": {
        "ExecuteTime": {
          "end_time": "2019-10-01T19:58:28.027507Z",
          "start_time": "2019-10-01T19:58:27.904701Z"
        },
        "colab_type": "code",
        "id": "swIO05WYoRCR",
        "colab": {
          "base_uri": "https://localhost:8080/",
          "height": 145
        },
        "outputId": "177fb2d4-9424-43fe-da98-163e02eaa7c0"
      },
      "source": [
        "import sys\n",
        "\n",
        "!test -d bert_repo || git clone https://github.com/google-research/bert bert_repo\n",
        "if not 'bert_repo' in sys.path:\n",
        "    sys.path += ['bert_repo']\n",
        "\n",
        "# import python modules defined by BERT\n",
        "import modeling as tfm\n",
        "import tokenization as tft\n",
        "import run_squad as rs"
      ],
      "execution_count": 4,
      "outputs": [
        {
          "output_type": "stream",
          "text": [
            "Cloning into 'bert_repo'...\n",
            "remote: Enumerating objects: 333, done.\u001b[K\n",
            "remote: Total 333 (delta 0), reused 0 (delta 0), pack-reused 333\u001b[K\n",
            "Receiving objects: 100% (333/333), 282.45 KiB | 945.00 KiB/s, done.\n",
            "Resolving deltas: 100% (183/183), done.\n",
            "WARNING:tensorflow:From bert_repo/optimization.py:87: The name tf.train.Optimizer is deprecated. Please use tf.compat.v1.train.Optimizer instead.\n",
            "\n"
          ],
          "name": "stdout"
        }
      ]
    },
    {
      "cell_type": "markdown",
      "metadata": {
        "colab_type": "text",
        "id": "Ak-H_gGniKrc",
        "lang": "es"
      },
      "source": [
        "### Importar las librerías"
      ]
    },
    {
      "cell_type": "markdown",
      "metadata": {
        "lang": "en",
        "id": "TmFCCOlFJ6mB",
        "colab_type": "text"
      },
      "source": [
        "### Import libraries"
      ]
    },
    {
      "cell_type": "code",
      "metadata": {
        "ExecuteTime": {
          "end_time": "2019-10-01T19:58:28.032210Z",
          "start_time": "2019-10-01T19:58:28.029486Z"
        },
        "colab_type": "code",
        "id": "eUVxkpNcp68L",
        "colab": {}
      },
      "source": [
        "import os\n",
        "import numpy as np\n",
        "import tensorflow as tf\n",
        "from keras.preprocessing import sequence\n",
        "from keras.utils import get_file\n",
        "from IPython.core.display import HTML, display\n",
        "\n",
        "model_dir = './squad_bert_base/'\n",
        "vocab_file = model_dir + \"vocab.txt\"\n",
        "bert_config_file = model_dir + \"bert_config.json\"\n",
        "init_checkpoint = model_dir + \"model.ckpt-14599\"\n",
        "max_seq_length = 512"
      ],
      "execution_count": 0,
      "outputs": []
    },
    {
      "cell_type": "markdown",
      "metadata": {
        "colab_type": "text",
        "id": "oTGpSyhMiOu4",
        "lang": "es"
      },
      "source": [
        "### Configurar BERT y preparar el tokenizador"
      ]
    },
    {
      "cell_type": "markdown",
      "metadata": {
        "lang": "en",
        "id": "edQSyxvdJ6mI",
        "colab_type": "text"
      },
      "source": [
        "### Configure BERT and prepare the tokenizer"
      ]
    },
    {
      "cell_type": "code",
      "metadata": {
        "ExecuteTime": {
          "end_time": "2019-10-01T19:58:28.096319Z",
          "start_time": "2019-10-01T19:58:28.033841Z"
        },
        "colab_type": "code",
        "id": "QfYnLriNow1G",
        "colab": {
          "base_uri": "https://localhost:8080/",
          "height": 54
        },
        "outputId": "50ef20a9-cc02-462d-fa67-5a2c5d8b5b89"
      },
      "source": [
        "# convert to lower case?\n",
        "convertir_a_minusculas = True\n",
        "bert_config = tfm.BertConfig.from_json_file(bert_config_file)\n",
        "tokenizer = tft.FullTokenizer(vocab_file=vocab_file,\n",
        "                              do_lower_case=convertir_a_minusculas)"
      ],
      "execution_count": 6,
      "outputs": [
        {
          "output_type": "stream",
          "text": [
            "WARNING:tensorflow:From bert_repo/modeling.py:93: The name tf.gfile.GFile is deprecated. Please use tf.io.gfile.GFile instead.\n",
            "\n"
          ],
          "name": "stdout"
        }
      ]
    },
    {
      "cell_type": "markdown",
      "metadata": {
        "colab_type": "text",
        "id": "MnSs2gnNiTn3",
        "lang": "es"
      },
      "source": [
        "### Definir los inputs al modelo"
      ]
    },
    {
      "cell_type": "markdown",
      "metadata": {
        "lang": "en",
        "id": "OFNTunVoJ6mU",
        "colab_type": "text"
      },
      "source": [
        "### Define the inputs to the model"
      ]
    },
    {
      "cell_type": "code",
      "metadata": {
        "ExecuteTime": {
          "end_time": "2019-10-01T19:58:28.111522Z",
          "start_time": "2019-10-01T19:58:28.097744Z"
        },
        "colab_type": "code",
        "id": "hj_uO0uiqRgN",
        "colab": {}
      },
      "source": [
        "input_ids = tf.placeholder(name='input_ids',\n",
        "                           shape=(1, max_seq_length),\n",
        "                           dtype='int32')\n",
        "input_mask = tf.placeholder(name='input_mask',\n",
        "                            shape=(1, max_seq_length),\n",
        "                            dtype='int32')\n",
        "segment_ids = tf.placeholder(name='segment_ids',\n",
        "                             shape=(1, max_seq_length),\n",
        "                             dtype='int32')"
      ],
      "execution_count": 0,
      "outputs": []
    },
    {
      "cell_type": "markdown",
      "metadata": {
        "colab_type": "text",
        "id": "kZfltyuhiWpH",
        "lang": "es"
      },
      "source": [
        "### Construir el modelo"
      ]
    },
    {
      "cell_type": "markdown",
      "metadata": {
        "lang": "en",
        "id": "Io5QRsYLJ6mj",
        "colab_type": "text"
      },
      "source": [
        "### Build the model"
      ]
    },
    {
      "cell_type": "code",
      "metadata": {
        "ExecuteTime": {
          "end_time": "2019-10-01T19:58:31.327853Z",
          "start_time": "2019-10-01T19:58:28.112823Z"
        },
        "id": "l3GWdOOUJ6md",
        "colab_type": "code",
        "colab": {}
      },
      "source": [
        "(start_logits, end_logits) = rs.create_model(bert_config=bert_config,\n",
        "                                             is_training=False,\n",
        "                                             input_ids=input_ids,\n",
        "                                             input_mask=input_mask,\n",
        "                                             segment_ids=segment_ids,\n",
        "                                             use_one_hot_embeddings=False)"
      ],
      "execution_count": 0,
      "outputs": []
    },
    {
      "cell_type": "markdown",
      "metadata": {
        "colab_type": "text",
        "id": "oK2VrPdWif7r",
        "lang": "es"
      },
      "source": [
        "### Inizializar los pesos con el checkpoint del modelo pre-entrenado"
      ]
    },
    {
      "cell_type": "markdown",
      "metadata": {
        "lang": "en",
        "id": "7dmHJRhtJ6mn",
        "colab_type": "text"
      },
      "source": [
        "### Initialize the weights with the checkpoint of the pre-trained model"
      ]
    },
    {
      "cell_type": "code",
      "metadata": {
        "ExecuteTime": {
          "end_time": "2019-10-01T19:58:32.168513Z",
          "start_time": "2019-10-01T19:58:31.329030Z"
        },
        "colab_type": "code",
        "id": "SWWpoYiLqj7m",
        "colab": {}
      },
      "source": [
        "(assignment_map,\n",
        " initialized_variable_names) = tfm.get_assignment_map_from_checkpoint(\n",
        "     tf.trainable_variables(), init_checkpoint)\n",
        "tf.train.init_from_checkpoint(init_checkpoint, assignment_map)"
      ],
      "execution_count": 0,
      "outputs": []
    },
    {
      "cell_type": "markdown",
      "metadata": {
        "colab_type": "text",
        "id": "bTZ9N4qTinuh",
        "lang": "es"
      },
      "source": [
        "### Crear los inputs"
      ]
    },
    {
      "cell_type": "markdown",
      "metadata": {
        "lang": "en",
        "id": "Ti2nDWgQJ6mv",
        "colab_type": "text"
      },
      "source": [
        "### Create the inputs"
      ]
    },
    {
      "cell_type": "code",
      "metadata": {
        "ExecuteTime": {
          "end_time": "2019-10-01T19:58:32.174355Z",
          "start_time": "2019-10-01T19:58:32.170109Z"
        },
        "colab_type": "code",
        "id": "r-D07YE-pTHl",
        "colab": {}
      },
      "source": [
        "# context\n",
        "contexto = \"In meteorology, precipitation is any product of the condensation of atmospheric water vapor that falls under gravity. The main forms of precipitation include drizzle, rain, sleet, snow, graupel and hail… Precipitation forms as smaller droplets coalesce via collision with other rain drops or ice crystals within a cloud. Short, intense periods of rain in scattered locations are called “showers”.\"  #@param {type : \"string\"}\n",
        "# question\n",
        "pregunta = \"Where do water droplets collide with ice crystals to form precipitation?\"  #@param\n",
        "tokens = ['[CLS]'] + tokenizer.tokenize(pregunta) + ['[SEP]'] + tokenizer.tokenize(contexto) + ['[SEP]']\n",
        "input_ids_ = tokenizer.convert_tokens_to_ids(tokens)\n",
        "len_seg = tokens.index('[SEP]') + 1\n",
        "segment_ids_ = [0] * len_seg + [1] * (len(input_ids_) - len_seg)\n",
        "input_mask_ = [1] * len(input_ids_)"
      ],
      "execution_count": 0,
      "outputs": []
    },
    {
      "cell_type": "markdown",
      "metadata": {
        "colab_type": "text",
        "id": "ref2KEEwiuHm",
        "lang": "es"
      },
      "source": [
        "### Hacer que las secuencias tengan el mismo tamaño"
      ]
    },
    {
      "cell_type": "markdown",
      "metadata": {
        "lang": "en",
        "id": "dVjUS732J6m7",
        "colab_type": "text"
      },
      "source": [
        "### Make sequences the same size"
      ]
    },
    {
      "cell_type": "code",
      "metadata": {
        "ExecuteTime": {
          "end_time": "2019-10-01T19:58:32.193477Z",
          "start_time": "2019-10-01T19:58:32.188938Z"
        },
        "colab_type": "code",
        "id": "APowcLPuqOB1",
        "colab": {}
      },
      "source": [
        "input_ids_ = sequence.pad_sequences([input_ids_],\n",
        "                                    maxlen=max_seq_length,\n",
        "                                    padding='post',\n",
        "                                    value=0)\n",
        "segment_ids_ = sequence.pad_sequences([segment_ids_],\n",
        "                                      maxlen=max_seq_length,\n",
        "                                      padding='post',\n",
        "                                      value=0)\n",
        "input_mask_ = sequence.pad_sequences([input_mask_],\n",
        "                                     maxlen=max_seq_length,\n",
        "                                     padding='post',\n",
        "                                     value=0)"
      ],
      "execution_count": 0,
      "outputs": []
    },
    {
      "cell_type": "markdown",
      "metadata": {
        "colab_type": "text",
        "id": "vJS0gOzdi3El",
        "lang": "es"
      },
      "source": [
        "### Invocar el modelo"
      ]
    },
    {
      "cell_type": "markdown",
      "metadata": {
        "lang": "en",
        "id": "xZK7ZqI0J6nC",
        "colab_type": "text"
      },
      "source": [
        "### Invoke the model"
      ]
    },
    {
      "cell_type": "code",
      "metadata": {
        "ExecuteTime": {
          "end_time": "2019-10-01T19:58:34.750917Z",
          "start_time": "2019-10-01T19:58:32.195019Z"
        },
        "colab_type": "code",
        "id": "mF5mor10qmPH",
        "colab": {}
      },
      "source": [
        "with tf.Session() as sess:\n",
        "    tf.global_variables_initializer().run()\n",
        "    tup = sess.run(\n",
        "        (start_logits, end_logits),\n",
        "        feed_dict={\n",
        "            input_ids: input_ids_,\n",
        "            input_mask: input_mask_,\n",
        "            segment_ids: segment_ids_,\n",
        "        })"
      ],
      "execution_count": 0,
      "outputs": []
    },
    {
      "cell_type": "code",
      "metadata": {
        "ExecuteTime": {
          "end_time": "2019-10-01T19:58:34.754532Z",
          "start_time": "2019-10-01T19:58:34.752418Z"
        },
        "id": "rOR7lRayJ6nP",
        "colab_type": "code",
        "colab": {}
      },
      "source": [
        "start = np.argmax(tup[0])\n",
        "end = np.argmax(tup[1])"
      ],
      "execution_count": 0,
      "outputs": []
    },
    {
      "cell_type": "markdown",
      "metadata": {
        "colab_type": "text",
        "id": "1oeQSI62i_HQ",
        "lang": "es"
      },
      "source": [
        "### Convertir los tokens a texto (las predicciones están en mayúsculas)"
      ]
    },
    {
      "cell_type": "markdown",
      "metadata": {
        "lang": "en",
        "id": "l7JNUrdqJ6nb",
        "colab_type": "text"
      },
      "source": [
        "### Convert tokens to text (predictions are in uppercase)"
      ]
    },
    {
      "cell_type": "code",
      "metadata": {
        "ExecuteTime": {
          "end_time": "2019-10-01T19:58:34.776736Z",
          "start_time": "2019-10-01T19:58:34.769448Z"
        },
        "colab_type": "code",
        "id": "lryDHDbKHD03",
        "outputId": "3aa031de-30e7-42b5-8b1d-a2d6b1e118b2",
        "colab": {
          "base_uri": "https://localhost:8080/",
          "height": 64
        }
      },
      "source": [
        "text = '<p>'\n",
        "leave_space = False\n",
        "for i, token in enumerate(tokens):\n",
        "    if i == start:\n",
        "        text += \"<b>\"\n",
        "    if i == end + 1:\n",
        "        text += \"</b>\"\n",
        "    if token == '[CLS]' or token == '[SEP]':\n",
        "        continue\n",
        "    if token[0:2] == '##':\n",
        "        text += token[2:]\n",
        "    else:\n",
        "        if leave_space and token[0].isalnum():\n",
        "            text += ' '\n",
        "        text += token\n",
        "    leave_space = token[-1] != \"'\" and token[-1] != \"-\"\n",
        "text += '</p>'\n",
        "display(HTML(text))"
      ],
      "execution_count": 16,
      "outputs": [
        {
          "output_type": "display_data",
          "data": {
            "text/html": [
              "<p>where do water droplets collide with ice crystals to form precipitation? in meteorology, precipitation is any product of the condensation of atmospheric water vapor that falls under gravity. the main forms of precipitation include drizzle, rain, sleet, snow, graupel and hail… precipitation forms as smaller droplets coalesce via collision with other rain drops or ice crystals<b> within a cloud</b>. short, intense periods of rain in scattered locations are called“ showers”.</p>"
            ],
            "text/plain": [
              "<IPython.core.display.HTML object>"
            ]
          },
          "metadata": {
            "tags": []
          }
        }
      ]
    },
    {
      "cell_type": "markdown",
      "metadata": {
        "id": "giJTEqaORM_l",
        "colab_type": "text"
      },
      "source": [
        "### Ahora buscamos la respuesta a una pregunta en un texto más largo..."
      ]
    },
    {
      "cell_type": "markdown",
      "metadata": {
        "id": "Su8sApDCRWpy",
        "colab_type": "text"
      },
      "source": [
        "### Now let's look for the answer to a question in a longer text..."
      ]
    },
    {
      "cell_type": "code",
      "metadata": {
        "id": "0o-fw7rUJ6nk",
        "colab_type": "code",
        "colab": {
          "base_uri": "https://localhost:8080/",
          "height": 72
        },
        "outputId": "73e039c2-b4ab-476b-91dd-95d943dcc4f9"
      },
      "source": [
        "# Harry Potter and the Goblet of Fire\n",
        "get_file(\n",
        "    os.getcwd() + '/example.txt',\n",
        "    origin=\n",
        "    'https://docs.google.com/uc?export=download&id=10OhbIQHNJrtBiKer8tP_LbxjASqItNzZ'\n",
        ")"
      ],
      "execution_count": 19,
      "outputs": [
        {
          "output_type": "stream",
          "text": [
            "Downloading data from https://docs.google.com/uc?export=download&id=10OhbIQHNJrtBiKer8tP_LbxjASqItNzZ\n",
            "1204224/1198109 [==============================] - 0s 0us/step\n"
          ],
          "name": "stdout"
        },
        {
          "output_type": "execute_result",
          "data": {
            "text/plain": [
              "'/content/example.txt'"
            ]
          },
          "metadata": {
            "tags": []
          },
          "execution_count": 19
        }
      ]
    },
    {
      "cell_type": "code",
      "metadata": {
        "id": "NZKdMKB0Q5Wy",
        "colab_type": "code",
        "colab": {}
      },
      "source": [
        "pregunta = 'Who killed Cedric?'"
      ],
      "execution_count": 0,
      "outputs": []
    },
    {
      "cell_type": "code",
      "metadata": {
        "id": "vB0O4_U6PqD_",
        "colab_type": "code",
        "colab": {}
      },
      "source": [
        "\n",
        "        "
      ],
      "execution_count": 0,
      "outputs": []
    }
  ]
}