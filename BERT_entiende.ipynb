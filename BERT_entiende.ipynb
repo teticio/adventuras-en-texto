{
 "cells": [
  {
   "cell_type": "markdown",
   "metadata": {
    "colab_type": "text",
    "id": "view-in-github"
   },
   "source": [
    "<a href=\"https://colab.research.google.com/github/teticio/aventuras-con-textos/blob/master/BERT_entiende.ipynb\" target=\"_parent\"><img src=\"https://colab.research.google.com/assets/colab-badge.svg\" alt=\"Open In Colab\"/></a>"
   ]
  },
  {
   "cell_type": "markdown",
   "metadata": {
    "colab_type": "text",
    "id": "-_qTxZ6ijepG",
    "lang": "es"
   },
   "source": [
    "# Predicir las palabras que faltan en una frase con BERT\n",
    "\n",
    "El entrenamiento de los modelos de BERT pre-entrenados consiste en realizar dos tareas no supervisadas: (1) adivinar las palabras que faltan en una frase y (2) determinar si una frase sigue la otra o no. En este notebook, vamos a poner un modelo pre-entrenado a prueba con la primera tarea.\n",
    "\n",
    "Se puede adaptar para generar frases enteras de texto \"a boleo\". Ver [Bert Babble](https://colab.research.google.com/drive/1MxKZGtQ9SSBjTK5ArsZ5LKhkztzg52RV)."
   ]
  },
  {
   "cell_type": "markdown",
   "metadata": {
    "lang": "en"
   },
   "source": [
    "# Predict the missing words in a sentence with BERT\n",
    "\n",
    "The training of pre-trained BERT models consists of performing two unsupervised tasks: (1) guess the missing words in a sentence and (2) determine if one sentence follows the other or not. In this notebook, we will put a pre-trained model to the test with the first task.\n",
    "\n",
    "It can be adapted to generate whole sentences of random text. See [Bert Babble](https://colab.research.google.com/drive/1MxKZGtQ9SSBjTK5ArsZ5LKhkztzg52RV)."
   ]
  },
  {
   "cell_type": "markdown",
   "metadata": {
    "colab_type": "text",
    "id": "Cwp7ENpPh7oa",
    "lang": "es"
   },
   "source": [
    "### Descargar el modelo pre-entrenado de BERT"
   ]
  },
  {
   "cell_type": "markdown",
   "metadata": {
    "lang": "en"
   },
   "source": [
    "### Download the pre-trained BERT model"
   ]
  },
  {
   "cell_type": "code",
   "execution_count": 1,
   "metadata": {
    "ExecuteTime": {
     "end_time": "2019-10-01T19:58:27.903264Z",
     "start_time": "2019-10-01T19:58:19.961133Z"
    },
    "colab": {
     "base_uri": "https://localhost:8080/",
     "height": 72
    },
    "colab_type": "code",
    "id": "K5_6isvosq17",
    "outputId": "ce33e48c-045f-47ff-aa16-d00acc87197c"
   },
   "outputs": [
    {
     "name": "stderr",
     "output_type": "stream",
     "text": [
      "Using TensorFlow backend.\n",
      "/usr/lib/python3/dist-packages/tensorflow/python/framework/dtypes.py:516: FutureWarning: Passing (type, 1) or '1type' as a synonym of type is deprecated; in a future version of numpy, it will be understood as (type, (1,)) / '(1,)type'.\n",
      "  _np_qint8 = np.dtype([(\"qint8\", np.int8, 1)])\n",
      "/usr/lib/python3/dist-packages/tensorflow/python/framework/dtypes.py:517: FutureWarning: Passing (type, 1) or '1type' as a synonym of type is deprecated; in a future version of numpy, it will be understood as (type, (1,)) / '(1,)type'.\n",
      "  _np_quint8 = np.dtype([(\"quint8\", np.uint8, 1)])\n",
      "/usr/lib/python3/dist-packages/tensorflow/python/framework/dtypes.py:518: FutureWarning: Passing (type, 1) or '1type' as a synonym of type is deprecated; in a future version of numpy, it will be understood as (type, (1,)) / '(1,)type'.\n",
      "  _np_qint16 = np.dtype([(\"qint16\", np.int16, 1)])\n",
      "/usr/lib/python3/dist-packages/tensorflow/python/framework/dtypes.py:519: FutureWarning: Passing (type, 1) or '1type' as a synonym of type is deprecated; in a future version of numpy, it will be understood as (type, (1,)) / '(1,)type'.\n",
      "  _np_quint16 = np.dtype([(\"quint16\", np.uint16, 1)])\n",
      "/usr/lib/python3/dist-packages/tensorflow/python/framework/dtypes.py:520: FutureWarning: Passing (type, 1) or '1type' as a synonym of type is deprecated; in a future version of numpy, it will be understood as (type, (1,)) / '(1,)type'.\n",
      "  _np_qint32 = np.dtype([(\"qint32\", np.int32, 1)])\n",
      "/usr/lib/python3/dist-packages/tensorflow/python/framework/dtypes.py:525: FutureWarning: Passing (type, 1) or '1type' as a synonym of type is deprecated; in a future version of numpy, it will be understood as (type, (1,)) / '(1,)type'.\n",
      "  np_resource = np.dtype([(\"resource\", np.ubyte, 1)])\n",
      "/usr/lib/python3/dist-packages/tensorboard/compat/tensorflow_stub/dtypes.py:541: FutureWarning: Passing (type, 1) or '1type' as a synonym of type is deprecated; in a future version of numpy, it will be understood as (type, (1,)) / '(1,)type'.\n",
      "  _np_qint8 = np.dtype([(\"qint8\", np.int8, 1)])\n",
      "/usr/lib/python3/dist-packages/tensorboard/compat/tensorflow_stub/dtypes.py:542: FutureWarning: Passing (type, 1) or '1type' as a synonym of type is deprecated; in a future version of numpy, it will be understood as (type, (1,)) / '(1,)type'.\n",
      "  _np_quint8 = np.dtype([(\"quint8\", np.uint8, 1)])\n",
      "/usr/lib/python3/dist-packages/tensorboard/compat/tensorflow_stub/dtypes.py:543: FutureWarning: Passing (type, 1) or '1type' as a synonym of type is deprecated; in a future version of numpy, it will be understood as (type, (1,)) / '(1,)type'.\n",
      "  _np_qint16 = np.dtype([(\"qint16\", np.int16, 1)])\n",
      "/usr/lib/python3/dist-packages/tensorboard/compat/tensorflow_stub/dtypes.py:544: FutureWarning: Passing (type, 1) or '1type' as a synonym of type is deprecated; in a future version of numpy, it will be understood as (type, (1,)) / '(1,)type'.\n",
      "  _np_quint16 = np.dtype([(\"quint16\", np.uint16, 1)])\n",
      "/usr/lib/python3/dist-packages/tensorboard/compat/tensorflow_stub/dtypes.py:545: FutureWarning: Passing (type, 1) or '1type' as a synonym of type is deprecated; in a future version of numpy, it will be understood as (type, (1,)) / '(1,)type'.\n",
      "  _np_qint32 = np.dtype([(\"qint32\", np.int32, 1)])\n",
      "/usr/lib/python3/dist-packages/tensorboard/compat/tensorflow_stub/dtypes.py:550: FutureWarning: Passing (type, 1) or '1type' as a synonym of type is deprecated; in a future version of numpy, it will be understood as (type, (1,)) / '(1,)type'.\n",
      "  np_resource = np.dtype([(\"resource\", np.ubyte, 1)])\n"
     ]
    },
    {
     "data": {
      "text/plain": [
       "'./wwm_uncased_L-24_H-1024_A-16.zip'"
      ]
     },
     "execution_count": 1,
     "metadata": {},
     "output_type": "execute_result"
    }
   ],
   "source": [
    "from keras.utils import get_file\n",
    "\n",
    "# https://storage.googleapis.com/bert_models/2018_11_23/multi_cased_L-12_H-768_A-12.zip\n",
    "# https://storage.googleapis.com/bert_models/2019_05_30/wwm_uncased_L-24_H-1024_A-16.zip\n",
    "\n",
    "url = 'https://storage.googleapis.com/bert_models/2019_05_30/'  #@param {type : 'string'}\n",
    "modelo = 'wwm_uncased_L-24_H-1024_A-16'  #@param {type : 'string'}\n",
    "get_file(modelo + '.zip',\n",
    "         origin=url + modelo + '.zip',\n",
    "         extract=True,\n",
    "         archive_format=\"zip\",\n",
    "         cache_dir='./',\n",
    "         cache_subdir='')"
   ]
  },
  {
   "cell_type": "markdown",
   "metadata": {
    "colab_type": "text",
    "id": "q_jboSJ5iGRU",
    "lang": "es"
   },
   "source": [
    "### Instalar e importar BERT"
   ]
  },
  {
   "cell_type": "markdown",
   "metadata": {
    "lang": "en"
   },
   "source": [
    "### Install and import BERT"
   ]
  },
  {
   "cell_type": "code",
   "execution_count": 2,
   "metadata": {
    "ExecuteTime": {
     "end_time": "2019-10-01T19:58:28.027507Z",
     "start_time": "2019-10-01T19:58:27.904701Z"
    },
    "colab": {},
    "colab_type": "code",
    "id": "swIO05WYoRCR"
   },
   "outputs": [
    {
     "name": "stderr",
     "output_type": "stream",
     "text": [
      "WARNING: Logging before flag parsing goes to stderr.\n",
      "W1001 21:58:28.022922 140207269025600 deprecation_wrapper.py:119] From bert_repo/optimization.py:87: The name tf.train.Optimizer is deprecated. Please use tf.compat.v1.train.Optimizer instead.\n",
      "\n"
     ]
    }
   ],
   "source": [
    "import sys\n",
    "\n",
    "!test -d bert_repo || git clone https://github.com/google-research/bert bert_repo\n",
    "if not 'bert_repo' in sys.path:\n",
    "    sys.path += ['bert_repo']\n",
    "\n",
    "# import python modules defined by BERT\n",
    "import modeling as tfm\n",
    "import tokenization as tft\n",
    "import run_squad as rs"
   ]
  },
  {
   "cell_type": "markdown",
   "metadata": {
    "colab_type": "text",
    "id": "Ak-H_gGniKrc",
    "lang": "es"
   },
   "source": [
    "### Importar las librerías"
   ]
  },
  {
   "cell_type": "markdown",
   "metadata": {
    "lang": "en"
   },
   "source": [
    "### Import libraries"
   ]
  },
  {
   "cell_type": "code",
   "execution_count": 3,
   "metadata": {
    "ExecuteTime": {
     "end_time": "2019-10-01T19:58:28.032210Z",
     "start_time": "2019-10-01T19:58:28.029486Z"
    },
    "colab": {},
    "colab_type": "code",
    "id": "eUVxkpNcp68L"
   },
   "outputs": [],
   "source": [
    "import tensorflow as tf\n",
    "from keras.preprocessing import sequence\n",
    "import numpy as np\n",
    "\n",
    "model_dir = './' + modelo + '/'\n",
    "vocab_file = model_dir + \"vocab.txt\"\n",
    "bert_config_file = model_dir + \"bert_config.json\"\n",
    "init_checkpoint = model_dir + \"bert_model.ckpt\"\n",
    "max_seq_length = 512\n",
    "max_predictions_per_seq = 20"
   ]
  },
  {
   "cell_type": "markdown",
   "metadata": {
    "colab_type": "text",
    "id": "oTGpSyhMiOu4",
    "lang": "es"
   },
   "source": [
    "### Configurar BERT y preparar el tokenizador"
   ]
  },
  {
   "cell_type": "markdown",
   "metadata": {
    "lang": "en"
   },
   "source": [
    "### Configure BERT and prepare the tokenizer"
   ]
  },
  {
   "cell_type": "code",
   "execution_count": 4,
   "metadata": {
    "ExecuteTime": {
     "end_time": "2019-10-01T19:58:28.096319Z",
     "start_time": "2019-10-01T19:58:28.033841Z"
    },
    "colab": {},
    "colab_type": "code",
    "id": "QfYnLriNow1G"
   },
   "outputs": [
    {
     "name": "stderr",
     "output_type": "stream",
     "text": [
      "W1001 21:58:28.036324 140207269025600 deprecation_wrapper.py:119] From bert_repo/modeling.py:93: The name tf.gfile.GFile is deprecated. Please use tf.io.gfile.GFile instead.\n",
      "\n"
     ]
    }
   ],
   "source": [
    "# convert to lower case?\n",
    "convertir_a_minusculas = 'uncased' in modelo\n",
    "bert_config = tfm.BertConfig.from_json_file(bert_config_file)\n",
    "tokenizer = tft.FullTokenizer(vocab_file=vocab_file,\n",
    "                              do_lower_case=convertir_a_minusculas)"
   ]
  },
  {
   "cell_type": "markdown",
   "metadata": {
    "colab_type": "text",
    "id": "MnSs2gnNiTn3",
    "lang": "es"
   },
   "source": [
    "### Definir los inputs al modelo"
   ]
  },
  {
   "cell_type": "markdown",
   "metadata": {
    "lang": "en"
   },
   "source": [
    "### Define the inputs to the model"
   ]
  },
  {
   "cell_type": "code",
   "execution_count": 5,
   "metadata": {
    "ExecuteTime": {
     "end_time": "2019-10-01T19:58:28.111522Z",
     "start_time": "2019-10-01T19:58:28.097744Z"
    },
    "colab": {},
    "colab_type": "code",
    "id": "hj_uO0uiqRgN"
   },
   "outputs": [],
   "source": [
    "input_ids = tf.placeholder(name='input_ids',\n",
    "                           shape=(1, max_seq_length),\n",
    "                           dtype='int32')\n",
    "input_mask = tf.placeholder(name='input_mask',\n",
    "                            shape=(1, max_seq_length),\n",
    "                            dtype='int32')\n",
    "segment_ids = tf.placeholder(name='segment_ids',\n",
    "                             shape=(1, max_seq_length),\n",
    "                             dtype='int32')"
   ]
  },
  {
   "cell_type": "markdown",
   "metadata": {
    "colab_type": "text",
    "id": "kZfltyuhiWpH",
    "lang": "es"
   },
   "source": [
    "### Construir el modelo"
   ]
  },
  {
   "cell_type": "code",
   "execution_count": 6,
   "metadata": {
    "ExecuteTime": {
     "end_time": "2019-10-01T19:58:31.327853Z",
     "start_time": "2019-10-01T19:58:28.112823Z"
    }
   },
   "outputs": [
    {
     "name": "stderr",
     "output_type": "stream",
     "text": [
      "W1001 21:58:28.113921 140207269025600 deprecation_wrapper.py:119] From bert_repo/modeling.py:171: The name tf.variable_scope is deprecated. Please use tf.compat.v1.variable_scope instead.\n",
      "\n",
      "W1001 21:58:28.117491 140207269025600 deprecation_wrapper.py:119] From bert_repo/modeling.py:409: The name tf.get_variable is deprecated. Please use tf.compat.v1.get_variable instead.\n",
      "\n",
      "W1001 21:58:28.132351 140207269025600 deprecation_wrapper.py:119] From bert_repo/modeling.py:490: The name tf.assert_less_equal is deprecated. Please use tf.compat.v1.assert_less_equal instead.\n",
      "\n",
      "W1001 21:58:28.603485 140207269025600 lazy_loader.py:50] \n",
      "The TensorFlow contrib module will not be included in TensorFlow 2.0.\n",
      "For more information, please see:\n",
      "  * https://github.com/tensorflow/community/blob/master/rfcs/20180907-contrib-sunset.md\n",
      "  * https://github.com/tensorflow/addons\n",
      "  * https://github.com/tensorflow/io (for I/O related ops)\n",
      "If you depend on functionality not listed there, please file an issue.\n",
      "\n",
      "W1001 21:58:28.618879 140207269025600 deprecation.py:323] From bert_repo/modeling.py:671: dense (from tensorflow.python.layers.core) is deprecated and will be removed in a future version.\n",
      "Instructions for updating:\n",
      "Use keras.layers.dense instead.\n"
     ]
    }
   ],
   "source": [
    "(start_logits, end_logits) = rs.create_model(bert_config=bert_config,\n",
    "                                             is_training=False,\n",
    "                                             input_ids=input_ids,\n",
    "                                             input_mask=input_mask,\n",
    "                                             segment_ids=segment_ids,\n",
    "                                             use_one_hot_embeddings=False)"
   ]
  },
  {
   "cell_type": "markdown",
   "metadata": {
    "lang": "en"
   },
   "source": [
    "### Build the model"
   ]
  },
  {
   "cell_type": "markdown",
   "metadata": {
    "colab_type": "text",
    "id": "oK2VrPdWif7r",
    "lang": "es"
   },
   "source": [
    "### Inizializar los pesos con el checkpoint del modelo pre-entrenado"
   ]
  },
  {
   "cell_type": "markdown",
   "metadata": {
    "lang": "en"
   },
   "source": [
    "### Initialize the weights with the checkpoint of the pre-trained model"
   ]
  },
  {
   "cell_type": "code",
   "execution_count": 7,
   "metadata": {
    "ExecuteTime": {
     "end_time": "2019-10-01T19:58:32.168513Z",
     "start_time": "2019-10-01T19:58:31.329030Z"
    },
    "colab": {},
    "colab_type": "code",
    "id": "SWWpoYiLqj7m"
   },
   "outputs": [],
   "source": [
    "(assignment_map,\n",
    " initialized_variable_names) = tfm.get_assignment_map_from_checkpoint(\n",
    "     tf.trainable_variables(), init_checkpoint)\n",
    "tf.train.init_from_checkpoint(init_checkpoint, assignment_map)"
   ]
  },
  {
   "cell_type": "markdown",
   "metadata": {
    "colab_type": "text",
    "id": "bTZ9N4qTinuh",
    "lang": "es"
   },
   "source": [
    "### Crear los inputs"
   ]
  },
  {
   "cell_type": "markdown",
   "metadata": {
    "lang": "en"
   },
   "source": [
    "### Create the inputs"
   ]
  },
  {
   "cell_type": "code",
   "execution_count": 8,
   "metadata": {
    "ExecuteTime": {
     "end_time": "2019-10-01T19:58:32.174355Z",
     "start_time": "2019-10-01T19:58:32.170109Z"
    },
    "colab": {
     "base_uri": "https://localhost:8080/",
     "height": 55
    },
    "colab_type": "code",
    "id": "r-D07YE-pTHl",
    "outputId": "ac6139a7-8410-4fae-f38e-73e5fa485882"
   },
   "outputs": [],
   "source": [
    "# context\n",
    "contexto = \"In meteorology, precipitation is any product of the condensation of atmospheric water vapor that falls under gravity. The main forms of precipitation include drizzle, rain, sleet, snow, graupel and hail… Precipitation forms as smaller droplets coalesce via collision with other rain drops or ice crystals within a cloud. Short, intense periods of rain in scattered locations are called “showers”.\"  #@param {type : \"string\"}\n",
    "# question\n",
    "pregunta = \"Where do water droplets collide with ice crystals to form precipitation?\"  #@param\n",
    "tokens = ['[CLS]'] + tokenizer.tokenize(pregunta) + ['[SEP]'] + tokenizer.tokenize(contexto) + ['[SEP]']\n",
    "input_ids_ = tokenizer.convert_tokens_to_ids(tokens)\n",
    "len_seg = tokens.index('[SEP]') + 1\n",
    "segment_ids_ = [0] * len_seg + [1] * (len(input_ids_) - len_seg)\n",
    "input_mask_ = [1] * len(input_ids_)"
   ]
  },
  {
   "cell_type": "code",
   "execution_count": 9,
   "metadata": {
    "ExecuteTime": {
     "end_time": "2019-10-01T19:58:32.187368Z",
     "start_time": "2019-10-01T19:58:32.175361Z"
    }
   },
   "outputs": [
    {
     "data": {
      "text/plain": [
       "97"
      ]
     },
     "execution_count": 9,
     "metadata": {},
     "output_type": "execute_result"
    }
   ],
   "source": [
    "len(input_ids_)"
   ]
  },
  {
   "cell_type": "markdown",
   "metadata": {
    "colab_type": "text",
    "id": "ref2KEEwiuHm",
    "lang": "es"
   },
   "source": [
    "### Hacer que las secuencias tengan el mismo tamaño"
   ]
  },
  {
   "cell_type": "markdown",
   "metadata": {
    "lang": "en"
   },
   "source": [
    "### Make sequences the same size"
   ]
  },
  {
   "cell_type": "code",
   "execution_count": 10,
   "metadata": {
    "ExecuteTime": {
     "end_time": "2019-10-01T19:58:32.193477Z",
     "start_time": "2019-10-01T19:58:32.188938Z"
    },
    "colab": {},
    "colab_type": "code",
    "id": "APowcLPuqOB1"
   },
   "outputs": [],
   "source": [
    "input_ids_ = sequence.pad_sequences([input_ids_],\n",
    "                                    maxlen=max_seq_length,\n",
    "                                    padding='post',\n",
    "                                    value=0)\n",
    "segment_ids_ = sequence.pad_sequences([segment_ids_],\n",
    "                                      maxlen=max_seq_length,\n",
    "                                      padding='post',\n",
    "                                      value=0)\n",
    "input_mask_ = sequence.pad_sequences([input_mask_],\n",
    "                                     maxlen=max_seq_length,\n",
    "                                     padding='post',\n",
    "                                     value=0)"
   ]
  },
  {
   "cell_type": "markdown",
   "metadata": {
    "colab_type": "text",
    "id": "vJS0gOzdi3El",
    "lang": "es"
   },
   "source": [
    "### Invocar el modelo"
   ]
  },
  {
   "cell_type": "markdown",
   "metadata": {
    "lang": "en"
   },
   "source": [
    "### Invoke the model"
   ]
  },
  {
   "cell_type": "code",
   "execution_count": 11,
   "metadata": {
    "ExecuteTime": {
     "end_time": "2019-10-01T19:58:34.750917Z",
     "start_time": "2019-10-01T19:58:32.195019Z"
    },
    "colab": {},
    "colab_type": "code",
    "id": "mF5mor10qmPH"
   },
   "outputs": [],
   "source": [
    "with tf.Session() as sess:\n",
    "    tf.global_variables_initializer().run()\n",
    "    tup = sess.run(\n",
    "        (start_logits, end_logits),\n",
    "        feed_dict={\n",
    "            input_ids: input_ids_,\n",
    "            input_mask: input_mask_,\n",
    "            segment_ids: segment_ids_,\n",
    "        })"
   ]
  },
  {
   "cell_type": "code",
   "execution_count": 12,
   "metadata": {
    "ExecuteTime": {
     "end_time": "2019-10-01T19:58:34.754532Z",
     "start_time": "2019-10-01T19:58:34.752418Z"
    }
   },
   "outputs": [],
   "source": [
    "start = np.argmax(tup[0])\n",
    "end = np.argmax(tup[1])"
   ]
  },
  {
   "cell_type": "code",
   "execution_count": 13,
   "metadata": {
    "ExecuteTime": {
     "end_time": "2019-10-01T19:58:34.767598Z",
     "start_time": "2019-10-01T19:58:34.755630Z"
    }
   },
   "outputs": [
    {
     "data": {
      "text/plain": [
       "(64, 4)"
      ]
     },
     "execution_count": 13,
     "metadata": {},
     "output_type": "execute_result"
    }
   ],
   "source": [
    "start, end"
   ]
  },
  {
   "cell_type": "markdown",
   "metadata": {
    "colab_type": "text",
    "id": "1oeQSI62i_HQ",
    "lang": "es"
   },
   "source": [
    "### Convertir los tokens a texto (las predicciones están en mayúsculas)"
   ]
  },
  {
   "cell_type": "markdown",
   "metadata": {
    "lang": "en"
   },
   "source": [
    "### Convert tokens to text (predictions are in uppercase)"
   ]
  },
  {
   "cell_type": "code",
   "execution_count": 14,
   "metadata": {
    "ExecuteTime": {
     "end_time": "2019-10-01T19:58:34.776736Z",
     "start_time": "2019-10-01T19:58:34.769448Z"
    },
    "colab": {
     "base_uri": "https://localhost:8080/",
     "height": 92
    },
    "colab_type": "code",
    "id": "lryDHDbKHD03",
    "outputId": "f473f9dc-026a-467a-cbcf-b21b946b2f41"
   },
   "outputs": [
    {
     "name": "stdout",
     "output_type": "stream",
     "text": [
      "where do water+++ droplets collide with ice crystals to form precipitation? in meteorology, precipitation is any product of the condensation of atmospheric water vapor that falls under gravity. the main forms of precipitation include drizzle, rain, sleet, snow, graupel and hail… precipitation forms as smaller*** droplets coalesce via collision with other rain drops or ice crystals within a cloud. short, intense periods of rain in scattered locations are called“ showers”.\n"
     ]
    }
   ],
   "source": [
    "text = ''\n",
    "leave_space = False\n",
    "for i, token in enumerate(tokens):\n",
    "    if i == start:\n",
    "        text += \"***\"\n",
    "    if i == end:\n",
    "        text += \"+++\"\n",
    "    if token == '[CLS]' or token == '[SEP]':\n",
    "        continue\n",
    "    if token[0:2] == '##':\n",
    "        text += token[2:]\n",
    "    else:\n",
    "        if leave_space and token[0].isalnum():\n",
    "            text += ' '\n",
    "        text += token\n",
    "    leave_space = token[-1] != \"'\" and token[-1] != \"-\"\n",
    "print(text)"
   ]
  },
  {
   "cell_type": "code",
   "execution_count": null,
   "metadata": {},
   "outputs": [],
   "source": []
  }
 ],
 "metadata": {
  "accelerator": "GPU",
  "colab": {
   "collapsed_sections": [],
   "include_colab_link": true,
   "name": "BERT predict.ipynb",
   "provenance": [],
   "version": "0.3.2"
  },
  "kernelspec": {
   "display_name": "Python 3",
   "language": "python",
   "name": "python3"
  },
  "language_info": {
   "codemirror_mode": {
    "name": "ipython",
    "version": 3
   },
   "file_extension": ".py",
   "mimetype": "text/x-python",
   "name": "python",
   "nbconvert_exporter": "python",
   "pygments_lexer": "ipython3",
   "version": "3.6.8"
  },
  "nbTranslate": {
   "displayLangs": [
    "es"
   ],
   "hotkey": "alt-t",
   "langInMainMenu": true,
   "sourceLang": "es",
   "targetLang": "en",
   "useGoogleTranslate": true
  },
  "toc": {
   "base_numbering": 1,
   "nav_menu": {},
   "number_sections": false,
   "sideBar": true,
   "skip_h1_title": false,
   "title_cell": "Table of Contents",
   "title_sidebar": "Contents",
   "toc_cell": false,
   "toc_position": {},
   "toc_section_display": true,
   "toc_window_display": false
  },
  "varInspector": {
   "cols": {
    "lenName": 16,
    "lenType": 16,
    "lenVar": 40
   },
   "kernels_config": {
    "python": {
     "delete_cmd_postfix": "",
     "delete_cmd_prefix": "del ",
     "library": "var_list.py",
     "varRefreshCmd": "print(var_dic_list())"
    },
    "r": {
     "delete_cmd_postfix": ") ",
     "delete_cmd_prefix": "rm(",
     "library": "var_list.r",
     "varRefreshCmd": "cat(var_dic_list()) "
    }
   },
   "types_to_exclude": [
    "module",
    "function",
    "builtin_function_or_method",
    "instance",
    "_Feature"
   ],
   "window_display": false
  }
 },
 "nbformat": 4,
 "nbformat_minor": 1
}
