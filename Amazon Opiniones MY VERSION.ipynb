{
 "cells": [
  {
   "cell_type": "markdown",
   "metadata": {
    "colab_type": "text",
    "id": "kSk7Y-snxIO3"
   },
   "source": [
    "https://www.scrapehero.com/amazon-review-scraper/"
   ]
  },
  {
   "cell_type": "code",
   "execution_count": 1,
   "metadata": {
    "ExecuteTime": {
     "end_time": "2019-08-14T17:11:13.509759Z",
     "start_time": "2019-08-14T17:10:40.060038Z"
    },
    "colab": {},
    "colab_type": "code",
    "id": "PeIbHaSMvy5J"
   },
   "outputs": [],
   "source": [
    "!wget -O amazon_test.csv -q 'https://docs.google.com/uc?export=download&id=1-kWdVPrix8mHEWRQYmVxLBHktcNFbalw'\n",
    "!wget -O amazon_train.csv -q 'https://docs.google.com/uc?export=download&id=1-gelWtECQn7hYswegULDzFJo8mpypSzR'"
   ]
  },
  {
   "cell_type": "code",
   "execution_count": 2,
   "metadata": {
    "ExecuteTime": {
     "end_time": "2019-08-14T17:11:14.477769Z",
     "start_time": "2019-08-14T17:11:13.512165Z"
    },
    "colab": {},
    "colab_type": "code",
    "id": "rkFWqhmMwdYP"
   },
   "outputs": [],
   "source": [
    "import pandas as pd \n",
    "import numpy as np\n",
    "import pickle\n",
    "\n",
    "data = pd.read_csv(\"amazon_train.csv\")\n",
    "data = data.dropna()\n",
    "\n",
    "train_text = []\n",
    "train_label = []\n",
    "for i, (_, review) in enumerate(data.iterrows()):\n",
    "    train_text += [review['content'].replace('\\n', ' ')]\n",
    "    if int(review['rating'][0]) > 3:\n",
    "        train_label += [1]\n",
    "    else:\n",
    "        train_label += [0]\n",
    "\n",
    "data_test = pd.read_csv(\"amazon_test.csv\")\n",
    "data_test = data_test.dropna()\n",
    "\n",
    "test_text = []\n",
    "test_label = []\n",
    "for i, (_, review) in enumerate(data_test.iterrows()):\n",
    "    test_text += [review['content'].replace('\\n', ' ')]\n",
    "    if int(review['rating'][0]) > 3:\n",
    "        test_label += [1]\n",
    "    else:\n",
    "        test_label += [0]        "
   ]
  },
  {
   "cell_type": "code",
   "execution_count": 3,
   "metadata": {
    "ExecuteTime": {
     "end_time": "2019-08-14T17:11:14.485591Z",
     "start_time": "2019-08-14T17:11:14.479401Z"
    },
    "colab": {
     "base_uri": "https://localhost:8080/",
     "height": 34
    },
    "colab_type": "code",
    "executionInfo": {
     "elapsed": 529,
     "status": "ok",
     "timestamp": 1563446404339,
     "user": {
      "displayName": "Rob Smith",
      "photoUrl": "https://lh5.googleusercontent.com/-xZI-Hs67nxE/AAAAAAAAAAI/AAAAAAAAEto/Ht0WZrlJWDw/s64/photo.jpg",
      "userId": "14546434662839057642"
     },
     "user_tz": -120
    },
    "id": "GXvHXQ-Tw49V",
    "outputId": "7114b2a5-81fa-464d-80cc-58880eae57ba"
   },
   "outputs": [
    {
     "data": {
      "text/plain": [
       "(4990, 2736)"
      ]
     },
     "execution_count": 3,
     "metadata": {},
     "output_type": "execute_result"
    }
   ],
   "source": [
    "len(train_text), len(test_text)"
   ]
  },
  {
   "cell_type": "code",
   "execution_count": 4,
   "metadata": {
    "ExecuteTime": {
     "end_time": "2019-08-14T17:12:22.870791Z",
     "start_time": "2019-08-14T17:12:22.866776Z"
    },
    "colab": {
     "base_uri": "https://localhost:8080/",
     "height": 207
    },
    "colab_type": "code",
    "executionInfo": {
     "elapsed": 353,
     "status": "ok",
     "timestamp": 1563446405220,
     "user": {
      "displayName": "Rob Smith",
      "photoUrl": "https://lh5.googleusercontent.com/-xZI-Hs67nxE/AAAAAAAAAAI/AAAAAAAAEto/Ht0WZrlJWDw/s64/photo.jpg",
      "userId": "14546434662839057642"
     },
     "user_tz": -120
    },
    "id": "qlMafNG0DglG",
    "outputId": "2633981c-80ed-42c1-948d-15140345576f"
   },
   "outputs": [
    {
     "data": {
      "text/plain": [
       "['estos de amazon me han obligado a comprarlo para poder disfrutar de amazon videos, no podrian adaptar la app para cast',\n",
       " 'esta bien , pero muy limitado a la hora de instalar programas ....',\n",
       " 'Un imprescindible si no tienes smart tv. Super fácil de instalar y es genial.',\n",
       " 'Funcionamiento excelente, pero los botones enseguida hacen ruido (crujen) se nota que no es de calidad.',\n",
       " 'lo compré hace un mes y no puedo estar mas contento. Por poco dinero he convertido mi TV en una SmartTV. Es facil y rapido de instalar. Ahora puedo ver Netflix, Amazon prime video, youtube, navegar por internet, escuchar musica con amazon music, juegos......por el precio me parece una pasada.',\n",
       " 'Va genial, súper cómodo de usar, veloz, es todo lo que podía pedir en tipo smart tv, como siempre la calidad de Amazon se nota, fácil de usar, no se puede pedir más, ah sí, y a un precio genial.',\n",
       " 'Que decir del fire tv stick,es de los mejores productos de amazon. Tiene un precio insuperable y una calidad suprema,es pequeño y perfecto para irte de vacaciones con todas tus apps dentro',\n",
       " 'Puedes verlo en todas las teles. Aún no he probado a llevármelo de viaje. Pero en cada me lo llevo de tele en tele. He ahorrado un dinero cambiando las teles por smart tv. Con este aparatito genial. Leí en un foro de Movistar que este era el único q funcionaba y es cierto. Me compré en tienda media Mark el Chrome cash y fue un timo. Lo devolví Este lo recomiendo si tienes Movistar netflix etc... Un 10 Saludos',\n",
       " 'Funciona muy bien todo ok',\n",
       " 'Decir que estoy muy contento con el rendimiento del dispositivo, lo que menos me gusta es que aun no tiene algunas aplicaciones como puede ser HBO.']"
      ]
     },
     "execution_count": 4,
     "metadata": {},
     "output_type": "execute_result"
    }
   ],
   "source": [
    "train_text[0:10]"
   ]
  },
  {
   "cell_type": "code",
   "execution_count": 5,
   "metadata": {
    "ExecuteTime": {
     "end_time": "2019-08-14T17:12:29.645537Z",
     "start_time": "2019-08-14T17:12:29.641703Z"
    },
    "colab": {
     "base_uri": "https://localhost:8080/",
     "height": 34
    },
    "colab_type": "code",
    "executionInfo": {
     "elapsed": 526,
     "status": "ok",
     "timestamp": 1563446406459,
     "user": {
      "displayName": "Rob Smith",
      "photoUrl": "https://lh5.googleusercontent.com/-xZI-Hs67nxE/AAAAAAAAAAI/AAAAAAAAEto/Ht0WZrlJWDw/s64/photo.jpg",
      "userId": "14546434662839057642"
     },
     "user_tz": -120
    },
    "id": "XszulVKtEKXC",
    "outputId": "f2fcf49c-00b1-4c2a-a1c3-b8e2b65f0ea1"
   },
   "outputs": [
    {
     "data": {
      "text/plain": [
       "[0, 0, 1, 0, 1, 1, 1, 1, 1, 0]"
      ]
     },
     "execution_count": 5,
     "metadata": {},
     "output_type": "execute_result"
    }
   ],
   "source": [
    "train_label[0:10]"
   ]
  },
  {
   "cell_type": "code",
   "execution_count": 6,
   "metadata": {
    "ExecuteTime": {
     "end_time": "2019-08-14T17:12:30.250907Z",
     "start_time": "2019-08-14T17:12:30.245183Z"
    },
    "colab": {
     "base_uri": "https://localhost:8080/",
     "height": 34
    },
    "colab_type": "code",
    "executionInfo": {
     "elapsed": 535,
     "status": "ok",
     "timestamp": 1563446407697,
     "user": {
      "displayName": "Rob Smith",
      "photoUrl": "https://lh5.googleusercontent.com/-xZI-Hs67nxE/AAAAAAAAAAI/AAAAAAAAEto/Ht0WZrlJWDw/s64/photo.jpg",
      "userId": "14546434662839057642"
     },
     "user_tz": -120
    },
    "id": "Gd5VdrMaEMWG",
    "outputId": "9ba16b6d-45a7-48b9-e5d2-49eaaf7b6ffe"
   },
   "outputs": [
    {
     "data": {
      "text/plain": [
       "(0.8494989979959919, 0.150501002004008)"
      ]
     },
     "execution_count": 6,
     "metadata": {},
     "output_type": "execute_result"
    }
   ],
   "source": [
    "np.sum(np.array(train_label) == 1)/len(train_label), np.sum(np.array(train_label) == 0)/len(train_label)"
   ]
  },
  {
   "cell_type": "code",
   "execution_count": 7,
   "metadata": {
    "ExecuteTime": {
     "end_time": "2019-08-14T17:12:30.746474Z",
     "start_time": "2019-08-14T17:12:30.741175Z"
    },
    "colab": {
     "base_uri": "https://localhost:8080/",
     "height": 34
    },
    "colab_type": "code",
    "executionInfo": {
     "elapsed": 544,
     "status": "ok",
     "timestamp": 1563446408810,
     "user": {
      "displayName": "Rob Smith",
      "photoUrl": "https://lh5.googleusercontent.com/-xZI-Hs67nxE/AAAAAAAAAAI/AAAAAAAAEto/Ht0WZrlJWDw/s64/photo.jpg",
      "userId": "14546434662839057642"
     },
     "user_tz": -120
    },
    "id": "SFcF-BZvLRMC",
    "outputId": "5b36ec78-202a-497d-f61d-f44e8305719b"
   },
   "outputs": [
    {
     "data": {
      "text/plain": [
       "(0.8581871345029239, 0.14181286549707603)"
      ]
     },
     "execution_count": 7,
     "metadata": {},
     "output_type": "execute_result"
    }
   ],
   "source": [
    "np.sum(np.array(test_label) == 1)/len(test_label), np.sum(np.array(test_label) == 0)/len(test_label)"
   ]
  },
  {
   "cell_type": "code",
   "execution_count": 13,
   "metadata": {
    "ExecuteTime": {
     "end_time": "2019-08-14T17:14:58.185891Z",
     "start_time": "2019-08-14T17:14:58.173870Z"
    },
    "colab": {
     "base_uri": "https://localhost:8080/",
     "height": 34
    },
    "colab_type": "code",
    "executionInfo": {
     "elapsed": 1381,
     "status": "ok",
     "timestamp": 1563446410815,
     "user": {
      "displayName": "Rob Smith",
      "photoUrl": "https://lh5.googleusercontent.com/-xZI-Hs67nxE/AAAAAAAAAAI/AAAAAAAAEto/Ht0WZrlJWDw/s64/photo.jpg",
      "userId": "14546434662839057642"
     },
     "user_tz": -120
    },
    "id": "_sgJr7bPLt_F",
    "outputId": "cde80f51-b41c-4e2f-fe46-10324103cda1"
   },
   "outputs": [],
   "source": [
    "pickle.dump(train_text, open('train_text.p', 'wb'))\n",
    "pickle.dump(train_label, open('train_label.p', 'wb'))\n",
    "pickle.dump(test_text, open('test_text.p', 'wb'))\n",
    "pickle.dump(test_label, open('test_label.p', 'wb'))"
   ]
  },
  {
   "cell_type": "markdown",
   "metadata": {
    "colab_type": "text",
    "id": "UmX5AQqZUHdr"
   },
   "source": [
    "### -----8<-----8<-----8<-----8<-----8<-----8<-----8<-----8<-----8<-----8<-----8<"
   ]
  },
  {
   "cell_type": "code",
   "execution_count": 14,
   "metadata": {
    "ExecuteTime": {
     "end_time": "2019-08-14T17:15:02.191936Z",
     "start_time": "2019-08-14T17:15:01.376514Z"
    },
    "colab": {
     "base_uri": "https://localhost:8080/",
     "height": 170
    },
    "colab_type": "code",
    "executionInfo": {
     "elapsed": 6451,
     "status": "ok",
     "timestamp": 1563459455484,
     "user": {
      "displayName": "Rob Smith",
      "photoUrl": "https://lh5.googleusercontent.com/-xZI-Hs67nxE/AAAAAAAAAAI/AAAAAAAAEto/Ht0WZrlJWDw/s64/photo.jpg",
      "userId": "14546434662839057642"
     },
     "user_tz": -120
    },
    "id": "vARLvwJCbVmI",
    "outputId": "c071aa56-4c1c-46e0-e1f2-9e64a10136a4"
   },
   "outputs": [
    {
     "name": "stdout",
     "output_type": "stream",
     "text": [
      "2736\n"
     ]
    },
    {
     "data": {
      "text/plain": [
       "array([[0.85790634],\n",
       "       [0.8618407 ],\n",
       "       [0.20527825],\n",
       "       ...,\n",
       "       [0.66388637],\n",
       "       [0.5482094 ],\n",
       "       [0.9837644 ]], dtype=float32)"
      ]
     },
     "execution_count": 14,
     "metadata": {},
     "output_type": "execute_result"
    }
   ],
   "source": [
    "import pickle\n",
    "\n",
    "!wget -q -O test_label.p 'https://docs.google.com/uc?export=download&id=1-9jw_RYOjZhraukUpmHVt4E6qNjgmVYi'\n",
    "test_label = pickle.load(open('test_label.p', 'rb'))\n",
    "test_pred = pickle.load(open('test_pred.p', 'rb'))\n",
    "print(len(test_pred))\n",
    "test_pred"
   ]
  },
  {
   "cell_type": "code",
   "execution_count": 15,
   "metadata": {
    "ExecuteTime": {
     "end_time": "2019-08-14T17:15:04.286178Z",
     "start_time": "2019-08-14T17:15:04.268286Z"
    },
    "colab": {},
    "colab_type": "code",
    "id": "X7Tk6J1AbtUC"
   },
   "outputs": [],
   "source": [
    "import numpy as np\n",
    "from sklearn.metrics import confusion_matrix, f1_score, log_loss\n",
    "\n",
    "loss = log_loss(test_label, test_pred)\n",
    "matrix = confusion_matrix(test_label, test_pred >= 0.5)\n",
    "acc = np.trace(matrix)/np.sum(matrix)\n",
    "f1 = f1_score(test_label, test_pred >= 0.5)"
   ]
  },
  {
   "cell_type": "code",
   "execution_count": 16,
   "metadata": {
    "ExecuteTime": {
     "end_time": "2019-08-14T17:15:06.939512Z",
     "start_time": "2019-08-14T17:15:06.934906Z"
    },
    "colab": {
     "base_uri": "https://localhost:8080/",
     "height": 119
    },
    "colab_type": "code",
    "executionInfo": {
     "elapsed": 1666,
     "status": "ok",
     "timestamp": 1563459474004,
     "user": {
      "displayName": "Rob Smith",
      "photoUrl": "https://lh5.googleusercontent.com/-xZI-Hs67nxE/AAAAAAAAAAI/AAAAAAAAEto/Ht0WZrlJWDw/s64/photo.jpg",
      "userId": "14546434662839057642"
     },
     "user_tz": -120
    },
    "id": "wBmChCbzb4rH",
    "outputId": "f70f492e-471e-4f76-fa98-8fb809ff58fb"
   },
   "outputs": [
    {
     "name": "stdout",
     "output_type": "stream",
     "text": [
      "loss 0.35935435404772703\n",
      "val_acc 83.44%\n",
      "f1_score 90.09%\n",
      "Confusion matrix\n",
      "[[ 223  165]\n",
      " [ 288 2060]]\n"
     ]
    }
   ],
   "source": [
    "print(f'loss {loss}')\n",
    "print(f'val_acc {100 * acc:.2f}%')\n",
    "print(f'f1_score {100 * f1:.2f}%')\n",
    "print('Confusion matrix')\n",
    "print(matrix)"
   ]
  },
  {
   "cell_type": "code",
   "execution_count": 0,
   "metadata": {
    "colab": {},
    "colab_type": "code",
    "id": "Sut7TjTrqrGa"
   },
   "outputs": [],
   "source": []
  }
 ],
 "metadata": {
  "accelerator": "GPU",
  "colab": {
   "collapsed_sections": [],
   "name": "Amazon Opiniones MY VERSION.ipynb",
   "provenance": [
    {
     "file_id": "1BuFJf5i95qsSDEdjdmZwul6Ak2V2A9aM",
     "timestamp": 1563370018221
    }
   ],
   "version": "0.3.2"
  },
  "kernelspec": {
   "display_name": "Python 3",
   "language": "python",
   "name": "python3"
  },
  "language_info": {
   "codemirror_mode": {
    "name": "ipython",
    "version": 3
   },
   "file_extension": ".py",
   "mimetype": "text/x-python",
   "name": "python",
   "nbconvert_exporter": "python",
   "pygments_lexer": "ipython3",
   "version": "3.6.8"
  }
 },
 "nbformat": 4,
 "nbformat_minor": 1
}
