{
  "nbformat": 4,
  "nbformat_minor": 0,
  "metadata": {
    "colab": {
      "name": "Amazon Opiniones.ipynb",
      "version": "0.3.2",
      "provenance": [],
      "collapsed_sections": [],
      "toc_visible": true,
      "include_colab_link": true
    },
    "kernelspec": {
      "name": "python3",
      "display_name": "Python 3"
    },
    "accelerator": "GPU"
  },
  "cells": [
    {
      "cell_type": "markdown",
      "metadata": {
        "id": "view-in-github",
        "colab_type": "text"
      },
      "source": [
        "<a href=\"https://colab.research.google.com/github/teticio/aventuras-en-texto/blob/master/Amazon_Opiniones.ipynb\" target=\"_parent\"><img src=\"https://colab.research.google.com/assets/colab-badge.svg\" alt=\"Open In Colab\"/></a>"
      ]
    },
    {
      "cell_type": "markdown",
      "metadata": {
        "id": "9NessjW5cMUX",
        "colab_type": "text"
      },
      "source": [
        "## Descargar los datos"
      ]
    },
    {
      "cell_type": "code",
      "metadata": {
        "id": "PeIbHaSMvy5J",
        "colab_type": "code",
        "colab": {}
      },
      "source": [
        "import pickle\n",
        "\n",
        "!wget -q -O train_text.p 'https://docs.google.com/uc?export=download&id=1-0WEtyIuvB8pxENu8WJvgYFb8aMc4F8R'\n",
        "!wget -q -O train_label.p 'https://docs.google.com/uc?export=download&id=1-AKY4RWMXDg035vTJQLqUXIjYMw6Ja1t'\n",
        "!wget -q -O test_text.p 'https://docs.google.com/uc?export=download&id=1-4WBoOczIwOpd-Qu5n4dINcor9wC7UUk'\n",
        "\n",
        "train_text = pickle.load(open('train_text.p', 'rb'))\n",
        "train_label = pickle.load(open('train_label.p', 'rb'))\n",
        "test_text = pickle.load(open('test_text.p', 'rb'))"
      ],
      "execution_count": 0,
      "outputs": []
    },
    {
      "cell_type": "markdown",
      "metadata": {
        "id": "UmX5AQqZUHdr",
        "colab_type": "text"
      },
      "source": [
        "### -----8<-----8<-----8<-----8<-----8<-----8<-----8<-----8<-----8<-----8<-----8<"
      ]
    },
    {
      "cell_type": "markdown",
      "metadata": {
        "id": "b7_WoHvWcUhq",
        "colab_type": "text"
      },
      "source": [
        "## Tu modelo va aquí"
      ]
    },
    {
      "cell_type": "code",
      "metadata": {
        "id": "51Lh8GgcqjjD",
        "colab_type": "code",
        "colab": {}
      },
      "source": [
        "import re\n",
        "\n",
        "max_len = 512\n",
        "train_text = [re.sub(r'([^\\s\\w]|_)+', ' ', _).lower().split() for _ in train_text]\n",
        "train_text = [_[:max_len] + [''] * (max_len - len(_)) for _ in train_text]"
      ],
      "execution_count": 0,
      "outputs": []
    },
    {
      "cell_type": "code",
      "metadata": {
        "id": "nTJz7DaGUx1I",
        "colab_type": "code",
        "colab": {
          "base_uri": "https://localhost:8080/",
          "height": 306
        },
        "outputId": "63d73258-af0b-4356-9df5-8dc6698e653e"
      },
      "source": [
        "import gensim\n",
        "from gensim.models.callbacks import CallbackAny2Vec\n",
        "\n",
        "class logger(CallbackAny2Vec):\n",
        "    def __init__(self):\n",
        "        print('Starting...')\n",
        "        self.epoch = 0\n",
        "        self.loss = 0\n",
        "\n",
        "    def on_epoch_end(self, model):\n",
        "        print('#{}'.format(self.epoch), 'loss =',\n",
        "              (model.get_latest_training_loss() - self.loss) / model.batch_words)\n",
        "        self.epoch += 1\n",
        "        self.loss = model.get_latest_training_loss()\n",
        "\n",
        "embedding_model = gensim.models.Word2Vec(sentences=train_text, size=100, min_count=0, iter=15, compute_loss=True, callbacks=[logger()])\n",
        "print(embedding_model)"
      ],
      "execution_count": 9,
      "outputs": [
        {
          "output_type": "stream",
          "text": [
            "Starting...\n",
            "#0 loss = 14.5525484375\n",
            "#1 loss = 11.6133125\n",
            "#2 loss = 10.8104078125\n",
            "#3 loss = 10.4901625\n",
            "#4 loss = 9.43931875\n",
            "#5 loss = 9.334275\n",
            "#6 loss = 9.31493125\n",
            "#7 loss = 9.2712625\n",
            "#8 loss = 9.14311875\n",
            "#9 loss = 8.9786\n",
            "#10 loss = 7.8565625\n",
            "#11 loss = 8.625075\n",
            "#12 loss = 8.33815\n",
            "#13 loss = 8.3579875\n",
            "#14 loss = 8.5798125\n",
            "Word2Vec(vocab=9005, size=100, alpha=0.025)\n"
          ],
          "name": "stdout"
        }
      ]
    },
    {
      "cell_type": "code",
      "metadata": {
        "id": "l1Jf8Ss_e1RX",
        "colab_type": "code",
        "colab": {}
      },
      "source": [
        "import numpy as np\n",
        "\n",
        "X_train = np.concatenate([np.array([embedding_model.wv.vocab[word].index for word in _])[np.newaxis, :] for _ in train_text], axis=0)\n",
        "y_train = np.array(train_label)"
      ],
      "execution_count": 0,
      "outputs": []
    },
    {
      "cell_type": "code",
      "metadata": {
        "id": "eknY-xH_U0wo",
        "colab_type": "code",
        "colab": {
          "base_uri": "https://localhost:8080/",
          "height": 785
        },
        "outputId": "82ed9ebd-324e-421b-eb05-f499068bd9fa"
      },
      "source": [
        "from keras.models import Model\n",
        "from keras.callbacks import EarlyStopping, ModelCheckpoint\n",
        "from keras.models import Sequential\n",
        "from keras.layers import Conv1D, MaxPooling1D, GlobalMaxPooling1D, Dense\n",
        "from keras.layers.embeddings import Embedding\n",
        "\n",
        "model = Sequential()\n",
        "model.add(Embedding(\n",
        "    input_dim=embedding_model.wv.vectors.shape[0],\n",
        "    output_dim=embedding_model.wv.vectors.shape[1],\n",
        "    input_length=len(X_train[0]),\n",
        "    weights=[embedding_model.wv.vectors],\n",
        "    trainable=False))\n",
        "model.add(Conv1D(256, 5, activation='relu'))\n",
        "model.add(MaxPooling1D(5))\n",
        "model.add(Conv1D(256, 5, activation='relu'))\n",
        "model.add(MaxPooling1D(5))\n",
        "model.add(Conv1D(256, 5, activation='relu'))\n",
        "model.add(GlobalMaxPooling1D())\n",
        "model.add(Dense(256, activation='relu'))\n",
        "model.add(Dense(1, activation='sigmoid'))\n",
        "model.compile(loss='binary_crossentropy', optimizer='adam', metrics=['accuracy'])\n",
        "model.summary()"
      ],
      "execution_count": 12,
      "outputs": [
        {
          "output_type": "stream",
          "text": [
            "Using TensorFlow backend.\n",
            "WARNING: Logging before flag parsing goes to stderr.\n",
            "W0717 14:24:05.824485 140450420889472 deprecation_wrapper.py:119] From /usr/local/lib/python3.6/dist-packages/keras/backend/tensorflow_backend.py:74: The name tf.get_default_graph is deprecated. Please use tf.compat.v1.get_default_graph instead.\n",
            "\n",
            "W0717 14:24:05.846405 140450420889472 deprecation_wrapper.py:119] From /usr/local/lib/python3.6/dist-packages/keras/backend/tensorflow_backend.py:517: The name tf.placeholder is deprecated. Please use tf.compat.v1.placeholder instead.\n",
            "\n",
            "W0717 14:24:05.849318 140450420889472 deprecation_wrapper.py:119] From /usr/local/lib/python3.6/dist-packages/keras/backend/tensorflow_backend.py:4138: The name tf.random_uniform is deprecated. Please use tf.random.uniform instead.\n",
            "\n",
            "W0717 14:24:05.866328 140450420889472 deprecation_wrapper.py:119] From /usr/local/lib/python3.6/dist-packages/keras/backend/tensorflow_backend.py:174: The name tf.get_default_session is deprecated. Please use tf.compat.v1.get_default_session instead.\n",
            "\n",
            "W0717 14:24:05.867846 140450420889472 deprecation_wrapper.py:119] From /usr/local/lib/python3.6/dist-packages/keras/backend/tensorflow_backend.py:181: The name tf.ConfigProto is deprecated. Please use tf.compat.v1.ConfigProto instead.\n",
            "\n",
            "W0717 14:24:06.474596 140450420889472 deprecation_wrapper.py:119] From /usr/local/lib/python3.6/dist-packages/keras/backend/tensorflow_backend.py:3976: The name tf.nn.max_pool is deprecated. Please use tf.nn.max_pool2d instead.\n",
            "\n",
            "W0717 14:24:06.553496 140450420889472 deprecation_wrapper.py:119] From /usr/local/lib/python3.6/dist-packages/keras/optimizers.py:790: The name tf.train.Optimizer is deprecated. Please use tf.compat.v1.train.Optimizer instead.\n",
            "\n",
            "W0717 14:24:06.583528 140450420889472 deprecation.py:323] From /usr/local/lib/python3.6/dist-packages/tensorflow/python/ops/nn_impl.py:180: add_dispatch_support.<locals>.wrapper (from tensorflow.python.ops.array_ops) is deprecated and will be removed in a future version.\n",
            "Instructions for updating:\n",
            "Use tf.where in 2.0, which has the same broadcast rule as np.where\n"
          ],
          "name": "stderr"
        },
        {
          "output_type": "stream",
          "text": [
            "_________________________________________________________________\n",
            "Layer (type)                 Output Shape              Param #   \n",
            "=================================================================\n",
            "embedding_1 (Embedding)      (None, 512, 100)          900500    \n",
            "_________________________________________________________________\n",
            "conv1d_1 (Conv1D)            (None, 508, 256)          128256    \n",
            "_________________________________________________________________\n",
            "max_pooling1d_1 (MaxPooling1 (None, 101, 256)          0         \n",
            "_________________________________________________________________\n",
            "conv1d_2 (Conv1D)            (None, 97, 256)           327936    \n",
            "_________________________________________________________________\n",
            "max_pooling1d_2 (MaxPooling1 (None, 19, 256)           0         \n",
            "_________________________________________________________________\n",
            "conv1d_3 (Conv1D)            (None, 15, 256)           327936    \n",
            "_________________________________________________________________\n",
            "global_max_pooling1d_1 (Glob (None, 256)               0         \n",
            "_________________________________________________________________\n",
            "dense_1 (Dense)              (None, 256)               65792     \n",
            "_________________________________________________________________\n",
            "dense_2 (Dense)              (None, 1)                 257       \n",
            "=================================================================\n",
            "Total params: 1,750,677\n",
            "Trainable params: 850,177\n",
            "Non-trainable params: 900,500\n",
            "_________________________________________________________________\n"
          ],
          "name": "stdout"
        }
      ]
    },
    {
      "cell_type": "code",
      "metadata": {
        "id": "TyZtgSsxbGbd",
        "colab_type": "code",
        "colab": {
          "base_uri": "https://localhost:8080/",
          "height": 493
        },
        "outputId": "098ef671-2bb2-48b5-8e18-6505aa9d4535"
      },
      "source": [
        "#model.load_weights('AmazonModel.h5')\n",
        "callbacks = [EarlyStopping(monitor='val_loss', patience=3, verbose=0, mode='min'),\n",
        "             ModelCheckpoint('AmazonModel.h5', save_best_only=True, monitor='val_loss', mode='min')]\n",
        "model.fit(X_train, \n",
        "          y_train,\n",
        "          validation_split=0.1,\n",
        "          epochs=100,\n",
        "          batch_size=512,\n",
        "          callbacks=callbacks)"
      ],
      "execution_count": 13,
      "outputs": [
        {
          "output_type": "stream",
          "text": [
            "Train on 4491 samples, validate on 499 samples\n",
            "Epoch 1/100\n",
            "4491/4491 [==============================] - 4s 965us/step - loss: 0.5662 - acc: 0.7715 - val_loss: 0.4410 - val_acc: 0.8257\n",
            "Epoch 2/100\n",
            "4491/4491 [==============================] - 2s 368us/step - loss: 0.4062 - acc: 0.8521 - val_loss: 0.4497 - val_acc: 0.8257\n",
            "Epoch 3/100\n",
            "4491/4491 [==============================] - 2s 368us/step - loss: 0.3885 - acc: 0.8521 - val_loss: 0.4021 - val_acc: 0.8257\n",
            "Epoch 4/100\n",
            "4491/4491 [==============================] - 2s 370us/step - loss: 0.3593 - acc: 0.8530 - val_loss: 0.3835 - val_acc: 0.8257\n",
            "Epoch 5/100\n",
            "4491/4491 [==============================] - 2s 368us/step - loss: 0.3237 - acc: 0.8617 - val_loss: 0.3330 - val_acc: 0.8397\n",
            "Epoch 6/100\n",
            "4491/4491 [==============================] - 2s 370us/step - loss: 0.2972 - acc: 0.8651 - val_loss: 0.3086 - val_acc: 0.8657\n",
            "Epoch 7/100\n",
            "4491/4491 [==============================] - 2s 368us/step - loss: 0.2784 - acc: 0.8751 - val_loss: 0.3093 - val_acc: 0.8577\n",
            "Epoch 8/100\n",
            "4491/4491 [==============================] - 2s 371us/step - loss: 0.2602 - acc: 0.8824 - val_loss: 0.2917 - val_acc: 0.8737\n",
            "Epoch 9/100\n",
            "4491/4491 [==============================] - 2s 372us/step - loss: 0.2432 - acc: 0.8976 - val_loss: 0.2871 - val_acc: 0.8717\n",
            "Epoch 10/100\n",
            "4491/4491 [==============================] - 2s 371us/step - loss: 0.2091 - acc: 0.9138 - val_loss: 0.2806 - val_acc: 0.8758\n",
            "Epoch 11/100\n",
            "4491/4491 [==============================] - 2s 368us/step - loss: 0.1716 - acc: 0.9328 - val_loss: 0.3051 - val_acc: 0.8717\n",
            "Epoch 12/100\n",
            "4491/4491 [==============================] - 2s 373us/step - loss: 0.1279 - acc: 0.9586 - val_loss: 0.3373 - val_acc: 0.8637\n",
            "Epoch 13/100\n",
            "4491/4491 [==============================] - 2s 371us/step - loss: 0.1129 - acc: 0.9541 - val_loss: 0.3387 - val_acc: 0.8778\n"
          ],
          "name": "stdout"
        },
        {
          "output_type": "execute_result",
          "data": {
            "text/plain": [
              "<keras.callbacks.History at 0x7fbcfa8a1208>"
            ]
          },
          "metadata": {
            "tags": []
          },
          "execution_count": 13
        }
      ]
    },
    {
      "cell_type": "code",
      "metadata": {
        "id": "oZTjeeeChzNU",
        "colab_type": "code",
        "colab": {}
      },
      "source": [
        "test_text = [re.sub(r'([^\\s\\w]|_)+', '', _).lower().split() for _ in test_text]\n",
        "test_text = [_[:max_len] + [''] * (max_len - len(_)) for _ in test_text]\n",
        "\n",
        "X_test = np.concatenate([np.array([embedding_model.wv.vocab.get(word,embedding_model.wv.vocab['']).index for word in _])[np.newaxis, :] for _ in test_text], axis=0)\n",
        "\n",
        "model.load_weights('AmazonModel.h5')\n",
        "test_pred = model.predict(X_test)"
      ],
      "execution_count": 0,
      "outputs": []
    },
    {
      "cell_type": "code",
      "metadata": {
        "id": "0DfEGiHAXpSG",
        "colab_type": "code",
        "colab": {
          "base_uri": "https://localhost:8080/",
          "height": 34
        },
        "outputId": "b06ce2d7-fd9c-4abc-fffd-5c590b68fbf8"
      },
      "source": [
        "from google.colab import drive\n",
        "drive.mount('/content/drive')\n",
        "\n",
        "pickle.dump(test_pred, open('/content/drive/My Drive/test_pred.p', 'wb'))"
      ],
      "execution_count": 62,
      "outputs": [
        {
          "output_type": "stream",
          "text": [
            "Drive already mounted at /content/drive; to attempt to forcibly remount, call drive.mount(\"/content/drive\", force_remount=True).\n"
          ],
          "name": "stdout"
        }
      ]
    },
    {
      "cell_type": "markdown",
      "metadata": {
        "id": "zMzIbFVmi1DB",
        "colab_type": "text"
      },
      "source": [
        "### -----8<-----8<-----8<-----8<-----8<-----8<-----8<-----8<-----8<-----8<-----8<"
      ]
    },
    {
      "cell_type": "markdown",
      "metadata": {
        "id": "D9CSVWgkc3bl",
        "colab_type": "text"
      },
      "source": [
        "## Tus predicciones deberían tener este formato\n",
        "\n",
        "- Un numpy array de 2736 probabilidades de que la etiqueta sea '1' por cada uno de las muestras de test_text\n",
        "- El que menor log_loss (binary_corss_entropy) consigue gana el premio y entra en la liga\n",
        "- Manda el fichero pickleado a teticio@gmail.com para obtener tu puntuación"
      ]
    },
    {
      "cell_type": "code",
      "metadata": {
        "id": "RrC8Uht7hqzH",
        "colab_type": "code",
        "colab": {
          "base_uri": "https://localhost:8080/",
          "height": 153
        },
        "outputId": "bea6ddb5-ebe3-40da-b408-65cc512ddccc"
      },
      "source": [
        "test_pred = pickle.load(open('/content/drive/My Drive/test_pred.p', 'rb'))\n",
        "print(len(test_pred))\n",
        "test_pred"
      ],
      "execution_count": 69,
      "outputs": [
        {
          "output_type": "stream",
          "text": [
            "2736\n"
          ],
          "name": "stdout"
        },
        {
          "output_type": "execute_result",
          "data": {
            "text/plain": [
              "array([[0.8434883 ],\n",
              "       [0.89538974],\n",
              "       [0.13218054],\n",
              "       ...,\n",
              "       [0.7121408 ],\n",
              "       [0.6178071 ],\n",
              "       [0.979002  ]], dtype=float32)"
            ]
          },
          "metadata": {
            "tags": []
          },
          "execution_count": 69
        }
      ]
    },
    {
      "cell_type": "code",
      "metadata": {
        "id": "_edRhlMicfIe",
        "colab_type": "code",
        "colab": {}
      },
      "source": [
        ""
      ],
      "execution_count": 0,
      "outputs": []
    }
  ]
}