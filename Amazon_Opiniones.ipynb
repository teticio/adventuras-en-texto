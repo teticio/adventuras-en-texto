{
  "nbformat": 4,
  "nbformat_minor": 0,
  "metadata": {
    "colab": {
      "name": "Amazon Opiniones.ipynb",
      "version": "0.3.2",
      "provenance": [],
      "collapsed_sections": [],
      "toc_visible": true,
      "include_colab_link": true
    },
    "kernelspec": {
      "name": "python3",
      "display_name": "Python 3"
    },
    "accelerator": "GPU"
  },
  "cells": [
    {
      "cell_type": "markdown",
      "metadata": {
        "id": "view-in-github",
        "colab_type": "text"
      },
      "source": [
        "<a href=\"https://colab.research.google.com/github/teticio/aventuras-con-textos/blob/master/Amazon_Opiniones.ipynb\" target=\"_parent\"><img src=\"https://colab.research.google.com/assets/colab-badge.svg\" alt=\"Open In Colab\"/></a>"
      ]
    },
    {
      "cell_type": "markdown",
      "metadata": {
        "id": "9NessjW5cMUX",
        "colab_type": "text"
      },
      "source": [
        "## Descargar los datos"
      ]
    },
    {
      "cell_type": "code",
      "metadata": {
        "id": "PeIbHaSMvy5J",
        "colab_type": "code",
        "colab": {}
      },
      "source": [
        "import pickle\n",
        "\n",
        "!wget -q -O train_text.p 'https://docs.google.com/uc?export=download&id=1-0WEtyIuvB8pxENu8WJvgYFb8aMc4F8R'\n",
        "!wget -q -O train_label.p 'https://docs.google.com/uc?export=download&id=1-AKY4RWMXDg035vTJQLqUXIjYMw6Ja1t'\n",
        "!wget -q -O test_text.p 'https://docs.google.com/uc?export=download&id=1-4WBoOczIwOpd-Qu5n4dINcor9wC7UUk'\n",
        "\n",
        "train_text = pickle.load(open('train_text.p', 'rb'))\n",
        "train_label = pickle.load(open('train_label.p', 'rb'))\n",
        "test_text = pickle.load(open('test_text.p', 'rb'))"
      ],
      "execution_count": 0,
      "outputs": []
    },
    {
      "cell_type": "markdown",
      "metadata": {
        "id": "UmX5AQqZUHdr",
        "colab_type": "text"
      },
      "source": [
        "### -----8<-----8<-----8<-----8<-----8<-----8<-----8<-----8<-----8<-----8<-----8<-----"
      ]
    },
    {
      "cell_type": "markdown",
      "metadata": {
        "id": "b7_WoHvWcUhq",
        "colab_type": "text"
      },
      "source": [
        "## Tu modelo va aquí"
      ]
    },
    {
      "cell_type": "code",
      "metadata": {
        "id": "51Lh8GgcqjjD",
        "colab_type": "code",
        "colab": {}
      },
      "source": [
        "import re\n",
        "\n",
        "max_len = 512\n",
        "train_text = [re.sub(r'([^\\s\\w]|_)+', ' ', _).lower().split() for _ in train_text]\n",
        "train_text = [_[:max_len] + [''] * (max_len - len(_)) for _ in train_text]"
      ],
      "execution_count": 0,
      "outputs": []
    },
    {
      "cell_type": "code",
      "metadata": {
        "id": "nTJz7DaGUx1I",
        "colab_type": "code",
        "outputId": "5e7a29d0-278c-4b7c-e4b6-510bceaea621",
        "colab": {
          "base_uri": "https://localhost:8080/",
          "height": 374
        }
      },
      "source": [
        "import gensim\n",
        "from gensim.models.callbacks import CallbackAny2Vec\n",
        "\n",
        "class logger(CallbackAny2Vec):\n",
        "    def __init__(self):\n",
        "        self.epoch = 1\n",
        "        self.loss = 0\n",
        "\n",
        "    def on_epoch_end(self, model):\n",
        "        print('#{}'.format(self.epoch), 'loss =',\n",
        "              (model.get_latest_training_loss() - self.loss) / model.batch_words)\n",
        "        self.epoch += 1\n",
        "        self.loss = model.get_latest_training_loss()\n",
        "\n",
        "embedding_model = gensim.models.Word2Vec(sentences=train_text, size=100, min_count=0, iter=20, compute_loss=True, callbacks=[logger()])\n",
        "print(embedding_model)"
      ],
      "execution_count": 0,
      "outputs": [
        {
          "output_type": "stream",
          "text": [
            "#1 loss = 17.46623125\n",
            "#2 loss = 12.3455375\n",
            "#3 loss = 11.770871875\n",
            "#4 loss = 12.109846875\n",
            "#5 loss = 10.6608125\n",
            "#6 loss = 9.73399375\n",
            "#7 loss = 9.45798125\n",
            "#8 loss = 8.58353125\n",
            "#9 loss = 9.05955625\n",
            "#10 loss = 9.0533\n",
            "#11 loss = 8.8479625\n",
            "#12 loss = 8.4974\n",
            "#13 loss = 8.692625\n",
            "#14 loss = 8.5485125\n",
            "#15 loss = 8.3337375\n",
            "#16 loss = 8.4828375\n",
            "#17 loss = 8.1151125\n",
            "#18 loss = 7.9946375\n",
            "#19 loss = 8.0114125\n",
            "#20 loss = 8.3201625\n",
            "Word2Vec(vocab=9005, size=100, alpha=0.025)\n"
          ],
          "name": "stdout"
        }
      ]
    },
    {
      "cell_type": "code",
      "metadata": {
        "id": "l1Jf8Ss_e1RX",
        "colab_type": "code",
        "colab": {}
      },
      "source": [
        "import numpy as np\n",
        "\n",
        "X_train = np.concatenate([np.array([embedding_model.wv.vocab[word].index for word in _])[np.newaxis, :] for _ in train_text], axis=0)\n",
        "y_train = np.array(train_label)"
      ],
      "execution_count": 0,
      "outputs": []
    },
    {
      "cell_type": "code",
      "metadata": {
        "id": "eknY-xH_U0wo",
        "colab_type": "code",
        "outputId": "130f9b73-16b3-4eab-849d-8cddf1df3bf0",
        "colab": {
          "base_uri": "https://localhost:8080/",
          "height": 785
        }
      },
      "source": [
        "from keras.models import Model\n",
        "from keras.callbacks import EarlyStopping, ModelCheckpoint\n",
        "from keras.models import Sequential\n",
        "from keras.layers import Conv1D, MaxPooling1D, GlobalMaxPooling1D, Dense\n",
        "from keras.layers.embeddings import Embedding\n",
        "\n",
        "model = Sequential()\n",
        "model.add(Embedding(\n",
        "    input_dim=embedding_model.wv.vectors.shape[0],\n",
        "    output_dim=embedding_model.wv.vectors.shape[1],\n",
        "    input_length=len(X_train[0]),\n",
        "    weights=[embedding_model.wv.vectors],\n",
        "    trainable=False))\n",
        "model.add(Conv1D(256, 5, activation='relu'))\n",
        "model.add(MaxPooling1D(5))\n",
        "model.add(Conv1D(256, 5, activation='relu'))\n",
        "model.add(MaxPooling1D(5))\n",
        "model.add(Conv1D(256, 5, activation='relu'))\n",
        "model.add(GlobalMaxPooling1D())\n",
        "model.add(Dense(256, activation='relu'))\n",
        "model.add(Dense(1, activation='sigmoid'))\n",
        "model.compile(loss='binary_crossentropy', optimizer='adam', metrics=['accuracy'])\n",
        "model.summary()"
      ],
      "execution_count": 0,
      "outputs": [
        {
          "output_type": "stream",
          "text": [
            "Using TensorFlow backend.\n",
            "WARNING: Logging before flag parsing goes to stderr.\n",
            "W0717 16:37:52.720329 140222969923456 deprecation_wrapper.py:119] From /usr/local/lib/python3.6/dist-packages/keras/backend/tensorflow_backend.py:74: The name tf.get_default_graph is deprecated. Please use tf.compat.v1.get_default_graph instead.\n",
            "\n",
            "W0717 16:37:52.760274 140222969923456 deprecation_wrapper.py:119] From /usr/local/lib/python3.6/dist-packages/keras/backend/tensorflow_backend.py:517: The name tf.placeholder is deprecated. Please use tf.compat.v1.placeholder instead.\n",
            "\n",
            "W0717 16:37:52.766723 140222969923456 deprecation_wrapper.py:119] From /usr/local/lib/python3.6/dist-packages/keras/backend/tensorflow_backend.py:4138: The name tf.random_uniform is deprecated. Please use tf.random.uniform instead.\n",
            "\n",
            "W0717 16:37:52.778608 140222969923456 deprecation_wrapper.py:119] From /usr/local/lib/python3.6/dist-packages/keras/backend/tensorflow_backend.py:174: The name tf.get_default_session is deprecated. Please use tf.compat.v1.get_default_session instead.\n",
            "\n",
            "W0717 16:37:52.780366 140222969923456 deprecation_wrapper.py:119] From /usr/local/lib/python3.6/dist-packages/keras/backend/tensorflow_backend.py:181: The name tf.ConfigProto is deprecated. Please use tf.compat.v1.ConfigProto instead.\n",
            "\n",
            "W0717 16:37:55.705748 140222969923456 deprecation_wrapper.py:119] From /usr/local/lib/python3.6/dist-packages/keras/backend/tensorflow_backend.py:3976: The name tf.nn.max_pool is deprecated. Please use tf.nn.max_pool2d instead.\n",
            "\n",
            "W0717 16:37:55.790824 140222969923456 deprecation_wrapper.py:119] From /usr/local/lib/python3.6/dist-packages/keras/optimizers.py:790: The name tf.train.Optimizer is deprecated. Please use tf.compat.v1.train.Optimizer instead.\n",
            "\n",
            "W0717 16:37:55.823176 140222969923456 deprecation.py:323] From /usr/local/lib/python3.6/dist-packages/tensorflow/python/ops/nn_impl.py:180: add_dispatch_support.<locals>.wrapper (from tensorflow.python.ops.array_ops) is deprecated and will be removed in a future version.\n",
            "Instructions for updating:\n",
            "Use tf.where in 2.0, which has the same broadcast rule as np.where\n"
          ],
          "name": "stderr"
        },
        {
          "output_type": "stream",
          "text": [
            "_________________________________________________________________\n",
            "Layer (type)                 Output Shape              Param #   \n",
            "=================================================================\n",
            "embedding_1 (Embedding)      (None, 512, 100)          900500    \n",
            "_________________________________________________________________\n",
            "conv1d_1 (Conv1D)            (None, 508, 256)          128256    \n",
            "_________________________________________________________________\n",
            "max_pooling1d_1 (MaxPooling1 (None, 101, 256)          0         \n",
            "_________________________________________________________________\n",
            "conv1d_2 (Conv1D)            (None, 97, 256)           327936    \n",
            "_________________________________________________________________\n",
            "max_pooling1d_2 (MaxPooling1 (None, 19, 256)           0         \n",
            "_________________________________________________________________\n",
            "conv1d_3 (Conv1D)            (None, 15, 256)           327936    \n",
            "_________________________________________________________________\n",
            "global_max_pooling1d_1 (Glob (None, 256)               0         \n",
            "_________________________________________________________________\n",
            "dense_1 (Dense)              (None, 256)               65792     \n",
            "_________________________________________________________________\n",
            "dense_2 (Dense)              (None, 1)                 257       \n",
            "=================================================================\n",
            "Total params: 1,750,677\n",
            "Trainable params: 850,177\n",
            "Non-trainable params: 900,500\n",
            "_________________________________________________________________\n"
          ],
          "name": "stdout"
        }
      ]
    },
    {
      "cell_type": "code",
      "metadata": {
        "id": "TyZtgSsxbGbd",
        "colab_type": "code",
        "outputId": "35cd7076-0532-46cd-8c02-aab2af04285b",
        "colab": {
          "base_uri": "https://localhost:8080/",
          "height": 527
        }
      },
      "source": [
        "#model.load_weights('AmazonModel.h5')\n",
        "callbacks = [EarlyStopping(monitor='val_loss', patience=3, verbose=0, mode='min'),\n",
        "             ModelCheckpoint('AmazonModel.h5', save_best_only=True, monitor='val_loss', mode='min')]\n",
        "# class_weight {'0' : ... , '1' : ... }\n",
        "model.fit(X_train, \n",
        "          y_train,\n",
        "          validation_split=0.1,\n",
        "          epochs=100,\n",
        "          batch_size=512,\n",
        "          callbacks=callbacks)"
      ],
      "execution_count": 0,
      "outputs": [
        {
          "output_type": "stream",
          "text": [
            "Train on 4491 samples, validate on 499 samples\n",
            "Epoch 1/100\n",
            "4491/4491 [==============================] - 7s 2ms/step - loss: 1.0843 - acc: 0.7012 - val_loss: 0.5257 - val_acc: 0.8257\n",
            "Epoch 2/100\n",
            "4491/4491 [==============================] - 2s 389us/step - loss: 0.4433 - acc: 0.8493 - val_loss: 0.4507 - val_acc: 0.8257\n",
            "Epoch 3/100\n",
            "4491/4491 [==============================] - 2s 381us/step - loss: 0.4076 - acc: 0.8519 - val_loss: 0.4502 - val_acc: 0.8257\n",
            "Epoch 4/100\n",
            "4491/4491 [==============================] - 2s 384us/step - loss: 0.3961 - acc: 0.8521 - val_loss: 0.4327 - val_acc: 0.8257\n",
            "Epoch 5/100\n",
            "4491/4491 [==============================] - 2s 384us/step - loss: 0.3855 - acc: 0.8521 - val_loss: 0.4179 - val_acc: 0.8257\n",
            "Epoch 6/100\n",
            "4491/4491 [==============================] - 2s 386us/step - loss: 0.3706 - acc: 0.8528 - val_loss: 0.3918 - val_acc: 0.8236\n",
            "Epoch 7/100\n",
            "4491/4491 [==============================] - 2s 382us/step - loss: 0.3437 - acc: 0.8562 - val_loss: 0.3610 - val_acc: 0.8277\n",
            "Epoch 8/100\n",
            "4491/4491 [==============================] - 2s 384us/step - loss: 0.3163 - acc: 0.8604 - val_loss: 0.3283 - val_acc: 0.8457\n",
            "Epoch 9/100\n",
            "4491/4491 [==============================] - 2s 383us/step - loss: 0.2956 - acc: 0.8706 - val_loss: 0.3169 - val_acc: 0.8537\n",
            "Epoch 10/100\n",
            "4491/4491 [==============================] - 2s 384us/step - loss: 0.2782 - acc: 0.8778 - val_loss: 0.3156 - val_acc: 0.8657\n",
            "Epoch 11/100\n",
            "4491/4491 [==============================] - 2s 383us/step - loss: 0.2656 - acc: 0.8855 - val_loss: 0.3047 - val_acc: 0.8497\n",
            "Epoch 12/100\n",
            "4491/4491 [==============================] - 2s 383us/step - loss: 0.2389 - acc: 0.8994 - val_loss: 0.3096 - val_acc: 0.8497\n",
            "Epoch 13/100\n",
            "4491/4491 [==============================] - 2s 387us/step - loss: 0.2171 - acc: 0.9085 - val_loss: 0.3275 - val_acc: 0.8517\n",
            "Epoch 14/100\n",
            "4491/4491 [==============================] - 2s 385us/step - loss: 0.2222 - acc: 0.9063 - val_loss: 0.6826 - val_acc: 0.8257\n"
          ],
          "name": "stdout"
        },
        {
          "output_type": "execute_result",
          "data": {
            "text/plain": [
              "<keras.callbacks.History at 0x7f88034362e8>"
            ]
          },
          "metadata": {
            "tags": []
          },
          "execution_count": 8
        }
      ]
    },
    {
      "cell_type": "code",
      "metadata": {
        "id": "oZTjeeeChzNU",
        "colab_type": "code",
        "colab": {}
      },
      "source": [
        "test_text = [re.sub(r'([^\\s\\w]|_)+', ' ', _).lower().split() for _ in test_text]\n",
        "test_text = [_[:max_len] + [''] * (max_len - len(_)) for _ in test_text]\n",
        "\n",
        "X_test = np.concatenate([np.array([embedding_model.wv.vocab.get(word,embedding_model.wv.vocab['']).index for word in _])[np.newaxis, :] for _ in test_text], axis=0)\n",
        "\n",
        "model.load_weights('AmazonModel.h5')\n",
        "test_pred = model.predict(X_test)"
      ],
      "execution_count": 0,
      "outputs": []
    },
    {
      "cell_type": "markdown",
      "metadata": {
        "id": "zMzIbFVmi1DB",
        "colab_type": "text"
      },
      "source": [
        "### -----8<-----8<-----8<-----8<-----8<-----8<-----8<-----8<-----8<-----8<-----8<-----"
      ]
    },
    {
      "cell_type": "markdown",
      "metadata": {
        "id": "D9CSVWgkc3bl",
        "colab_type": "text"
      },
      "source": [
        "## Tus predicciones deberían tener este formato\n",
        "\n",
        "- Un numpy array de 2736 probabilidades de que la etiqueta sea '1' por cada uno de las muestras de test_text\n",
        "- ¡El que menor log_loss (binary_cross_entropy) consigue ganará un premio y entrará en el salón de la fama!\n",
        "- Manda el fichero pickleado a teticio@gmail.com para obtener tu puntuación"
      ]
    },
    {
      "cell_type": "code",
      "metadata": {
        "id": "RrC8Uht7hqzH",
        "colab_type": "code",
        "outputId": "f2f3338a-b97b-42aa-edbd-2878d6799e1c",
        "colab": {
          "base_uri": "https://localhost:8080/",
          "height": 153
        }
      },
      "source": [
        "pickle.dump(test_pred, open('test_pred.p', 'wb'))\n",
        "\n",
        "try:\n",
        "    from google.colab import files # estamos en colab?\n",
        "    files.download('test_pred.p') # descargar al ordenador local\n",
        "except:\n",
        "    pass\n",
        "\n",
        "print(len(test_pred))\n",
        "test_pred"
      ],
      "execution_count": 0,
      "outputs": [
        {
          "output_type": "stream",
          "text": [
            "2736\n"
          ],
          "name": "stdout"
        },
        {
          "output_type": "execute_result",
          "data": {
            "text/plain": [
              "array([[0.9022709 ],\n",
              "       [0.95577914],\n",
              "       [0.2206274 ],\n",
              "       ...,\n",
              "       [0.81901205],\n",
              "       [0.90731287],\n",
              "       [0.9813106 ]], dtype=float32)"
            ]
          },
          "metadata": {
            "tags": []
          },
          "execution_count": 11
        }
      ]
    }
  ]
}