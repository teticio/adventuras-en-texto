{
 "cells": [
  {
   "cell_type": "markdown",
   "metadata": {
    "colab_type": "text",
    "id": "view-in-github"
   },
   "source": [
    "<a href=\"https://colab.research.google.com/github/teticio/aventuras-con-textos/blob/master/Dr%20Bert.ipynb\" target=\"_parent\"><img src=\"https://colab.research.google.com/assets/colab-badge.svg\" alt=\"Open In Colab\"/></a>"
   ]
  },
  {
   "cell_type": "markdown",
   "metadata": {
    "colab_type": "text",
    "id": "02DBl0hJJVMH",
    "lang": "es"
   },
   "source": [
    "# Dr Bert\n",
    "Vamos a seguir la tradicción de [ELIZA](https://en.wikipedia.org/wiki/ELIZA) y crear un psicoterapeuta con inteligencia artificial. Vamos a aprovechar la capacidad que tiene el modelo de BERT de reconocer frases consecutivas."
   ]
  },
  {
   "cell_type": "markdown",
   "metadata": {
    "colab_type": "text",
    "id": "X51ZqMNdYPCu",
    "lang": "en"
   },
   "source": [
    "# Dr Bert\n",
    "We will follow the tradition of [ELIZA](https://en.wikipedia.org/wiki/ELIZA) and create a psychotherapist using artificial intelligence. We will take advantage of the ability of the BERT model to recognize consecutive sentences."
   ]
  },
  {
   "cell_type": "markdown",
   "metadata": {
    "colab_type": "text",
    "id": "vNbFebHiJVML",
    "lang": "es"
   },
   "source": [
    "### Importar las librerías"
   ]
  },
  {
   "cell_type": "markdown",
   "metadata": {
    "colab_type": "text",
    "id": "9b3ITG_dYPCx",
    "lang": "en"
   },
   "source": [
    "### Import libraries"
   ]
  },
  {
   "cell_type": "code",
   "execution_count": 1,
   "metadata": {
    "ExecuteTime": {
     "end_time": "2019-09-29T15:46:42.984968Z",
     "start_time": "2019-09-29T15:46:41.799861Z"
    },
    "colab": {
     "base_uri": "https://localhost:8080/",
     "height": 108
    },
    "colab_type": "code",
    "id": "Nz-PGIg6Jqog",
    "outputId": "969fefed-8149-4d74-990e-3c1200d12d5f"
   },
   "outputs": [
    {
     "name": "stdout",
     "output_type": "stream",
     "text": [
      "Cloning into 'bert_repo'...\n",
      "remote: Enumerating objects: 333, done.\u001b[K\n",
      "remote: Total 333 (delta 0), reused 0 (delta 0), pack-reused 333\n",
      "Receiving objects: 100% (333/333), 282.45 KiB | 510.00 KiB/s, done.\n",
      "Resolving deltas: 100% (183/183), done.\n"
     ]
    }
   ],
   "source": [
    "# instalar BERT\n",
    "# install BERT\n",
    "import sys\n",
    "\n",
    "!test -d bert_repo || git clone https://github.com/google-research/bert bert_repo\n",
    "if not 'bert_repo' in sys.path:\n",
    "    sys.path += ['bert_repo']\n",
    "\n",
    "# import python modules defined by BERT\n",
    "# import módulos de python de BERT\n",
    "import tokenization"
   ]
  },
  {
   "cell_type": "code",
   "execution_count": 2,
   "metadata": {
    "ExecuteTime": {
     "end_time": "2019-09-29T15:46:43.012436Z",
     "start_time": "2019-09-29T15:46:42.986449Z"
    },
    "colab": {
     "base_uri": "https://localhost:8080/",
     "height": 35
    },
    "colab_type": "code",
    "id": "7WAwauYZJqoo",
    "outputId": "8e31d1d3-4785-4fd5-99a7-f4d2a3957f41"
   },
   "outputs": [
    {
     "name": "stderr",
     "output_type": "stream",
     "text": [
      "Using TensorFlow backend.\n"
     ]
    }
   ],
   "source": [
    "import os\n",
    "import random\n",
    "import numpy as np\n",
    "import tensorflow as tf\n",
    "import tensorflow_hub as hub\n",
    "from keras import backend as K\n",
    "import keras.layers as layers\n",
    "from keras.preprocessing import sequence\n",
    "from keras.models import Model, Sequential, load_model\n",
    "from keras.layers import Input, Dense, Dropout\n",
    "from keras.engine import Layer\n",
    "from keras.optimizers import Adam\n",
    "from keras.callbacks import EarlyStopping, ModelCheckpoint\n",
    "from keras.utils import get_file, to_categorical\n",
    "from scipy.special import softmax\n",
    "\n",
    "os.environ['TFHUB_CACHE_DIR'] = './tfhub'\n",
    "# limit of words in the sequences\n",
    "limite_de_palabras_en_la_secuencia = 512  #@param {type : \"number\"}"
   ]
  },
  {
   "cell_type": "code",
   "execution_count": 0,
   "metadata": {
    "ExecuteTime": {
     "end_time": "2019-09-29T15:46:43.634366Z",
     "start_time": "2019-09-29T15:46:43.014087Z"
    },
    "colab": {},
    "colab_type": "code",
    "id": "zlgbP6BIJqor"
   },
   "outputs": [],
   "source": [
    "sess = tf.Session()"
   ]
  },
  {
   "cell_type": "markdown",
   "metadata": {
    "colab_type": "text",
    "id": "5J-rSCTNJVMa",
    "lang": "es"
   },
   "source": [
    "### Preparamos los datos"
   ]
  },
  {
   "cell_type": "markdown",
   "metadata": {
    "colab_type": "text",
    "id": "SMQyKFfTYPDG",
    "lang": "en"
   },
   "source": [
    "### We prepare the data"
   ]
  },
  {
   "cell_type": "code",
   "execution_count": 4,
   "metadata": {
    "ExecuteTime": {
     "end_time": "2019-09-29T15:52:13.885224Z",
     "start_time": "2019-09-29T15:52:12.287960Z"
    },
    "colab": {
     "base_uri": "https://localhost:8080/",
     "height": 72
    },
    "colab_type": "code",
    "id": "vJRINFP9YPDH",
    "outputId": "f274e4a4-0757-4d32-c5a8-e86feea58031"
   },
   "outputs": [
    {
     "name": "stdout",
     "output_type": "stream",
     "text": [
      "Downloading data from https://docs.google.com/uc?export=download&id=1ygz01H8ugP9QKs7VJk1GkFQjROeeF9S0\n",
      "237568/235682 [==============================] - 0s 0us/step\n"
     ]
    },
    {
     "data": {
      "text/plain": [
       "'/content/transcript.txt'"
      ]
     },
     "execution_count": 4,
     "metadata": {
      "tags": []
     },
     "output_type": "execute_result"
    }
   ],
   "source": [
    "get_file(\n",
    "    os.getcwd() + '/transcript.txt',\n",
    "    origin=\n",
    "    'https://docs.google.com/uc?export=download&id=1ygz01H8ugP9QKs7VJk1GkFQjROeeF9S0'\n",
    ")"
   ]
  },
  {
   "cell_type": "code",
   "execution_count": 0,
   "metadata": {
    "ExecuteTime": {
     "end_time": "2019-09-29T15:52:16.884469Z",
     "start_time": "2019-09-29T15:52:16.864231Z"
    },
    "colab": {},
    "colab_type": "code",
    "id": "O8eOsElzYPDN"
   },
   "outputs": [],
   "source": [
    "lines = []\n",
    "last = ''\n",
    "with open('transcript.txt', 'rt', encoding='utf-8') as file:\n",
    "    for line in file:\n",
    "        if '(Rogers stands as Gloria enters.) Good morning.' in line or \\\n",
    "            'Well, where would you like to start this morning?' in line or \\\n",
    "            'Where do you want to start this morning?' in line or \\\n",
    "            'Whatever we do is up to us.' in line or \\\n",
    "            'Well, I\\'m really glad to meet you.' in line:\n",
    "            continue\n",
    "        if 'This transcript is available for purposes of research' in line:\n",
    "            last = ''\n",
    "            continue\n",
    "        who = line.lstrip()\n",
    "        if who[:5] == 'Carl:' or who[:7] == 'Sylvia:' or who[:8] == 'Sylvia1:' or \\\n",
    "                (len(who) > 1 and (who[0] == 'C' or who[0] == 'T' or who[0] == 'S')\n",
    "                and not (who[1].isalpha())):\n",
    "            if 'Commentary' in line:\n",
    "                continue\n",
    "            this = who[0]\n",
    "            continued = '(continued)' in line\n",
    "            if '\\t' in line:\n",
    "                line = line[line.find('\\t') + 1:]\n",
    "            elif ':' in line:\n",
    "                line = line[line.find(':') + 1:]\n",
    "        else:\n",
    "            continue\n",
    "        if '[' in line:\n",
    "            while '[' in line and ']' in line:\n",
    "                line = line[:line.find('[')] + line[line.find(']') + 1:]\n",
    "            line = ' '.join(line.split()).strip()\n",
    "            if len(line) == 0:\n",
    "                line = next(file)\n",
    "        line = ' '.join(line.split()).strip()\n",
    "        if len(line) > 0:\n",
    "            if continued or last == this:\n",
    "                lines[-1] = lines[-1] + ' ' + line\n",
    "            else:\n",
    "                lines.append(line)\n",
    "            last = this"
   ]
  },
  {
   "cell_type": "code",
   "execution_count": 6,
   "metadata": {
    "ExecuteTime": {
     "end_time": "2019-09-29T15:52:19.306466Z",
     "start_time": "2019-09-29T15:52:18.539724Z"
    },
    "colab": {
     "base_uri": "https://localhost:8080/",
     "height": 1000
    },
    "colab_type": "code",
    "id": "W0TxdS45YPDS",
    "outputId": "3e6b88c4-da11-4ac4-c8c9-ffb5c808a38e"
   },
   "outputs": [
    {
     "data": {
      "text/html": [
       "Client: Yes, I am.</p>"
      ],
      "text/plain": [
       "<IPython.core.display.HTML object>"
      ]
     },
     "metadata": {
      "tags": []
     },
     "output_type": "display_data"
    },
    {
     "data": {
      "text/html": [
       "<p><b>Therapist: Won't you have a chair? Now then, we have half an hour together, and I really don't know what we will be able to make of it but uh I hope we can make something of it. I'd be glad to know whatever concerns you. (T: Sitting forward, C: Sitting back, legs crossed, right arm over the back of the chair)</b>"
      ],
      "text/plain": [
       "<IPython.core.display.HTML object>"
      ]
     },
     "metadata": {
      "tags": []
     },
     "output_type": "display_data"
    },
    {
     "data": {
      "text/html": [
       "Client: Well, right now I'm nervous (T: Mhm) but I feel more comfortable the way you are talking in a low voice and I don't feel like you'll be so harsh on me. But, ah ...</p>"
      ],
      "text/plain": [
       "<IPython.core.display.HTML object>"
      ]
     },
     "metadata": {
      "tags": []
     },
     "output_type": "display_data"
    },
    {
     "data": {
      "text/html": [
       "<p><b>Therapist: I hear the tremor in your voice so I know you are... (C: Smiles)</b>"
      ],
      "text/plain": [
       "<IPython.core.display.HTML object>"
      ]
     },
     "metadata": {
      "tags": []
     },
     "output_type": "display_data"
    },
    {
     "data": {
      "text/html": [
       "Client: Uh, well, the main thing I um, want to talk to you about is uh, I'm just newly divorced and uh I had gone in therapy before and I felt comfortable when I left, and all of a sudden now the biggest change is adjusting to my single life. (T: Mhm, mhm) And uh one of the things that bothers me the most is especially men, and having men to the house and how it affects the children (T: Mhm, Mhm) and- Uh, the biggest thing I want - the thing that keeps coming to my mind I want to tell you about is that I have a daughter, nine, who at one time I felt had a lot of emotional problems. I wish I could stop shaking (T and C: laugh). And uh, I'm real conscious of things affecting her. I don't want her to get upset, I don't want to shock her. I want so bad to- for her to accept me. And we're real open with each other especially about sex. And the other day she saw a girl that was single but pregnant and she asked me all about \"can girls get pregnant if they are single?\" And the conversation was fine and I wasn’t un- at ease at all with her until she asked me if I had ever made love to a man since I left her daddy and I lied to her. And ever since that, it keeps coming up to my mind because I feel so guilty lying to her because I never lie and I want her to trust me. And I want- I almost want an answer from you. I want you to tell me if it would affect her wrong if I told her the truth, or what. (T:Mhm)</p>"
      ],
      "text/plain": [
       "<IPython.core.display.HTML object>"
      ]
     },
     "metadata": {
      "tags": []
     },
     "output_type": "display_data"
    },
    {
     "data": {
      "text/html": [
       "<p><b>Therapist: And it's this concern about her and the fact that you really aren't that this open relationship that has existed between you, now you feel it's kind of vanished?</b>"
      ],
      "text/plain": [
       "<IPython.core.display.HTML object>"
      ]
     },
     "metadata": {
      "tags": []
     },
     "output_type": "display_data"
    },
    {
     "data": {
      "text/html": [
       "Client: Yes. I feel like I have to be on guard about that (T: Mhm) because I remember when I was a little girl, when I first found out my mother and father made love, that was dirty and terrible, and I didn't- I didn’t like her any more for awhile. And I don't want to lie to Pammy either and I don't know...</p>"
      ],
      "text/plain": [
       "<IPython.core.display.HTML object>"
      ]
     },
     "metadata": {
      "tags": []
     },
     "output_type": "display_data"
    },
    {
     "data": {
      "text/html": [
       "<p><b>Therapist: I sure wish I could give you the answer as to what you should tell her. (Smiles.)</b>"
      ],
      "text/plain": [
       "<IPython.core.display.HTML object>"
      ]
     },
     "metadata": {
      "tags": []
     },
     "output_type": "display_data"
    },
    {
     "data": {
      "text/html": [
       "Client: I was afraid you were going to say that (Laughs).</p>"
      ],
      "text/plain": [
       "<IPython.core.display.HTML object>"
      ]
     },
     "metadata": {
      "tags": []
     },
     "output_type": "display_data"
    },
    {
     "data": {
      "text/html": [
       "<p><b>Therapist: Because what you really want is an answer.</b>"
      ],
      "text/plain": [
       "<IPython.core.display.HTML object>"
      ]
     },
     "metadata": {
      "tags": []
     },
     "output_type": "display_data"
    },
    {
     "data": {
      "text/html": [
       "Client: I want to especially know if it would affect her if I was completely honest and open with her or if it would affect her because I lied. I feel like it is bound to make a strain because I lied to her.</p>"
      ],
      "text/plain": [
       "<IPython.core.display.HTML object>"
      ]
     },
     "metadata": {
      "tags": []
     },
     "output_type": "display_data"
    },
    {
     "data": {
      "text/html": [
       "<p><b>Therapist: Mhm. You feel she'll suspect that, or she'll know something is not quite right?</b>"
      ],
      "text/plain": [
       "<IPython.core.display.HTML object>"
      ]
     },
     "metadata": {
      "tags": []
     },
     "output_type": "display_data"
    },
    {
     "data": {
      "text/html": [
       "Client: I feel that in time she will distrust me, yes (T: Mhm, mhm). And also I thought well, gee, what about when she gets a little older and she finds herself in touchy situations. She probably wouldn't want to admit it to me because she thinks I'm so good and so sweet. (Points to herself.) And yet I'm afraid she could think I'm really a- a devil. And I want so bad for her to accept me. And I don't know how much a nine year old can take.</p>"
      ],
      "text/plain": [
       "<IPython.core.display.HTML object>"
      ]
     },
     "metadata": {
      "tags": []
     },
     "output_type": "display_data"
    },
    {
     "data": {
      "text/html": [
       "<p><b>Therapist: And really both alternatives concern you. That she may think you're too good or better than you really are.</b>"
      ],
      "text/plain": [
       "<IPython.core.display.HTML object>"
      ]
     },
     "metadata": {
      "tags": []
     },
     "output_type": "display_data"
    },
    {
     "data": {
      "text/html": [
       "Client: Yes.</p>"
      ],
      "text/plain": [
       "<IPython.core.display.HTML object>"
      ]
     },
     "metadata": {
      "tags": []
     },
     "output_type": "display_data"
    },
    {
     "data": {
      "text/html": [
       "<p><b>Therapist: And she may think you are worse than you are.</b>"
      ],
      "text/plain": [
       "<IPython.core.display.HTML object>"
      ]
     },
     "metadata": {
      "tags": []
     },
     "output_type": "display_data"
    },
    {
     "data": {
      "text/html": [
       "Client: Not worse than I am. (Smiles) I don't know if she can accept me the way I am. I think I paint a picture that I'm all sweet and motherly. And -- I'm a little ashamed of my shady side too. (T:Mhm, mhm)</p>"
      ],
      "text/plain": [
       "<IPython.core.display.HTML object>"
      ]
     },
     "metadata": {
      "tags": []
     },
     "output_type": "display_data"
    },
    {
     "data": {
      "text/html": [
       "<p><b>Therapist: I see. It really cuts a little deeper. If she really knew you, would she, could she accept you?</b>"
      ],
      "text/plain": [
       "<IPython.core.display.HTML object>"
      ]
     },
     "metadata": {
      "tags": []
     },
     "output_type": "display_data"
    },
    {
     "data": {
      "text/html": [
       "Client: This is what I don't know. Yeah. I don't want her to turn away from me. (T: That relationship-) And I don't even know how I feel about it because there are times when I feel so guilty like when I have a man over, I even try to make a special set up so that if I were ever alone with him, the children would never catch me in that sort of thing. Because I'm real leery about it (T: Mhm). And yet I also know that I have these desires.</p>"
      ],
      "text/plain": [
       "<IPython.core.display.HTML object>"
      ]
     },
     "metadata": {
      "tags": []
     },
     "output_type": "display_data"
    },
    {
     "data": {
      "text/html": [
       "<p><b>Therapist: And so it’s quite clear it isn't only her problem or the relationship with her, it's in you as well.</b>"
      ],
      "text/plain": [
       "<IPython.core.display.HTML object>"
      ]
     },
     "metadata": {
      "tags": []
     },
     "output_type": "display_data"
    },
    {
     "data": {
      "text/html": [
       "Client: And my guilt. Yeah. Yeah. (T: Oh) I feel guilty so often. (Moistens lips.)</p>"
      ],
      "text/plain": [
       "<IPython.core.display.HTML object>"
      ]
     },
     "metadata": {
      "tags": []
     },
     "output_type": "display_data"
    },
    {
     "data": {
      "text/html": [
       "<p><b>Therapist: \"What- What can I accept myself as doing?\" And uh (C: Yes, Yes) you realize that you set up sort of subterfuges, so as to make sure that you're not caught or something, you realize that you are acting from guilt, is that it?</b>"
      ],
      "text/plain": [
       "<IPython.core.display.HTML object>"
      ]
     },
     "metadata": {
      "tags": []
     },
     "output_type": "display_data"
    },
    {
     "data": {
      "text/html": [
       "Client: Yes (T: Mhm, mhm) and I don't like the ... I would like to feel comfortable with whatever I do. If I choose not to tell Pammy the truth, to feel comfortable that she can handle it, (T: Mhm, Mhm, Mhm) and I don't. I want to be honest, and yet I feel there are some areas that I don't even accept (T: Mhm, Mhm) .</p>"
      ],
      "text/plain": [
       "<IPython.core.display.HTML object>"
      ]
     },
     "metadata": {
      "tags": []
     },
     "output_type": "display_data"
    },
    {
     "data": {
      "text/html": [
       "<p><b>Therapist: And if you can't accept them in yourself, how could you possibly be comfortable in telling them to her?</b>"
      ],
      "text/plain": [
       "<IPython.core.display.HTML object>"
      ]
     },
     "metadata": {
      "tags": []
     },
     "output_type": "display_data"
    },
    {
     "data": {
      "text/html": [
       "Client: Right.</p>"
      ],
      "text/plain": [
       "<IPython.core.display.HTML object>"
      ]
     },
     "metadata": {
      "tags": []
     },
     "output_type": "display_data"
    },
    {
     "data": {
      "text/html": [
       "<p><b>Therapist: Mhm. Mhm. And yet, as you say, you do have these desires and you do have your feelings, but- but you don't feel good about them.</b>"
      ],
      "text/plain": [
       "<IPython.core.display.HTML object>"
      ]
     },
     "metadata": {
      "tags": []
     },
     "output_type": "display_data"
    },
    {
     "data": {
      "text/html": [
       "Client: Right. (T: Nods and smiles.) (Pause) And I, I, I have a feeling that you are just going to sit there and let me stew in it (laughs) and I- I want more. I want you to help me get rid of my guilt feeling. If I can get rid of my guilt feeling about lying or going to bed with a single man, any of that, just so I can feel more comfortable.</p>"
      ],
      "text/plain": [
       "<IPython.core.display.HTML object>"
      ]
     },
     "metadata": {
      "tags": []
     },
     "output_type": "display_data"
    },
    {
     "data": {
      "text/html": [
       "<p><b>Therapist: Mhm. And I guess I'd like to say, \"No, I don't want to let you stew in your feelings,\" but on the other hand, I, I also feel that this is the kind of very private thing that I couldn't possibly answer for you. But I sure as anything will try to help you work toward your own answer. I don't know whether that makes any sense to you, but I mean it.</b>"
      ],
      "text/plain": [
       "<IPython.core.display.HTML object>"
      ]
     },
     "metadata": {
      "tags": []
     },
     "output_type": "display_data"
    },
    {
     "data": {
      "text/html": [
       "Client: Well, I appreciate you saying that. (Takes her arm off back of chair, now uses both hands to gesture.) You sound like you mean it. But I don't know where to go. (T: Mhm, Mhm, Mhm) I don't begin to know where to go. I thought that I had pretty well worked over most of my guilt, and now that this is coming up I'm disappointed in myself. (T: Mhm, Mhm) I really am. I want- I like it when I feel that no matter what I do, even if it's against my own morals or my upbringing, that I can still feel good about me. And now I don't. Like uh, there's a girl at work who sort of mothers me and she just- she- I think she thinks I'm all sweet, and I sure don't want to show my more ornery devilish side with her. I want to be sweet and it's so hard for me to - this all seems so new again (T: Mhm) and it's so disappointing.</p>"
      ],
      "text/plain": [
       "<IPython.core.display.HTML object>"
      ]
     },
     "metadata": {
      "tags": []
     },
     "output_type": "display_data"
    },
    {
     "data": {
      "text/html": [
       "<p><b>Therapist: Yeah, I get the disappointment that here, a lot of these things you’d thought you'd worked through, and now the guilts and the feeling that only a part of you is acceptable to anybody else.</b>"
      ],
      "text/plain": [
       "<IPython.core.display.HTML object>"
      ]
     },
     "metadata": {
      "tags": []
     },
     "output_type": "display_data"
    },
    {
     "data": {
      "text/html": [
       "Client: Yes.</p>"
      ],
      "text/plain": [
       "<IPython.core.display.HTML object>"
      ]
     },
     "metadata": {
      "tags": []
     },
     "output_type": "display_data"
    },
    {
     "data": {
      "text/html": [
       "<p><b>Therapist: That keeps coming out. (Pause) (C: Strains eyebrows.) I guess I do catch the real deep puzzlement that you feel as to \"What the hell shall I do? What can I do?\"</b>"
      ],
      "text/plain": [
       "<IPython.core.display.HTML object>"
      ]
     },
     "metadata": {
      "tags": []
     },
     "output_type": "display_data"
    },
    {
     "data": {
      "text/html": [
       "Client: Yes, and do you know what I can find, doctor, (Touches forehead.) is that everything I start to do that I st- impulsive, seems natural to tell Pammy, or- or to go out on a date or something, I’m comfortable until I think how I was affected as a child and the minute that comes up, then I'm all haywire. (T: Mhm) Like uh, I want to be a good mother so bad, and I feel like I am a good mother, (T: Mhm) but then there's those little exceptions. Like my guilts with working. I want to work and it's so fun having extra money. I like to work nights. The minute I think I'm not being real good to the children or giving them enough time, then I start feeling guilty again. Then, that’s when I- it’s uh- what do they call it? (Looks away briefly.) A double bind. That's just what it feels like. I want to do this and it feels right, but after all I'm not being a good mother and I want to be both. I am becoming more and more aware of what a perfectionist I am. That is what it seems I want to be so perfect. Either I want to become perfect in my standards, or not have that need any more.</p>"
      ],
      "text/plain": [
       "<IPython.core.display.HTML object>"
      ]
     },
     "metadata": {
      "tags": []
     },
     "output_type": "display_data"
    },
    {
     "data": {
      "text/html": [
       "<p><b>Therapist: Or, I guess I hear it a little differently - that uh- what you want is to seem perfect, but it means it’s- a great- a matter of great importance to you to be a good mother and you want to seem to be a good mother, even if some of your actual feelings differ from that. (Points to C.) Is that catching it or not?</b>"
      ],
      "text/plain": [
       "<IPython.core.display.HTML object>"
      ]
     },
     "metadata": {
      "tags": []
     },
     "output_type": "display_data"
    },
    {
     "data": {
      "text/html": [
       "Client: Gee, I don't feel like I am saying that. (T: Oh, okay) No, that isn't what I feel, really. I want to approve of me always, but my actions won't let me. I want to approve of me. (Pause) I – I think- (Strains face.)</p>"
      ],
      "text/plain": [
       "<IPython.core.display.HTML object>"
      ]
     },
     "metadata": {
      "tags": []
     },
     "output_type": "display_data"
    },
    {
     "data": {
      "text/html": [
       "<p><b>Therapist: I realize ... you -- alright, but let me -- I’d like to understand it. You sound as though your actions were kind of outside of you. You want to approve of you, but what you do somehow won't let you approve of yourself.</b>"
      ],
      "text/plain": [
       "<IPython.core.display.HTML object>"
      ]
     },
     "metadata": {
      "tags": []
     },
     "output_type": "display_data"
    },
    {
     "data": {
      "text/html": [
       "Client: Right. (Pause) Like I feel that I can't approve of myself regarding, for example (Smiles.), my sex life. (T: Mhm, Mhm) This is the big thing. If I really fell in love with a man and I respected him and I adored him, I don't think I would feel so guilty going to bed with him and I don't think I would have to make up any excuses to the children because they could see my natural caring for him. (T: Mhm, Okay) But when I have the physical desires and I'll say, \"Oh well, why not,\" and I want to anyway, but I feel guilty afterwards. I hate facing the kids, I don't like looking at myself, and I rarely enjoy it. And this is what I mean. If the circumstances would be different, I don't think I'd feel so guilty because I'd feel right about it. (Gestures more profoundly.)</p>"
      ],
      "text/plain": [
       "<IPython.core.display.HTML object>"
      ]
     },
     "metadata": {
      "tags": []
     },
     "output_type": "display_data"
    },
    {
     "data": {
      "text/html": [
       "<p><b>Therapist: Yeah, I- I guess I hear you saying, \"If what I was doing, when I went to bed with a man, was really genuine and full of love and respect and so on, I wouldn't feel guilty in relation to Pam. I wouldn’t uh, I, I really would be comfortable about the situation.\"</b>"
      ],
      "text/plain": [
       "<IPython.core.display.HTML object>"
      ]
     },
     "metadata": {
      "tags": []
     },
     "output_type": "display_data"
    },
    {
     "data": {
      "text/html": [
       "Client: That's how I feel, yeah. (Smiles.) And I know that sounds like I want a perfect situation, but that is how I feel. And in the meantime, I can't stop these desires. I tried that also. I’ve tried saying, \"O.K., I don't like myself when I do that so I won't do it any more.\" But then I resent the children. I think, why should they stop me from doing what I want, and it is really not that bad.</p>"
      ],
      "text/plain": [
       "<IPython.core.display.HTML object>"
      ]
     },
     "metadata": {
      "tags": []
     },
     "output_type": "display_data"
    },
    {
     "data": {
      "text/html": [
       "<p><b>Therapist: But I guess I heard you saying too, that it isn't only the children, but you don't like it as well when it isn't really ...</b>"
      ],
      "text/plain": [
       "<IPython.core.display.HTML object>"
      ]
     },
     "metadata": {
      "tags": []
     },
     "output_type": "display_data"
    },
    {
     "data": {
      "text/html": [
       "Client: Right. I'm sure that I know that's it, probably even more so than I'm aware of. But I only notice it so much when I pick it up in the children. Then I can also notice it in myself. (Touches her face.)</p>"
      ],
      "text/plain": [
       "<IPython.core.display.HTML object>"
      ]
     },
     "metadata": {
      "tags": []
     },
     "output_type": "display_data"
    },
    {
     "data": {
      "text/html": [
       "<p><b>Therapist: And somehow, sometimes, you kind of uh, feel like blaming them for the feelings you have. I mean, why should they cut you out from a normal sex life, huh?</b>"
      ],
      "text/plain": [
       "<IPython.core.display.HTML object>"
      ]
     },
     "metadata": {
      "tags": []
     },
     "output_type": "display_data"
    },
    {
     "data": {
      "text/html": [
       "Client: Well, a sex life, I could say, not normal because there is something about me that says that's not very healthy – to uh just go into sex because you feel physically attracted or something, or a physical need. So, something about it tells me that that's not quite right anyway. (Still touching her face.)</p>"
      ],
      "text/plain": [
       "<IPython.core.display.HTML object>"
      ]
     },
     "metadata": {
      "tags": []
     },
     "output_type": "display_data"
    },
    {
     "data": {
      "text/html": [
       "<p><b>Therapist: Mhm. (Pause) But you feel, really, that at times you’re acting in ways that are not in accord with your own inner standards.</b>"
      ],
      "text/plain": [
       "<IPython.core.display.HTML object>"
      ]
     },
     "metadata": {
      "tags": []
     },
     "output_type": "display_data"
    },
    {
     "data": {
      "text/html": [
       "Client: Right. Right.</p>"
      ],
      "text/plain": [
       "<IPython.core.display.HTML object>"
      ]
     },
     "metadata": {
      "tags": []
     },
     "output_type": "display_data"
    },
    {
     "data": {
      "text/html": [
       "<p><b>Therapist: But then you were also saying, a minute ago, that you feel you can't help that uh- either.</b>"
      ],
      "text/plain": [
       "<IPython.core.display.HTML object>"
      ]
     },
     "metadata": {
      "tags": []
     },
     "output_type": "display_data"
    },
    {
     "data": {
      "text/html": [
       "Client: I wish I could. That's it, and I can't now I feel like I- I can't control myself as well as I could have before. For a specific reason now, I can't. I just let go and I have- there’s too many things I do wrong that I have to feel guilty for, and I sure don't like that. I want you very much to give me a direct answer, and I'm going to ask it, and I don't expect a direct answer, (Smiles.) but I want to know. Do you feel that to me the most important thing is to be open and honest and if I can be open and honest with my children, do you feel that it could harm them? If for example, I could say to Pammy, \"I was- I felt bad lying to you, Pammy, and I want to tell you the truth now,\" and if I tell her the truth and she’s shocked at me and she’s upset, that that could bother her more? I was- I want to get rid of my guilts and that will help me, but I don't want to put ‘em on her. (Points away from herself.)</p>"
      ],
      "text/plain": [
       "<IPython.core.display.HTML object>"
      ]
     },
     "metadata": {
      "tags": []
     },
     "output_type": "display_data"
    },
    {
     "data": {
      "text/html": [
       "<p><b>Therapist: That's right.</b>"
      ],
      "text/plain": [
       "<IPython.core.display.HTML object>"
      ]
     },
     "metadata": {
      "tags": []
     },
     "output_type": "display_data"
    },
    {
     "data": {
      "text/html": [
       "Client: Do you feel that that could hurt her?</p>"
      ],
      "text/plain": [
       "<IPython.core.display.HTML object>"
      ]
     },
     "metadata": {
      "tags": []
     },
     "output_type": "display_data"
    },
    {
     "data": {
      "text/html": [
       "<p><b>Therapist: That’s a real concern. I guess uh - I am sure this will sound evasive to you, but it seems to me that perhaps the person you are not being uh fully honest with is you? (C: Sure) Because I was very much struck by the fact that you were saying, \"If I feel all right about what I have done, whether it's going to bed with a man or what, if I really feel all right about it, then I do not have any concern about what I would tell Pam or my relationship with her.\" (Shakes head.)</b>"
      ],
      "text/plain": [
       "<IPython.core.display.HTML object>"
      ]
     },
     "metadata": {
      "tags": []
     },
     "output_type": "display_data"
    },
    {
     "data": {
      "text/html": [
       "Client: Right. All right. Now I hear what you are sayin’. (Sighs) (Shifts back and forth in chair.) Then all right, then I want to work on (T: It’s kind of tough, huh?) -- I wanna work on accepting me, then. I want to work on feeling all right about it. But that makes sense. That that will come natural and then I won't have to worry about Pammy. (T: Mhm.) But when things do seem so wrong for me and I have an impulse to do them, how can I accept that?</p>"
      ],
      "text/plain": [
       "<IPython.core.display.HTML object>"
      ]
     },
     "metadata": {
      "tags": []
     },
     "output_type": "display_data"
    },
    {
     "data": {
      "text/html": [
       "<p><b>Therapist: What you'd like to do is to feel more accepting toward yourself when you do things that you feel are wrong. Is that right?</b>"
      ],
      "text/plain": [
       "<IPython.core.display.HTML object>"
      ]
     },
     "metadata": {
      "tags": []
     },
     "output_type": "display_data"
    },
    {
     "data": {
      "text/html": [
       "Client: Right. And I feel like, I feel like…</p>"
      ],
      "text/plain": [
       "<IPython.core.display.HTML object>"
      ]
     },
     "metadata": {
      "tags": []
     },
     "output_type": "display_data"
    },
    {
     "data": {
      "text/html": [
       "<p><b>Therapist: (Smiling) It sounds like a tough assignment.</b>"
      ],
      "text/plain": [
       "<IPython.core.display.HTML object>"
      ]
     },
     "metadata": {
      "tags": []
     },
     "output_type": "display_data"
    },
    {
     "data": {
      "text/html": [
       "Client: Yeah, I feel like you are going to say, \"Now why do you think they’re wrong?\" and uh, I have mixed feelings there too. (T: Mhm) Through therapy I will say, \"Now look, I know this is natural. Women feel it - sure, we don't talk about it lots socially but all women feel it and it's very natural.\" I have had sex for the last 11 years and I’m- of course going to want it, but I still think it is wrong unless you’re really, truly in love with a man, and my body doesn't seem to agree. And so I don't know how to accept it.</p>"
      ],
      "text/plain": [
       "<IPython.core.display.HTML object>"
      ]
     },
     "metadata": {
      "tags": []
     },
     "output_type": "display_data"
    },
    {
     "data": {
      "text/html": [
       "<p><b>Therapist: It sounds like a triangle to me, isn't it? You feel that I, or therapists in general, or other people say, \"It is all right, it is all right, it’s natural enough, go ahead.\" Um, and I guess you feel your body sort of lines up on that side of the picture. (Points to C. ) But something in you says, \"But I don't like it that way, not unless it’s really right.\"</b>"
      ],
      "text/plain": [
       "<IPython.core.display.HTML object>"
      ]
     },
     "metadata": {
      "tags": []
     },
     "output_type": "display_data"
    },
    {
     "data": {
      "text/html": [
       "Client: Right. (Long Pause) (Sighs, then speaks in a slower, somber way.) Well, I have a hopeless feeling. (T: Mhm) I mean, these are all the things that I sort of feel myself, and I feel uh - O.K., now what?</p>"
      ],
      "text/plain": [
       "<IPython.core.display.HTML object>"
      ]
     },
     "metadata": {
      "tags": []
     },
     "output_type": "display_data"
    },
    {
     "data": {
      "text/html": [
       "<p><b>Therapist: Mhm. You feel this is the conflict and it's just insoluble, and therefore it is hopeless, and here you look to me and I don't seem to give you any help and that uh-</b>"
      ],
      "text/plain": [
       "<IPython.core.display.HTML object>"
      ]
     },
     "metadata": {
      "tags": []
     },
     "output_type": "display_data"
    },
    {
     "data": {
      "text/html": [
       "Client: Right. I uh- I really know you can't answer for me, and I have to figure it out myself, but I want you to guide me or show me where to start or - so it won't look so hopeless. I know I can keep living with this conflict and I know eventually things would work out, but I'd like feeling more comfortable with the way I live – (T: Mhm, mhm.) and I'm not.</p>"
      ],
      "text/plain": [
       "<IPython.core.display.HTML object>"
      ]
     },
     "metadata": {
      "tags": []
     },
     "output_type": "display_data"
    },
    {
     "data": {
      "text/html": [
       "<p><b>Therapist: One thing I might ask, what is it you wish I would say to you?</b>"
      ],
      "text/plain": [
       "<IPython.core.display.HTML object>"
      ]
     },
     "metadata": {
      "tags": []
     },
     "output_type": "display_data"
    },
    {
     "data": {
      "text/html": [
       "Client: I wish you would say to me (Smiles): to be honest and take the risk that Pammy’s going to accept me. And I also have a feeling if I could really risk it with Pammy, of all people, that I'd be able to say, \"Here's this little kid that can accept me, and I'm really not that bad.\" If she really knows what a demon I am and still loves me and accepts me, it seems like it would help me to accept me more - like it's really not that bad. (T: Mhm) I want you to say to go ahead and be honest, but I don't want the responsibility that it would upset her. (T: I see.) That is where I don't want to take responsibility.</p>"
      ],
      "text/plain": [
       "<IPython.core.display.HTML object>"
      ]
     },
     "metadata": {
      "tags": []
     },
     "output_type": "display_data"
    },
    {
     "data": {
      "text/html": [
       "<p><b>Therapist: So you know, yeah - You know very well what you'd like to do in the relationship. You would like to be yourself and you'd like to have her know that you're not perfect and do things that maybe even she wouldn't approve of, and that you disapprove of to some degree yourself, but that uh- somehow she would love you and accept you as an imperfect person.</b>"
      ],
      "text/plain": [
       "<IPython.core.display.HTML object>"
      ]
     },
     "metadata": {
      "tags": []
     },
     "output_type": "display_data"
    },
    {
     "data": {
      "text/html": [
       "Client: Yes. Like I wonder if my mother had been more open with me, maybe I wouldn't have had such a narrow attitude about sex. If I would have thought that she could be, you know, pretty sexy and ornery, and devilish too, that I wouldn't look at her as being such a sweet mother, that she could also be the other side. But she didn't talk about that. (Shakes her head.) (T: Mhm) Maybe that's where I got my picture. I don't know, but I want Pammy to see me as a full woman, but also accept me.</p>"
      ],
      "text/plain": [
       "<IPython.core.display.HTML object>"
      ]
     },
     "metadata": {
      "tags": []
     },
     "output_type": "display_data"
    },
    {
     "data": {
      "text/html": [
       "<p><b>Therapist: You don't sound so uncertain.</b>"
      ],
      "text/plain": [
       "<IPython.core.display.HTML object>"
      ]
     },
     "metadata": {
      "tags": []
     },
     "output_type": "display_data"
    },
    {
     "data": {
      "text/html": [
       "Client: I don't? (Tilts head and smiles.) What do you mean?</p>"
      ],
      "text/plain": [
       "<IPython.core.display.HTML object>"
      ]
     },
     "metadata": {
      "tags": []
     },
     "output_type": "display_data"
    },
    {
     "data": {
      "text/html": [
       "<p><b>Therapist: What I mean is you have been sitting there telling me just what you would like to do in that relationship with Pam.</b>"
      ],
      "text/plain": [
       "<IPython.core.display.HTML object>"
      ]
     },
     "metadata": {
      "tags": []
     },
     "output_type": "display_data"
    },
    {
     "data": {
      "text/html": [
       "Client: (Appears confused.) I would, but I don't want to quite take the risk of doing it (T: I can understand) unless an authority tells me that …</p>"
      ],
      "text/plain": [
       "<IPython.core.display.HTML object>"
      ]
     },
     "metadata": {
      "tags": []
     },
     "output_type": "display_data"
    },
    {
     "data": {
      "text/html": [
       "<p><b>Therapist: (Eyes moistening, hands clasped.) It’s, I guess one thing that I feel very keenly is that it's an awful risky thing to live. (Pause) (Hands unclasp.) You'd be taking a chance on your relationship with her and taking a chance on letting her know who you are, really.</b>"
      ],
      "text/plain": [
       "<IPython.core.display.HTML object>"
      ]
     },
     "metadata": {
      "tags": []
     },
     "output_type": "display_data"
    },
    {
     "data": {
      "text/html": [
       "Client: (Pause) Yeah. But then if I don't take the chance, if I feel loved and accepted by her, I'll never feel good about it anyway.</p>"
      ],
      "text/plain": [
       "<IPython.core.display.HTML object>"
      ]
     },
     "metadata": {
      "tags": []
     },
     "output_type": "display_data"
    },
    {
     "data": {
      "text/html": [
       "<p><b>Therapist: Mhm. Mhm. If her love and acceptance of you is based on a false picture of you, what the hell is the good of that? Is that- is that what you are saying?</b>"
      ],
      "text/plain": [
       "<IPython.core.display.HTML object>"
      ]
     },
     "metadata": {
      "tags": []
     },
     "output_type": "display_data"
    },
    {
     "data": {
      "text/html": [
       "Client: Yeah, that’s what I mean, yes. But I also feel there is a lot of responsibility with being a mother. With I don’t- I don't want to feel like I have caused any big traumas in the children. I don't like all that responsibility. I think that's it. I don't like it, feeling it could be my fault.</p>"
      ],
      "text/plain": [
       "<IPython.core.display.HTML object>"
      ]
     },
     "metadata": {
      "tags": []
     },
     "output_type": "display_data"
    },
    {
     "data": {
      "text/html": [
       "<p><b>Therapist: Mhm. I guess that's what I meant when I said, \"Life is risky.\" It’s uh- to take the responsibility for being the person you would like to be with her is a hell of a responsibility.</b>"
      ],
      "text/plain": [
       "<IPython.core.display.HTML object>"
      ]
     },
     "metadata": {
      "tags": []
     },
     "output_type": "display_data"
    },
    {
     "data": {
      "text/html": [
       "Client: It is.</p>"
      ],
      "text/plain": [
       "<IPython.core.display.HTML object>"
      ]
     },
     "metadata": {
      "tags": []
     },
     "output_type": "display_data"
    },
    {
     "data": {
      "text/html": [
       "<p><b>Therapist: A very frightening one.</b>"
      ],
      "text/plain": [
       "<IPython.core.display.HTML object>"
      ]
     },
     "metadata": {
      "tags": []
     },
     "output_type": "display_data"
    },
    {
     "data": {
      "text/html": [
       "Client: And you know, I- I look at it two ways. I like to see myself as being so honest with the kids, and really being proud of myself so that no matter what I told them or no matter how bad they think I was, I was honest (points at herself) (T: Mhm) and down deep it’s gonna be a much more wholesome relationship, and yet you know, I get jealous of like when they are with their daddy. I feel he’s more flip, he’s not quite as real, he’s not quite as honest, but nevertheless, they see a sweet picture of their dad. You know, he is all goodness and light, and I am envious of that too. I want them to see me just as sweet as they see him and yet I know he is not quite as real with them. So it seems like I've got to swap the one for the other, and I know this is really what I want the most, but uh, I miss some of that glory.</p>"
      ],
      "text/plain": [
       "<IPython.core.display.HTML object>"
      ]
     },
     "metadata": {
      "tags": []
     },
     "output_type": "display_data"
    },
    {
     "data": {
      "text/html": [
       "<p><b>Therapist: Yeah. You sort of feel, “I want them to have just as nice a picture of me as they have of their dad, (C: I do. Right) and if his is a little phony, then maybe mine will have to be too.” I think that's putting it a little too strongly, but-</b>"
      ],
      "text/plain": [
       "<IPython.core.display.HTML object>"
      ]
     },
     "metadata": {
      "tags": []
     },
     "output_type": "display_data"
    },
    {
     "data": {
      "text/html": [
       "Client: But that’s close. That is what I mean. So uh- But I know she can't have that neat a picture of me, if I were honest. (Big smile) (T: Laughs) Besides that, I do feel that I’m a little more ornery than their dad anyway. So I'm likely to do more things that they’d disapprove of.</p>"
      ],
      "text/plain": [
       "<IPython.core.display.HTML object>"
      ]
     },
     "metadata": {
      "tags": []
     },
     "output_type": "display_data"
    },
    {
     "data": {
      "text/html": [
       "<p><b>Therapist: Sounds like you really find it quite hard to believe that they would really love you if they knew you?</b>"
      ],
      "text/plain": [
       "<IPython.core.display.HTML object>"
      ]
     },
     "metadata": {
      "tags": []
     },
     "output_type": "display_data"
    },
    {
     "data": {
      "text/html": [
       "Client: That's right. You know that's exactly it. Before therapy, I would have definitely chosen the other area. I’m going to get respect from them no matter what - even if I have to lie.</p>"
      ],
      "text/plain": [
       "<IPython.core.display.HTML object>"
      ]
     },
     "metadata": {
      "tags": []
     },
     "output_type": "display_data"
    },
    {
     "data": {
      "text/html": [
       "<p><b>Therapist: I see.</b>"
      ],
      "text/plain": [
       "<IPython.core.display.HTML object>"
      ]
     },
     "metadata": {
      "tags": []
     },
     "output_type": "display_data"
    },
    {
     "data": {
      "text/html": [
       "Client: But right now, I know that's not true (T: Mhm, mhm) and I'm not positive they'll truly accept me. Something tells me they will. I know they will, but I am not positive. I want reassurance. I keep wanting these things.</p>"
      ],
      "text/plain": [
       "<IPython.core.display.HTML object>"
      ]
     },
     "metadata": {
      "tags": []
     },
     "output_type": "display_data"
    },
    {
     "data": {
      "text/html": [
       "<p><b>Therapist: And now you are kind of in a no-man's-land of probably shifting from one point of view toward them to another, but boy you'd sure like somebody to say, \"That's right, you go ahead and do it.\" (Gestures to sides.)</b>"
      ],
      "text/plain": [
       "<IPython.core.display.HTML object>"
      ]
     },
     "metadata": {
      "tags": []
     },
     "output_type": "display_data"
    },
    {
     "data": {
      "text/html": [
       "Client: Yes. Yes. That's why I get encouraged when I read in a book from somebody I respect and admire, that this is the right thing no matter what - honesty will win out. Well then, that keeps giving me confidence. “By gosh, I'm right.” But I ...</p>"
      ],
      "text/plain": [
       "<IPython.core.display.HTML object>"
      ]
     },
     "metadata": {
      "tags": []
     },
     "output_type": "display_data"
    },
    {
     "data": {
      "text/html": [
       "<p><b>Therapist: It is so damned hard to really choose something on your own, isn't it?</b>"
      ],
      "text/plain": [
       "<IPython.core.display.HTML object>"
      ]
     },
     "metadata": {
      "tags": []
     },
     "output_type": "display_data"
    },
    {
     "data": {
      "text/html": [
       "Client: Which makes me feel rea- very immature. I don't like this in me. I wish I were grown up enough or mature enough to make my decisions and stick by them, but I need somebody to help me on - somebody to push me.</p>"
      ],
      "text/plain": [
       "<IPython.core.display.HTML object>"
      ]
     },
     "metadata": {
      "tags": []
     },
     "output_type": "display_data"
    },
    {
     "data": {
      "text/html": [
       "<p><b>Therapist: So that you kind of reproach yourself for that, I guess. And feel, \"Why, if I was anybody, or if I was grown up, I'd be mature enough to decide things like this for myself.\"</b>"
      ],
      "text/plain": [
       "<IPython.core.display.HTML object>"
      ]
     },
     "metadata": {
      "tags": []
     },
     "output_type": "display_data"
    },
    {
     "data": {
      "text/html": [
       "Client: Right. Right. And take more risks. I wish I’d take more risks. I wish that I could just go ahead and be this and say, however the children grow up, I've done my best. I didn’t have to constantly have this conflict. And I'd like, in later years, to say, \"No matter what you asked me kids, at least I told you the truth. You may not have liked it, but it's been the truth.\" (Camera pans towards hands.) That, somehow, I can admire. (T: Mhm.) I- I disrespect people that lie. I hate it so, you see what a double bind I am in. I hate myself if I'm bad, but I also hate myself if I lie. So uh, it's accepting. I want to become more accepting.</p>"
      ],
      "text/plain": [
       "<IPython.core.display.HTML object>"
      ]
     },
     "metadata": {
      "tags": []
     },
     "output_type": "display_data"
    },
    {
     "data": {
      "text/html": [
       "<p><b>Therapist: I guess, judging from your tone of voice, you sound as though you hate yourself more when you lie than you do in terms of things you disapprove of in behavior.</b>"
      ],
      "text/plain": [
       "<IPython.core.display.HTML object>"
      ]
     },
     "metadata": {
      "tags": []
     },
     "output_type": "display_data"
    },
    {
     "data": {
      "text/html": [
       "Client: I do. I do because this has really bothered me. This happened with Pammy about a month ago and it keeps coming to my mind. I don't know whether to go back and talk to her about it or wait. She may have even forgotten what she asked me, but uh – it just-</p>"
      ],
      "text/plain": [
       "<IPython.core.display.HTML object>"
      ]
     },
     "metadata": {
      "tags": []
     },
     "output_type": "display_data"
    },
    {
     "data": {
      "text/html": [
       "<p><b>Therapist: The point is, you haven't forgotten.</b>"
      ],
      "text/plain": [
       "<IPython.core.display.HTML object>"
      ]
     },
     "metadata": {
      "tags": []
     },
     "output_type": "display_data"
    },
    {
     "data": {
      "text/html": [
       "Client: I haven... No, I haven't. And I would like, at least, to be able to tell her that I remember lying and I am sorry I lied and it has been driving me bugs because I did. (Pause) I do- Now I feel like now that's solved and I didn't even solve a thing, but I feel relieved. (T: Mhm, Mhm.) I uh- I do feel like you have been saying to me – you’re not say- giving me advice, but I do feel like you are saying, \"You really wanna- You know what pattern you want to follow Gloria, and go ahead and follow it.\" I sort of feel a backing up from you.</p>"
      ],
      "text/plain": [
       "<IPython.core.display.HTML object>"
      ]
     },
     "metadata": {
      "tags": []
     },
     "output_type": "display_data"
    },
    {
     "data": {
      "text/html": [
       "<p><b>Therapist: I guess the way I sense it is uh, you've been telling me that you know what you want to do and yes, I do believe in backing up people in what they want to do. It’s just a little different slant than the way it seems to you.</b>"
      ],
      "text/plain": [
       "<IPython.core.display.HTML object>"
      ]
     },
     "metadata": {
      "tags": []
     },
     "output_type": "display_data"
    },
    {
     "data": {
      "text/html": [
       "Client: Are you telling me...</p>"
      ],
      "text/plain": [
       "<IPython.core.display.HTML object>"
      ]
     },
     "metadata": {
      "tags": []
     },
     "output_type": "display_data"
    },
    {
     "data": {
      "text/html": [
       "<p><b>Therapist: You see, one thing that concerns me is uh,.. It's no damn good you’re doing something that you haven't really chosen to do. That’s why I am trying to help you find out what your own inner choices are.</b>"
      ],
      "text/plain": [
       "<IPython.core.display.HTML object>"
      ]
     },
     "metadata": {
      "tags": []
     },
     "output_type": "display_data"
    },
    {
     "data": {
      "text/html": [
       "Client: But then there's also a conflict there because I am not really positive what I wanna do. The lying part, yes, but I am not positive what I wanna do when I go against myself. (T: Sure) Like when I bring a man to the house. I am not sure I want to do that. If I feel guilty afterward, I must not have really wanted to.</p>"
      ],
      "text/plain": [
       "<IPython.core.display.HTML object>"
      ]
     },
     "metadata": {
      "tags": []
     },
     "output_type": "display_data"
    },
    {
     "data": {
      "text/html": [
       "<p><b>Therapist: And I am interested that you say - I'm not just sure which words you used - but you don’t want- you don’t like yourself or don't approve of it when you do something against yourself. (C: Hand to her face.)</b>"
      ],
      "text/plain": [
       "<IPython.core.display.HTML object>"
      ]
     },
     "metadata": {
      "tags": []
     },
     "output_type": "display_data"
    },
    {
     "data": {
      "text/html": [
       "Client: Yes. You know, this is so different. Now this kind of thing we are talking about now, it isn't just knowing whether you want to do something or not. If I want to go to work in the morning or if I don't want to go to work, that's easy. (Both hands palms up.) But when I find myself doing something I don't feel comfortable with, I automatically say, \"If you’re not comfortable Gloria, it’s not right. Something’s wrong.\" All right now. What I want to ask you is, how can I know which is the strongest? Because I do it, does that mean that’s the strongest? And yet, if I disapproved, that's just part of the thing that’s got to go along with it? You see, it sounds like you... (Points at self with both hands.) I'm picking up a contradiction. I’m not under- I’m not following.</p>"
      ],
      "text/plain": [
       "<IPython.core.display.HTML object>"
      ]
     },
     "metadata": {
      "tags": []
     },
     "output_type": "display_data"
    },
    {
     "data": {
      "text/html": [
       "<p><b>Therapist: It sounds like you’re feeling a contradiction in yourself too, although you- what I heard you saying in part is uh, the way you like it is when you feel really comfortable about what you are doing.</b>"
      ],
      "text/plain": [
       "<IPython.core.display.HTML object>"
      ]
     },
     "metadata": {
      "tags": []
     },
     "output_type": "display_data"
    },
    {
     "data": {
      "text/html": [
       "Client: Yes, and I have at times, when I’ve made a decision. Now that seems right. (T: Mhm) That seems perfectly right - no conflict - but then there are times I do things that I feel uncomfortable with. So that there is a conflict there. (T: Mhm) It's not the same at all. So, what I'm saying is, how do I really know when I am following my true feelings, if I have conflicts afterwards or guilt afterwards?</p>"
      ],
      "text/plain": [
       "<IPython.core.display.HTML object>"
      ]
     },
     "metadata": {
      "tags": []
     },
     "output_type": "display_data"
    },
    {
     "data": {
      "text/html": [
       "<p><b>Therapist: I see. Because in the moment, it may seem like your true feelings.</b>"
      ],
      "text/plain": [
       "<IPython.core.display.HTML object>"
      ]
     },
     "metadata": {
      "tags": []
     },
     "output_type": "display_data"
    },
    {
     "data": {
      "text/html": [
       "Client: Yes. Like if I’m starting to do it -- O.K.</p>"
      ],
      "text/plain": [
       "<IPython.core.display.HTML object>"
      ]
     },
     "metadata": {
      "tags": []
     },
     "output_type": "display_data"
    },
    {
     "data": {
      "text/html": [
       "<p><b>Therapist: Mhm. Mhm. So that really is tough ah ... When if you feel comfortable in the moment about it, but then afterwards don't feel at all comfortable, which course of action was really the one you should have followed?</b>"
      ],
      "text/plain": [
       "<IPython.core.display.HTML object>"
      ]
     },
     "metadata": {
      "tags": []
     },
     "output_type": "display_data"
    },
    {
     "data": {
      "text/html": [
       "Client: You know, the most outstanding thing - I don't know if you are following me, when I say about this conflict - the one thing I know is I’ve wanted, for example, to leave my husband for quite a few years. I never did it. I kept thinking how nice it would be, or how scary it would be, but I never did it. And all of a sudden when I did, it felt right. I didn't feel mean toward him. I just knew this was what I had to do. That's when I know I am following myself. I am following my feelings completely. I have no conflict there. Some unhappy things came from it (T: sure), but I still have no conflict. That, to me, is when I am following my feelings. And in everyday life the small little decisions, the small little things to do don't come out that clear at all. So many conflicts come with them. (T: Mhm, that’s right) Is this natural? (Knits eyebrows.)</p>"
      ],
      "text/plain": [
       "<IPython.core.display.HTML object>"
      ]
     },
     "metadata": {
      "tags": []
     },
     "output_type": "display_data"
    },
    {
     "data": {
      "text/html": [
       "<p><b>Therapist: Although you are saying – uh, I expect it is – but, but you’re saying too that you know perfectly well the feeling within yourself that occurs when you are really doing something that's right for you.</b>"
      ],
      "text/plain": [
       "<IPython.core.display.HTML object>"
      ]
     },
     "metadata": {
      "tags": []
     },
     "output_type": "display_data"
    },
    {
     "data": {
      "text/html": [
       "Client: I do. I do. (Face relaxes.) And I miss that feeling other times. And it's right away a clue to me.</p>"
      ],
      "text/plain": [
       "<IPython.core.display.HTML object>"
      ]
     },
     "metadata": {
      "tags": []
     },
     "output_type": "display_data"
    },
    {
     "data": {
      "text/html": [
       "<p><b>Therapist: Mhm. You can really listen to yourself sometimes and realize, \"Oh no, this isn't the right feeling. This isn't – this isn’t the way I would feel if I was doing what I really wanted to do.\"</b>"
      ],
      "text/plain": [
       "<IPython.core.display.HTML object>"
      ]
     },
     "metadata": {
      "tags": []
     },
     "output_type": "display_data"
    },
    {
     "data": {
      "text/html": [
       "Client: But yet, many times I will go along and do it anyway. And say, \"Oh well, I'm in the situation now, I'll just remember next time.\" I mentioned this word a lot in therapy and most therapists grin at me or giggle or something when I say \"utopia,\" but when I do follow a feeling and I feel this good feeling inside of me, that's sort of utopia. That's what I mean. That's the way I like to feel whether it's a bad thing or a good thing. But I feel right about me. This is what I wanna…</p>"
      ],
      "text/plain": [
       "<IPython.core.display.HTML object>"
      ]
     },
     "metadata": {
      "tags": []
     },
     "output_type": "display_data"
    },
    {
     "data": {
      "text/html": [
       "<p><b>Therapist: I, I sense that in those utopian moments, you really feel kind of whole. You feel all in one piece.</b>"
      ],
      "text/plain": [
       "<IPython.core.display.HTML object>"
      ]
     },
     "metadata": {
      "tags": []
     },
     "output_type": "display_data"
    },
    {
     "data": {
      "text/html": [
       "Client: Yes. Yeah, it gives me a choked up feeling when you say that because I don't get that as often as I'd like. (Smiles.) I like that whole feeling. That's real precious to me. (Touches her face.)</p>"
      ],
      "text/plain": [
       "<IPython.core.display.HTML object>"
      ]
     },
     "metadata": {
      "tags": []
     },
     "output_type": "display_data"
    },
    {
     "data": {
      "text/html": [
       "<p><b>Therapist: I expect none of us get it as often as we'd like, but I really do understand it. (Pause) (C: Tears come to her eyes.) Mhm, that really does touch you, doesn't it?</b>"
      ],
      "text/plain": [
       "<IPython.core.display.HTML object>"
      ]
     },
     "metadata": {
      "tags": []
     },
     "output_type": "display_data"
    },
    {
     "data": {
      "text/html": [
       "Client: Yeah, and you know what else I was just thinking? I – I feel dumb saying it uh - that all of a sudden while I was talking to you I thought, \"Gee, how nice I can talk to you and I want you to approve of me and I respect you, but I miss that my father couldn't talk to me like you are.\" (Touches her chin.) I mean, I'd like to say, \"Gee, I'd like you for my father.\" (T: Mhm, Mhm, Mhm) I don't even know why that came to me. (Smiles)</p>"
      ],
      "text/plain": [
       "<IPython.core.display.HTML object>"
      ]
     },
     "metadata": {
      "tags": []
     },
     "output_type": "display_data"
    },
    {
     "data": {
      "text/html": [
       "<p><b>Therapist: You look to me like a pretty nice daughter. (Pause) (C: Looks down.) But you really do miss the fact that you- you couldn't be open with your own dad.</b>"
      ],
      "text/plain": [
       "<IPython.core.display.HTML object>"
      ]
     },
     "metadata": {
      "tags": []
     },
     "output_type": "display_data"
    },
    {
     "data": {
      "text/html": [
       "Client: Yeah, I couldn't be open, but I, I wanna blame it on him. I think I’m more open than he'd allow me. He would never listen to me talk like you are and not disapprove, not lower me down. I thought of this the other day. Why do I always have to be so perfect? I know why. He always wanted me to be perfect. I always had to be better (touches her lips) and uh... yeah, I miss that.</p>"
      ],
      "text/plain": [
       "<IPython.core.display.HTML object>"
      ]
     },
     "metadata": {
      "tags": []
     },
     "output_type": "display_data"
    },
    {
     "data": {
      "text/html": [
       "<p><b>Therapist: You were just trying like hell to be the girl he wanted you to be.</b>"
      ],
      "text/plain": [
       "<IPython.core.display.HTML object>"
      ]
     },
     "metadata": {
      "tags": []
     },
     "output_type": "display_data"
    },
    {
     "data": {
      "text/html": [
       "Client: Yet at the same time, rebelling.</p>"
      ],
      "text/plain": [
       "<IPython.core.display.HTML object>"
      ]
     },
     "metadata": {
      "tags": []
     },
     "output_type": "display_data"
    },
    {
     "data": {
      "text/html": [
       "<p><b>Therapist: That's right. Sure. (Nods)</b>"
      ],
      "text/plain": [
       "<IPython.core.display.HTML object>"
      ]
     },
     "metadata": {
      "tags": []
     },
     "output_type": "display_data"
    },
    {
     "data": {
      "text/html": [
       "Client: (Gesturing with left hand from the side of her head.) Like I almost gloated writing him a letter the other day and telling him I am a waitress, which I expect him to disapprove of. I go out at nights and I almost gloated hitting him back - like, \"Now how do you like me?\" (T: Uh-huh, Uh-huh) And yet, I really want acceptance and love from him. I mean, I know he loves me.</p>"
      ],
      "text/plain": [
       "<IPython.core.display.HTML object>"
      ]
     },
     "metadata": {
      "tags": []
     },
     "output_type": "display_data"
    },
    {
     "data": {
      "text/html": [
       "<p><b>Therapist: So you slap at him and say, \"This is what I am, now see.\"</b>"
      ],
      "text/plain": [
       "<IPython.core.display.HTML object>"
      ]
     },
     "metadata": {
      "tags": []
     },
     "output_type": "display_data"
    },
    {
     "data": {
      "text/html": [
       "Client: Yeah. (T: But you- yeah) \"You raised me, how do you like it?\" But do you know what I want him to say? \"I knew this was you all along, honey, and I really love you.\" (Wipes a tear with finger.)</p>"
      ],
      "text/plain": [
       "<IPython.core.display.HTML object>"
      ]
     },
     "metadata": {
      "tags": []
     },
     "output_type": "display_data"
    },
    {
     "data": {
      "text/html": [
       "<p><b>Therapist: Oh, I see. You really feel badly that you think there is very little chance he will say that.</b>"
      ],
      "text/plain": [
       "<IPython.core.display.HTML object>"
      ]
     },
     "metadata": {
      "tags": []
     },
     "output_type": "display_data"
    },
    {
     "data": {
      "text/html": [
       "Client: No. He won't. He doesn't hear. (Her voice sad and resigned.) I went back home to him about two years ago, really wanting to let him know I loved him although I’ve been afraid of him. And he doesn't hear me. He just keeps saying things like, \"Honey, you know I love you. You know I have always loved you.\" He doesn't hear. (Her eyes moisten.)</p>"
      ],
      "text/plain": [
       "<IPython.core.display.HTML object>"
      ]
     },
     "metadata": {
      "tags": []
     },
     "output_type": "display_data"
    },
    {
     "data": {
      "text/html": [
       "<p><b>Therapist: That was… He’s never really known you and loved you and this, somehow, is what brings the tears inside.</b>"
      ],
      "text/plain": [
       "<IPython.core.display.HTML object>"
      ]
     },
     "metadata": {
      "tags": []
     },
     "output_type": "display_data"
    },
    {
     "data": {
      "text/html": [
       "Client: I don't know what it is. You know, when I talk about it, it feels more flip. If I just sit still a minute, it feels like a great big hurt down there. That I uh, feel cheated. (Reaches for kleenex, wipes her eye.)</p>"
      ],
      "text/plain": [
       "<IPython.core.display.HTML object>"
      ]
     },
     "metadata": {
      "tags": []
     },
     "output_type": "display_data"
    },
    {
     "data": {
      "text/html": [
       "<p><b>Therapist: Mhm. Mhm. It is much eas… It’s much easier to uh be a little flip, because then you don't feel that big lump inside of hurt.</b>"
      ],
      "text/plain": [
       "<IPython.core.display.HTML object>"
      ]
     },
     "metadata": {
      "tags": []
     },
     "output_type": "display_data"
    },
    {
     "data": {
      "text/html": [
       "Client: Mhm. (Nodding) And again, that's a hopeless situation. I tried working on it, and uh, I feel it's something I have to accept. My father just isn't the type of man I'd really like. I'd like somebody more understanding and caring. He cares, but not in the way that we can cooperate or communicate.</p>"
      ],
      "text/plain": [
       "<IPython.core.display.HTML object>"
      ]
     },
     "metadata": {
      "tags": []
     },
     "output_type": "display_data"
    },
    {
     "data": {
      "text/html": [
       "<p><b>Therapist: Mhm. You feel “nope” that, \"I am permanently cheated.\"</b>"
      ],
      "text/plain": [
       "<IPython.core.display.HTML object>"
      ]
     },
     "metadata": {
      "tags": []
     },
     "output_type": "display_data"
    },
    {
     "data": {
      "text/html": [
       "Client: Mhm. That is why I like substitutes. Like I like talking to you and I like men that I can respect. Doctors, and I keep sort of maybe underneath a feeling like we’re real close, you know, and it’s sort of like a substitute father.</p>"
      ],
      "text/plain": [
       "<IPython.core.display.HTML object>"
      ]
     },
     "metadata": {
      "tags": []
     },
     "output_type": "display_data"
    },
    {
     "data": {
      "text/html": [
       "<p><b>Therapist: I don't feel that's pretending.</b>"
      ],
      "text/plain": [
       "<IPython.core.display.HTML object>"
      ]
     },
     "metadata": {
      "tags": []
     },
     "output_type": "display_data"
    },
    {
     "data": {
      "text/html": [
       "Client: Well, you are not really my father (laughs). (Raises her eyebrows.)</p>"
      ],
      "text/plain": [
       "<IPython.core.display.HTML object>"
      ]
     },
     "metadata": {
      "tags": []
     },
     "output_type": "display_data"
    },
    {
     "data": {
      "text/html": [
       "<p><b>Therapist: No, I meant about the real close business.</b>"
      ],
      "text/plain": [
       "<IPython.core.display.HTML object>"
      ]
     },
     "metadata": {
      "tags": []
     },
     "output_type": "display_data"
    },
    {
     "data": {
      "text/html": [
       "Client: Well, see, I sort of feel that's pretending too, because I can't expect you to feel very close to me. You don't know me that well. (Fingering kleenex.)</p>"
      ],
      "text/plain": [
       "<IPython.core.display.HTML object>"
      ]
     },
     "metadata": {
      "tags": []
     },
     "output_type": "display_data"
    },
    {
     "data": {
      "text/html": [
       "<p><b>Therapist: Well, all I can do is what I am feeling- that is I feel close to you in this moment.</b>"
      ],
      "text/plain": [
       "<IPython.core.display.HTML object>"
      ]
     },
     "metadata": {
      "tags": []
     },
     "output_type": "display_data"
    },
    {
     "data": {
      "text/html": [
       "Client: Well, O.K., I'd just like more of it I guess.</p>"
      ],
      "text/plain": [
       "<IPython.core.display.HTML object>"
      ]
     },
     "metadata": {
      "tags": []
     },
     "output_type": "display_data"
    },
    {
     "data": {
      "text/html": [
       "<p><b>Therapist: Do you feel as though that's a big need, that it would take a lot of caring and a lot of understanding to fill it up?</b>"
      ],
      "text/plain": [
       "<IPython.core.display.HTML object>"
      ]
     },
     "metadata": {
      "tags": []
     },
     "output_type": "display_data"
    },
    {
     "data": {
      "text/html": [
       "Client: Exactly. And I have been so busy trying to get rid of my neurosis. I'd like to have this one neurosis filled. I'd like to just find someone who is going to love me like a father. I even want this in boyfriends. I always want to get an older man that's caring and more mature and not so flip.</p>"
      ],
      "text/plain": [
       "<IPython.core.display.HTML object>"
      ]
     },
     "metadata": {
      "tags": []
     },
     "output_type": "display_data"
    },
    {
     "data": {
      "text/html": [
       "<p><b>Therapist: One of the things you really deeply want is to find a father whom you would love and respect and who would really like you as you are, and not to just like perfection.</b>"
      ],
      "text/plain": [
       "<IPython.core.display.HTML object>"
      ]
     },
     "metadata": {
      "tags": []
     },
     "output_type": "display_data"
    },
    {
     "data": {
      "text/html": [
       "Client: That's right. And it seems ironic that since I have been away from my husband, the only type of man I go out with are the kind I don't respect - are the young, flip, not caring, 'smart aleck' kind of guy. Not somebody that's really, you know, that I can respect. That seems like such a big thing.</p>"
      ],
      "text/plain": [
       "<IPython.core.display.HTML object>"
      ]
     },
     "metadata": {
      "tags": []
     },
     "output_type": "display_data"
    },
    {
     "data": {
      "text/html": [
       "<p><b>Therapist: The phrase that comes to my mind - I don't know if it is appropriate or not - you're slapping your father in the face, aren't you?</b>"
      ],
      "text/plain": [
       "<IPython.core.display.HTML object>"
      ]
     },
     "metadata": {
      "tags": []
     },
     "output_type": "display_data"
    },
    {
     "data": {
      "text/html": [
       "Client: Oh? By wanting mature men?</p>"
      ],
      "text/plain": [
       "<IPython.core.display.HTML object>"
      ]
     },
     "metadata": {
      "tags": []
     },
     "output_type": "display_data"
    },
    {
     "data": {
      "text/html": [
       "<p><b>Therapist: No. By going out with those who are quite unlike the ones you'd really want.</b>"
      ],
      "text/plain": [
       "<IPython.core.display.HTML object>"
      ]
     },
     "metadata": {
      "tags": []
     },
     "output_type": "display_data"
    },
    {
     "data": {
      "text/html": [
       "Client: But I don't mean to. I don't understand why they keep coming around.</p>"
      ],
      "text/plain": [
       "<IPython.core.display.HTML object>"
      ]
     },
     "metadata": {
      "tags": []
     },
     "output_type": "display_data"
    },
    {
     "data": {
      "text/html": [
       "<p><b>Therapist: Hi.</b>"
      ],
      "text/plain": [
       "<IPython.core.display.HTML object>"
      ]
     },
     "metadata": {
      "tags": []
     },
     "output_type": "display_data"
    },
    {
     "data": {
      "text/html": [
       "Client: Hi Carl. (They both sit down, facing each other.)</p>"
      ],
      "text/plain": [
       "<IPython.core.display.HTML object>"
      ]
     },
     "metadata": {
      "tags": []
     },
     "output_type": "display_data"
    },
    {
     "data": {
      "text/html": [
       "<p><b>Therapist: Good to see ya.</b>"
      ],
      "text/plain": [
       "<IPython.core.display.HTML object>"
      ]
     },
     "metadata": {
      "tags": []
     },
     "output_type": "display_data"
    },
    {
     "data": {
      "text/html": [
       "Client: I’ve been looking forward to this moment.</p>"
      ],
      "text/plain": [
       "<IPython.core.display.HTML object>"
      ]
     },
     "metadata": {
      "tags": []
     },
     "output_type": "display_data"
    },
    {
     "data": {
      "text/html": [
       "<p><b>Therapist: Well, I’m eager to know what’s what with you.</b>"
      ],
      "text/plain": [
       "<IPython.core.display.HTML object>"
      ]
     },
     "metadata": {
      "tags": []
     },
     "output_type": "display_data"
    },
    {
     "data": {
      "text/html": [
       "Client: (Looks down.) (Pause 8 seconds.) (Leans back.) Well, do you mean in terms of the past year or right now?</p>"
      ],
      "text/plain": [
       "<IPython.core.display.HTML object>"
      ]
     },
     "metadata": {
      "tags": []
     },
     "output_type": "display_data"
    },
    {
     "data": {
      "text/html": [
       "<p><b>Therapist: Oh, right now, whatever your concerns are in your present life. (S: Mhm hm) I guess that’s what I’m interested in.</b>"
      ],
      "text/plain": [
       "<IPython.core.display.HTML object>"
      ]
     },
     "metadata": {
      "tags": []
     },
     "output_type": "display_data"
    },
    {
     "data": {
      "text/html": [
       "Client: Well, um, (smiles) I come here with an agenda, (C: Okay.) like, of a particular thing I’d like to discuss with you. (C: All right.) And, and I think that discussing it will be helpful in terms of my, of my life.</p>"
      ],
      "text/plain": [
       "<IPython.core.display.HTML object>"
      ]
     },
     "metadata": {
      "tags": []
     },
     "output_type": "display_data"
    },
    {
     "data": {
      "text/html": [
       "<p><b>Therapist: Uh-huh. Then that’s what I’d like you to discuss.</b>"
      ],
      "text/plain": [
       "<IPython.core.display.HTML object>"
      ]
     },
     "metadata": {
      "tags": []
     },
     "output_type": "display_data"
    },
    {
     "data": {
      "text/html": [
       "Client: Well, I think I’m doing very well in many ways, and I need to do some work, (C: M-hm.) too. (C: M-hm.) And, uh, the most pressing thing with me is that I plan to go to work in the fall, (C: Nods.) full-time, (C: Nods.) and have the care of both of my sons. (C: Nods.) Without any support other than what I’m earning. (4 second pause.) And I, and I, I don’t feel very upset about it, but I believe that deep down in my body I’m really afraid. (Smiles.)</p>"
      ],
      "text/plain": [
       "<IPython.core.display.HTML object>"
      ]
     },
     "metadata": {
      "tags": []
     },
     "output_type": "display_data"
    },
    {
     "data": {
      "text/html": [
       "<p><b>Therapist: Are you afraid of the responsibility or, or what aspect of it is most frightening?</b>"
      ],
      "text/plain": [
       "<IPython.core.display.HTML object>"
      ]
     },
     "metadata": {
      "tags": []
     },
     "output_type": "display_data"
    },
    {
     "data": {
      "text/html": [
       "Client: Well what, what seems most frightening as I think about it is coming home from work very tired (C: M-hm.) and having, um, two little boys that need a lot. (C: M-hm.) (Her voice quivers.)</p>"
      ],
      "text/plain": [
       "<IPython.core.display.HTML object>"
      ]
     },
     "metadata": {
      "tags": []
     },
     "output_type": "display_data"
    },
    {
     "data": {
      "text/html": [
       "<p><b>Therapist: Will you really be able to be a mother to them when they, (hands Sylvia tissue box.) when you come home from work. Hmmm?</b>"
      ],
      "text/plain": [
       "<IPython.core.display.HTML object>"
      ]
     },
     "metadata": {
      "tags": []
     },
     "output_type": "display_data"
    },
    {
     "data": {
      "text/html": [
       "Client: Well, I’m sure I can do it (gets teary) because I, it’s done every day. And, uh, the women I know an… who are trying to do that are having a really hard time. (C: M-hm.) (3 seconds pause.) And I’ve been thinking about talking about this problem now with you. I haven’t really… I, I talk about in a heady way with my friends, and, uh, I haven’t given myself any real support (C: M-hm.) with it. It’s a real fear I have, and it’ll probably be really hard. (C: M-hm.)</p>"
      ],
      "text/plain": [
       "<IPython.core.display.HTML object>"
      ]
     },
     "metadata": {
      "tags": []
     },
     "output_type": "display_data"
    },
    {
     "data": {
      "text/html": [
       "<p><b>Therapist: (Talking at the same time) And you haven’t really had a chance to explore it in, in depth; you’ve talked about it more on a, on the surface level.</b>"
      ],
      "text/plain": [
       "<IPython.core.display.HTML object>"
      ]
     },
     "metadata": {
      "tags": []
     },
     "output_type": "display_data"
    },
    {
     "data": {
      "text/html": [
       "Client: Well, the exploring I’ve done is… (3 seconds pause) I decided for myself- well simple, I’ll look for other single working mothers (C: Nods.) with young children who are doing well. (C: M-hm.) And I’ll talk to them and see what they do. (C: M-hm.) So I started asking, asking my friends, asking some people I know, “Do you know of this kind of person?” Well after about a month, (quiet laugh) I didn’t come up with one, (C: Is that right?) one single woman taking care of young children and working full-time who was doing very well (C: Nods.) and that scared me.</p>"
      ],
      "text/plain": [
       "<IPython.core.display.HTML object>"
      ]
     },
     "metadata": {
      "tags": []
     },
     "output_type": "display_data"
    },
    {
     "data": {
      "text/html": [
       "<p><b>Therapist: So the track record, the track record that the other people have, the other women have makes you really concerned about will you be able to do it?</b>"
      ],
      "text/plain": [
       "<IPython.core.display.HTML object>"
      ]
     },
     "metadata": {
      "tags": []
     },
     "output_type": "display_data"
    },
    {
     "data": {
      "text/html": [
       "Client: Well that substantiates my concern.</p>"
      ],
      "text/plain": [
       "<IPython.core.display.HTML object>"
      ]
     },
     "metadata": {
      "tags": []
     },
     "output_type": "display_data"
    },
    {
     "data": {
      "text/html": [
       "<p><b>Therapist: Yeah. Yeah.</b>"
      ],
      "text/plain": [
       "<IPython.core.display.HTML object>"
      ]
     },
     "metadata": {
      "tags": []
     },
     "output_type": "display_data"
    },
    {
     "data": {
      "text/html": [
       "Client: I’ve had the concern. (C: Yeah. M-hm.) (Pause 8 seconds.) (C: M-hm.) I wish, (smiles.) I keep wishing I could find some secrets to make it easier for myself. And the only secrets I can come up with are working half-time (C: Nods.) and being really, like, no… (C: M-hm.) just barely, you know, paying rent and (C: M-hm.) food and so forth and so on. (C: Mhm.) But, I do know how to do that (pauses) and that may be what I decide to do.</p>"
      ],
      "text/plain": [
       "<IPython.core.display.HTML object>"
      ]
     },
     "metadata": {
      "tags": []
     },
     "output_type": "display_data"
    },
    {
     "data": {
      "text/html": [
       "<p><b>Therapist: It’s one possible option at any rate. Mhm.</b>"
      ],
      "text/plain": [
       "<IPython.core.display.HTML object>"
      ]
     },
     "metadata": {
      "tags": []
     },
     "output_type": "display_data"
    },
    {
     "data": {
      "text/html": [
       "Client: But it seems like a real limited lifestyle.</p>"
      ],
      "text/plain": [
       "<IPython.core.display.HTML object>"
      ]
     },
     "metadata": {
      "tags": []
     },
     "output_type": "display_data"
    },
    {
     "data": {
      "text/html": [
       "<p><b>Therapist: It is clear to me from the, from the tears that came up the first that, that, uh, this is something you feel a lot of concern about, isn’t it?</b>"
      ],
      "text/plain": [
       "<IPython.core.display.HTML object>"
      ]
     },
     "metadata": {
      "tags": []
     },
     "output_type": "display_data"
    },
    {
     "data": {
      "text/html": [
       "Client: Oh, I feel I’m two things (crying). All alone (C: Mhm.) and somewhat doomed to fail.</p>"
      ],
      "text/plain": [
       "<IPython.core.display.HTML object>"
      ]
     },
     "metadata": {
      "tags": []
     },
     "output_type": "display_data"
    },
    {
     "data": {
      "text/html": [
       "<p><b>Therapist: Mhm. Mhm. Mhm.</b>"
      ],
      "text/plain": [
       "<IPython.core.display.HTML object>"
      ]
     },
     "metadata": {
      "tags": []
     },
     "output_type": "display_data"
    },
    {
     "data": {
      "text/html": [
       "Client: And, uh, (clears throat) doomed to fail, not that I will die or (C: Mhm.) anything. I think doomed to fail and to be there for my children (C: Mhm. Mhm.) in a positive, cheerful, (C: Mhm.) warm, loving way. (C: Mhm. Mhm.) And being a single parent, like I will be (C: Mhm.) their support system to a large extent. (C: Mhm.) And it scares me to think of their main support as being exhausted (C: Mhm.) and irritated (C: Mhm.) and (C: Mhm.) … (3 seconds pause.)</p>"
      ],
      "text/plain": [
       "<IPython.core.display.HTML object>"
      ]
     },
     "metadata": {
      "tags": []
     },
     "output_type": "display_data"
    },
    {
     "data": {
      "text/html": [
       "<p><b>Therapist: You just feel, “I may not be able to make it. I may be doomed (Sylvia smiles and nods.) to failure by the very circumstances.”</b>"
      ],
      "text/plain": [
       "<IPython.core.display.HTML object>"
      ]
     },
     "metadata": {
      "tags": []
     },
     "output_type": "display_data"
    },
    {
     "data": {
      "text/html": [
       "Client: Right. (Nods.) (C: Mhm.) (10 second pause.) And talking about it this way I feel two ways: Like, “Oh c’mon Sylvia. Everybody else is doing it too.” And on the other hand, like, you’re willing to sit here and talk (laughs) about it with me (C: Mhm.) and I appreciate that. (Voice breaks.)</p>"
      ],
      "text/plain": [
       "<IPython.core.display.HTML object>"
      ]
     },
     "metadata": {
      "tags": []
     },
     "output_type": "display_data"
    },
    {
     "data": {
      "text/html": [
       "<p><b>Therapist: Mhm. Mhm. But you don’t have to just tell yourself, “Oh, buck up, you can do it.” It’s, it gives you a good chance to really…</b>"
      ],
      "text/plain": [
       "<IPython.core.display.HTML object>"
      ]
     },
     "metadata": {
      "tags": []
     },
     "output_type": "display_data"
    },
    {
     "data": {
      "text/html": [
       "Client: (Takes Kleenex and wipes eyes.) Right. Well, I do do that, “Buck up, you can do it.” I’ll do that plenty. But I don’t get much opportunity to, (C: Nods.) to be sad with somebody about it. (C: Yeah.) How hard it (C: Yeah.) seems. (Crying.)</p>"
      ],
      "text/plain": [
       "<IPython.core.display.HTML object>"
      ]
     },
     "metadata": {
      "tags": []
     },
     "output_type": "display_data"
    },
    {
     "data": {
      "text/html": [
       "<p><b>Therapist: Yeah. Yeah. That’s the thing isn’t it? That to be all alone, with no support from anybody, it sounds like…</b>"
      ],
      "text/plain": [
       "<IPython.core.display.HTML object>"
      ]
     },
     "metadata": {
      "tags": []
     },
     "output_type": "display_data"
    },
    {
     "data": {
      "text/html": [
       "Client: Well, I mean (C: I mean…) there are people that (C: Yeah, I know but…) care about me. (C: But…) There’s, like, no financial (C: Yeah.) support. (C: Mhm.) And it’s not like I’ll have my mother next door, (C: Mhm.) or something like that.</p>"
      ],
      "text/plain": [
       "<IPython.core.display.HTML object>"
      ]
     },
     "metadata": {
      "tags": []
     },
     "output_type": "display_data"
    },
    {
     "data": {
      "text/html": [
       "<p><b>Therapist: You’ll be alone with a heavy burden and it is a sad prospect really.</b>"
      ],
      "text/plain": [
       "<IPython.core.display.HTML object>"
      ]
     },
     "metadata": {
      "tags": []
     },
     "output_type": "display_data"
    },
    {
     "data": {
      "text/html": [
       "Client: (Nods head.) (Pause 3 seconds.) It feels sad. (C: Mhm. Mhm. Mhm.) And I get… when I, (pauses) I depress myself by thinking, “Well, oh, sure I can give up my children.” And I think, “Well, I won’t do that.” Um, I’m seeing it as a black or white thing (C: Mhm.) and I know that’s not reality.</p>"
      ],
      "text/plain": [
       "<IPython.core.display.HTML object>"
      ]
     },
     "metadata": {
      "tags": []
     },
     "output_type": "display_data"
    },
    {
     "data": {
      "text/html": [
       "<p><b>Therapist: (Nods.) But it feels like reality. That either you’d have to give up your children or, or else (S: Mhm.) make a go of it.</b>"
      ],
      "text/plain": [
       "<IPython.core.display.HTML object>"
      ]
     },
     "metadata": {
      "tags": []
     },
     "output_type": "display_data"
    },
    {
     "data": {
      "text/html": [
       "Client: But then I also feel suspicious of myself. Like, “Well, Sylvia, you’re used to so much of getting your needs met.” Like, going out at night sometimes, (C: Mhm.) um, having friends, (C: Mhm.) and, and having a social life and not being overtired. (C: Mhm.) And then I see myself as pampered. (C: Nods and smiles.) And, uh, if I just wasn’t so pampered, (laughs) things would be a lot better.</p>"
      ],
      "text/plain": [
       "<IPython.core.display.HTML object>"
      ]
     },
     "metadata": {
      "tags": []
     },
     "output_type": "display_data"
    },
    {
     "data": {
      "text/html": [
       "<p><b>Therapist: That’s when you kind of scold yourself, (: Uh-huh.) really. Mhm. Mhm. Mhm. (pause 7 seconds) So that you really feel you’re gonna be hemmed in by that. I mean, your life is gonna be constricted (S: Mhm.) a good deal. A lot of the things you’ve been used to you just won’t have.</b>"
      ],
      "text/plain": [
       "<IPython.core.display.HTML object>"
      ]
     },
     "metadata": {
      "tags": []
     },
     "output_type": "display_data"
    },
    {
     "data": {
      "text/html": [
       "Client: And want for myself.</p>"
      ],
      "text/plain": [
       "<IPython.core.display.HTML object>"
      ]
     },
     "metadata": {
      "tags": []
     },
     "output_type": "display_data"
    },
    {
     "data": {
      "text/html": [
       "<p><b>Therapist: And want for yourself. (S: Nods.) Uh-huh.</b>"
      ],
      "text/plain": [
       "<IPython.core.display.HTML object>"
      ]
     },
     "metadata": {
      "tags": []
     },
     "output_type": "display_data"
    },
    {
     "data": {
      "text/html": [
       "Client: Yeah, that’s right.</p>"
      ],
      "text/plain": [
       "<IPython.core.display.HTML object>"
      ]
     },
     "metadata": {
      "tags": []
     },
     "output_type": "display_data"
    },
    {
     "data": {
      "text/html": [
       "<p><b>Therapist: So really it does look like a very tough period, doesn’t it?</b>"
      ],
      "text/plain": [
       "<IPython.core.display.HTML object>"
      ]
     },
     "metadata": {
      "tags": []
     },
     "output_type": "display_data"
    },
    {
     "data": {
      "text/html": [
       "Client: Yep. It does. (pause 13 seconds) But, I like being able to be sad and complain about how terrible I’m afraid it’s going to be then I can… like now I’m feeling like, and I’m excited too, you know, about facing it.</p>"
      ],
      "text/plain": [
       "<IPython.core.display.HTML object>"
      ]
     },
     "metadata": {
      "tags": []
     },
     "output_type": "display_data"
    },
    {
     "data": {
      "text/html": [
       "<p><b>Therapist: Sort of a new phase of your life? Is it… it has excitement as well as dread in it, I guess.</b>"
      ],
      "text/plain": [
       "<IPython.core.display.HTML object>"
      ]
     },
     "metadata": {
      "tags": []
     },
     "output_type": "display_data"
    },
    {
     "data": {
      "text/html": [
       "Client: (Nods.) Yeah about seeing what it will be like, (C: Mhm.) in fact. (C: Mhm.) (Sighs).</p>"
      ],
      "text/plain": [
       "<IPython.core.display.HTML object>"
      ]
     },
     "metadata": {
      "tags": []
     },
     "output_type": "display_data"
    },
    {
     "data": {
      "text/html": [
       "<p><b>Therapist: It will be a new adventure but it’s one that, uh, you feel different ways about.</b>"
      ],
      "text/plain": [
       "<IPython.core.display.HTML object>"
      ]
     },
     "metadata": {
      "tags": []
     },
     "output_type": "display_data"
    },
    {
     "data": {
      "text/html": [
       "Client: Mhm. Yeah. So that’s, that’s what I think about the most, in terms of a problem area. (C: Mhm. Mhm.) Like, the (smiles) way I started crying it seemed like I just couldn’t wait to get here and cry about it. (C: Mhm. Mhm. Mhm.) It was a little dramatic that way.</p>"
      ],
      "text/plain": [
       "<IPython.core.display.HTML object>"
      ]
     },
     "metadata": {
      "tags": []
     },
     "output_type": "display_data"
    },
    {
     "data": {
      "text/html": [
       "<p><b>Therapist: ‘Cos it is…well, it is, it is a real sad prospect. And one, I guess, that you don’t let out too much to other people, the sad side of it.</b>"
      ],
      "text/plain": [
       "<IPython.core.display.HTML object>"
      ]
     },
     "metadata": {
      "tags": []
     },
     "output_type": "display_data"
    },
    {
     "data": {
      "text/html": [
       "Client: Right, I don’t do that (C: Nods.) very well. I, (C: Mhm.) I am busy being strong (C: Mhm.) unconsciously. Or I’m also busy being depressed. (C: Mhm.) (Sylvia smiles) I’ve learned well. I believe being sad and scared are more dealing with (C: Mhm. Mmm.) the problem.</p>"
      ],
      "text/plain": [
       "<IPython.core.display.HTML object>"
      ]
     },
     "metadata": {
      "tags": []
     },
     "output_type": "display_data"
    },
    {
     "data": {
      "text/html": [
       "<p><b>Therapist: Mhm. Yeah being, being frightened of what you’re taking on and sad of what you’re losing for yourself. (S: Nods.) Those are two very real (S: Hmm.) feelings.</b>"
      ],
      "text/plain": [
       "<IPython.core.display.HTML object>"
      ]
     },
     "metadata": {
      "tags": []
     },
     "output_type": "display_data"
    },
    {
     "data": {
      "text/html": [
       "Client: And I, (pauses) I also think that part of my fear and excitement is that I’ll be doing something different. Like, I’ve never worked (C: Nods.) in, in my profession (C: Mhm. Mhm.) and been like a confident, (C: Mhm.) single woman with young children (C: Mhm.) who are doing well. (C: Mhm.) And it’s like, um, that’s what I want for myself. (C: Mhm.) (Sylvia laughs.)</p>"
      ],
      "text/plain": [
       "<IPython.core.display.HTML object>"
      ]
     },
     "metadata": {
      "tags": []
     },
     "output_type": "display_data"
    },
    {
     "data": {
      "text/html": [
       "<p><b>Therapist: It’s a goal you’ve been working toward. (S: Nods.) Mhm. (3 seconds pause.) I wonder sort of how do your children feel about this?</b>"
      ],
      "text/plain": [
       "<IPython.core.display.HTML object>"
      ]
     },
     "metadata": {
      "tags": []
     },
     "output_type": "display_data"
    },
    {
     "data": {
      "text/html": [
       "Client: Well, my youngest son wants me to go work (C: Nods.) so that we can have more (C: Mhm.) money and so that he can have more spending money. And, uh, my oldest son has not, at this time, agreed to live with me yet. (C: Mmm.) But I’m preparing (C: Mhm.) with the hopes that he will at that time. (C: Mhm.) He is living with… he will be living with me the rest of the summer.</p>"
      ],
      "text/plain": [
       "<IPython.core.display.HTML object>"
      ]
     },
     "metadata": {
      "tags": []
     },
     "output_type": "display_data"
    },
    {
     "data": {
      "text/html": [
       "<p><b>Therapist: Mhm. So that’s another new part of the…</b>"
      ],
      "text/plain": [
       "<IPython.core.display.HTML object>"
      ]
     },
     "metadata": {
      "tags": []
     },
     "output_type": "display_data"
    },
    {
     "data": {
      "text/html": [
       "Client: And my oldest son and I have a very strained relationship. He hasn’t been living with me the last two years. And so that’s gonna be another difficult part of what I’m talking about (C: Mhm.) is, um, at the same time needing and wanting to improve my relationship with Senate (C: Mhm.) and hoping there’ll be money for counseling. I’m hoping (C: Mhm.) that we can do work with a third party or in (C: Mhm.) a, uh, family group of some sort (C: Mhm.) because I believe that we’ll need help. (C: Mhm.) And, uh, so that’s, that, that part of the fall or the coming year scares me too about feeling so alienated from Senate.</p>"
      ],
      "text/plain": [
       "<IPython.core.display.HTML object>"
      ]
     },
     "metadata": {
      "tags": []
     },
     "output_type": "display_data"
    },
    {
     "data": {
      "text/html": [
       "<p><b>Therapist: “Will he, will he really accept me as a mother?”</b>"
      ],
      "text/plain": [
       "<IPython.core.display.HTML object>"
      ]
     },
     "metadata": {
      "tags": []
     },
     "output_type": "display_data"
    },
    {
     "data": {
      "text/html": [
       "Client: (Phone rings) As his mother, (C: Yeah.) as someone who loves him (C: Mhm.) and cares about him.</p>"
      ],
      "text/plain": [
       "<IPython.core.display.HTML object>"
      ]
     },
     "metadata": {
      "tags": []
     },
     "output_type": "display_data"
    },
    {
     "data": {
      "text/html": [
       "<p><b>Therapist: So that’s a concern to ya, too.</b>"
      ],
      "text/plain": [
       "<IPython.core.display.HTML object>"
      ]
     },
     "metadata": {
      "tags": []
     },
     "output_type": "display_data"
    },
    {
     "data": {
      "text/html": [
       "Client: (Nods.) (3 seconds pause.) Mhm. And can we get along? Can we live together? We haven’t lived together, and he’s lived in a very different lifestyle.</p>"
      ],
      "text/plain": [
       "<IPython.core.display.HTML object>"
      ]
     },
     "metadata": {
      "tags": []
     },
     "output_type": "display_data"
    },
    {
     "data": {
      "text/html": [
       "<p><b>Therapist: “Can we really form a relationship of the kind that both of us would like?”</b>"
      ],
      "text/plain": [
       "<IPython.core.display.HTML object>"
      ]
     },
     "metadata": {
      "tags": []
     },
     "output_type": "display_data"
    },
    {
     "data": {
      "text/html": [
       "Client: Pardon?</p>"
      ],
      "text/plain": [
       "<IPython.core.display.HTML object>"
      ]
     },
     "metadata": {
      "tags": []
     },
     "output_type": "display_data"
    },
    {
     "data": {
      "text/html": [
       "<p><b>Therapist: Your asking yourself, “Can we really form a relationship that both of us will like?”</b>"
      ],
      "text/plain": [
       "<IPython.core.display.HTML object>"
      ]
     },
     "metadata": {
      "tags": []
     },
     "output_type": "display_data"
    },
    {
     "data": {
      "text/html": [
       "Client: (Nods.) Mhm. Yeah, and be happy and, (C: Mhm.) yeah… (8 seconds pause.) (Smiles.) That’s an important… I hadn’t thought of that on my own, but you mentioning my children (C: Mhm.) brings up the part about Senate, which is a very important part of what I think about. (C: Mhm.) And I’m happy I’ll have him with us (C: Nods.) during the summer and we’ll be able to have time.</p>"
      ],
      "text/plain": [
       "<IPython.core.display.HTML object>"
      ]
     },
     "metadata": {
      "tags": []
     },
     "output_type": "display_data"
    },
    {
     "data": {
      "text/html": [
       "<p><b>Therapist: You can get a start on that. Mhm.</b>"
      ],
      "text/plain": [
       "<IPython.core.display.HTML object>"
      ]
     },
     "metadata": {
      "tags": []
     },
     "output_type": "display_data"
    },
    {
     "data": {
      "text/html": [
       "Client: Mhm. Yeah. (C: Mhm.) When I’m not working, (smiles and nods) for example. (Pause 24 seconds.) Well, I felt awfully rigid about this upcoming filming. (C: Nods.) I felt it in my body a lot. And I feel, I felt more relaxed since we started.</p>"
      ],
      "text/plain": [
       "<IPython.core.display.HTML object>"
      ]
     },
     "metadata": {
      "tags": []
     },
     "output_type": "display_data"
    },
    {
     "data": {
      "text/html": [
       "<p><b>Therapist: Mhm. Mhm. (Pause 4 seconds.) It’s a really difficult thing.</b>"
      ],
      "text/plain": [
       "<IPython.core.display.HTML object>"
      ]
     },
     "metadata": {
      "tags": []
     },
     "output_type": "display_data"
    },
    {
     "data": {
      "text/html": [
       "Client: Mhm. (Pauses.) Right, and just the same it’s exciting (C: Mhm.) to come (C: Mhm.) on this trip and to see you again (C: Mhm.) and it’s also frightening a lot. (C: Mhm.) Ya know, who’s gonna see it? And what are they gonna think? (C: Mhm.) And what’s it gonna look like? (C: Mhm.) Am I, am I being hard on myself or am I being good to myself? I don’t know - to put myself in this position (C: Yeah.) is what I mean.</p>"
      ],
      "text/plain": [
       "<IPython.core.display.HTML object>"
      ]
     },
     "metadata": {
      "tags": []
     },
     "output_type": "display_data"
    },
    {
     "data": {
      "text/html": [
       "<p><b>Therapist: Yeah. (Pause.) You have quite a little of conflict about, “Should I really be doing this? Who, who will see it? (S: Nods.) What will they say? Am I wise?”</b>"
      ],
      "text/plain": [
       "<IPython.core.display.HTML object>"
      ]
     },
     "metadata": {
      "tags": []
     },
     "output_type": "display_data"
    },
    {
     "data": {
      "text/html": [
       "Client: Uh-huh. What’s it gonna be? What’s the finished project, gonna be? (C: Mhm.) (Clears throat.) Will I ever see it? (C: Mhm.) (Both smile.) (10 second pause.)</p>"
      ],
      "text/plain": [
       "<IPython.core.display.HTML object>"
      ]
     },
     "metadata": {
      "tags": []
     },
     "output_type": "display_data"
    },
    {
     "data": {
      "text/html": [
       "<p><b>Therapist: (Pause 10 seconds.) Looks to me as though your eyes are saying something, but I don’t know what. (Smiles and laughs.)</b>"
      ],
      "text/plain": [
       "<IPython.core.display.HTML object>"
      ]
     },
     "metadata": {
      "tags": []
     },
     "output_type": "display_data"
    },
    {
     "data": {
      "text/html": [
       "Client: Well, I’m thinking about how moved I’ve been when I’ve heard your voice a few times over the past year. (C: Hmm.) And now I’m here.</p>"
      ],
      "text/plain": [
       "<IPython.core.display.HTML object>"
      ]
     },
     "metadata": {
      "tags": []
     },
     "output_type": "display_data"
    },
    {
     "data": {
      "text/html": [
       "<p><b>Therapist: That made a…</b>"
      ],
      "text/plain": [
       "<IPython.core.display.HTML object>"
      ]
     },
     "metadata": {
      "tags": []
     },
     "output_type": "display_data"
    },
    {
     "data": {
      "text/html": [
       "Client: I wanna take it in – (C: Mhm.) being here.</p>"
      ],
      "text/plain": [
       "<IPython.core.display.HTML object>"
      ]
     },
     "metadata": {
      "tags": []
     },
     "output_type": "display_data"
    },
    {
     "data": {
      "text/html": [
       "<p><b>Therapist: Mhm. (Pause 3 seconds.) I guess you’re saying that I mean a good deal to you.</b>"
      ],
      "text/plain": [
       "<IPython.core.display.HTML object>"
      ]
     },
     "metadata": {
      "tags": []
     },
     "output_type": "display_data"
    },
    {
     "data": {
      "text/html": [
       "Client: Well, this time with you. (Nods.) Yes, you, mhm. (Smiles) (Pause 12 seconds) I’m thinking about what I want to talk about or I’m feeling kind of empty right now about talking. (Pause 5 seconds.)</p>"
      ],
      "text/plain": [
       "<IPython.core.display.HTML object>"
      ]
     },
     "metadata": {
      "tags": []
     },
     "output_type": "display_data"
    },
    {
     "data": {
      "text/html": [
       "<p><b>Therapist: Can you tell me what I do mean to you?</b>"
      ],
      "text/plain": [
       "<IPython.core.display.HTML object>"
      ]
     },
     "metadata": {
      "tags": []
     },
     "output_type": "display_data"
    },
    {
     "data": {
      "text/html": [
       "Client: (Smiles.) Yes, I can. (Pause 8 seconds.) Well, (Pause 4 seconds) I think the best thing that I like to think about you is that as I understand your writings, I have not read very much that you’ve written, but that you have, that you live what you write about. And my understanding of a lot of popular writers are they write one thing and somehow they just don’t quite live that. They live something very different. And so I think of you as, (laughs) um, (pauses) wonderful in that way and not, uh… (Pause 3 seconds.)</p>"
      ],
      "text/plain": [
       "<IPython.core.display.HTML object>"
      ]
     },
     "metadata": {
      "tags": []
     },
     "output_type": "display_data"
    },
    {
     "data": {
      "text/html": [
       "<p><b>Therapist: But what does that mean to you?</b>"
      ],
      "text/plain": [
       "<IPython.core.display.HTML object>"
      ]
     },
     "metadata": {
      "tags": []
     },
     "output_type": "display_data"
    },
    {
     "data": {
      "text/html": [
       "Client: (Sighs.) (Pause 3 seconds.) Well that it’s what I would like to be more: (C: Mhm. Mhm.) to have values and be able to, to do them (pauses) and to live them.</p>"
      ],
      "text/plain": [
       "<IPython.core.display.HTML object>"
      ]
     },
     "metadata": {
      "tags": []
     },
     "output_type": "display_data"
    },
    {
     "data": {
      "text/html": [
       "<p><b>Therapist: (Pause 4 seconds.) You’d like to have a good match between your life (S: Mhm.) and what you believe (S: Mhm. Mhm.) and value.</b>"
      ],
      "text/plain": [
       "<IPython.core.display.HTML object>"
      ]
     },
     "metadata": {
      "tags": []
     },
     "output_type": "display_data"
    },
    {
     "data": {
      "text/html": [
       "Client: (Pause 3 seconds.) And what I also sense about you is, uh, like “patience” isn’t the right word, but I see you as being comfortable with yourself so much so that whatever I or anyone else says or does, doesn’t (pause 3 seconds) get you uptight.</p>"
      ],
      "text/plain": [
       "<IPython.core.display.HTML object>"
      ]
     },
     "metadata": {
      "tags": []
     },
     "output_type": "display_data"
    },
    {
     "data": {
      "text/html": [
       "<p><b>Therapist: (Laughs.)</b>"
      ],
      "text/plain": [
       "<IPython.core.display.HTML object>"
      ]
     },
     "metadata": {
      "tags": []
     },
     "output_type": "display_data"
    },
    {
     "data": {
      "text/html": [
       "Client: (Laughing.) And maybe it does. (C: Mhm.) Sometimes it probably does ‘cause you’re a human being.</p>"
      ],
      "text/plain": [
       "<IPython.core.display.HTML object>"
      ]
     },
     "metadata": {
      "tags": []
     },
     "output_type": "display_data"
    },
    {
     "data": {
      "text/html": [
       "<p><b>Therapist: It certainly does, that’s right.</b>"
      ],
      "text/plain": [
       "<IPython.core.display.HTML object>"
      ]
     },
     "metadata": {
      "tags": []
     },
     "output_type": "display_data"
    },
    {
     "data": {
      "text/html": [
       "Client: But it doesn’t seem like it does (C: Mhm. Mhm.) too much. And I like that. I would like to be more present (C: Nods.) and, and comfortable with myself so that other people, including my children and so forth and so on, could do what they do, and that I could be able to be a source of support and not be personally threatened (C: Mhm. Mhm. Mhm.) by this little thing and that little thing.</p>"
      ],
      "text/plain": [
       "<IPython.core.display.HTML object>"
      ]
     },
     "metadata": {
      "tags": []
     },
     "output_type": "display_data"
    },
    {
     "data": {
      "text/html": [
       "<p><b>Therapist: And that, that has meaning to me. You’d like to be sufficiently accepting of yourself, that then you can be comfortable with what your children do or what other people do (S: Nods.) and not, uh, (S: Mhm.) not feel frightened, (S: Hmm.) thrown off balance.</b>"
      ],
      "text/plain": [
       "<IPython.core.display.HTML object>"
      ]
     },
     "metadata": {
      "tags": []
     },
     "output_type": "display_data"
    },
    {
     "data": {
      "text/html": [
       "Client: (Nods.) Mhm. And I’ve enjoyed through the year in the few letters that I’ve gotten from you, your warmth, and interest in me, in my life. I’ve liked that a lot from (C: Mhm.) you. And at the time those letters were written we had no plans to (C: No.) make a movie (C: No.) or all that stuff so that was really enjoyable. (Pause 5 seconds.) Do you feel answered well?</p>"
      ],
      "text/plain": [
       "<IPython.core.display.HTML object>"
      ]
     },
     "metadata": {
      "tags": []
     },
     "output_type": "display_data"
    },
    {
     "data": {
      "text/html": [
       "<p><b>Therapist: Yeah. Mhm. Mhm. (Pause 15 seconds.) And I’m interested enough in you to know of any other things in your life that are important to you or that, uh, that are difficult for ya, or whatever.</b>"
      ],
      "text/plain": [
       "<IPython.core.display.HTML object>"
      ]
     },
     "metadata": {
      "tags": []
     },
     "output_type": "display_data"
    },
    {
     "data": {
      "text/html": [
       "Client: (Pause 15 seconds.) Well, I’d like to go one of two ways. I don’t know which yet. Uh, one way would be back to the single working mother business. I’m not sure where we might go with that, but I know it’s a big thing for me. And another way would be to go with the difficulty I see myself in having with my relationships with men. (C: Mhm. Mmm.) (Pause 3 seconds.) I do so much analyzing (smiles) that I, I feel like throwing up my hands. “What’s the use of even talking about it?” But I…</p>"
      ],
      "text/plain": [
       "<IPython.core.display.HTML object>"
      ]
     },
     "metadata": {
      "tags": []
     },
     "output_type": "display_data"
    },
    {
     "data": {
      "text/html": [
       "<p><b>Therapist: But you do have (S: I…) difficulties in…</b>"
      ],
      "text/plain": [
       "<IPython.core.display.HTML object>"
      ]
     },
     "metadata": {
      "tags": []
     },
     "output_type": "display_data"
    },
    {
     "data": {
      "text/html": [
       "Client: Yeah. I’ll, I’ll go with the men. (C: Okay.) And that’s the most frightening thing for me to talk about (C: Mhm.) on this film because people that I know will probably be seeing this (C: Mhm.) and men that I know. (4 second pause.) I see myself, uh, and this, this is real scattered in my mind. (Sighs.) Scattered, (smiles) and looking every which way. (C: Mhm.) Well, I see myself making acquaintance with men, many men, I mean not just one man (C: Mhm.) and spending some time with that person. And then, um, feeling that they lost interest in me or that I turned them off. And I tell myself things like, “You can’t expect every man you meet to fall in love with you.” (C: Mhm.) And, um, let’s see, (smiles) what else? (C: But you feel that you…) Oh and then I’ll tell myself all these reasonable… “Of course this man doesn’t like me because I’m this and I’m that and.…” But, I don’t very often feel the disappointment and confusion about “Well I had a good time with that man.” And it seems to me like he must not have had a good time with me because I didn’t hear from him again, or I did and things went such and such a way. And, uh…</p>"
      ],
      "text/plain": [
       "<IPython.core.display.HTML object>"
      ]
     },
     "metadata": {
      "tags": []
     },
     "output_type": "display_data"
    },
    {
     "data": {
      "text/html": [
       "<p><b>Therapist: Sounds like it seems kind of mysterious to you. (S: Uh-huh.) Why the men lose interest in you.</b>"
      ],
      "text/plain": [
       "<IPython.core.display.HTML object>"
      ]
     },
     "metadata": {
      "tags": []
     },
     "output_type": "display_data"
    },
    {
     "data": {
      "text/html": [
       "Client: Uh-huh. And then I have feedback from one person, one man friend of mine, who says that I create, ya know I turn people off, men, myself. And so it’s like it’s all, it’s all my doing anyway. (C: Mhm.) But I have felt lately impotent about how to, (Pause 7 seconds.) how to have a successful long rel- long lasting relationship with a man. Successful, I don’t mean perfect, I mean (C: Yeah. Mhm.) workable. (C: Mhm.) And, uh, I think workable is successful (C: Mhm.) these days. (Smiles.) Yeah.</p>"
      ],
      "text/plain": [
       "<IPython.core.display.HTML object>"
      ]
     },
     "metadata": {
      "tags": []
     },
     "output_type": "display_data"
    },
    {
     "data": {
      "text/html": [
       "<p><b>Therapist: Well, that’s a part of your life in which you just haven’t had the kind of, um, success that you wish you had had. Mhm. Mhm. An important lack in some way.</b>"
      ],
      "text/plain": [
       "<IPython.core.display.HTML object>"
      ]
     },
     "metadata": {
      "tags": []
     },
     "output_type": "display_data"
    },
    {
     "data": {
      "text/html": [
       "Client: (Nods.) Now I’m remembering we talked about this before.</p>"
      ],
      "text/plain": [
       "<IPython.core.display.HTML object>"
      ]
     },
     "metadata": {
      "tags": []
     },
     "output_type": "display_data"
    },
    {
     "data": {
      "text/html": [
       "<p><b>Therapist: A little bit.</b>"
      ],
      "text/plain": [
       "<IPython.core.display.HTML object>"
      ]
     },
     "metadata": {
      "tags": []
     },
     "output_type": "display_data"
    },
    {
     "data": {
      "text/html": [
       "Client: A little bit, right. (Sighs.) (Pause 7 seconds.) And I do that, the kind of analyzing that ‘”Well I have all these habits like, uh, I, um, I like to be by myself, I’m not real generous and outgoing (C: Nods.) and taking care of, of people that I meet.” And the woman that I live with says that she doesn’t see me doing that at all like, “Oh come in I’ll fix you dinner, I’ll do this, I’ll do that.” Like I don’t do that. (C: Nods) And, and so I’m confused about do I need to do that to be in a close relationship? It doesn’t seem to me like I should (C: Mhm.) need to sell out to be um enjoyed and wanted.</p>"
      ],
      "text/plain": [
       "<IPython.core.display.HTML object>"
      ]
     },
     "metadata": {
      "tags": []
     },
     "output_type": "display_data"
    },
    {
     "data": {
      "text/html": [
       "<p><b>Therapist: I gather what you mean by “selling out” is that if you, if you really put yourself out in kind of an artificial way, you don’t want that. Is that what you’re saying?</b>"
      ],
      "text/plain": [
       "<IPython.core.display.HTML object>"
      ]
     },
     "metadata": {
      "tags": []
     },
     "output_type": "display_data"
    },
    {
     "data": {
      "text/html": [
       "Client: Yes, if I do all these things for a man, so then he’ll want me.</p>"
      ],
      "text/plain": [
       "<IPython.core.display.HTML object>"
      ]
     },
     "metadata": {
      "tags": []
     },
     "output_type": "display_data"
    },
    {
     "data": {
      "text/html": [
       "<p><b>Therapist: Mhm. Kind of buying his favor, (S: Nods. Mhm.) as it were. And you just don’t see yourself doing that. Don’t wanna do that.</b>"
      ],
      "text/plain": [
       "<IPython.core.display.HTML object>"
      ]
     },
     "metadata": {
      "tags": []
     },
     "output_type": "display_data"
    },
    {
     "data": {
      "text/html": [
       "Client: Or wanting to do it. (C: Mhm. Mhm.) (S: Nods.) And then I… another question, hard question, I ask myself is, “Well, I’m choosing men to relate to that don’t know how to give in the way that I want to be given to.” (C: Mhm. Mhm.) And then I try (smiles) to figure that one out. (C: Mhm.) “Oh simple, I’m choosing, that just means I need to choose differently.” (C: Mhm.) And then I look around and it doesn’t seem so simple.</p>"
      ],
      "text/plain": [
       "<IPython.core.display.HTML object>"
      ]
     },
     "metadata": {
      "tags": []
     },
     "output_type": "display_data"
    },
    {
     "data": {
      "text/html": [
       "<p><b>Therapist: Mhm. You say you’re trying to analyze and analyze and analyze what, “what lack in me?” or “you know what lack in me?’ I guess your asking yourself mostly, “What lack in me keeps, (S: Hmm.) keeps me from having a lasting (S: Mhm.) relationship with men?”</b>"
      ],
      "text/plain": [
       "<IPython.core.display.HTML object>"
      ]
     },
     "metadata": {
      "tags": []
     },
     "output_type": "display_data"
    },
    {
     "data": {
      "text/html": [
       "Client: And one thing that now I’m recalling that really frightened me was I was talking- I lived with my husband for eight years (C: Nods.) and I felt rejected by him and I left him. (C: Nods.) And I left him for a man I was very much in love with that I’ve been very close to (C: Mhm.) for five years. But he’s also… like, I moved away from him but I felt left (smiles) by him also. And so this man friend of mine said to me, “Well, what’s wrong with you that you can’t keep a man?” And that, uh, that really scared me inside because when I look at the situation in a practical, sensible way that doesn’t seem like reality. (C: Mhm.) But then I don’t know maybe it’s true.</p>"
      ],
      "text/plain": [
       "<IPython.core.display.HTML object>"
      ]
     },
     "metadata": {
      "tags": []
     },
     "output_type": "display_data"
    },
    {
     "data": {
      "text/html": [
       "<p><b>Therapist: But that her saying that (S: He.) he saying that, (S: Uh-huh.) uh, really does touch something in you. “Is there something wrong with me (S: Uh-huh.) that I….“</b>"
      ],
      "text/plain": [
       "<IPython.core.display.HTML object>"
      ]
     },
     "metadata": {
      "tags": []
     },
     "output_type": "display_data"
    },
    {
     "data": {
      "text/html": [
       "Client: That I don’t see. (C: Mhm.) And, and, uh, just the fact that it touched me so much shows me that there’s something there.</p>"
      ],
      "text/plain": [
       "<IPython.core.display.HTML object>"
      ]
     },
     "metadata": {
      "tags": []
     },
     "output_type": "display_data"
    },
    {
     "data": {
      "text/html": [
       "<p><b>Therapist: Mhm. It, (S: Sighs.) it wouldn’t bother you that much, or you wouldn’t think so much about it if there wasn’t something in you that that refers to.</b>"
      ],
      "text/plain": [
       "<IPython.core.display.HTML object>"
      ]
     },
     "metadata": {
      "tags": []
     },
     "output_type": "display_data"
    },
    {
     "data": {
      "text/html": [
       "Client: Mhm. (Nods.) And I, (sighs) I see my mother that way a lot, that my mother not being able to have a successful relationship with a man and so that’s been my model and… (Pause 3 seconds) like, why can’t…</p>"
      ],
      "text/plain": [
       "<IPython.core.display.HTML object>"
      ]
     },
     "metadata": {
      "tags": []
     },
     "output_type": "display_data"
    },
    {
     "data": {
      "text/html": [
       "<p><b>Therapist: You’re saying, “Maybe, maybe I’m just following the same pattern as my mother.”</b>"
      ],
      "text/plain": [
       "<IPython.core.display.HTML object>"
      ]
     },
     "metadata": {
      "tags": []
     },
     "output_type": "display_data"
    },
    {
     "data": {
      "text/html": [
       "Client: Mhm. Well, I am in that respect and I don’t like it. (C: Mhm.) And I’m not willing to do a bunch of crummy stuff that I… (C: Mhm.) (Pause 6 seconds.) So, right now (smiles) I’m living alone (C: Mhm.) and I’m not doing any crummy stuff. (C: Mhm.) And I also have some very nice relationships. It’s (smiles) those shades of black and white. (Pause 8 seconds.) But I do feel a lot of confusion about building an intimate relationship. (C: Mhm.) A monogamous type (C: Mhm. Mhm.) or primary…</p>"
      ],
      "text/plain": [
       "<IPython.core.display.HTML object>"
      ]
     },
     "metadata": {
      "tags": []
     },
     "output_type": "display_data"
    },
    {
     "data": {
      "text/html": [
       "<p><b>Therapist: So you can have good times and all that, but still there is this nagging question or these nagging questions, “Am I just following my mother’s pattern?” “What is wrong with me that I don’t have a permanent relationship with a man?”</b>"
      ],
      "text/plain": [
       "<IPython.core.display.HTML object>"
      ]
     },
     "metadata": {
      "tags": []
     },
     "output_type": "display_data"
    },
    {
     "data": {
      "text/html": [
       "Client: Well, uh, I want to tell you about something that I've been thinking about and that’s it's a, a sharing more than (C: M-hm.) telling you a problem. (C: M-hm.) And that is I’ve just recently noticed in myself that I've been learning. (She laughs a little.) (C: M-hm.) And that's a big deal. Uh, I hear people say all the time, “Oh, I've learned so much, I learned this and I learned that and that was such a learning experience.” And I, all these years that I've been grown up, I haven't felt any learning, and I feel, “Well, what did you learn and how did you know that you learned it?” And it was a mystery to me. (C: M-hm.) And just the last few weeks, or actually I've been realizing in the last year mainly is that I’ve learned some things (C: M-hm.) and I know I've learned them and I, I know that, okay, that I'm at this point and with a certain situation or idea and that six months ago or three months ago it was different. (C: Uh-huh.) And so I'm feeling my learning and that's really exciting.</p>"
      ],
      "text/plain": [
       "<IPython.core.display.HTML object>"
      ]
     },
     "metadata": {
      "tags": []
     },
     "output_type": "display_data"
    },
    {
     "data": {
      "text/html": [
       "<p><b>Therapist: And it’s the awareness of it that's new. (S: Uh-huh. Yeah.) That you're beginning to realize, “Hey, I am different in this respect, (S: Uh-huh.) I've learned something.”</b>"
      ],
      "text/plain": [
       "<IPython.core.display.HTML object>"
      ]
     },
     "metadata": {
      "tags": []
     },
     "output_type": "display_data"
    },
    {
     "data": {
      "text/html": [
       "Client: I've changed. (C: Uh-huh.) And I can see the difference and feel the difference. (C: Uh-huh.) Yeah.</p>"
      ],
      "text/plain": [
       "<IPython.core.display.HTML object>"
      ]
     },
     "metadata": {
      "tags": []
     },
     "output_type": "display_data"
    },
    {
     "data": {
      "text/html": [
       "<p><b>Therapist: What are some of those differences?</b>"
      ],
      "text/plain": [
       "<IPython.core.display.HTML object>"
      ]
     },
     "metadata": {
      "tags": []
     },
     "output_type": "display_data"
    },
    {
     "data": {
      "text/html": [
       "Client: Well, (small laugh) um, I, I've made a decision to be more strict with my children (C: M-hm, m-hm.) and to, uh, to listen to them but decide that I'm their mother and I know many things they don't, and that I will make many more decisions than (C: M-hm.) I've made in the past. And uh-</p>"
      ],
      "text/plain": [
       "<IPython.core.display.HTML object>"
      ]
     },
     "metadata": {
      "tags": []
     },
     "output_type": "display_data"
    },
    {
     "data": {
      "text/html": [
       "<p><b>Therapist: M-hm, m-hm. Sounds as though you feel a bit stronger that way.</b>"
      ],
      "text/plain": [
       "<IPython.core.display.HTML object>"
      ]
     },
     "metadata": {
      "tags": []
     },
     "output_type": "display_data"
    },
    {
     "data": {
      "text/html": [
       "Client: Yes. And and I've been trying it. (C: Uh, m-hm.) Trying being the more strict person and it's working beautifully. (C: Uh-huh.) Uh, they at first they, you know, have their little resistance or whatever it is but then we go on with the program, which is my program more, (C: M-hm.) and I feel a lot better about that as being uh uh helping children to adjust to the world.</p>"
      ],
      "text/plain": [
       "<IPython.core.display.HTML object>"
      ]
     },
     "metadata": {
      "tags": []
     },
     "output_type": "display_data"
    },
    {
     "data": {
      "text/html": [
       "<p><b>Therapist: I mean, sounds, sounds like you feel more like a grown-up mother.</b>"
      ],
      "text/plain": [
       "<IPython.core.display.HTML object>"
      ]
     },
     "metadata": {
      "tags": []
     },
     "output_type": "display_data"
    },
    {
     "data": {
      "text/html": [
       "Client: M-hm. Capable. (C: M-hm.) Of making appropriate decisions. (C: M-hm.) For them. And another area is sex. And, uh, and I, I've done a lot of things in the past year, in the past mainly year that I haven't done before. That is, I've had intercourse with a few different men (C: M-hm.) and put myself in situations where before I was absolutely unwilling to do because of my fears and, and I've learned some things about myself. Like I know a lot more right now today about what kind of sexual relationship, what kind of intimate relationships that I want to have with men and that feels good. (C: M-hm, m-hm.) Beca ... and, um, and it only came through, uh, risking I mean there was no, it only became through trying things out, there was no amount (C: Uh-huh, uh-huh.) There was no amount of, of therapy or reading or thinking or talking (C: M-hm.) that helped me to learn those things, (C: M-hm.) but it was feeling strong enough within myself that I can take chances.</p>"
      ],
      "text/plain": [
       "<IPython.core.display.HTML object>"
      ]
     },
     "metadata": {
      "tags": []
     },
     "output_type": "display_data"
    },
    {
     "data": {
      "text/html": [
       "<p><b>Therapist: So risking has been the road to learning (S: Yeah.) in the sexual area.</b>"
      ],
      "text/plain": [
       "<IPython.core.display.HTML object>"
      ]
     },
     "metadata": {
      "tags": []
     },
     "output_type": "display_data"
    },
    {
     "data": {
      "text/html": [
       "Client: Uh-huh. (C: M-hm.) And it is with my children (C: M-hm.) and it is with relating to people in many ways, not just sexually. (She smiles.) (C: M-hm.) Other ways too. (C: M-hm.) Reaching out to people and approaching strangers and, uh ...</p>"
      ],
      "text/plain": [
       "<IPython.core.display.HTML object>"
      ]
     },
     "metadata": {
      "tags": []
     },
     "output_type": "display_data"
    },
    {
     "data": {
      "text/html": [
       "<p><b>Therapist: Taking all kinds of risks that you hadn't before.</b>"
      ],
      "text/plain": [
       "<IPython.core.display.HTML object>"
      ]
     },
     "metadata": {
      "tags": []
     },
     "output_type": "display_data"
    },
    {
     "data": {
      "text/html": [
       "Client: Some. More, (C: M-hm.) which, I mean I, I don't know about all kinds. (C: Yeah.) Quite a few, and it's been exciting (C: M-hm.) and hard.</p>"
      ],
      "text/plain": [
       "<IPython.core.display.HTML object>"
      ]
     },
     "metadata": {
      "tags": []
     },
     "output_type": "display_data"
    },
    {
     "data": {
      "text/html": [
       "<p><b>Therapist: And I guess that leads to a, uh, to a deeper kind of learning, or at any rate, a learning that you feel more sure of. I guess, I get a sense of assurance in what you're talking about. An assurance in you.</b>"
      ],
      "text/plain": [
       "<IPython.core.display.HTML object>"
      ]
     },
     "metadata": {
      "tags": []
     },
     "output_type": "display_data"
    },
    {
     "data": {
      "text/html": [
       "Client: Well, yes. Yes and no. (C: Uh-huh.) And I ... I ... feel more im... like I, I was saying before, I feel more immature and more and I'm more aware of my immaturity. (C: M-hm.) They're both, uh, a part of each other. (C: M-hm.) And uh, does that make, does that, I guess I'm thinking that it just sounds crazy.</p>"
      ],
      "text/plain": [
       "<IPython.core.display.HTML object>"
      ]
     },
     "metadata": {
      "tags": []
     },
     "output_type": "display_data"
    },
    {
     "data": {
      "text/html": [
       "<p><b>Therapist: No, I don't</b>"
      ],
      "text/plain": [
       "<IPython.core.display.HTML object>"
      ]
     },
     "metadata": {
      "tags": []
     },
     "output_type": "display_data"
    },
    {
     "data": {
      "text/html": [
       "Client: To say that I feel more mature because I know I'm how, I know more about how immature I am.</p>"
      ],
      "text/plain": [
       "<IPython.core.display.HTML object>"
      ]
     },
     "metadata": {
      "tags": []
     },
     "output_type": "display_data"
    },
    {
     "data": {
      "text/html": [
       "<p><b>Therapist: Uh-huh. No, that makes a lot of sense to me.</b>"
      ],
      "text/plain": [
       "<IPython.core.display.HTML object>"
      ]
     },
     "metadata": {
      "tags": []
     },
     "output_type": "display_data"
    },
    {
     "data": {
      "text/html": [
       "Client: It does.</p>"
      ],
      "text/plain": [
       "<IPython.core.display.HTML object>"
      ]
     },
     "metadata": {
      "tags": []
     },
     "output_type": "display_data"
    },
    {
     "data": {
      "text/html": [
       "<p><b>Therapist: Uh-huh. Because you’re, you're uh more aware of all aspects of yourself (S: M-hm.) and it sounds a more acceptant of them too. “Yes, I'm mature in certain ways (S: M-hm.) and here's some ways I know I'm immature.”</b>"
      ],
      "text/plain": [
       "<IPython.core.display.HTML object>"
      ]
     },
     "metadata": {
      "tags": []
     },
     "output_type": "display_data"
    },
    {
     "data": {
      "text/html": [
       "Client: And I didn't know that before, (C: Uh-huh.) or I, I knew I felt uncomfortable that I didn't understand it. (C: M-hm, m-hm.) But that's related to something I've been thinking about, I think, about being here with you and, uh, and telling myself two things. (C: M-hm.) One is, “Oh, you're just a, I'm just a dependent personality,” you know, Carl Rogers or blah-blah-blah-blah, don't, I don't run my own life. (C: M-hm.) I go for help a lot. (C: M-hm.) And then I tell myself I’ve always been so strong and so together and having everything so worked out in my head that I don't allow myself to, to be helpless in a situation where it might be (C: M-hm.) good for me. (C: M-hm.) Like right now here with you, I would like to be more helpless, which to me means open, I think. (C: M-hm, m-hm.) To what to us and, uh, and I see myself being, uh, together and not being helpless. (C: M-hm.)</p>"
      ],
      "text/plain": [
       "<IPython.core.display.HTML object>"
      ]
     },
     "metadata": {
      "tags": []
     },
     "output_type": "display_data"
    },
    {
     "data": {
      "text/html": [
       "<p><b>Therapist: Sounds as though you, you voice that as a conflict, but it sounds as though really you're more on the, on the side of the second aspect that, uh, uh, to be open and, and in that sense helpless and vulnerable, I guess might be a possible term too, um, is something you, you really believe that's what you are, rather than that you're a totally dependent person and really helpless and have to, have to run for help. I sort of get the feeling you like this aspect of you that is able to be with me in a way that is, uh, more open, more vulnerable perhaps.</b>"
      ],
      "text/plain": [
       "<IPython.core.display.HTML object>"
      ]
     },
     "metadata": {
      "tags": []
     },
     "output_type": "display_data"
    },
    {
     "data": {
      "text/html": [
       "Client: Well, I like it and I also scold myself for being dependent, (C: M-hm.) so there's</p>"
      ],
      "text/plain": [
       "<IPython.core.display.HTML object>"
      ]
     },
     "metadata": {
      "tags": []
     },
     "output_type": "display_data"
    },
    {
     "data": {
      "text/html": [
       "<p><b>Therapist: There are the two sides, uh-huh.</b>"
      ],
      "text/plain": [
       "<IPython.core.display.HTML object>"
      ]
     },
     "metadata": {
      "tags": []
     },
     "output_type": "display_data"
    },
    {
     "data": {
      "text/html": [
       "Client: there's something missing in the middle to connect, (C: M-hm.) and I it seems like you might have been talking about that and I still didn't hear it.</p>"
      ],
      "text/plain": [
       "<IPython.core.display.HTML object>"
      ]
     },
     "metadata": {
      "tags": []
     },
     "output_type": "display_data"
    },
    {
     "data": {
      "text/html": [
       "<p><b>Therapist: (Nods.) M-hm. (S: Mm.) So really to get it more accurately, you scold yourself for for being dependent, for, for wanting (S: M-hm.) to be here, for example, with me, (S: M-hm.) and yet at the same time you, you feel. uh, well, that's good, I, I really like that, but where's the, where's the integration of those two, uh, points of view. (S: M-hm.) (Sylvia nods.)</b>"
      ],
      "text/plain": [
       "<IPython.core.display.HTML object>"
      ]
     },
     "metadata": {
      "tags": []
     },
     "output_type": "display_data"
    },
    {
     "data": {
      "text/html": [
       "Client: That's right. (small laugh) (pause of 7 seconds) May I hold your hands again?</p>"
      ],
      "text/plain": [
       "<IPython.core.display.HTML object>"
      ]
     },
     "metadata": {
      "tags": []
     },
     "output_type": "display_data"
    },
    {
     "data": {
      "text/html": [
       "<p><b>Therapist: Sure. M-hm. (They lean closer and clasp hands and remain holding hands.)</b>"
      ],
      "text/plain": [
       "<IPython.core.display.HTML object>"
      ]
     },
     "metadata": {
      "tags": []
     },
     "output_type": "display_data"
    },
    {
     "data": {
      "text/html": [
       "Client: To feel that old feeling.</p>"
      ],
      "text/plain": [
       "<IPython.core.display.HTML object>"
      ]
     },
     "metadata": {
      "tags": []
     },
     "output_type": "display_data"
    },
    {
     "data": {
      "text/html": [
       "<p><b>Therapist: Okay.</b>"
      ],
      "text/plain": [
       "<IPython.core.display.HTML object>"
      ]
     },
     "metadata": {
      "tags": []
     },
     "output_type": "display_data"
    },
    {
     "data": {
      "text/html": [
       "Client: (Clears throat.) (pause of 11 seconds) I would like to be less, uh, less strong right now. I would like to give myself the gift of not having to be sensible (C: M-hm.) and reasonable and (C: M-hm, m-hm.) Also the protection, (C: M-hm.) protect, (C: M-hm.) protect myself.</p>"
      ],
      "text/plain": [
       "<IPython.core.display.HTML object>"
      ]
     },
     "metadata": {
      "tags": []
     },
     "output_type": "display_data"
    },
    {
     "data": {
      "text/html": [
       "<p><b>Therapist: M-hm, m-hm, m-hm. Really would be giving yourself a gift if you could just kind of let go (S: M-hm.) and not, uh, not be so (S: M-hm.) competent (S: M-hm.) and able. (S: Mm.) (She nods.) (pause of 5 seconds)</b>"
      ],
      "text/plain": [
       "<IPython.core.display.HTML object>"
      ]
     },
     "metadata": {
      "tags": []
     },
     "output_type": "display_data"
    },
    {
     "data": {
      "text/html": [
       "Client: And I think it helps to touch ( C: M-hm.) (Carl nods.) you, to, to, to let go of the shoulds, of my (small laugh)</p>"
      ],
      "text/plain": [
       "<IPython.core.display.HTML object>"
      ]
     },
     "metadata": {
      "tags": []
     },
     "output_type": "display_data"
    },
    {
     "data": {
      "text/html": [
       "<p><b>Therapist: M-hm, m-hm. And you feel some contact and maybe you can say, “Well, maybe I don't have to be so strong, so (S: M-hm, mm.) Maybe I can just let go more.”</b>"
      ],
      "text/plain": [
       "<IPython.core.display.HTML object>"
      ]
     },
     "metadata": {
      "tags": []
     },
     "output_type": "display_data"
    },
    {
     "data": {
      "text/html": [
       "Client: (pause of 5 seconds) Yes. (small laugh) (She sighs.) ( pause of 22 seconds) I want to get away from all, um, my rationalizing right now this minute, and I don't know how to do that (C: M-hm.) except to shut up. (Carl nods.) (C: M-hm, m-hm.) And, (pause of 5 seconds) so it's not like I have so much a desire to sit and not talk and look in your eyes as I have a desire to not be the way I am all the time. (C: M-hm.) And I don't know yet (C: M-hm, m-hm.) what else to do. (C: M-hm.)</p>"
      ],
      "text/plain": [
       "<IPython.core.display.HTML object>"
      ]
     },
     "metadata": {
      "tags": []
     },
     "output_type": "display_data"
    },
    {
     "data": {
      "text/html": [
       "<p><b>Therapist: Have to be kind of silent, to let go of that rational and rationalizing part of you.</b>"
      ],
      "text/plain": [
       "<IPython.core.display.HTML object>"
      ]
     },
     "metadata": {
      "tags": []
     },
     "output_type": "display_data"
    },
    {
     "data": {
      "text/html": [
       "Client: M-hm. (pause of 25 seconds) It feels easier to focus on, uh, in this position that I'm in now with you I feel more focused, (C: M-hm.) (He nods.) yeah.</p>"
      ],
      "text/plain": [
       "<IPython.core.display.HTML object>"
      ]
     },
     "metadata": {
      "tags": []
     },
     "output_type": "display_data"
    },
    {
     "data": {
      "text/html": [
       "<p><b>Therapist: Are there any things that sort of come bubbling up?</b>"
      ],
      "text/plain": [
       "<IPython.core.display.HTML object>"
      ]
     },
     "metadata": {
      "tags": []
     },
     "output_type": "display_data"
    },
    {
     "data": {
      "text/html": [
       "Client: Yeah, I know it's something I want to talk about. (She smiles.)</p>"
      ],
      "text/plain": [
       "<IPython.core.display.HTML object>"
      ]
     },
     "metadata": {
      "tags": []
     },
     "output_type": "display_data"
    },
    {
     "data": {
      "text/html": [
       "<p><b>Therapist: Okay. M-hm. (pause of 10 seconds) (She smiles.) But it's not easy, huh.</b>"
      ],
      "text/plain": [
       "<IPython.core.display.HTML object>"
      ]
     },
     "metadata": {
      "tags": []
     },
     "output_type": "display_data"
    },
    {
     "data": {
      "text/html": [
       "Client: No, it's not easy and I'm enjoying the richness of feeling (C: M-hm.) your hands this way and letting go of some more of, of the camera business (C: M-hm.) and the ... (C: M-hm, m-hm.) And, uh, and the fear about bringing up something that (laughs) (clears throat) and knowing that in about fifteen minutes it'll all seem, um, (sighs, smiling) I don't know not quite as serious. (C: M-hm.) There's something I've been wanting to talk over with you.</p>"
      ],
      "text/plain": [
       "<IPython.core.display.HTML object>"
      ]
     },
     "metadata": {
      "tags": []
     },
     "output_type": "display_data"
    },
    {
     "data": {
      "text/html": [
       "<p><b>Therapist: Okay.</b>"
      ],
      "text/plain": [
       "<IPython.core.display.HTML object>"
      ]
     },
     "metadata": {
      "tags": []
     },
     "output_type": "display_data"
    },
    {
     "data": {
      "text/html": [
       "Client: Good. I'm real attracted to black people. (C: M-hm.) And, uh, that's about the craziest part of me, um, I'm ashamed (C: Mm.) Um, I'm embarrassed, not right now this minute, but when I'm out walking around. (Carl is nodding.) (C: When it happens, m-hm.) And living my life.</p>"
      ],
      "text/plain": [
       "<IPython.core.display.HTML object>"
      ]
     },
     "metadata": {
      "tags": []
     },
     "output_type": "display_data"
    },
    {
     "data": {
      "text/html": [
       "<p><b>Therapist: You feel what an awful thing it is that I'm attracted to black people. (S: M-hm.)</b>"
      ],
      "text/plain": [
       "<IPython.core.display.HTML object>"
      ]
     },
     "metadata": {
      "tags": []
     },
     "output_type": "display_data"
    },
    {
     "data": {
      "text/html": [
       "Client: Not, and not all the black people I see (C: M-hm.) but a lot. (C: M-hm.) And, uh, like the black people that I talked it over with, it seems, it doesn't seem like any problem at all, they understand perfectly. (C: M-hm.) And, but my family, I think it's a real painful situation for them when I have as many black friends as I do. (C: M-hm, m-hm.) And-</p>"
      ],
      "text/plain": [
       "<IPython.core.display.HTML object>"
      ]
     },
     "metadata": {
      "tags": []
     },
     "output_type": "display_data"
    },
    {
     "data": {
      "text/html": [
       "<p><b>Therapist: That sounds like not only your family looks down on it or something but that you scold yourself for it too.</b>"
      ],
      "text/plain": [
       "<IPython.core.display.HTML object>"
      ]
     },
     "metadata": {
      "tags": []
     },
     "output_type": "display_data"
    },
    {
     "data": {
      "text/html": [
       "Client: Uh-huh, right. I, I think there's something wrong with me.</p>"
      ],
      "text/plain": [
       "<IPython.core.display.HTML object>"
      ]
     },
     "metadata": {
      "tags": []
     },
     "output_type": "display_data"
    },
    {
     "data": {
      "text/html": [
       "<p><b>Therapist: Yeah, that's it.</b>"
      ],
      "text/plain": [
       "<IPython.core.display.HTML object>"
      ]
     },
     "metadata": {
      "tags": []
     },
     "output_type": "display_data"
    },
    {
     "data": {
      "text/html": [
       "Client: Um. But it doesn't-</p>"
      ],
      "text/plain": [
       "<IPython.core.display.HTML object>"
      ]
     },
     "metadata": {
      "tags": []
     },
     "output_type": "display_data"
    },
    {
     "data": {
      "text/html": [
       "<p><b>Therapist: “What kind of a crazy person am I that I feel attracted (S: Well, sick...) to so many blacks?”</b>"
      ],
      "text/plain": [
       "<IPython.core.display.HTML object>"
      ]
     },
     "metadata": {
      "tags": []
     },
     "output_type": "display_data"
    },
    {
     "data": {
      "text/html": [
       "Client: Sick, sick I think of it as</p>"
      ],
      "text/plain": [
       "<IPython.core.display.HTML object>"
      ]
     },
     "metadata": {
      "tags": []
     },
     "output_type": "display_data"
    },
    {
     "data": {
      "text/html": [
       "<p><b>Therapist: Sick, that's</b>"
      ],
      "text/plain": [
       "<IPython.core.display.HTML object>"
      ]
     },
     "metadata": {
      "tags": []
     },
     "output_type": "display_data"
    },
    {
     "data": {
      "text/html": [
       "Client: and ne... neurotic, um. (C: Hm.) Strange. (C: Mm.) (She closes her eyes and clears her throat.) (pause of 7 seconds)</p>"
      ],
      "text/plain": [
       "<IPython.core.display.HTML object>"
      ]
     },
     "metadata": {
      "tags": []
     },
     "output_type": "display_data"
    },
    {
     "data": {
      "text/html": [
       "<p><b>Therapist: You really feel that there's something sick in you that causes you to have so many black friends.</b>"
      ],
      "text/plain": [
       "<IPython.core.display.HTML object>"
      ]
     },
     "metadata": {
      "tags": []
     },
     "output_type": "display_data"
    },
    {
     "data": {
      "text/html": [
       "Client: (Opening her eyes) Well, I keep looking for a reasonable explanation (C: M-hm.) and there is none. (She laughs a little)</p>"
      ],
      "text/plain": [
       "<IPython.core.display.HTML object>"
      ]
     },
     "metadata": {
      "tags": []
     },
     "output_type": "display_data"
    },
    {
     "data": {
      "text/html": [
       "<p><b>Therapist: So there isn't any reason except that you feel that way.</b>"
      ],
      "text/plain": [
       "<IPython.core.display.HTML object>"
      ]
     },
     "metadata": {
      "tags": []
     },
     "output_type": "display_data"
    },
    {
     "data": {
      "text/html": [
       "Client: M-hm. And I ...</p>"
      ],
      "text/plain": [
       "<IPython.core.display.HTML object>"
      ]
     },
     "metadata": {
      "tags": []
     },
     "output_type": "display_data"
    },
    {
     "data": {
      "text/html": [
       "<p><b>Therapist: And that isn't good enough.</b>"
      ],
      "text/plain": [
       "<IPython.core.display.HTML object>"
      ]
     },
     "metadata": {
      "tags": []
     },
     "output_type": "display_data"
    },
    {
     "data": {
      "text/html": [
       "Client: Well, I, I, I've been struggling so long to accept that in myself and I'm still fighting. It's like I'm fighting to accept that in myself and, and letting go rather than thinking it's a terrible thing (C: M-hm.) and and that I can't let other people know. (C: Hm, m-hm, m-hm.) And, uh,</p>"
      ],
      "text/plain": [
       "<IPython.core.display.HTML object>"
      ]
     },
     "metadata": {
      "tags": []
     },
     "output_type": "display_data"
    },
    {
     "data": {
      "text/html": [
       "<p><b>Therapist: You feel “I should not feel that way. I shouldn't be that way. Sick.”</b>"
      ],
      "text/plain": [
       "<IPython.core.display.HTML object>"
      ]
     },
     "metadata": {
      "tags": []
     },
     "output_type": "display_data"
    },
    {
     "data": {
      "text/html": [
       "Client: Like when I, wh ... , I imagine when I meet a black person that I am attracted</p>"
      ],
      "text/plain": [
       "<IPython.core.display.HTML object>"
      ]
     },
     "metadata": {
      "tags": []
     },
     "output_type": "display_data"
    },
    {
     "data": {
      "text/html": [
       "<p><b>Therapist: Mm, see if it shows. (S: Uh-huh.) M-hm, m-hm.</b>"
      ],
      "text/plain": [
       "<IPython.core.display.HTML object>"
      ]
     },
     "metadata": {
      "tags": []
     },
     "output_type": "display_data"
    },
    {
     "data": {
      "text/html": [
       "Client: And that they'll think I'm strange. (C: M-hm.) M-hm. And it has something to do with all the black/white sex stuff that goes on, like, um, black women and white men which is very foreign to me, I have very little thinking or, um, concern about that. But the black men/white women thing, (C: M-hm.) um. and I'm attracted to a lot of black men. (C: M-hm.) Yeah.</p>"
      ],
      "text/plain": [
       "<IPython.core.display.HTML object>"
      ]
     },
     "metadata": {
      "tags": []
     },
     "output_type": "display_data"
    },
    {
     "data": {
      "text/html": [
       "<p><b>Therapist: It has something to do with the sexual attraction.</b>"
      ],
      "text/plain": [
       "<IPython.core.display.HTML object>"
      ]
     },
     "metadata": {
      "tags": []
     },
     "output_type": "display_data"
    },
    {
     "data": {
      "text/html": [
       "Client: I know, yeah, it does, I know it does. (C: M-hm.) But it's not just that, it's also (C: M-hm.) children and and women and lifestyle (C: M-hm.) and as I see it through my tunnel vision, which I do. (C: Uh-huh.) (clears her throat)</p>"
      ],
      "text/plain": [
       "<IPython.core.display.HTML object>"
      ]
     },
     "metadata": {
      "tags": []
     },
     "output_type": "display_data"
    },
    {
     "data": {
      "text/html": [
       "<p><b>Therapist: So I guess you're saying, um, yeah, there's a sexual element in it but</b>"
      ],
      "text/plain": [
       "<IPython.core.display.HTML object>"
      ]
     },
     "metadata": {
      "tags": []
     },
     "output_type": "display_data"
    },
    {
     "data": {
      "text/html": [
       "Client: M-hm. That I see. (C: Yeah.) And I, but I think what I see isn't what is.</p>"
      ],
      "text/plain": [
       "<IPython.core.display.HTML object>"
      ]
     },
     "metadata": {
      "tags": []
     },
     "output_type": "display_data"
    },
    {
     "data": {
      "text/html": [
       "<p><b>Therapist: (He nods.) That's partly your fantasy or something. (Sylvia nods.) (pause of 8 seconds)</b>"
      ],
      "text/plain": [
       "<IPython.core.display.HTML object>"
      ]
     },
     "metadata": {
      "tags": []
     },
     "output_type": "display_data"
    },
    {
     "data": {
      "text/html": [
       "Client: Maybe putting that, that, this on this film will help me that (She smiles.) stand on the ground and be who I am. (C: M-hm, m-hm.) And not be so ashamed, so embarrassed and so, (C: M-hm.) um, uncomfortable.</p>"
      ],
      "text/plain": [
       "<IPython.core.display.HTML object>"
      ]
     },
     "metadata": {
      "tags": []
     },
     "output_type": "display_data"
    },
    {
     "data": {
      "text/html": [
       "<p><b>Therapist: In a way you're saying it out loud and really in a wa ..., in a sense, publicly, may help you to feel “I don't need to be so ashamed of that.” (S: M-hm.)</b>"
      ],
      "text/plain": [
       "<IPython.core.display.HTML object>"
      ]
     },
     "metadata": {
      "tags": []
     },
     "output_type": "display_data"
    },
    {
     "data": {
      "text/html": [
       "Client: And I tell myself I should be joyful, I mean, (C: M-hm.) (She laughs a little.) why, why negative? (C: M-hm.) And I, I guess, you know, the culture or I don't know, I (sighs) (pause of 6 seconds)</p>"
      ],
      "text/plain": [
       "<IPython.core.display.HTML object>"
      ]
     },
     "metadata": {
      "tags": []
     },
     "output_type": "display_data"
    },
    {
     "data": {
      "text/html": [
       "<p><b>Therapist: But you feel disapproved of probably, certainly by your family and maybe by the culture in this respect.</b>"
      ],
      "text/plain": [
       "<IPython.core.display.HTML object>"
      ]
     },
     "metadata": {
      "tags": []
     },
     "output_type": "display_data"
    },
    {
     "data": {
      "text/html": [
       "Client: My friends don't understand. (C: M-hm.) My white friends.</p>"
      ],
      "text/plain": [
       "<IPython.core.display.HTML object>"
      ]
     },
     "metadata": {
      "tags": []
     },
     "output_type": "display_data"
    },
    {
     "data": {
      "text/html": [
       "<p><b>Therapist: M-hm, m-hm. (He nods.) (pause of 10 seconds) Makes you feel different. (S: Hm, hm.) Set apart or something like that. (pause of 6 seconds)</b>"
      ],
      "text/plain": [
       "<IPython.core.display.HTML object>"
      ]
     },
     "metadata": {
      "tags": []
     },
     "output_type": "display_data"
    },
    {
     "data": {
      "text/html": [
       "Client: Well, sometimes I feel different but I know a lot of other people, I believe a lot of other people feel the same way. (C: M-hm.) and I know a lot of other white women are attracted to black men. So I believe that's common.</p>"
      ],
      "text/plain": [
       "<IPython.core.display.HTML object>"
      ]
     },
     "metadata": {
      "tags": []
     },
     "output_type": "display_data"
    },
    {
     "data": {
      "text/html": [
       "<p><b>Therapist: So that somehow you know you're not alone in this.</b>"
      ],
      "text/plain": [
       "<IPython.core.display.HTML object>"
      ]
     },
     "metadata": {
      "tags": []
     },
     "output_type": "display_data"
    },
    {
     "data": {
      "text/html": [
       "Client: But it seems like the strength of my feelings and, uh, the on-goingness and my de ..., my desire to identify with the black culture and, (C: M-hm, m-hm) um, is. is what seems out of proportion to me. That I feel out of proportion about it. (They both nod.)</p>"
      ],
      "text/plain": [
       "<IPython.core.display.HTML object>"
      ]
     },
     "metadata": {
      "tags": []
     },
     "output_type": "display_data"
    },
    {
     "data": {
      "text/html": [
       "<p><b>Therapist: M-hm. So Okay, other women feel the same way but not to the degree that you do, you think. (S: M-hm.) That's kind of out of (S: M-hm.) Out of scale.</b>"
      ],
      "text/plain": [
       "<IPython.core.display.HTML object>"
      ]
     },
     "metadata": {
      "tags": []
     },
     "output_type": "display_data"
    },
    {
     "data": {
      "text/html": [
       "Client: Or in general to the degree too, not just man/woman, but (C: M-hm.) people. (pause of 15 seconds) Maybe I, (small laugh) it'll come a time accepting that part of myself.</p>"
      ],
      "text/plain": [
       "<IPython.core.display.HTML object>"
      ]
     },
     "metadata": {
      "tags": []
     },
     "output_type": "display_data"
    },
    {
     "data": {
      "text/html": [
       "<p><b>Therapist: Maybe someday you won't be ashamed of yourself for that.</b>"
      ],
      "text/plain": [
       "<IPython.core.display.HTML object>"
      ]
     },
     "metadata": {
      "tags": []
     },
     "output_type": "display_data"
    },
    {
     "data": {
      "text/html": [
       "Client: M-hm. Maybe someday I can be proud of myself. (C: M-hm.) And for what I believe and feel. (C: M-hm.) And I'm gradually learning to do that.</p>"
      ],
      "text/plain": [
       "<IPython.core.display.HTML object>"
      ]
     },
     "metadata": {
      "tags": []
     },
     "output_type": "display_data"
    },
    {
     "data": {
      "text/html": [
       "<p><b>Therapist: Uh-huh, m-hm. So, perhaps what you are and what you feel will be something you can take real satisfaction in instead of feeling (S: M-hm.) how shameful.</b>"
      ],
      "text/plain": [
       "<IPython.core.display.HTML object>"
      ]
     },
     "metadata": {
      "tags": []
     },
     "output_type": "display_data"
    },
    {
     "data": {
      "text/html": [
       "Client: M-hm. And to me it's it's a sign of my growth is being able to do what I'm doing with you now, you'll make a film. (C: M-hm.) (She laughs.) (C: M-hm, m-hm, m-hm, m-hm, m-hm.) It's a real brazen thing to do. (C: Yeah.) M-hm.</p>"
      ],
      "text/plain": [
       "<IPython.core.display.HTML object>"
      ]
     },
     "metadata": {
      "tags": []
     },
     "output_type": "display_data"
    },
    {
     "data": {
      "text/html": [
       "<p><b>Therapist: Feel this is a risk. (S: M-hm.) And that's a sign of learning and of growth.</b>"
      ],
      "text/plain": [
       "<IPython.core.display.HTML object>"
      ]
     },
     "metadata": {
      "tags": []
     },
     "output_type": "display_data"
    },
    {
     "data": {
      "text/html": [
       "Client: M-hm. Well, also it somehow it's a little different from a risk in the sense of some of my friends say, “A film? Wh... What do you want to do that for?” I mean, there's suspiciousness about it and …</p>"
      ],
      "text/plain": [
       "<IPython.core.display.HTML object>"
      ]
     },
     "metadata": {
      "tags": []
     },
     "output_type": "display_data"
    },
    {
     "data": {
      "text/html": [
       "<p><b>Therapist: M-hm, m-hm. (He nods.) So that's seen as another strange part of you.</b>"
      ],
      "text/plain": [
       "<IPython.core.display.HTML object>"
      ]
     },
     "metadata": {
      "tags": []
     },
     "output_type": "display_data"
    },
    {
     "data": {
      "text/html": [
       "Client: Well, not so much, I mean, that's not a</p>"
      ],
      "text/plain": [
       "<IPython.core.display.HTML object>"
      ]
     },
     "metadata": {
      "tags": []
     },
     "output_type": "display_data"
    },
    {
     "data": {
      "text/html": [
       "<p><b>Therapist: Not so.</b>"
      ],
      "text/plain": [
       "<IPython.core.display.HTML object>"
      ]
     },
     "metadata": {
      "tags": []
     },
     "output_type": "display_data"
    },
    {
     "data": {
      "text/html": [
       "Client: It doesn't bother me. (clears throat) (pause of 11 seconds) Sometimes I, well, right now (She laughs and he nods.) sometimes, I have the sense of talking away what we were talking about and I'm wondering, if I went away, if I withdraw from the subject, uh, what's your perspective? It seems like we were talking about my attraction to black people and now we're not. And I'm, I don't know, like did we finish talking about it or did I withdraw? Um</p>"
      ],
      "text/plain": [
       "<IPython.core.display.HTML object>"
      ]
     },
     "metadata": {
      "tags": []
     },
     "output_type": "display_data"
    },
    {
     "data": {
      "text/html": [
       "<p><b>Therapist: It's more of your analyzing it, isn't it, trying to think (She nods.) about what's happening. “Did I run away from it? Or was I finished with it?” (S: M-hm.) Or continue think about it</b>"
      ],
      "text/plain": [
       "<IPython.core.display.HTML object>"
      ]
     },
     "metadata": {
      "tags": []
     },
     "output_type": "display_data"
    },
    {
     "data": {
      "text/html": [
       "Client: analyze it (small laugh)</p>"
      ],
      "text/plain": [
       "<IPython.core.display.HTML object>"
      ]
     },
     "metadata": {
      "tags": []
     },
     "output_type": "display_data"
    },
    {
     "data": {
      "text/html": [
       "<p><b>Therapist: Instead of asking, “Do I feel as though I'm finished with it? (S: M-hm.) Do I feel as though I'm escaping from it?”</b>"
      ],
      "text/plain": [
       "<IPython.core.display.HTML object>"
      ]
     },
     "metadata": {
      "tags": []
     },
     "output_type": "display_data"
    },
    {
     "data": {
      "text/html": [
       "Client: I like that. I like your your questions, or comments. (C: M-hm.) Do I feel finished? (pause of 10 seconds) No, I don't, I don't feel, I don't know (He nods.) about escaping (C: M-hm.) and feeling finished, it's</p>"
      ],
      "text/plain": [
       "<IPython.core.display.HTML object>"
      ]
     },
     "metadata": {
      "tags": []
     },
     "output_type": "display_data"
    },
    {
     "data": {
      "text/html": [
       "<p><b>Therapist: The feeling is one of uncertainty.</b>"
      ],
      "text/plain": [
       "<IPython.core.display.HTML object>"
      ]
     },
     "metadata": {
      "tags": []
     },
     "output_type": "display_data"
    },
    {
     "data": {
      "text/html": [
       "Client: M-hm. (She nods.) (pause of 35 seconds) Well I I feel like I want to go back and listen to what we just talked about, (C: M-hm.) that I didn't hear it very well. (C: M-hm, m-hm, m-hm, m-hm, m-hm.) And ...</p>"
      ],
      "text/plain": [
       "<IPython.core.display.HTML object>"
      ]
     },
     "metadata": {
      "tags": []
     },
     "output_type": "display_data"
    },
    {
     "data": {
      "text/html": [
       "<p><b>Therapist: “What did I say? What did I feel?” You'd like to have a rerun of it and it</b>"
      ],
      "text/plain": [
       "<IPython.core.display.HTML object>"
      ]
     },
     "metadata": {
      "tags": []
     },
     "output_type": "display_data"
    },
    {
     "data": {
      "text/html": [
       "Client: M-hm. Like I just went jabber-jabber-jabber-jabber. (C: M-hm.) And all that. (C: M-hm.) And so-</p>"
      ],
      "text/plain": [
       "<IPython.core.display.HTML object>"
      ]
     },
     "metadata": {
      "tags": []
     },
     "output_type": "display_data"
    },
    {
     "data": {
      "text/html": [
       "<p><b>Therapist: Sounds like you scold yourself for that, as though, “Oh, I just talk talk-talk.” (She nods.) (S: M-hm.) It didn't sound like just talk-talk-talk to me.</b>"
      ],
      "text/plain": [
       "<IPython.core.display.HTML object>"
      ]
     },
     "metadata": {
      "tags": []
     },
     "output_type": "display_data"
    },
    {
     "data": {
      "text/html": [
       "Client: It didn't?</p>"
      ],
      "text/plain": [
       "<IPython.core.display.HTML object>"
      ]
     },
     "metadata": {
      "tags": []
     },
     "output_type": "display_data"
    },
    {
     "data": {
      "text/html": [
       "<p><b>Therapist: No.</b>"
      ],
      "text/plain": [
       "<IPython.core.display.HTML object>"
      ]
     },
     "metadata": {
      "tags": []
     },
     "output_type": "display_data"
    },
    {
     "data": {
      "text/html": [
       "Client: (pause of 6 seconds) Well, I would like to hear it again, (He nods.) and it has, it, and slowed down somehow, (C: M-hm.) and I now (small laugh) I could think like taking your hand and looking at you and slowing down. (C: M-hm, m-hm.) And then when I'm slowing--and that's what I want to do ... (C: M-hm.) But while I'm doing it, I'm scolding myself. “What are you doing this for?”</p>"
      ],
      "text/plain": [
       "<IPython.core.display.HTML object>"
      ]
     },
     "metadata": {
      "tags": []
     },
     "output_type": "display_data"
    },
    {
     "data": {
      "text/html": [
       "<p><b>Therapist: M-hm. (pause of 5 seconds) Let me give you a very brief rerun of part of it. You were saying, “I'm ashamed of myself for being attracted to black men. Uh, I know many other women have some of the same feeling, but it seems to me I have that feeling disproportionately strong and uh my family is critical of that, the culture is critical. Um, I'd like to be able to accept those feelings in myself. Maybe I'm making a little bit of progress along that line, but still it does seem a need to be a a strange part of me that I don't understand.” (She nods.) (pause of 10 seconds)</b>"
      ],
      "text/plain": [
       "<IPython.core.display.HTML object>"
      ]
     },
     "metadata": {
      "tags": []
     },
     "output_type": "display_data"
    },
    {
     "data": {
      "text/html": [
       "Client: That's right.</p>"
      ],
      "text/plain": [
       "<IPython.core.display.HTML object>"
      ]
     },
     "metadata": {
      "tags": []
     },
     "output_type": "display_data"
    },
    {
     "data": {
      "text/html": [
       "<p><b>Therapist: “And part of that attraction is sexual but I'm also attracted to their children, to the way they live, to a lot of things about them.” (S: M-hm.)</b>"
      ],
      "text/plain": [
       "<IPython.core.display.HTML object>"
      ]
     },
     "metadata": {
      "tags": []
     },
     "output_type": "display_data"
    },
    {
     "data": {
      "text/html": [
       "Client: And what I, what you said that strikes me the most is it’s the part of me I don't understand, (C: M-hm.) it's a part of me I don't understand.</p>"
      ],
      "text/plain": [
       "<IPython.core.display.HTML object>"
      ]
     },
     "metadata": {
      "tags": []
     },
     "output_type": "display_data"
    },
    {
     "data": {
      "text/html": [
       "<p><b>Therapist: It just is, but you can't quite uh can't quite get at the reasons for it. You have to have the reasons.</b>"
      ],
      "text/plain": [
       "<IPython.core.display.HTML object>"
      ]
     },
     "metadata": {
      "tags": []
     },
     "output_type": "display_data"
    },
    {
     "data": {
      "text/html": [
       "Client: (Laughs a little) (pause of 5 seconds) And I don't know why I have to have the reasons, (C: m-hm.) I don't have to explain to anybody. (C: M-hm.) So it seems like I don't have to have a reason. (She smiles.)</p>"
      ],
      "text/plain": [
       "<IPython.core.display.HTML object>"
      ]
     },
     "metadata": {
      "tags": []
     },
     "output_type": "display_data"
    },
    {
     "data": {
      "text/html": [
       "<p><b>Therapist: M-hm. (pause of 20 seconds) So maybe the intellectual understanding isn't as important as you thought it was.</b>"
      ],
      "text/plain": [
       "<IPython.core.display.HTML object>"
      ]
     },
     "metadata": {
      "tags": []
     },
     "output_type": "display_data"
    },
    {
     "data": {
      "text/html": [
       "Client: I think the acceptance is what's most important, (C: M-hm, m-hm.) my acceptance. (C: M-hm.)</p>"
      ],
      "text/plain": [
       "<IPython.core.display.HTML object>"
      ]
     },
     "metadata": {
      "tags": []
     },
     "output_type": "display_data"
    },
    {
     "data": {
      "text/html": [
       "<p><b>Therapist: “If I could accept it, I wouldn't have to understand in the sense of knowing the reasons.”</b>"
      ],
      "text/plain": [
       "<IPython.core.display.HTML object>"
      ]
     },
     "metadata": {
      "tags": []
     },
     "output_type": "display_data"
    },
    {
     "data": {
      "text/html": [
       "Client: (Nods.) Or explain to anybody. (He nods.) (C: M-hm, m-hm, m-hm.) M-hm.</p>"
      ],
      "text/plain": [
       "<IPython.core.display.HTML object>"
      ]
     },
     "metadata": {
      "tags": []
     },
     "output_type": "display_data"
    },
    {
     "data": {
      "text/html": [
       "<p><b>Therapist: Sounds like that's what you're doing in imagination a lot, trying to explain it to somebody.</b>"
      ],
      "text/plain": [
       "<IPython.core.display.HTML object>"
      ]
     },
     "metadata": {
      "tags": []
     },
     "output_type": "display_data"
    },
    {
     "data": {
      "text/html": [
       "Client: M-hm. (pause of 25 seconds) It seems like I'll probably never understand it. (Both nod.) So I can make life a lot easier for myself by not trying. (They both nod.)</p>"
      ],
      "text/plain": [
       "<IPython.core.display.HTML object>"
      ]
     },
     "metadata": {
      "tags": []
     },
     "output_type": "display_data"
    },
    {
     "data": {
      "text/html": [
       "<p><b>Therapist: M-hm. (pause of 5 seconds) It may be one of those things that if you can accept it, you wouldn't need to have all the explanations. (pause of 9 seconds)</b>"
      ],
      "text/plain": [
       "<IPython.core.display.HTML object>"
      ]
     },
     "metadata": {
      "tags": []
     },
     "output_type": "display_data"
    },
    {
     "data": {
      "text/html": [
       "Client: Wonder what (She closes her eyes for a moment, sighs and clears her throat.) what keeps me, um, feeling like I need to justify myself. (C: M-hm.) Like that's a more basic</p>"
      ],
      "text/plain": [
       "<IPython.core.display.HTML object>"
      ]
     },
     "metadata": {
      "tags": []
     },
     "output_type": "display_data"
    },
    {
     "data": {
      "text/html": [
       "<p><b>Therapist: M-hm. It's a broader statement of it.</b>"
      ],
      "text/plain": [
       "<IPython.core.display.HTML object>"
      ]
     },
     "metadata": {
      "tags": []
     },
     "output_type": "display_data"
    },
    {
     "data": {
      "text/html": [
       "Client: than about a particular view, accepting myself about this and about that.</p>"
      ],
      "text/plain": [
       "<IPython.core.display.HTML object>"
      ]
     },
     "metadata": {
      "tags": []
     },
     "output_type": "display_data"
    },
    {
     "data": {
      "text/html": [
       "<p><b>Therapist: M-hm. You would in general feel “I have to justify myself with proper reasons.”</b>"
      ],
      "text/plain": [
       "<IPython.core.display.HTML object>"
      ]
     },
     "metadata": {
      "tags": []
     },
     "output_type": "display_data"
    },
    {
     "data": {
      "text/html": [
       "Client: M-hm. (pause of 20 seconds) (smiles) Well, do you do that? Do you</p>"
      ],
      "text/plain": [
       "<IPython.core.display.HTML object>"
      ]
     },
     "metadata": {
      "tags": []
     },
     "output_type": "display_data"
    },
    {
     "data": {
      "text/html": [
       "<p><b>Therapist: I suspect we all do, some. (S: Yeah.) M-hm.</b>"
      ],
      "text/plain": [
       "<IPython.core.display.HTML object>"
      ]
     },
     "metadata": {
      "tags": []
     },
     "output_type": "display_data"
    },
    {
     "data": {
      "text/html": [
       "Client: So there's nobody that just (Both laugh.) floats along on their (Both laugh.) intuition. That’s not it either. So what I need is more balance really. (C: M-hm.) Not that I’m wrong to justify it, but that I can be more, justify it less and feel more, (Both nod.) (C: M-hm, m-hm.) and feel comfortable. (C: M-hm.)</p>"
      ],
      "text/plain": [
       "<IPython.core.display.HTML object>"
      ]
     },
     "metadata": {
      "tags": []
     },
     "output_type": "display_data"
    },
    {
     "data": {
      "text/html": [
       "<p><b>Therapist: Hi, Kathy.</b>"
      ],
      "text/plain": [
       "<IPython.core.display.HTML object>"
      ]
     },
     "metadata": {
      "tags": []
     },
     "output_type": "display_data"
    },
    {
     "data": {
      "text/html": [
       "Client: Hi, Dr. Rogers.</p>"
      ],
      "text/plain": [
       "<IPython.core.display.HTML object>"
      ]
     },
     "metadata": {
      "tags": []
     },
     "output_type": "display_data"
    },
    {
     "data": {
      "text/html": [
       "<p><b>Therapist: I'm really glad to meet you.</b>"
      ],
      "text/plain": [
       "<IPython.core.display.HTML object>"
      ]
     },
     "metadata": {
      "tags": []
     },
     "output_type": "display_data"
    },
    {
     "data": {
      "text/html": [
       "Client: Thank you.</p>"
      ],
      "text/plain": [
       "<IPython.core.display.HTML object>"
      ]
     },
     "metadata": {
      "tags": []
     },
     "output_type": "display_data"
    },
    {
     "data": {
      "text/html": [
       "<p><b>Therapist: And… I don't know whether you're feeling a little uptight under these lights and all, but I think I'm feeling a little uptight, but I don't think that will last very long. And I have, not having met you before I, I don't have any idea what sort of concerns or issues you want to bring up, but I'd be glad to hear whatever you want to say.</b>"
      ],
      "text/plain": [
       "<IPython.core.display.HTML object>"
      ]
     },
     "metadata": {
      "tags": []
     },
     "output_type": "display_data"
    },
    {
     "data": {
      "text/html": [
       "Client: I'm not quite sure where to begin.</p>"
      ],
      "text/plain": [
       "<IPython.core.display.HTML object>"
      ]
     },
     "metadata": {
      "tags": []
     },
     "output_type": "display_data"
    },
    {
     "data": {
      "text/html": [
       "<p><b>Therapist: Uhm, hmm.</b>"
      ],
      "text/plain": [
       "<IPython.core.display.HTML object>"
      ]
     },
     "metadata": {
      "tags": []
     },
     "output_type": "display_data"
    },
    {
     "data": {
      "text/html": [
       "Client: But, uh, some of my concerns are, um, I've become very much aware since my husband was killed last December, um, my own feelings of aloneness.</p>"
      ],
      "text/plain": [
       "<IPython.core.display.HTML object>"
      ]
     },
     "metadata": {
      "tags": []
     },
     "output_type": "display_data"
    },
    {
     "data": {
      "text/html": [
       "<p><b>Therapist: Uhm, hmm.</b>"
      ],
      "text/plain": [
       "<IPython.core.display.HTML object>"
      ]
     },
     "metadata": {
      "tags": []
     },
     "output_type": "display_data"
    },
    {
     "data": {
      "text/html": [
       "Client: And I don't think it’s directly related to his death because we had been separated for about four years before he was killed. And I, I became aware that, after he died especially, that he was really very important in my life. I was kind of using him as a shield against going out and having other relationships. And now he’s gone and I can't use that anymore. And I feel very, very frightened of new male relationships.</p>"
      ],
      "text/plain": [
       "<IPython.core.display.HTML object>"
      ]
     },
     "metadata": {
      "tags": []
     },
     "output_type": "display_data"
    },
    {
     "data": {
      "text/html": [
       "<p><b>Therapist: So in some way his, his death, uh, really made you aware of the fear you have of, of new relationships, especially with men.</b>"
      ],
      "text/plain": [
       "<IPython.core.display.HTML object>"
      ]
     },
     "metadata": {
      "tags": []
     },
     "output_type": "display_data"
    },
    {
     "data": {
      "text/html": [
       "Client: Right, right. Definitely, I didn't have him. I didn't have that to hide behind anymore. And, uh, I had a tremendous feeling of loss when he died because I did care for him. But, um, in going out with other men lately, I just have this feeling of, uh, it's very strange. I'm very uncomfortable.</p>"
      ],
      "text/plain": [
       "<IPython.core.display.HTML object>"
      ]
     },
     "metadata": {
      "tags": []
     },
     "output_type": "display_data"
    },
    {
     "data": {
      "text/html": [
       "<p><b>Therapist: So that, the feeling you have is something more than just the loss of him. It's a different feeling, a fee1ing of uneasy or scared or unsure.</b>"
      ],
      "text/plain": [
       "<IPython.core.display.HTML object>"
      ]
     },
     "metadata": {
      "tags": []
     },
     "output_type": "display_data"
    },
    {
     "data": {
      "text/html": [
       "Client: Yes. For a long time I didn't feel like going out and that was fine. I was going through my loss of him, but that was all right. I didn’t push it or anything. But just recently I started going out and I've been aware for years of how lonely, I have been very, very lonely. I haven't been dating very much for the last four years, mostly just working and taking care of the kids. And um, I think I'm keeping myself in kind of a no-win situation where I'm really lonely. And yet it's kind of like I'm keeping myself there because I've got a guard around me, and I'd kind of like to break out of that.</p>"
      ],
      "text/plain": [
       "<IPython.core.display.HTML object>"
      ]
     },
     "metadata": {
      "tags": []
     },
     "output_type": "display_data"
    },
    {
     "data": {
      "text/html": [
       "<p><b>Therapist: It’s as though you're in some way sort of responsible for your loneliness.</b>"
      ],
      "text/plain": [
       "<IPython.core.display.HTML object>"
      ]
     },
     "metadata": {
      "tags": []
     },
     "output_type": "display_data"
    },
    {
     "data": {
      "text/html": [
       "Client: Yes, I know that. I'm very… I am.</p>"
      ],
      "text/plain": [
       "<IPython.core.display.HTML object>"
      ]
     },
     "metadata": {
      "tags": []
     },
     "output_type": "display_data"
    },
    {
     "data": {
      "text/html": [
       "<p><b>Therapist: And that's something you'd like to break out of that shell, or that safeguard that you've been hiding behind.</b>"
      ],
      "text/plain": [
       "<IPython.core.display.HTML object>"
      ]
     },
     "metadata": {
      "tags": []
     },
     "output_type": "display_data"
    },
    {
     "data": {
      "text/html": [
       "Client: Part of me does.</p>"
      ],
      "text/plain": [
       "<IPython.core.display.HTML object>"
      ]
     },
     "metadata": {
      "tags": []
     },
     "output_type": "display_data"
    },
    {
     "data": {
      "text/html": [
       "<p><b>Therapist: Part of you does. Ok, ok.</b>"
      ],
      "text/plain": [
       "<IPython.core.display.HTML object>"
      ]
     },
     "metadata": {
      "tags": []
     },
     "output_type": "display_data"
    },
    {
     "data": {
      "text/html": [
       "Client: Part of me says, “No way”.</p>"
      ],
      "text/plain": [
       "<IPython.core.display.HTML object>"
      ]
     },
     "metadata": {
      "tags": []
     },
     "output_type": "display_data"
    },
    {
     "data": {
      "text/html": [
       "<p><b>Therapist: So it really is a very ambivalent, two-way thing. (C takes a breath) I suspect it's been pretty comfortable, um, behind that safeguard; it's more of risk if you break out. Is that part of it?</b>"
      ],
      "text/plain": [
       "<IPython.core.display.HTML object>"
      ]
     },
     "metadata": {
      "tags": []
     },
     "output_type": "display_data"
    },
    {
     "data": {
      "text/html": [
       "Client: I, I can almost, well I was going to say I can almost go back to the point where I really built up that safeguard in me when my marriage was going bad. Over five years ago and I could feel myself, and I know I did, I withdrew and I’ve been withdrawn ever since. It's kind of like, “No more. I don't want any more hurt.” So…</p>"
      ],
      "text/plain": [
       "<IPython.core.display.HTML object>"
      ]
     },
     "metadata": {
      "tags": []
     },
     "output_type": "display_data"
    },
    {
     "data": {
      "text/html": [
       "<p><b>Therapist: Uhm, hmm, it's just too damn risky, taking the possibility of being hurt again. And you've withdrawn from that for a long time.</b>"
      ],
      "text/plain": [
       "<IPython.core.display.HTML object>"
      ]
     },
     "metadata": {
      "tags": []
     },
     "output_type": "display_data"
    },
    {
     "data": {
      "text/html": [
       "Client: Uhm, hmm. See, and I've been aware of this for a long time too, but I never go beyond the awareness level.</p>"
      ],
      "text/plain": [
       "<IPython.core.display.HTML object>"
      ]
     },
     "metadata": {
      "tags": []
     },
     "output_type": "display_data"
    },
    {
     "data": {
      "text/html": [
       "<p><b>Therapist: So that the knowledge isn't new, it's the um, question of what you do about it.</b>"
      ],
      "text/plain": [
       "<IPython.core.display.HTML object>"
      ]
     },
     "metadata": {
      "tags": []
     },
     "output_type": "display_data"
    },
    {
     "data": {
      "text/html": [
       "Client: That's right, that's right. How can one stay safe and still be open?</p>"
      ],
      "text/plain": [
       "<IPython.core.display.HTML object>"
      ]
     },
     "metadata": {
      "tags": []
     },
     "output_type": "display_data"
    },
    {
     "data": {
      "text/html": [
       "<p><b>Therapist: The way you shake your head makes me feel, “I don't see any way.”</b>"
      ],
      "text/plain": [
       "<IPython.core.display.HTML object>"
      ]
     },
     "metadata": {
      "tags": []
     },
     "output_type": "display_data"
    },
    {
     "data": {
      "text/html": [
       "Client: I don't, I really don’t. If I did, maybe I probably would have done it a long time ago, but I don't.</p>"
      ],
      "text/plain": [
       "<IPython.core.display.HTML object>"
      ]
     },
     "metadata": {
      "tags": []
     },
     "output_type": "display_data"
    },
    {
     "data": {
      "text/html": [
       "<p><b>Therapist: Just seems kind of unbearable to, to be, open with a person and yet feel safe.</b>"
      ],
      "text/plain": [
       "<IPython.core.display.HTML object>"
      ]
     },
     "metadata": {
      "tags": []
     },
     "output_type": "display_data"
    },
    {
     "data": {
      "text/html": [
       "Client: I, I think I'm a pretty open person to begin with. And uh, everything is fine in a relationship as long as the focus does not turn onto me.</p>"
      ],
      "text/plain": [
       "<IPython.core.display.HTML object>"
      ]
     },
     "metadata": {
      "tags": []
     },
     "output_type": "display_data"
    },
    {
     "data": {
      "text/html": [
       "<p><b>Therapist: I see, I see. If you can keep the focus on the other person you're ok.</b>"
      ],
      "text/plain": [
       "<IPython.core.display.HTML object>"
      ]
     },
     "metadata": {
      "tags": []
     },
     "output_type": "display_data"
    },
    {
     "data": {
      "text/html": [
       "Client: That's right. And the focus on me up to a certain level, but not in the romantic kind of a way. A friendship, I would value that.</p>"
      ],
      "text/plain": [
       "<IPython.core.display.HTML object>"
      ]
     },
     "metadata": {
      "tags": []
     },
     "output_type": "display_data"
    },
    {
     "data": {
      "text/html": [
       "<p><b>Therapist: But love, you want to, keep that at arms length.</b>"
      ],
      "text/plain": [
       "<IPython.core.display.HTML object>"
      ]
     },
     "metadata": {
      "tags": []
     },
     "output_type": "display_data"
    },
    {
     "data": {
      "text/html": [
       "Client: But you know, that's important though, because um, if a person doesn't want to really be your friend, how can you have them for a lover?</p>"
      ],
      "text/plain": [
       "<IPython.core.display.HTML object>"
      ]
     },
     "metadata": {
      "tags": []
     },
     "output_type": "display_data"
    },
    {
     "data": {
      "text/html": [
       "<p><b>Therapist: Uhm, hmm.</b>"
      ],
      "text/plain": [
       "<IPython.core.display.HTML object>"
      ]
     },
     "metadata": {
      "tags": []
     },
     "output_type": "display_data"
    },
    {
     "data": {
      "text/html": [
       "Client: No way.</p>"
      ],
      "text/plain": [
       "<IPython.core.display.HTML object>"
      ]
     },
     "metadata": {
      "tags": []
     },
     "output_type": "display_data"
    },
    {
     "data": {
      "text/html": [
       "<p><b>Therapist: Not quite sure I get that. You mean friendship is a necessary first step, is that what you're saying, or…</b>"
      ],
      "text/plain": [
       "<IPython.core.display.HTML object>"
      ]
     },
     "metadata": {
      "tags": []
     },
     "output_type": "display_data"
    },
    {
     "data": {
      "text/html": [
       "Client: It is for me.</p>"
      ],
      "text/plain": [
       "<IPython.core.display.HTML object>"
      ]
     },
     "metadata": {
      "tags": []
     },
     "output_type": "display_data"
    },
    {
     "data": {
      "text/html": [
       "<p><b>Therapist: Yeah. (Long pause)</b>"
      ],
      "text/plain": [
       "<IPython.core.display.HTML object>"
      ]
     },
     "metadata": {
      "tags": []
     },
     "output_type": "display_data"
    },
    {
     "data": {
      "text/html": [
       "Client: We've gotten to the point where I won't go beyond.</p>"
      ],
      "text/plain": [
       "<IPython.core.display.HTML object>"
      ]
     },
     "metadata": {
      "tags": []
     },
     "output_type": "display_data"
    },
    {
     "data": {
      "text/html": [
       "<p><b>Therapist: Uhm, hmm, that's what I was sort of thinking. You've thought your way this far, but then where do you…</b>"
      ],
      "text/plain": [
       "<IPython.core.display.HTML object>"
      ]
     },
     "metadata": {
      "tags": []
     },
     "output_type": "display_data"
    },
    {
     "data": {
      "text/html": [
       "Client: I've laid the cards out and that's all I want to play.</p>"
      ],
      "text/plain": [
       "<IPython.core.display.HTML object>"
      ]
     },
     "metadata": {
      "tags": []
     },
     "output_type": "display_data"
    },
    {
     "data": {
      "text/html": [
       "<p><b>Therapist: So that, in this relationship it's like in your other relationships.</b>"
      ],
      "text/plain": [
       "<IPython.core.display.HTML object>"
      ]
     },
     "metadata": {
      "tags": []
     },
     "output_type": "display_data"
    },
    {
     "data": {
      "text/html": [
       "Client: That's right.</p>"
      ],
      "text/plain": [
       "<IPython.core.display.HTML object>"
      ]
     },
     "metadata": {
      "tags": []
     },
     "output_type": "display_data"
    },
    {
     "data": {
      "text/html": [
       "<p><b>Therapist: It goes so far and then, “Let's stop. That's as far as I want to go.” (Pause) (C: Hmm.) If you go any further, there's a risk, isn't it?</b>"
      ],
      "text/plain": [
       "<IPython.core.display.HTML object>"
      ]
     },
     "metadata": {
      "tags": []
     },
     "output_type": "display_data"
    },
    {
     "data": {
      "text/html": [
       "Client: Yes, it is.</p>"
      ],
      "text/plain": [
       "<IPython.core.display.HTML object>"
      ]
     },
     "metadata": {
      "tags": []
     },
     "output_type": "display_data"
    },
    {
     "data": {
      "text/html": [
       "<p><b>Therapist: And I think your eyes tell me you're feeling that risk right now. (Pause)</b>"
      ],
      "text/plain": [
       "<IPython.core.display.HTML object>"
      ]
     },
     "metadata": {
      "tags": []
     },
     "output_type": "display_data"
    },
    {
     "data": {
      "text/html": [
       "Client: So here I am. (Pause) I feel like saying to myself, “Well you got this far. It's not so bad.” (Laughter) It's all right; I make the best out of it.</p>"
      ],
      "text/plain": [
       "<IPython.core.display.HTML object>"
      ]
     },
     "metadata": {
      "tags": []
     },
     "output_type": "display_data"
    },
    {
     "data": {
      "text/html": [
       "<p><b>Therapist: It's all right up to this point.</b>"
      ],
      "text/plain": [
       "<IPython.core.display.HTML object>"
      ]
     },
     "metadata": {
      "tags": []
     },
     "output_type": "display_data"
    },
    {
     "data": {
      "text/html": [
       "Client: Yeah, right.</p>"
      ],
      "text/plain": [
       "<IPython.core.display.HTML object>"
      ]
     },
     "metadata": {
      "tags": []
     },
     "output_type": "display_data"
    },
    {
     "data": {
      "text/html": [
       "<p><b>Therapist: So let’s laugh it off.</b>"
      ],
      "text/plain": [
       "<IPython.core.display.HTML object>"
      ]
     },
     "metadata": {
      "tags": []
     },
     "output_type": "display_data"
    },
    {
     "data": {
      "text/html": [
       "Client: Yeah, make a joke. Talk about something else.</p>"
      ],
      "text/plain": [
       "<IPython.core.display.HTML object>"
      ]
     },
     "metadata": {
      "tags": []
     },
     "output_type": "display_data"
    },
    {
     "data": {
      "text/html": [
       "<p><b>Therapist: Could, very easy to run away from yourself.</b>"
      ],
      "text/plain": [
       "<IPython.core.display.HTML object>"
      ]
     },
     "metadata": {
      "tags": []
     },
     "output_type": "display_data"
    },
    {
     "data": {
      "text/html": [
       "Client: See, but that's it. I made a bargain with myself. There's two parts: the part that understands and it’s all right, and the other part that's scared silly. But the part that understands isn’t going to force the part that's scared. When it’s safe enough, I'll be kind to myself.</p>"
      ],
      "text/plain": [
       "<IPython.core.display.HTML object>"
      ]
     },
     "metadata": {
      "tags": []
     },
     "output_type": "display_data"
    },
    {
     "data": {
      "text/html": [
       "<p><b>Therapist: And let the scared part come out when, when you’re ready for it, when…</b>"
      ],
      "text/plain": [
       "<IPython.core.display.HTML object>"
      ]
     },
     "metadata": {
      "tags": []
     },
     "output_type": "display_data"
    },
    {
     "data": {
      "text/html": [
       "Client: When the scared part feels ready. It’s as if part of me is in a cave away from the rest of the world. But it cert-, I certainly can't come out of that cave, unless I know that it’s all right, that there won't be a lot of pain to greet me. What's the sense in coming out? So it’s up to the best of me to make sure that there are nurturing people around me.</p>"
      ],
      "text/plain": [
       "<IPython.core.display.HTML object>"
      ]
     },
     "metadata": {
      "tags": []
     },
     "output_type": "display_data"
    },
    {
     "data": {
      "text/html": [
       "<p><b>Therapist: And when you feel safe enough, either in this relationship or with other people, then you can let yourself come out of the cave and let the scared part of you emerge.</b>"
      ],
      "text/plain": [
       "<IPython.core.display.HTML object>"
      ]
     },
     "metadata": {
      "tags": []
     },
     "output_type": "display_data"
    },
    {
     "data": {
      "text/html": [
       "Client: That's right. That's why, that's why I value the friendships with men and with other people. I don't care for the rest. Not to say that I don't need it, I do, but I need the friendship, and the safety and the security of that first. I, um, took a trip not too long ago and I met a man that I had known years and years ago, only very briefly. And I met him again I went out with him. And he was such a lovely person, such a kind person, and a very ... a very good person. Anyway, it was in the mountains and as I was driving home from his, um, his home, looking at the mountains, I, I had this feeling. It’s kind of funny, I haven't read the Carlos Castaneda books, but I know the concept of the third eye. And I was feeling as I was driving through those mountains that, “Now it’s all right for my third eye to come out, and to be able to perceive.” And I felt so good. But when I came back home, I've kind of busied myself with woodworking, and the house, and that kind of thing. And I'm kind of back in the same environment, in the same predicament. But I know that I, I consciously at times choose between focusing in on things and not.</p>"
      ],
      "text/plain": [
       "<IPython.core.display.HTML object>"
      ]
     },
     "metadata": {
      "tags": []
     },
     "output_type": "display_data"
    },
    {
     "data": {
      "text/html": [
       "<p><b>Therapist: I'm, I'm really interested in that experience, when you were away from him, then there was just a little while, when it felt safe. And you could perceive…</b>"
      ],
      "text/plain": [
       "<IPython.core.display.HTML object>"
      ]
     },
     "metadata": {
      "tags": []
     },
     "output_type": "display_data"
    },
    {
     "data": {
      "text/html": [
       "Client: When I was driving.</p>"
      ],
      "text/plain": [
       "<IPython.core.display.HTML object>"
      ]
     },
     "metadata": {
      "tags": []
     },
     "output_type": "display_data"
    },
    {
     "data": {
      "text/html": [
       "<p><b>Therapist: Yeah, when you were driving and you could perceive yourself and the whole situation, I guess.</b>"
      ],
      "text/plain": [
       "<IPython.core.display.HTML object>"
      ]
     },
     "metadata": {
      "tags": []
     },
     "output_type": "display_data"
    },
    {
     "data": {
      "text/html": [
       "Client: I could perceive, it doesn’t have much to, it did have to do with him, but I could perceive myself, and my closed-offedness. And at that time I was open, and I had that perception of myself and that awareness that I had been closed. And that, when I was driving through that canyon I was feeling very open and now I could have my understanding, and it was a1l right.</p>"
      ],
      "text/plain": [
       "<IPython.core.display.HTML object>"
      ]
     },
     "metadata": {
      "tags": []
     },
     "output_type": "display_data"
    },
    {
     "data": {
      "text/html": [
       "<p><b>Therapist: You let yourself for that time come out of the cave.</b>"
      ],
      "text/plain": [
       "<IPython.core.display.HTML object>"
      ]
     },
     "metadata": {
      "tags": []
     },
     "output_type": "display_data"
    },
    {
     "data": {
      "text/html": [
       "Client: Yeah, yes, it was great. And then he came to see me. He flew in to see me a couple of weeks ago. And um, I felt, see I was aware I had this memory of that opening up and so I felt more guarded.</p>"
      ],
      "text/plain": [
       "<IPython.core.display.HTML object>"
      ]
     },
     "metadata": {
      "tags": []
     },
     "output_type": "display_data"
    },
    {
     "data": {
      "text/html": [
       "<p><b>Therapist: Ah, is that right.</b>"
      ],
      "text/plain": [
       "<IPython.core.display.HTML object>"
      ]
     },
     "metadata": {
      "tags": []
     },
     "output_type": "display_data"
    },
    {
     "data": {
      "text/html": [
       "Client: But kind of slowly unpeeling layers, or slowing coming up.</p>"
      ],
      "text/plain": [
       "<IPython.core.display.HTML object>"
      ]
     },
     "metadata": {
      "tags": []
     },
     "output_type": "display_data"
    },
    {
     "data": {
      "text/html": [
       "<p><b>Therapist: But somehow, having, having come out of the cave, you were afraid you might come out of the cave too easily.</b>"
      ],
      "text/plain": [
       "<IPython.core.display.HTML object>"
      ]
     },
     "metadata": {
      "tags": []
     },
     "output_type": "display_data"
    },
    {
     "data": {
      "text/html": [
       "Client: Too, yeah that's right, that's right.</p>"
      ],
      "text/plain": [
       "<IPython.core.display.HTML object>"
      ]
     },
     "metadata": {
      "tags": []
     },
     "output_type": "display_data"
    },
    {
     "data": {
      "text/html": [
       "<p><b>Therapist: “So, watch out, be careful”.</b>"
      ],
      "text/plain": [
       "<IPython.core.display.HTML object>"
      ]
     },
     "metadata": {
      "tags": []
     },
     "output_type": "display_data"
    },
    {
     "data": {
      "text/html": [
       "Client: That's right.</p>"
      ],
      "text/plain": [
       "<IPython.core.display.HTML object>"
      ]
     },
     "metadata": {
      "tags": []
     },
     "output_type": "display_data"
    },
    {
     "data": {
      "text/html": [
       "<p><b>Therapist: You sound like a very tender, vulnerable part of you that lives in that cave.</b>"
      ],
      "text/plain": [
       "<IPython.core.display.HTML object>"
      ]
     },
     "metadata": {
      "tags": []
     },
     "output_type": "display_data"
    },
    {
     "data": {
      "text/html": [
       "Client: I think my most tender part. (C cries)</p>"
      ],
      "text/plain": [
       "<IPython.core.display.HTML object>"
      ]
     },
     "metadata": {
      "tags": []
     },
     "output_type": "display_data"
    },
    {
     "data": {
      "text/html": [
       "<p><b>Therapist: Your most?</b>"
      ],
      "text/plain": [
       "<IPython.core.display.HTML object>"
      ]
     },
     "metadata": {
      "tags": []
     },
     "output_type": "display_data"
    },
    {
     "data": {
      "text/html": [
       "Client: My most tender part.</p>"
      ],
      "text/plain": [
       "<IPython.core.display.HTML object>"
      ]
     },
     "metadata": {
      "tags": []
     },
     "output_type": "display_data"
    },
    {
     "data": {
      "text/html": [
       "<p><b>Therapist: Your most tender part. Uhm, hmm. Uhm, hmm. Uhm, hmm. It's really a very precious part of you that you keep in the cave</b>"
      ],
      "text/plain": [
       "<IPython.core.display.HTML object>"
      ]
     },
     "metadata": {
      "tags": []
     },
     "output_type": "display_data"
    },
    {
     "data": {
      "text/html": [
       "Client: (C takes long breath) I, for a long, long time, I’ve had the feeling of hopelessness of ever coming out. And do you know life is an existence without all of you…</p>"
      ],
      "text/plain": [
       "<IPython.core.display.HTML object>"
      ]
     },
     "metadata": {
      "tags": []
     },
     "output_type": "display_data"
    },
    {
     "data": {
      "text/html": [
       "<p><b>Therapist: Without?</b>"
      ],
      "text/plain": [
       "<IPython.core.display.HTML object>"
      ]
     },
     "metadata": {
      "tags": []
     },
     "output_type": "display_data"
    },
    {
     "data": {
      "text/html": [
       "Client: …all of you.</p>"
      ],
      "text/plain": [
       "<IPython.core.display.HTML object>"
      ]
     },
     "metadata": {
      "tags": []
     },
     "output_type": "display_data"
    },
    {
     "data": {
      "text/html": [
       "<p><b>Therapist: Yeah, I see.</b>"
      ],
      "text/plain": [
       "<IPython.core.display.HTML object>"
      ]
     },
     "metadata": {
      "tags": []
     },
     "output_type": "display_data"
    },
    {
     "data": {
      "text/html": [
       "Client: Right.</p>"
      ],
      "text/plain": [
       "<IPython.core.display.HTML object>"
      ]
     },
     "metadata": {
      "tags": []
     },
     "output_type": "display_data"
    },
    {
     "data": {
      "text/html": [
       "<p><b>Therapist: So, you, the hopelessness, I gather is because you know you're not living with all of you. Part of you you're keeping well hidden.</b>"
      ],
      "text/plain": [
       "<IPython.core.display.HTML object>"
      ]
     },
     "metadata": {
      "tags": []
     },
     "output_type": "display_data"
    },
    {
     "data": {
      "text/html": [
       "Client: That's right.</p>"
      ],
      "text/plain": [
       "<IPython.core.display.HTML object>"
      ]
     },
     "metadata": {
      "tags": []
     },
     "output_type": "display_data"
    },
    {
     "data": {
      "text/html": [
       "<p><b>Therapist: Well guarded. And it isn't really living, unless you can live it with all of you.</b>"
      ],
      "text/plain": [
       "<IPython.core.display.HTML object>"
      ]
     },
     "metadata": {
      "tags": []
     },
     "output_type": "display_data"
    },
    {
     "data": {
      "text/html": [
       "Client: That's right, it's just doing things, just doing things. The part that, you know, that I consciously avoid are the arts. The things that I love, music, theater, paintings, that kind of thing.</p>"
      ],
      "text/plain": [
       "<IPython.core.display.HTML object>"
      ]
     },
     "metadata": {
      "tags": []
     },
     "output_type": "display_data"
    },
    {
     "data": {
      "text/html": [
       "<p><b>Therapist: Those are the things that touch your feelings.</b>"
      ],
      "text/plain": [
       "<IPython.core.display.HTML object>"
      ]
     },
     "metadata": {
      "tags": []
     },
     "output_type": "display_data"
    },
    {
     "data": {
      "text/html": [
       "Client: I don’t get to the core.</p>"
      ],
      "text/plain": [
       "<IPython.core.display.HTML object>"
      ]
     },
     "metadata": {
      "tags": []
     },
     "output_type": "display_data"
    },
    {
     "data": {
      "text/html": [
       "<p><b>Therapist: Ok, things that touch your feelings or touch the core of you, those you want to stay away from.</b>"
      ],
      "text/plain": [
       "<IPython.core.display.HTML object>"
      ]
     },
     "metadata": {
      "tags": []
     },
     "output_type": "display_data"
    },
    {
     "data": {
      "text/html": [
       "Client: That's right.</p>"
      ],
      "text/plain": [
       "<IPython.core.display.HTML object>"
      ]
     },
     "metadata": {
      "tags": []
     },
     "output_type": "display_data"
    },
    {
     "data": {
      "text/html": [
       "<p><b>Therapist: They got, they get too close, too close to this very tender part of you.</b>"
      ],
      "text/plain": [
       "<IPython.core.display.HTML object>"
      ]
     },
     "metadata": {
      "tags": []
     },
     "output_type": "display_data"
    },
    {
     "data": {
      "text/html": [
       "Client: (Pause) I’ve reached another stop.</p>"
      ],
      "text/plain": [
       "<IPython.core.display.HTML object>"
      ]
     },
     "metadata": {
      "tags": []
     },
     "output_type": "display_data"
    },
    {
     "data": {
      "text/html": [
       "<p><b>Therapist: Uhm, hmm, but you felt safe enough to let out a little bit more and now it’s come to another stop.</b>"
      ],
      "text/plain": [
       "<IPython.core.display.HTML object>"
      ]
     },
     "metadata": {
      "tags": []
     },
     "output_type": "display_data"
    },
    {
     "data": {
      "text/html": [
       "Client: (Pause) I have to give equal time to all of my dimensions. We just have, I just felt, you know, in touch with my vulnerability, but now I’m feeling angry.</p>"
      ],
      "text/plain": [
       "<IPython.core.display.HTML object>"
      ]
     },
     "metadata": {
      "tags": []
     },
     "output_type": "display_data"
    },
    {
     "data": {
      "text/html": [
       "<p><b>Therapist: Ok.</b>"
      ],
      "text/plain": [
       "<IPython.core.display.HTML object>"
      ]
     },
     "metadata": {
      "tags": []
     },
     "output_type": "display_data"
    },
    {
     "data": {
      "text/html": [
       "Client: Like, “It’s none of your business…”</p>"
      ],
      "text/plain": [
       "<IPython.core.display.HTML object>"
      ]
     },
     "metadata": {
      "tags": []
     },
     "output_type": "display_data"
    },
    {
     "data": {
      "text/html": [
       "<p><b>Therapist: Uhm, hmm.</b>"
      ],
      "text/plain": [
       "<IPython.core.display.HTML object>"
      ]
     },
     "metadata": {
      "tags": []
     },
     "output_type": "display_data"
    },
    {
     "data": {
      "text/html": [
       "Client: …what I'm feeling.</p>"
      ],
      "text/plain": [
       "<IPython.core.display.HTML object>"
      ]
     },
     "metadata": {
      "tags": []
     },
     "output_type": "display_data"
    },
    {
     "data": {
      "text/html": [
       "<p><b>Therapist: Uhm, hmm, what am I doing getting that close to the vulnerable part of you? “Damn it, stay away.”</b>"
      ],
      "text/plain": [
       "<IPython.core.display.HTML object>"
      ]
     },
     "metadata": {
      "tags": []
     },
     "output_type": "display_data"
    },
    {
     "data": {
      "text/html": [
       "Client: That’s right, that’s right. What do you want to do that for?</p>"
      ],
      "text/plain": [
       "<IPython.core.display.HTML object>"
      ]
     },
     "metadata": {
      "tags": []
     },
     "output_type": "display_data"
    },
    {
     "data": {
      "text/html": [
       "<p><b>Therapist: Uhm, hmm. Uhm, hmm.</b>"
      ],
      "text/plain": [
       "<IPython.core.display.HTML object>"
      ]
     },
     "metadata": {
      "tags": []
     },
     "output_type": "display_data"
    },
    {
     "data": {
      "text/html": [
       "Client: You've got other things to do. (C laughs)</p>"
      ],
      "text/plain": [
       "<IPython.core.display.HTML object>"
      ]
     },
     "metadata": {
      "tags": []
     },
     "output_type": "display_data"
    },
    {
     "data": {
      "text/html": [
       "<p><b>Therapist: So you’re putting up all kinds of guards against me, and striking out, “What the hell are you doing”, and, “getting so close to the vulnerable part of me, why don’t you go do something else”, hmm?</b>"
      ],
      "text/plain": [
       "<IPython.core.display.HTML object>"
      ]
     },
     "metadata": {
      "tags": []
     },
     "output_type": "display_data"
    },
    {
     "data": {
      "text/html": [
       "Client: That's the part that keeps me lonely.</p>"
      ],
      "text/plain": [
       "<IPython.core.display.HTML object>"
      ]
     },
     "metadata": {
      "tags": []
     },
     "output_type": "display_data"
    },
    {
     "data": {
      "text/html": [
       "<p><b>Therapist: Uhm, hmm. So that, that pushing away part, that kind of angry, “Get away from me” part, is what keeps you very lonely.</b>"
      ],
      "text/plain": [
       "<IPython.core.display.HTML object>"
      ]
     },
     "metadata": {
      "tags": []
     },
     "output_type": "display_data"
    },
    {
     "data": {
      "text/html": [
       "Client: It's like I don't really trust that I can trust you to know that. I can tell this and that. You may feel a little something about it, but what then? You know, I mean you know, “It's a nice story, so, big deal, something else to do”.</p>"
      ],
      "text/plain": [
       "<IPython.core.display.HTML object>"
      ]
     },
     "metadata": {
      "tags": []
     },
     "output_type": "display_data"
    },
    {
     "data": {
      "text/html": [
       "<p><b>Therapist: What I hear is that, is that you feel that I don’t really care, just a story…</b>"
      ],
      "text/plain": [
       "<IPython.core.display.HTML object>"
      ]
     },
     "metadata": {
      "tags": []
     },
     "output_type": "display_data"
    },
    {
     "data": {
      "text/html": [
       "Client: That's right.</p>"
      ],
      "text/plain": [
       "<IPython.core.display.HTML object>"
      ]
     },
     "metadata": {
      "tags": []
     },
     "output_type": "display_data"
    },
    {
     "data": {
      "text/html": [
       "<p><b>Therapist: Just something… but what if I do …</b>"
      ],
      "text/plain": [
       "<IPython.core.display.HTML object>"
      ]
     },
     "metadata": {
      "tags": []
     },
     "output_type": "display_data"
    },
    {
     "data": {
      "text/html": [
       "Client: You know…</p>"
      ],
      "text/plain": [
       "<IPython.core.display.HTML object>"
      ]
     },
     "metadata": {
      "tags": []
     },
     "output_type": "display_data"
    },
    {
     "data": {
      "text/html": [
       "<p><b>Therapist: But what if I do care.</b>"
      ],
      "text/plain": [
       "<IPython.core.display.HTML object>"
      ]
     },
     "metadata": {
      "tags": []
     },
     "output_type": "display_data"
    },
    {
     "data": {
      "text/html": [
       "Client: (C takes a breath) I want to make a joke and say, \"Aw, go on.\" (C laughs) You know, um, I'm a nurse and, a psychiatric nurse, worked in a psychiatric hospital last year. One of the big things there, the patients got a lot of points if they would talk in group. I mean everybody wants you to talk. You know, the good patient talks. And I thought, you know, anybody can talk. The reason why people don’t talk is not because they can’t talk, it’s because they don't know how people are going to respond. That's where it’s at. So I don’t think the patients were not being good patients. I don't think they were being bad patients because they weren't talking. I think that the staff should have a demerit for not responding. Ok, these patients talked, now how do you respond? Makes it a whole new ballgame.</p>"
      ],
      "text/plain": [
       "<IPython.core.display.HTML object>"
      ]
     },
     "metadata": {
      "tags": []
     },
     "output_type": "display_data"
    },
    {
     "data": {
      "text/html": [
       "<p><b>Therapist: Yeah.</b>"
      ],
      "text/plain": [
       "<IPython.core.display.HTML object>"
      ]
     },
     "metadata": {
      "tags": []
     },
     "output_type": "display_data"
    },
    {
     "data": {
      "text/html": [
       "Client: And so now, I talked. (C laughs)</p>"
      ],
      "text/plain": [
       "<IPython.core.display.HTML object>"
      ]
     },
     "metadata": {
      "tags": []
     },
     "output_type": "display_data"
    },
    {
     "data": {
      "text/html": [
       "<p><b>Therapist: You've earned some points.</b>"
      ],
      "text/plain": [
       "<IPython.core.display.HTML object>"
      ]
     },
     "metadata": {
      "tags": []
     },
     "output_type": "display_data"
    },
    {
     "data": {
      "text/html": [
       "Client: Yeah now I earned my points, that's true. But, um, I think that’s the fear of everyone. It’s not so much revealing themselves, but being cared about. That's my fear. That's my fears after I've revealed myself, “Who cares?”</p>"
      ],
      "text/plain": [
       "<IPython.core.display.HTML object>"
      ]
     },
     "metadata": {
      "tags": []
     },
     "output_type": "display_data"
    },
    {
     "data": {
      "text/html": [
       "<p><b>Therapist: It's uh, when you've let out a tender part of yourself, then it’s damned important to know, “Does this other person care? Does it make any difference?”</b>"
      ],
      "text/plain": [
       "<IPython.core.display.HTML object>"
      ]
     },
     "metadata": {
      "tags": []
     },
     "output_type": "display_data"
    },
    {
     "data": {
      "text/html": [
       "Client: My husband used to say he cared, but it was just words, it was words. He um, I think he cared as much as he could care but, he had so many conflicts inside of himself that he didn't even see me as a person. Didn't even see me. It's not that he didn't want to care. It's that he couldn't, he was too busy with himself. But I understand that. And I understand that with other people, too. But see I just can’t go around revealing myself all the time to people who are just too busy with themselves.</p>"
      ],
      "text/plain": [
       "<IPython.core.display.HTML object>"
      ]
     },
     "metadata": {
      "tags": []
     },
     "output_type": "display_data"
    },
    {
     "data": {
      "text/html": [
       "<p><b>Therapist: Uhm, hmm. You need a response, you need a caring, you need to make a difference to somebody.</b>"
      ],
      "text/plain": [
       "<IPython.core.display.HTML object>"
      ]
     },
     "metadata": {
      "tags": []
     },
     "output_type": "display_data"
    },
    {
     "data": {
      "text/html": [
       "Client: That's it, not to someone who’ll say, \"Oh, well, Kathy, I really care,\" and then I don't see them for a couple of years. Or, \"I'll call you\" and then they never call. You know, when I first split up from my husband, I would go to these different functions, not with a date, but with friends, and meet a man and he'd say, \"I'll call you\". And for a while there I'd be sure that I wasn't home, because I couldn't stand to know if he didn't call. And that way I didn't know if he didn't call, so there was a possibility that he had called. But I wasn't home, so how could I know. So with that, that, that vulnerable I was really in touch with it.</p>"
      ],
      "text/plain": [
       "<IPython.core.display.HTML object>"
      ]
     },
     "metadata": {
      "tags": []
     },
     "output_type": "display_data"
    },
    {
     "data": {
      "text/html": [
       "<p><b>Therapist: It makes so much difference to you to know whether the other person is going to really respond. “When they say they care, do they care?”</b>"
      ],
      "text/plain": [
       "<IPython.core.display.HTML object>"
      ]
     },
     "metadata": {
      "tags": []
     },
     "output_type": "display_data"
    },
    {
     "data": {
      "text/html": [
       "Client: That's right, caring people, will call you, or drop by, “How's it going?”, that kind of thing.</p>"
      ],
      "text/plain": [
       "<IPython.core.display.HTML object>"
      ]
     },
     "metadata": {
      "tags": []
     },
     "output_type": "display_data"
    },
    {
     "data": {
      "text/html": [
       "<p><b>Therapist: And that's not enough?</b>"
      ],
      "text/plain": [
       "<IPython.core.display.HTML object>"
      ]
     },
     "metadata": {
      "tags": []
     },
     "output_type": "display_data"
    },
    {
     "data": {
      "text/html": [
       "Client: No, it would be enough, if they would do that. (C laughs) That'd be just great, that would be just great. I don't think I really want that much from another person. The morsels are fine, but I'm not even getting the morsels.</p>"
      ],
      "text/plain": [
       "<IPython.core.display.HTML object>"
      ]
     },
     "metadata": {
      "tags": []
     },
     "output_type": "display_data"
    },
    {
     "data": {
      "text/html": [
       "<p><b>Therapist: Uhm, hmm, it isn't as though you want a whole meal, it's that…</b>"
      ],
      "text/plain": [
       "<IPython.core.display.HTML object>"
      ]
     },
     "metadata": {
      "tags": []
     },
     "output_type": "display_data"
    },
    {
     "data": {
      "text/html": [
       "Client: Yeah, I mean I could work up to it all right. That's why I think with this friend it was nice. And may have gone back in but I felt myself, come alive a little bit. A little bit of magic had come into my life, and that was nice. And I'd rather not come out all at once and run back in. I'd rather come out bit-by-bit and stay out. But see the thing of it is that, and like we're talking now, a little bit, or I'm thinking about the focus of the relationship, it has to be this male-female kind of thing. And, um, I don't think that what I need to do is to come out and have love, and then, think about a male-female relationship. But I don't know how I can come out too much without a man (C laughs).</p>"
      ],
      "text/plain": [
       "<IPython.core.display.HTML object>"
      ]
     },
     "metadata": {
      "tags": []
     },
     "output_type": "display_data"
    },
    {
     "data": {
      "text/html": [
       "<p><b>Therapist: That's kind of a, contradiction, in a way. A dilemma, it's a dilemma. (T laughs) But you feel what you want first is a relationship with a person, only it helps if it’s a man.</b>"
      ],
      "text/plain": [
       "<IPython.core.display.HTML object>"
      ]
     },
     "metadata": {
      "tags": []
     },
     "output_type": "display_data"
    },
    {
     "data": {
      "text/html": [
       "Client: That's right. It must be a man. Or…</p>"
      ],
      "text/plain": [
       "<IPython.core.display.HTML object>"
      ]
     },
     "metadata": {
      "tags": []
     },
     "output_type": "display_data"
    },
    {
     "data": {
      "text/html": [
       "<p><b>Therapist: It isn't just better if it's a man, it's a necessity.</b>"
      ],
      "text/plain": [
       "<IPython.core.display.HTML object>"
      ]
     },
     "metadata": {
      "tags": []
     },
     "output_type": "display_data"
    },
    {
     "data": {
      "text/html": [
       "Client: It must be a man, that’s right, because that's where my fear is.</p>"
      ],
      "text/plain": [
       "<IPython.core.display.HTML object>"
      ]
     },
     "metadata": {
      "tags": []
     },
     "output_type": "display_data"
    },
    {
     "data": {
      "text/html": [
       "<p><b>Therapist: So that's where you fear is, a fear of a relationship with a man. And yet, you'd like to be able to really come out of the cave first, before it became a man-woman, sexual relationship, or anything like that. Is that what you're saying?</b>"
      ],
      "text/plain": [
       "<IPython.core.display.HTML object>"
      ]
     },
     "metadata": {
      "tags": []
     },
     "output_type": "display_data"
    },
    {
     "data": {
      "text/html": [
       "Client: I'd like to have a caring relationship. And its kind of funny, it's like a little girl wanting a man to take her out of the cave, and, care about. I'll put it back on me, I feel like a little girl. Someone to care about me and to know that I'm comfortable and that I'm all right, and then ask for himself.</p>"
      ],
      "text/plain": [
       "<IPython.core.display.HTML object>"
      ]
     },
     "metadata": {
      "tags": []
     },
     "output_type": "display_data"
    },
    {
     "data": {
      "text/html": [
       "<p><b>Therapist: And then ask?</b>"
      ],
      "text/plain": [
       "<IPython.core.display.HTML object>"
      ]
     },
     "metadata": {
      "tags": []
     },
     "output_type": "display_data"
    },
    {
     "data": {
      "text/html": [
       "Client: For himself, of the relationship.</p>"
      ],
      "text/plain": [
       "<IPython.core.display.HTML object>"
      ]
     },
     "metadata": {
      "tags": []
     },
     "output_type": "display_data"
    },
    {
     "data": {
      "text/html": [
       "<p><b>Therapist: But first, you'd like to have a man come at least to the entrance of the cave and take the hand of you as a little girl and lead you gently out, caring for you. Then maybe, other kinds of things might happen.</b>"
      ],
      "text/plain": [
       "<IPython.core.display.HTML object>"
      ]
     },
     "metadata": {
      "tags": []
     },
     "output_type": "display_data"
    },
    {
     "data": {
      "text/html": [
       "Client: (Pause) The little girl is the non-sexual, being. That's right, “Don't use me sexually first. And then if you like it good enough, keep coming back.” That's what I don't want.</p>"
      ],
      "text/plain": [
       "<IPython.core.display.HTML object>"
      ]
     },
     "metadata": {
      "tags": []
     },
     "output_type": "display_data"
    },
    {
     "data": {
      "text/html": [
       "<p><b>Therapist: The little girl, the little girl will grow up if you care enough, for her.</b>"
      ],
      "text/plain": [
       "<IPython.core.display.HTML object>"
      ]
     },
     "metadata": {
      "tags": []
     },
     "output_type": "display_data"
    },
    {
     "data": {
      "text/html": [
       "Client: That's right, and can respond as a woman, if the other is there.</p>"
      ],
      "text/plain": [
       "<IPython.core.display.HTML object>"
      ]
     },
     "metadata": {
      "tags": []
     },
     "output_type": "display_data"
    },
    {
     "data": {
      "text/html": [
       "<p><b>Therapist: Can you tell him that? Could you tell him that?</b>"
      ],
      "text/plain": [
       "<IPython.core.display.HTML object>"
      ]
     },
     "metadata": {
      "tags": []
     },
     "output_type": "display_data"
    },
    {
     "data": {
      "text/html": [
       "Client: I'm confused, do I tell one man that, or is that what I…</p>"
      ],
      "text/plain": [
       "<IPython.core.display.HTML object>"
      ]
     },
     "metadata": {
      "tags": []
     },
     "output_type": "display_data"
    },
    {
     "data": {
      "text/html": [
       "<p><b>Therapist: I was thinking of this, this one man.</b>"
      ],
      "text/plain": [
       "<IPython.core.display.HTML object>"
      ]
     },
     "metadata": {
      "tags": []
     },
     "output_type": "display_data"
    },
    {
     "data": {
      "text/html": [
       "Client: Oh, this individual.</p>"
      ],
      "text/plain": [
       "<IPython.core.display.HTML object>"
      ]
     },
     "metadata": {
      "tags": []
     },
     "output_type": "display_data"
    },
    {
     "data": {
      "text/html": [
       "<p><b>Therapist: Uhm, hmm.</b>"
      ],
      "text/plain": [
       "<IPython.core.display.HTML object>"
      ]
     },
     "metadata": {
      "tags": []
     },
     "output_type": "display_data"
    },
    {
     "data": {
      "text/html": [
       "Client: Oh, I think I could tell him that, I know I could. But you know, I start putting him down. (T laughs) I know that's just, my sister told me, she said, “That's just because you're scared.” Because I told her the kind of man I would, I thought I would be comfortable with, and he is this kind of person. And then I start telling her all these bad things. And she said, \"Nobody would be perfect. You would do this with anyone, some.\" But with this person I think I could.</p>"
      ],
      "text/plain": [
       "<IPython.core.display.HTML object>"
      ]
     },
     "metadata": {
      "tags": []
     },
     "output_type": "display_data"
    },
    {
     "data": {
      "text/html": [
       "<p><b>Therapist: Maybe you could let him know what you need.</b>"
      ],
      "text/plain": [
       "<IPython.core.display.HTML object>"
      ]
     },
     "metadata": {
      "tags": []
     },
     "output_type": "display_data"
    },
    {
     "data": {
      "text/html": [
       "Client: I'd like to be able to carry that over. I suppose maybe, maybe I'm glossing that over or something, but I'd like to carry it over in my relationships with everyone. To get what I need from the relationship, and not focusing in on the other person. See, I think the way I am I'm the perfect nurse, the perf-, you know, anything for somebody else. And that's fine, focus in on them any time. But on myself, like I'm too scared to do that. Like that's a no-no. But I'd like to be able to do that, focus in on my own needs, first. But I feel kind of selfish when I look at it that way. I fee1 like a taker instead of a giver and that's got a negative, connotation.</p>"
      ],
      "text/plain": [
       "<IPython.core.display.HTML object>"
      ]
     },
     "metadata": {
      "tags": []
     },
     "output_type": "display_data"
    },
    {
     "data": {
      "text/html": [
       "<p><b>Therapist: You're so much a nurse that when you even think of saying, “But I need this for myself.” that seems kind of wrong, selfish.</b>"
      ],
      "text/plain": [
       "<IPython.core.display.HTML object>"
      ]
     },
     "metadata": {
      "tags": []
     },
     "output_type": "display_data"
    },
    {
     "data": {
      "text/html": [
       "Client: “Wait a minute, you're the nurse. What is this?”</p>"
      ],
      "text/plain": [
       "<IPython.core.display.HTML object>"
      ]
     },
     "metadata": {
      "tags": []
     },
     "output_type": "display_data"
    },
    {
     "data": {
      "text/html": [
       "<p><b>Therapist: “You're supposed to be caring for the other person.”</b>"
      ],
      "text/plain": [
       "<IPython.core.display.HTML object>"
      ]
     },
     "metadata": {
      "tags": []
     },
     "output_type": "display_data"
    },
    {
     "data": {
      "text/html": [
       "Client: That's right.</p>"
      ],
      "text/plain": [
       "<IPython.core.display.HTML object>"
      ]
     },
     "metadata": {
      "tags": []
     },
     "output_type": "display_data"
    },
    {
     "data": {
      "text/html": [
       "<p><b>Therapist: But once in a while you realize, “I'd like to care for myself, first.”([Pause)</b>"
      ],
      "text/plain": [
       "<IPython.core.display.HTML object>"
      ]
     },
     "metadata": {
      "tags": []
     },
     "output_type": "display_data"
    },
    {
     "data": {
      "text/html": [
       "Client: Seems awful. (C laughs)</p>"
      ],
      "text/plain": [
       "<IPython.core.display.HTML object>"
      ]
     },
     "metadata": {
      "tags": []
     },
     "output_type": "display_data"
    },
    {
     "data": {
      "text/html": [
       "<p><b>Therapist: Just to say that.</b>"
      ],
      "text/plain": [
       "<IPython.core.display.HTML object>"
      ]
     },
     "metadata": {
      "tags": []
     },
     "output_type": "display_data"
    },
    {
     "data": {
      "text/html": [
       "Client: “You're so naughty, just thinking about it.” (C laughs)</p>"
      ],
      "text/plain": [
       "<IPython.core.display.HTML object>"
      ]
     },
     "metadata": {
      "tags": []
     },
     "output_type": "display_data"
    },
    {
     "data": {
      "text/html": [
       "<p><b>Therapist: Just to say that, seems, “What a selfish person I am.”</b>"
      ],
      "text/plain": [
       "<IPython.core.display.HTML object>"
      ]
     },
     "metadata": {
      "tags": []
     },
     "output_type": "display_data"
    },
    {
     "data": {
      "text/html": [
       "Client: Yeah.</p>"
      ],
      "text/plain": [
       "<IPython.core.display.HTML object>"
      ]
     },
     "metadata": {
      "tags": []
     },
     "output_type": "display_data"
    },
    {
     "data": {
      "text/html": [
       "<p><b>Therapist: “Terrible, awful.”</b>"
      ],
      "text/plain": [
       "<IPython.core.display.HTML object>"
      ]
     },
     "metadata": {
      "tags": []
     },
     "output_type": "display_data"
    },
    {
     "data": {
      "text/html": [
       "Client: I feel wicked, but I enjoy it. I'm enjoying thinking about it.</p>"
      ],
      "text/plain": [
       "<IPython.core.display.HTML object>"
      ]
     },
     "metadata": {
      "tags": []
     },
     "output_type": "display_data"
    },
    {
     "data": {
      "text/html": [
       "<p><b>Therapist: It's fun just to imagine, “I might want something for myself, first.”</b>"
      ],
      "text/plain": [
       "<IPython.core.display.HTML object>"
      ]
     },
     "metadata": {
      "tags": []
     },
     "output_type": "display_data"
    },
    {
     "data": {
      "text/html": [
       "Client: It's really a lovely fantasy to be completely narcissist, completely self-centered, and into pleasure, and into comfort. (C sighs)</p>"
      ],
      "text/plain": [
       "<IPython.core.display.HTML object>"
      ]
     },
     "metadata": {
      "tags": []
     },
     "output_type": "display_data"
    },
    {
     "data": {
      "text/html": [
       "<p><b>Therapist: Just being good to yourself.</b>"
      ],
      "text/plain": [
       "<IPython.core.display.HTML object>"
      ]
     },
     "metadata": {
      "tags": []
     },
     "output_type": "display_data"
    },
    {
     "data": {
      "text/html": [
       "Client: But in a way, you know, in a way I am being good to myself by keep that vulnerable part of me away until it's safe. Because not everybody would be good to you, not everybody would be kind. There are people who would use you up, and not bat an eyelash, and not even think about it.</p>"
      ],
      "text/plain": [
       "<IPython.core.display.HTML object>"
      ]
     },
     "metadata": {
      "tags": []
     },
     "output_type": "display_data"
    },
    {
     "data": {
      "text/html": [
       "<p><b>Therapist: So you have a real respect for your, for your instinct for preserving yourself.</b>"
      ],
      "text/plain": [
       "<IPython.core.display.HTML object>"
      ]
     },
     "metadata": {
      "tags": []
     },
     "output_type": "display_data"
    },
    {
     "data": {
      "text/html": [
       "Client: That's right.</p>"
      ],
      "text/plain": [
       "<IPython.core.display.HTML object>"
      ]
     },
     "metadata": {
      "tags": []
     },
     "output_type": "display_data"
    },
    {
     "data": {
      "text/html": [
       "<p><b>Therapist: You can't trust everyone, not everyone would care. (Pause)</b>"
      ],
      "text/plain": [
       "<IPython.core.display.HTML object>"
      ]
     },
     "metadata": {
      "tags": []
     },
     "output_type": "display_data"
    },
    {
     "data": {
      "text/html": [
       "Client: I was just smiling, I was thinking, but I care.</p>"
      ],
      "text/plain": [
       "<IPython.core.display.HTML object>"
      ]
     },
     "metadata": {
      "tags": []
     },
     "output_type": "display_data"
    },
    {
     "data": {
      "text/html": [
       "<p><b>Therapist: And you say that with a smile, but that's pretty deep too isn't it?</b>"
      ],
      "text/plain": [
       "<IPython.core.display.HTML object>"
      ]
     },
     "metadata": {
      "tags": []
     },
     "output_type": "display_data"
    },
    {
     "data": {
      "text/html": [
       "Client: Uhm, hmm. I do care.</p>"
      ],
      "text/plain": [
       "<IPython.core.display.HTML object>"
      ]
     },
     "metadata": {
      "tags": []
     },
     "output_type": "display_data"
    },
    {
     "data": {
      "text/html": [
       "<p><b>Therapist: “I care for myself”.</b>"
      ],
      "text/plain": [
       "<IPython.core.display.HTML object>"
      ]
     },
     "metadata": {
      "tags": []
     },
     "output_type": "display_data"
    },
    {
     "data": {
      "text/html": [
       "Client: I like caring. I like it. I like caring for myself, and not giving away every part of my, just because some Tom, Dick, or Harry wants it.</p>"
      ],
      "text/plain": [
       "<IPython.core.display.HTML object>"
      ]
     },
     "metadata": {
      "tags": []
     },
     "output_type": "display_data"
    },
    {
     "data": {
      "text/html": [
       "<p><b>Therapist: “I really prize myself, and I'm proud of that. I'm not going to just give myself away.”</b>"
      ],
      "text/plain": [
       "<IPython.core.display.HTML object>"
      ]
     },
     "metadata": {
      "tags": []
     },
     "output_type": "display_data"
    },
    {
     "data": {
      "text/html": [
       "Client: That's right. It's nice to have that feeling of caring for myself, that's good. But you know since Dick died, I was thinking, I could die tomorrow. Any of us could, and, I'm missing, I want to have more. I don't want to just care for myself, I want to, I want to be able to care for myself and at the same time be able to take in life more. But I'm not doing, see I've closed it off, if I could figure out some way of doing that, then, you're smiling (C laughs), so that'd be just great.</p>"
      ],
      "text/plain": [
       "<IPython.core.display.HTML object>"
      ]
     },
     "metadata": {
      "tags": []
     },
     "output_type": "display_data"
    },
    {
     "data": {
      "text/html": [
       "<p><b>Therapist: To be able to care for yourself, and yet open yourself up to life, and somehow that also tied up with the realization that, “You know, death will come one day.” You'd like to live before you die.</b>"
      ],
      "text/plain": [
       "<IPython.core.display.HTML object>"
      ]
     },
     "metadata": {
      "tags": []
     },
     "output_type": "display_data"
    },
    {
     "data": {
      "text/html": [
       "Client: That's right, I want, I saw a card one time that said, “Born, and then died.” And you open it up and it says, \"In between, he lived\" or something like that. That's what I would like for myself, a little life in between the born and the death, a little more life, and pleasure. See that's what I'm missing. Deep down inside is the, pleasure, experience of pleasure and joy, those kinds of experiences. I've been happy. I have fun. I do enjoy my children, but it's on a limited level.</p>"
      ],
      "text/plain": [
       "<IPython.core.display.HTML object>"
      ]
     },
     "metadata": {
      "tags": []
     },
     "output_type": "display_data"
    },
    {
     "data": {
      "text/html": [
       "<p><b>Therapist: You don't really open yourself to joy. I guess fun, yes sure.</b>"
      ],
      "text/plain": [
       "<IPython.core.display.HTML object>"
      ]
     },
     "metadata": {
      "tags": []
     },
     "output_type": "display_data"
    },
    {
     "data": {
      "text/html": [
       "Client: But joy is on a deeper level, you see, so… I want to say, \"But how've you been lately?\" (C laughs).</p>"
      ],
      "text/plain": [
       "<IPython.core.display.HTML object>"
      ]
     },
     "metadata": {
      "tags": []
     },
     "output_type": "display_data"
    },
    {
     "data": {
      "text/html": [
       "<p><b>Therapist: Well, “Lets change the subject.” (T laughs).</b>"
      ],
      "text/plain": [
       "<IPython.core.display.HTML object>"
      ]
     },
     "metadata": {
      "tags": []
     },
     "output_type": "display_data"
    },
    {
     "data": {
      "text/html": [
       "Client: Yes, “How's your wife, your house?” all that.</p>"
      ],
      "text/plain": [
       "<IPython.core.display.HTML object>"
      ]
     },
     "metadata": {
      "tags": []
     },
     "output_type": "display_data"
    },
    {
     "data": {
      "text/html": [
       "<p><b>Therapist: Um, it'd be pretty nice to just, run away from some of this.</b>"
      ],
      "text/plain": [
       "<IPython.core.display.HTML object>"
      ]
     },
     "metadata": {
      "tags": []
     },
     "output_type": "display_data"
    },
    {
     "data": {
      "text/html": [
       "Client: It would, yes.</p>"
      ],
      "text/plain": [
       "<IPython.core.display.HTML object>"
      ]
     },
     "metadata": {
      "tags": []
     },
     "output_type": "display_data"
    },
    {
     "data": {
      "text/html": [
       "<p><b>Therapist: Just talk.</b>"
      ],
      "text/plain": [
       "<IPython.core.display.HTML object>"
      ]
     },
     "metadata": {
      "tags": []
     },
     "output_type": "display_data"
    },
    {
     "data": {
      "text/html": [
       "Client: Well let’s just have a rest for a while.</p>"
      ],
      "text/plain": [
       "<IPython.core.display.HTML object>"
      ]
     },
     "metadata": {
      "tags": []
     },
     "output_type": "display_data"
    },
    {
     "data": {
      "text/html": [
       "<p><b>Therapist: I'm impressed with the fact that when you need a rest, you really take it.</b>"
      ],
      "text/plain": [
       "<IPython.core.display.HTML object>"
      ]
     },
     "metadata": {
      "tags": []
     },
     "output_type": "display_data"
    },
    {
     "data": {
      "text/html": [
       "Client: Oh, thank you. I was thinking my humor comes to the rescue, “Give me a breather.”</p>"
      ],
      "text/plain": [
       "<IPython.core.display.HTML object>"
      ]
     },
     "metadata": {
      "tags": []
     },
     "output_type": "display_data"
    },
    {
     "data": {
      "text/html": [
       "<p><b>Therapist: It's one of the ways in which you preserve yourself.</b>"
      ],
      "text/plain": [
       "<IPython.core.display.HTML object>"
      ]
     },
     "metadata": {
      "tags": []
     },
     "output_type": "display_data"
    },
    {
     "data": {
      "text/html": [
       "Client: That's right; I had a dream one time. And I dreamed that I was on a sled with two other girls, and we were going down a snowy hill. And we were going too fast. And I told them to stop, they had to get off, otherwise they were going to crash into this train station at the bottom of the hill. And they wouldn't believe me. So I got off, and they went on. And I side-stepped in the snow all the way down the hill, but there were lots of trees where I was side stepping, and I was hanging onto the trees, one by one as I went down. And when I got to the bottom of the hill, the sled had crashed, or something. And then I thought to myself, “That means, that has to do with me. Part of me would go too fast, and…”</p>"
      ],
      "text/plain": [
       "<IPython.core.display.HTML object>"
      ]
     },
     "metadata": {
      "tags": []
     },
     "output_type": "display_data"
    },
    {
     "data": {
      "text/html": [
       "<p><b>Therapist: And, and this morning has been an example of the fact that you're not going to go so fast that you crash. (C: That's right.) You're going to go at your own pace if its step-by-step down the hill, oh, that's the pace you have.</b>"
      ],
      "text/plain": [
       "<IPython.core.display.HTML object>"
      ]
     },
     "metadata": {
      "tags": []
     },
     "output_type": "display_data"
    },
    {
     "data": {
      "text/html": [
       "Client: That must be it.</p>"
      ],
      "text/plain": [
       "<IPython.core.display.HTML object>"
      ]
     },
     "metadata": {
      "tags": []
     },
     "output_type": "display_data"
    },
    {
     "data": {
      "text/html": [
       "<p><b>Therapist: Maybe that's a good stopping point.</b>"
      ],
      "text/plain": [
       "<IPython.core.display.HTML object>"
      ]
     },
     "metadata": {
      "tags": []
     },
     "output_type": "display_data"
    },
    {
     "data": {
      "text/html": [
       "Client: Okay.</p>"
      ],
      "text/plain": [
       "<IPython.core.display.HTML object>"
      ]
     },
     "metadata": {
      "tags": []
     },
     "output_type": "display_data"
    },
    {
     "data": {
      "text/html": [
       "<p><b>Therapist: I've heard a few things about you, all good things, and I've also heard that you have leukemia but that you're in a state of remission, and that’s all I know about you . . . so from there on ...</b>"
      ],
      "text/plain": [
       "<IPython.core.display.HTML object>"
      ]
     },
     "metadata": {
      "tags": []
     },
     "output_type": "display_data"
    },
    {
     "data": {
      "text/html": [
       "Client: Okay. I don't know. I was sitting in the room and waiting, before, and I was thinking about when I was about 7 or 8 years old. I remember reading a book, I believe. And I can't recall the name, by Jung, I think it was. I recalled that when I was reading it, at that time, I used to go down in the basement of my home and um, turn off all the lights. And in a way, that was kind of closing the outside world out (C: Mhm, hmm) and concentrating on what I wanted to do and what I wanted to be. And at 7 years old I was into that, and today I'm in the same position . . . um, really at this, you know, trying to find out what I want to do, what I want to be. And um, I've learned a lot of things. I've learned a lot of things since I found out that I have leukemia (T: Mhm, hmm) which is about a year ago this June . . . and I've learned an awful lot of things.</p>"
      ],
      "text/plain": [
       "<IPython.core.display.HTML object>"
      ]
     },
     "metadata": {
      "tags": []
     },
     "output_type": "display_data"
    },
    {
     "data": {
      "text/html": [
       "<p><b>Therapist: I'll bet. And you're going through a stage if I understand is a little bit like what it was at seven, sort of shutting out the world or shutting yourself into a space where you're trying to figure out what it is that you want or who you are?</b>"
      ],
      "text/plain": [
       "<IPython.core.display.HTML object>"
      ]
     },
     "metadata": {
      "tags": []
     },
     "output_type": "display_data"
    },
    {
     "data": {
      "text/html": [
       "Client: I think that I've listened for so long to other people about who I was (T: Mhm, hmm) and I remember in 2nd grade I was a potential credit to my race. That was one of the . . . (T: Mhm, hmm) I used to wonder why I couldn't be a credit to somebody (T: laughs) else's race also. I think I was really conditioned to be something. To be some kind of a symbol, or (T: Mhm, hmm) whatever, and not really being a person, you know, I kind of missed out on my childhood to an extent. (T: Mhm, hmm) I don't really regret it. I don't think I regret it anyway, but I've really been through a lot of changes. And I think that now, after finding out I had leukemia and after dealing with the leukemia in the way I did, it's just really incredible, you see. It was last June when I found out, and um, I proceeded to get everything in order because I was told that I had less than a year to live. (T: Mhm, hmm) And uh, that was the trip. (T: I'll bet.) That was a trip.</p>"
      ],
      "text/plain": [
       "<IPython.core.display.HTML object>"
      ]
     },
     "metadata": {
      "tags": []
     },
     "output_type": "display_data"
    },
    {
     "data": {
      "text/html": [
       "<p><b>Therapist: A trip into a fairly dark place, I suppose.</b>"
      ],
      "text/plain": [
       "<IPython.core.display.HTML object>"
      ]
     },
     "metadata": {
      "tags": []
     },
     "output_type": "display_data"
    },
    {
     "data": {
      "text/html": [
       "Client: Oh, yeah. For sure. For sure. On one hand I accepted the death. I, you know, at my young age I think I've lived long and a great deal. But that was the start of some things that really has had an effect on me today. (T: Mhm, hmm) I'm much happier than I've ever been . . . today. (T: Hmm) I'm much happier. (T: Hmm) But there's a lot of hurt too. There's an awful lot of hurt and I think I'm just beginning to realize that. Um, because you know, in being a credit to your race, in being an outstanding student, an outstanding scholar, an outstanding football player, whatever; it leaves you little room to be . . .</p>"
      ],
      "text/plain": [
       "<IPython.core.display.HTML object>"
      ]
     },
     "metadata": {
      "tags": []
     },
     "output_type": "display_data"
    },
    {
     "data": {
      "text/html": [
       "<p><b>Therapist: You've been meeting other people's expectations of you and it seems that that's what you should do now. I guess you're really questioning that very much.</b>"
      ],
      "text/plain": [
       "<IPython.core.display.HTML object>"
      ]
     },
     "metadata": {
      "tags": []
     },
     "output_type": "display_data"
    },
    {
     "data": {
      "text/html": [
       "Client: Oh, yeah. Tremendously. And like you get into . . . the fun thing about it is that I'm finding out that some of the things that I think inside of me are okay. And like that isn't . . . you know, I feel okay, and I'm in a process of becoming okay. But like I haven't worked it out. Hurt is a hard thing to deal with. And like conditioning yourself to die (T: Mhm, hmm) is another thing, you know, you see, I didn't let my family in on that (T: Hmm) until March of this year. So it was some months before I . . .</p>"
      ],
      "text/plain": [
       "<IPython.core.display.HTML object>"
      ]
     },
     "metadata": {
      "tags": []
     },
     "output_type": "display_data"
    },
    {
     "data": {
      "text/html": [
       "<p><b>Therapist: You carried that within you.</b>"
      ],
      "text/plain": [
       "<IPython.core.display.HTML object>"
      ]
     },
     "metadata": {
      "tags": []
     },
     "output_type": "display_data"
    },
    {
     "data": {
      "text/html": [
       "Client: Oh, yeah. But I proceeded very meticulously to carry out a plan, where my children would live in an area that I wanted them to live. And that, I was trying to control something after I died. Only when I went back this year in March to celebrate my children's birthday, and I had four weeks, incidentally, to live at that time; I was told on March 15 that I had four weeks to live. And it was really incredible because like, for the first time, I saw all my relatives and my friends. And they were coming in and they were very loving, very loving people, and very kind, you see. Um, but at the same time, they were all throwing flowers on my grave. (T: Mhm, hmm) And I don't think they knew that. And as a result, I got worse and I got worse, and um, I took a friend back. You see, I'd lived out here in California. um, after I found out that I had leukemia, I proceeded to develop a plan to move my family out here. (T: Mhm, hmm) And we moved out in approximately November after several trips out in the area. The trips were basically to find a doctor (T: Mhm, hmm) and also find in a way some kind of a hope. You see, (T: Mhm, hmm) I have this conditioned thing about being a fighter. So, on one hand I accept that, (T: Mhm, hmm) and on the other hand I was trying to do all I damned well could to live.</p>"
      ],
      "text/plain": [
       "<IPython.core.display.HTML object>"
      ]
     },
     "metadata": {
      "tags": []
     },
     "output_type": "display_data"
    },
    {
     "data": {
      "text/html": [
       "<p><b>Therapist: If it's going to be death, okay, you'll take it. But you're not going to take it unnecessarily.</b>"
      ],
      "text/plain": [
       "<IPython.core.display.HTML object>"
      ]
     },
     "metadata": {
      "tags": []
     },
     "output_type": "display_data"
    },
    {
     "data": {
      "text/html": [
       "Client: No. Not at all. You know, the thing that uh, you know, after I was sitting in there and I was thinking . . . I had really conditioned myself to, to really get ready and find the nearest cross and crawl up on that, and I've been doing that since I was seven years old, and I'm not sure why.</p>"
      ],
      "text/plain": [
       "<IPython.core.display.HTML object>"
      ]
     },
     "metadata": {
      "tags": []
     },
     "output_type": "display_data"
    },
    {
     "data": {
      "text/html": [
       "<p><b>Therapist: To really crucify yourself, is that what you're saying? Or to be a martyr? I'm not really sure . . .</b>"
      ],
      "text/plain": [
       "<IPython.core.display.HTML object>"
      ]
     },
     "metadata": {
      "tags": []
     },
     "output_type": "display_data"
    },
    {
     "data": {
      "text/html": [
       "Client: Oh, I'm not really sure. But I think the activities I was involved in, in terms of trans-racial communication, (T: Mhm, hmm) working with groups, and helping people (T: Mhm, hmm) I would hope very similar to what people like yourself did. (T: Mhm, hmm) Um, always being available for everybody, all the time. (T: Mhm, hmm) I think that's being a martyr or (T: Yeah) something. Yeah.</p>"
      ],
      "text/plain": [
       "<IPython.core.display.HTML object>"
      ]
     },
     "metadata": {
      "tags": []
     },
     "output_type": "display_data"
    },
    {
     "data": {
      "text/html": [
       "<p><b>Therapist: Putting the other person first.</b>"
      ],
      "text/plain": [
       "<IPython.core.display.HTML object>"
      ]
     },
     "metadata": {
      "tags": []
     },
     "output_type": "display_data"
    },
    {
     "data": {
      "text/html": [
       "Client: For sure. Yeah. Instead of saying, \"Hey, there's some time for me.\" Because you see, I worked so hard and so long that it was just really, really difficult for me to get used to, you know, being sick, not working' and not being in control (T: Mhm, hmm) because I definitely was not in control. (T: Mhm, hmm) And there were a lot of things that I did that I am not really very pleased about. (T: Mhm, hmm) But you know, after thinking about it for just a little while, or whatever, one of the things I miss you know, I guess maybe from not telling people or whatever, about I was ill . . . but uh, after I told them, some months later, when I had four weeks to live, I didn’t find anybody that allowed me to be desperate, that could understand some of the things that I didn't want to do. (T: Mhm, hmm) And that brought on another guilt trip. (T: Mhm, hmm) And so now I'm in the process of kind of washing all that stuff out.</p>"
      ],
      "text/plain": [
       "<IPython.core.display.HTML object>"
      ]
     },
     "metadata": {
      "tags": []
     },
     "output_type": "display_data"
    },
    {
     "data": {
      "text/html": [
       "<p><b>Therapist: Mhm, hmm. Is that part of the hurt? You referred earlier to hurt and I didn't quite understand that. (C: Mhm, hmm) I can understand the feeling of desperateness and also I can understand how hard it would be to have no one really understand that feeling in you.</b>"
      ],
      "text/plain": [
       "<IPython.core.display.HTML object>"
      ]
     },
     "metadata": {
      "tags": []
     },
     "output_type": "display_data"
    },
    {
     "data": {
      "text/html": [
       "Client: I've lost my father-in-law, which was a terrible loss to me, and it was a loss that I never could talk to my wife or anybody else about. (T: Hmm. Mhm, hmm) And I gave a lot to that family, you know, for five or, I don't know, seven years I guess. And when I went back, there were just some things that happened that they showed me there wasn't, there wasn't very much of a connection. There wasn't very much of a connection between, between all of that love and whatever that I put in, and then all of a sudden you know, I became just another uh, you know, I became just another black person. I became just another nigger. You know, and I think it's important to understand that my wife is you know, is white, German Irish. (T: Mhm, hmm. I see.) And I think that's a part of that whole thing. (T: Mhm, hmm. Mhm, hmm) Um, when we first married, you know, my father-in-law, we just fought tooth and nail, but then after that we loved each other . . . for about six long, good, hard years. And basically, he was my only connection and when he died . . . I found that there was no support. (T: Mhm, hmm) There was absolutely no support.</p>"
      ],
      "text/plain": [
       "<IPython.core.display.HTML object>"
      ]
     },
     "metadata": {
      "tags": []
     },
     "output_type": "display_data"
    },
    {
     "data": {
      "text/html": [
       "<p><b>Therapist: And I, I imagine . . . or perhaps I catch a little bit of resentment, that you really poured a lot of love and caring into that family and had gotten some back from him, but after his death, none of it paid off for you in any way.</b>"
      ],
      "text/plain": [
       "<IPython.core.display.HTML object>"
      ]
     },
     "metadata": {
      "tags": []
     },
     "output_type": "display_data"
    },
    {
     "data": {
      "text/html": [
       "Client: Right. For sure. Yeah, I think that, you know, what I wanted, what I wanted more than anything else, was just to you know, I guess, was love. I guess it was that mutualness, you know, what I felt for each of them. (T: Mhm, hmm) You know, I thought that was not only my responsibility, but you know, it was very natural for me to care about people (T: Mhm, hmm) that were very close to my wife (T: Mhm, hmm) at that time.</p>"
      ],
      "text/plain": [
       "<IPython.core.display.HTML object>"
      ]
     },
     "metadata": {
      "tags": []
     },
     "output_type": "display_data"
    },
    {
     "data": {
      "text/html": [
       "<p><b>Therapist: So it hurt not to get that love back. It wasn't mutual.</b>"
      ],
      "text/plain": [
       "<IPython.core.display.HTML object>"
      ]
     },
     "metadata": {
      "tags": []
     },
     "output_type": "display_data"
    },
    {
     "data": {
      "text/html": [
       "Client: Oh yeah. For sure it did. And there were various things that happened in terms of things that were happening back east . . . that people were wondering why I had left, you know, a good position and all that kind of garbage. And uh, because, see, I hadn't told anybody that I had leukemia. (T: Mhm, hmm) And uh, one thing led to another. And there were stories that needed, I think to um, I think every story, every situation needs to have two sides. (T: Mhm, hmm) And there was only one side and I was, I was hurt because I didn't have my chance.</p>"
      ],
      "text/plain": [
       "<IPython.core.display.HTML object>"
      ]
     },
     "metadata": {
      "tags": []
     },
     "output_type": "display_data"
    },
    {
     "data": {
      "text/html": [
       "<p><b>Therapist: You never were heard.</b>"
      ],
      "text/plain": [
       "<IPython.core.display.HTML object>"
      ]
     },
     "metadata": {
      "tags": []
     },
     "output_type": "display_data"
    },
    {
     "data": {
      "text/html": [
       "Client: Never. And, but at the same time, like, in a way, in a way, I used to feel that I put myself in that position. Because no one knew what was happening inside of me, you see. Because I had to take care of myself. And I had to be better than everybody else. Because I was always told that. You can, in a majority society I had to be 100, 200 percent better than my white counterpart (T: Mhm, hmm) or my brown counterpart, (T: Mhm, hmm) or whatever. I had to do that, because that's what it took to survive .</p>"
      ],
      "text/plain": [
       "<IPython.core.display.HTML object>"
      ]
     },
     "metadata": {
      "tags": []
     },
     "output_type": "display_data"
    },
    {
     "data": {
      "text/html": [
       "<p><b>Therapist: Mhm, hmm. And in striving for that, one reason you really weren't heard was that you didn't dare express the person you were, the sick person you were at that time.</b>"
      ],
      "text/plain": [
       "<IPython.core.display.HTML object>"
      ]
     },
     "metadata": {
      "tags": []
     },
     "output_type": "display_data"
    },
    {
     "data": {
      "text/html": [
       "Client: Oh, no. Not at - I really, I really had a fear of that. You know? (T: Mhm, hmm) I really, I guess, didn't trust some things that were happening, (T: Mhm, hmm) um, gee, at a whole global level, you know. But to, then to entrust that kind of information (T: Mhm, hmm) to other people. (T: Mhm, hmm) I was very uneasy about that. (T: Frightening) Very uneasy about that. (T: Mhm, hmm) And I did a lot of things that I didn't, didn't really want to do (T: Mhm, hmm) because I was very desperate. Um, I gave up my, my job and came out here, and I did consultant work and so forth, but I had to use a great deal of money for diagnosticians or (T: Mhm, hmm) whatever and, and, and all kinds of little gimmicks to keep me alive. (T: Mhm, hmm) And consequently I had to borrow money. And when I borrowed that money, I didn't borrow it in a way that would say to you like, \"Hey, uh, Ted or whatever, I need, you know X amount of dollars, you know, and like . . . 'cause I've got, I have leukemia,\" and so forth. I'm scared to death to say that, you know? (T: Mhm, hmm) You know, I needed some money because of uh, I think I must have invented about ten stories, you know. And I think about it and you know, like, I felt real bad about that, you know. (T: Mhm, hmm) And uh, because like I had developed a professional uh, attitude I think, about myself, or at least a kind of . . . I had a lot of respect from a lot of people. (T: Mhm, hmm) And you know, I really did have that . . . I don’t know if that was love or caring or whatever, but it was respect. (T: Yeah) When I got involved with money, the situation with money, I had to borrow money and I really couldn't tell. And in a way, you know, I really wanted to tell, but I hadn't even told my wife (T: Yeah) and my family. (T: Yeah) And I said, okay, well one thing, you know, and I'm gonna, I'm going to be okay, and this money is going to be here, and everything else like that and I think that's a part of, uh, me that I really, I'm not really sure, that ah, you know, is really acceptable you know, because I have to be perfect.</p>"
      ],
      "text/plain": [
       "<IPython.core.display.HTML object>"
      ]
     },
     "metadata": {
      "tags": []
     },
     "output_type": "display_data"
    },
    {
     "data": {
      "text/html": [
       "<p><b>Therapist: Yeah. Yeah. So, it's not acceptable even to you to do some of the things you did, and also I gather to live behind that facade of falsehood for quite awhile . . . not telling anybody what the score was.</b>"
      ],
      "text/plain": [
       "<IPython.core.display.HTML object>"
      ]
     },
     "metadata": {
      "tags": []
     },
     "output_type": "display_data"
    },
    {
     "data": {
      "text/html": [
       "Client: Oh yeah. For sure. Very true. I . . . That was very difficult. The most difficult part, I think, of (T: Mhm, hmm) I think it was the most difficult part of my illness. It was that, \"Hey, I couldn't have cancer,\" you know. That's like having V.D. and three kinds of V.D. at the same time. (T: Mhm, hmm) You know, how do you tell someone, \"I have leukemia . . . I have less than a year to live, or whatever (T: Mhm, hmm) . . . and I need some money.\" (T: Mhm, hmm) You know, it's like when people you know, look at a drinking glass or whatever, and you know, after you told them you have cancer . . . and they make kind of a . . . shy away from your drinking glasses.</p>"
      ],
      "text/plain": [
       "<IPython.core.display.HTML object>"
      ]
     },
     "metadata": {
      "tags": []
     },
     "output_type": "display_data"
    },
    {
     "data": {
      "text/html": [
       "<p><b>Therapist: Mhm, hmm. Mhm, hmm. How could you possibly let anybody know where you were physically?</b>"
      ],
      "text/plain": [
       "<IPython.core.display.HTML object>"
      ]
     },
     "metadata": {
      "tags": []
     },
     "output_type": "display_data"
    },
    {
     "data": {
      "text/html": [
       "Client: I really don't know. I really, you know, I've really tried to debate this thing in myself for a long time, and I really, I really don't know how I could have done anything any other way, because, you see, it was my character (T: Mhm, hmm) to not, I never . . . I'm always there to help other people. (T: Mhm, hmm) I wasn't there for . . . to say, \"Hey, you know, I need some nourishment right now, whatever, you know.\"</p>"
      ],
      "text/plain": [
       "<IPython.core.display.HTML object>"
      ]
     },
     "metadata": {
      "tags": []
     },
     "output_type": "display_data"
    },
    {
     "data": {
      "text/html": [
       "<p><b>Therapist: You've just had no experience in being the needy person that needed help and needed . . .</b>"
      ],
      "text/plain": [
       "<IPython.core.display.HTML object>"
      ]
     },
     "metadata": {
      "tags": []
     },
     "output_type": "display_data"
    },
    {
     "data": {
      "text/html": [
       "Client: Absolutely. Even when I needed money or whatever, I didn't need money (T: Yeah) because of my health. (T: Mhm, hmm) It was because of maybe bad business experience or an investment, or something or other . . . and like, for the people who trusted that kind of information or whatever . . . like I, you know, well, I'm going to deal with that. I'm going to deal with that. But that's not in my character, it's never been in my character. (T: Mhm, hmm) I had to keep that image. (T: Mhm, hmm) I had to keep the image. (T: Mhm, hmm) And uh, it cost me my family, a couple children, you know. I guess that was the most important thing that it cost me. I think the other things are really not that important. But, but what it did do, what the leukemia did do . . . it helped me to, to understand that I'm just an ordinary human being like everybody else. (T: Mhm, hmm. Mhm, hmm) You know, and sometimes you know, like, everybody has problems, and so forth, but at the same time it was like, it was my character to do that. You know, I wouldn't tell them. No. For what?</p>"
      ],
      "text/plain": [
       "<IPython.core.display.HTML object>"
      ]
     },
     "metadata": {
      "tags": []
     },
     "output_type": "display_data"
    },
    {
     "data": {
      "text/html": [
       "<p><b>Therapist: But it sounds as though the leukemia helped you to really destroy the notion of you as the \"image.\"</b>"
      ],
      "text/plain": [
       "<IPython.core.display.HTML object>"
      ]
     },
     "metadata": {
      "tags": []
     },
     "output_type": "display_data"
    },
    {
     "data": {
      "text/html": [
       "Client: I think, I think it did. I think it did. Finally, at the end it did. I use the end . . . the four weeks when I was told I had four weeks to live (T: Mhm, hmm. Mhm, hmm) that was the end, at the end of the leukemia. Even though I'm in remission now, (T: Mhm, hmm) I don't plan to, I don't . . . you see, I haven't told you that I went to, I went for the tests and gave enormous amounts of blood. I don't know where they were sending that blood or what they were doing with it. I gave an extraordinary amount, but nothing, nothing was coming of that. But you know, one of the things I did know that if I went to the hospital, if I did what the doctors said, I'd probably die. And it's almost like, you know, when you first become an agnostic in school, or whatever, you know, you go through . . . like I went through all this religious training, whatever. . . and I said, \"I don't think that there's a God.\" Or, \"that isn't really important, or whatever.\" (T: Mhm, hmm) But then at the same time, I hold back, you know. And every now and then I give an occasional prayer (T: Right) just in case.</p>"
      ],
      "text/plain": [
       "<IPython.core.display.HTML object>"
      ]
     },
     "metadata": {
      "tags": []
     },
     "output_type": "display_data"
    },
    {
     "data": {
      "text/html": [
       "<p><b>Therapist: Play it safe.</b>"
      ],
      "text/plain": [
       "<IPython.core.display.HTML object>"
      ]
     },
     "metadata": {
      "tags": []
     },
     "output_type": "display_data"
    },
    {
     "data": {
      "text/html": [
       "Client: For sure. I think that's what I was also doing in terms of the leukemia. I really did. I had . . . the logical end to leukemia that my uncle and cousin had had before me was to die. (T: Mhm, hmm) Was to die. And now I think I know some things about that, though, that you don't have to die. Because it wasn't until I saw everybody throwing leaves and things on my grave that I really understood that I had the power to do that, and that, by lying for money, was probably worse for me than . . . than the leukemia, I think. (T: Hmm) I don’t know if that makes any sense . . .</p>"
      ],
      "text/plain": [
       "<IPython.core.display.HTML object>"
      ]
     },
     "metadata": {
      "tags": []
     },
     "output_type": "display_data"
    },
    {
     "data": {
      "text/html": [
       "<p><b>Therapist: Yeah. It does.</b>"
      ],
      "text/plain": [
       "<IPython.core.display.HTML object>"
      ]
     },
     "metadata": {
      "tags": []
     },
     "output_type": "display_data"
    },
    {
     "data": {
      "text/html": [
       "Client: Now I said it. (laughs)</p>"
      ],
      "text/plain": [
       "<IPython.core.display.HTML object>"
      ]
     },
     "metadata": {
      "tags": []
     },
     "output_type": "display_data"
    },
    {
     "data": {
      "text/html": [
       "<p><b>Therapist: Mhm, hmm. Mhm, hmm. Somehow, what I get out of it is that being kind of false to yourself really was more of a burden to you, causes you more concern, than the fact that you had leukemia.</b>"
      ],
      "text/plain": [
       "<IPython.core.display.HTML object>"
      ]
     },
     "metadata": {
      "tags": []
     },
     "output_type": "display_data"
    },
    {
     "data": {
      "text/html": [
       "Client: Oh, for sure. For sure. The other thing was that I was about ready to leave my children, you know, very young, beautiful children . . . children that I'd brought into the world to do the same kind of, kind of thing that I was doing, you know . . . to take the world on their back (T: Mhm, hmm) and change things. (T: Mhm, hmm) You know, and now that helped me now with my kids in the sense of I don't think I want to raise my children like that.</p>"
      ],
      "text/plain": [
       "<IPython.core.display.HTML object>"
      ]
     },
     "metadata": {
      "tags": []
     },
     "output_type": "display_data"
    },
    {
     "data": {
      "text/html": [
       "<p><b>Therapist: Mhm, hmm. You don't want them to carry the kind of burden and image that you carried.</b>"
      ],
      "text/plain": [
       "<IPython.core.display.HTML object>"
      ]
     },
     "metadata": {
      "tags": []
     },
     "output_type": "display_data"
    },
    {
     "data": {
      "text/html": [
       "Client: No. Not at all. (T: Mhm, hmm) Not because they're part Indian. Not because they're part black. Or not because they're third world or whatever. They don't have to carry that burden of trying to change and always being the recipient of certain policies and things like that and always being controlled. (T: Mhm, hmm. Mhm, hmm) And I never really, it made me feel apart . . . because I don't know if my second grade teacher thought they were doing me a favor by telling me I was a credit to my race, (T: Mhm, hmm. Mhm, hmm) but then . . . they certainly did, and I didn't feel good about it then. (T: Mhm, hmm) (Sigh) That's a start. (T: Mhm, hmm) And I remember talking to a person when I came down. I'd just discovered I was in remission, and I was hobbling on a cane, and so forth, and God, the first thing I did down here was to take a motorcycle ride. Now, for me, that was radical. (T: Mhm, hmm) For me, that was extremely radical, but it was fun (T: Mhm, hmm) you know, and it was one of the first fun things that I did. (T: Mhm, hmm) Since I was ill, you know, because on top of having the leukemia I was fighting a divorce and having my property ripped away from me, you know, and having married into a family, and a family that was a different race than I was, and I learned later, as my wife told me that she didn't know that a whole community wanted to divorce. (T: Laughs) Like they were married. And I was hurt by that too. (T: Mhm, hmm. Mhm, hmm) You know, how very good, (T: Mhm, hmm) Christian, (T: Mhm, hmm) upstanding people (T: Mhm, hmm) can make some pretty serious judgments without knowing you know, the whole story.</p>"
      ],
      "text/plain": [
       "<IPython.core.display.HTML object>"
      ]
     },
     "metadata": {
      "tags": []
     },
     "output_type": "display_data"
    },
    {
     "data": {
      "text/html": [
       "<p><b>Therapist: And I catch a note of bitterness there. A feeling that they really make judgments without, without knowing the picture.</b>"
      ],
      "text/plain": [
       "<IPython.core.display.HTML object>"
      ]
     },
     "metadata": {
      "tags": []
     },
     "output_type": "display_data"
    },
    {
     "data": {
      "text/html": [
       "Client: For sure. For sure. Well, the thing that was incredible was that I didn't . . . forgot about, I guess is that to understand, that you know, . . . I forgot for maybe a couple of years - Now, I'm going to oversimplify this next thing (T: Mhm, hmm) . . . but I forgot that I was black, (T: Mhm, hmm. Mhm, hmm) in that family, in that community, (T: Mhm, hmm) or whatever, you see. (T: Mhm, hmm) And then I quickly learned that I . . .</p>"
      ],
      "text/plain": [
       "<IPython.core.display.HTML object>"
      ]
     },
     "metadata": {
      "tags": []
     },
     "output_type": "display_data"
    },
    {
     "data": {
      "text/html": [
       "<p><b>Therapist: And then you were reminded all over again.</b>"
      ],
      "text/plain": [
       "<IPython.core.display.HTML object>"
      ]
     },
     "metadata": {
      "tags": []
     },
     "output_type": "display_data"
    },
    {
     "data": {
      "text/html": [
       "Client: Oh, for sure. For sure. And I think that also caused a lot of bitterness or whatever. (R Mhm, hmm) And that kind of stuff I want to get out of me. (T: Mhm, hmm. Mhm, hmm) You know, I can't deal with that . . . someone else's trip on me. Because I really don't hate anybody for that or whatever. A lot of the things I've brought on myself. But at the same time, I think I really do have the right at that time to have been desperate.</p>"
      ],
      "text/plain": [
       "<IPython.core.display.HTML object>"
      ]
     },
     "metadata": {
      "tags": []
     },
     "output_type": "display_data"
    },
    {
     "data": {
      "text/html": [
       "<p><b>Therapist: Yeah.</b>"
      ],
      "text/plain": [
       "<IPython.core.display.HTML object>"
      ]
     },
     "metadata": {
      "tags": []
     },
     "output_type": "display_data"
    },
    {
     "data": {
      "text/html": [
       "Client: And I didn't really understand that. It was just, you know, hey it was so bad, it got so bad . . . this whole trip of leukemia . . . and lying and things like that or whatever, that I don't know. I thought, \"Well, if I can just get ahead a little bit, and make enough money to pay off all those people or whatever, or, and even in my will and with my insurance\" (T: Mhm, hmm. Mhm, hmm) You know, I made sure that all of the people were going to be paid or whatever (T: Mhm, hmm) but, you know. I still wasn't, it still wasn't acceptable to me for some reason . . . I didn't want to go out owing anybody or (T: Mhm, hmm) whatever, because that wasn't, wouldn't be the American thing to do, I guess at that time.</p>"
      ],
      "text/plain": [
       "<IPython.core.display.HTML object>"
      ]
     },
     "metadata": {
      "tags": []
     },
     "output_type": "display_data"
    },
    {
     "data": {
      "text/html": [
       "<p><b>Therapist: That wouldn't be living up to the standards you've set for yourself and other people have set for you.</b>"
      ],
      "text/plain": [
       "<IPython.core.display.HTML object>"
      ]
     },
     "metadata": {
      "tags": []
     },
     "output_type": "display_data"
    },
    {
     "data": {
      "text/html": [
       "Client: Oh. Yeah. For sure. And like, I'm a little tired of those standards. (T: Mhm, hmm) I'm really a little tired (T: Mhm, hmm) of those standards. And I basically think that the kind of things that um, . . . me and what I'm into, and what turns me on . . . is good for me. (T: Mhm, hmm) And I don't really know why I went into remission. You know, I have some feelings about that . . . you know, personal, religious, whatever. But I think a great part of that had something to do with deciding that I wanted to live.</p>"
      ],
      "text/plain": [
       "<IPython.core.display.HTML object>"
      ]
     },
     "metadata": {
      "tags": []
     },
     "output_type": "display_data"
    },
    {
     "data": {
      "text/html": [
       "<p><b>Therapist: Mhm, hmm. Perhaps, sounds as though you're saying several things here, that perhaps deciding you wanted to live made a real difference. And also deciding that what you were experiencing as your needs and your wants and so on, really had some validity.</b>"
      ],
      "text/plain": [
       "<IPython.core.display.HTML object>"
      ]
     },
     "metadata": {
      "tags": []
     },
     "output_type": "display_data"
    },
    {
     "data": {
      "text/html": [
       "Client: Yeah. It's really good to hear you say that. Because I really feel that. Because what I did I think was . . . My phone bill had to be about $1,500 a month you know, because I was so worried about (T: Mhm, hmm) the children, you know.</p>"
      ],
      "text/plain": [
       "<IPython.core.display.HTML object>"
      ]
     },
     "metadata": {
      "tags": []
     },
     "output_type": "display_data"
    },
    {
     "data": {
      "text/html": [
       "<p><b>Therapist: Mhm, hmm. So that was a big, heavy burden too, then huh?</b>"
      ],
      "text/plain": [
       "<IPython.core.display.HTML object>"
      ]
     },
     "metadata": {
      "tags": []
     },
     "output_type": "display_data"
    },
    {
     "data": {
      "text/html": [
       "Client: Oh, yeah. Yeah, it really was pretty heavy. It was pretty heavy.</p>"
      ],
      "text/plain": [
       "<IPython.core.display.HTML object>"
      ]
     },
     "metadata": {
      "tags": []
     },
     "output_type": "display_data"
    },
    {
     "data": {
      "text/html": [
       "<p><b>Therapist: Life has been a very fluctuating up and down, kind of</b>"
      ],
      "text/plain": [
       "<IPython.core.display.HTML object>"
      ]
     },
     "metadata": {
      "tags": []
     },
     "output_type": "display_data"
    },
    {
     "data": {
      "text/html": [
       "Client: For sure. But the leukemia took me away from Michigan, which I have . . . oh, bless somebody for that. And if you know, I only live a couple of more months, or whatever, it's a lot better (T: Mhm, hmm) than living under uh, constant stress (T: Mhm, hmm) you know of worrying about not being accepted, or not being accepted.</p>"
      ],
      "text/plain": [
       "<IPython.core.display.HTML object>"
      ]
     },
     "metadata": {
      "tags": []
     },
     "output_type": "display_data"
    },
    {
     "data": {
      "text/html": [
       "<p><b>Therapist: But that's one good thing that the leukemia did for you.</b>"
      ],
      "text/plain": [
       "<IPython.core.display.HTML object>"
      ]
     },
     "metadata": {
      "tags": []
     },
     "output_type": "display_data"
    },
    {
     "data": {
      "text/html": [
       "Client: Yeah. It really was. Because I got a divorce out of it. My goodness, I got to California. Um, and I really mean that. But even when I say it, you know, there's . . . it was a rough, scratchy, scratchy road . . . and you know, it's extremely difficult for me to talk about it now. (T: Mhm, hmm) It really is . In getting all those bad things out, I'm not sure in terms of how to deal (T: Mhm, hmm) yet, or whatever. And I'm really not sure. But there are some you know, some things you know, like, I've really got to come to grips with it. \"Well, finally,\" you know. Because they're still, you know, when I talk to my wife from 3,000 miles away and she tells me about what her mother thinks and all sorts of other things, or whatever, I get sick. It happened yeah . . . it happened the other day. She called and everything was really great and then she'd begin to talk about a lot of other people, and what their attitudes and what their opinions was. That night I got very little sleep and was ready to go back to the hospital and was ready to have leukemia too. (T: Mhm, hmm) I was ready. You know?</p>"
      ],
      "text/plain": [
       "<IPython.core.display.HTML object>"
      ]
     },
     "metadata": {
      "tags": []
     },
     "output_type": "display_data"
    },
    {
     "data": {
      "text/html": [
       "<p><b>Therapist: So you feel as though in some sense you prepare the readiness for the illness, or you, are taking in something from outside; it makes you ready to have it.</b>"
      ],
      "text/plain": [
       "<IPython.core.display.HTML object>"
      ]
     },
     "metadata": {
      "tags": []
     },
     "output_type": "display_data"
    },
    {
     "data": {
      "text/html": [
       "Client: It seems like it. You know, I didn't believe that. I didn't believe that statement that you just made, some time ago, (T: Mhm, hmm) but I believe it now. (T: Mhm, hmm) I believe it. You know, I recall when I went back, and, and, and um, for the first time, my parents had learned that I had leukemia. You know, what do you say to your mother? What do you say to your father? I remember I got a phone call. And I was staying at my wife's house where we were going, keep in mind now, we were going through a divorce, the whole bit, and were, uh celebrating my children's birthday at the same time. My mother calls. \"We're coming over.\" Nobody at the house. All of a sudden I lose my . . . my vision goes. (T: Mhm, hmm) You know, that was one of the symptoms (T: Mhm, hmm) of leukemia. And uh, and, it scare-, it scared the hell out of me (T: Mhm, hmm) like I really wanted to run. But I couldn't run, I couldn't see. (T: Couldn't see.) And um, it was only when I got back to California that I tried to put that together, you know (T: Mhm, hmm) of what happened when (T: Mhm, hmm) in terms of you know, the paralysis that I had in terms of my legs. It's incredible, it really seemed like somehow, somehow I've got control of that, in some way but I mean I'm not really sure. But I'm convinced that I have control. (T: Mhm, hmm) But I'm not sure how. (T: Mhm, hmm) You know. (T: Mhm, hmm)</p>"
      ],
      "text/plain": [
       "<IPython.core.display.HTML object>"
      ]
     },
     "metadata": {
      "tags": []
     },
     "output_type": "display_data"
    },
    {
     "data": {
      "text/html": [
       "<p><b>Therapist: I gather you feel that where before these things happened to you because of what happened to you from the outside, now you are beginning to feel control over it yourself . . . from the inside. Is that, is that part of what you're saying?</b>"
      ],
      "text/plain": [
       "<IPython.core.display.HTML object>"
      ]
     },
     "metadata": {
      "tags": []
     },
     "output_type": "display_data"
    },
    {
     "data": {
      "text/html": [
       "Client: I think that's what I'm saying. When I'm positive and when I’m doing things that I enjoy, I don't have symptoms (T: Mhm, hmm) anymore. (T: Mhm, hmm) I don't have symptoms. And I don't you know, like, when I came down here, the doctors wanted me to have transfusions and things like that, you know, and I remember one doctor saying to me, \"I don't know really who's got you into playing this tennis and all that, or whatever, but you really need to come in here and have a transfusion.\" I said, \"For what? I'm doing okay.\" \"To be on the safe side.\" You know? (T: Mhm, hmm) That's . . . well, I won't say what that is. (Rogers laughs) But, you know, like, to some extent though, that confirms some things to me about not trusting doctors to take care of myself. (T: Mhm, hmm) I'm talking about the leukemia. (T: Yeah) I'm certainly not trying to indict all doctors or the medical profession (T: Sure) by what happened to me, (T: Mhm, hmm) you know, I think, I hope, in some way that other people who have life-threatening illnesses can deal with it because I think I have, and I do have that control. And like, since I was 7, to some extent, when I went down in that basement and turned that light off, or whatever, and I shut the outside world off . . . or whatever, somehow I've lost that . . . because somehow in the process of becoming educated and socialized, and whatever, (T: Mhm, hmm. Mhm, hmm) I let other people control what I wanted and what I wanted to do. And I really . . . I did. That was a . . . Jesus, that was a, yeah, well, okay.</p>"
      ],
      "text/plain": [
       "<IPython.core.display.HTML object>"
      ]
     },
     "metadata": {
      "tags": []
     },
     "output_type": "display_data"
    },
    {
     "data": {
      "text/html": [
       "<p><b>Therapist: That has a lot of meaning to me, and I want to make sure I'm getting it straight. Down in that basement as a 7-year old with the lights out . . . you were really finding yourself and, I gather, trusting yourself. (C: Mhm, hmm) And then life was, said to you, \"No, no, don't do that. We have the standards for you. Live up to our expectations. You've got to be the image. You've got to be just right. And everything.\" And now you are gradually recapturing what you felt as a 7-year old.</b>"
      ],
      "text/plain": [
       "<IPython.core.display.HTML object>"
      ]
     },
     "metadata": {
      "tags": []
     },
     "output_type": "display_data"
    },
    {
     "data": {
      "text/html": [
       "Client: I believe that to be true. Because even though that you know, the responsibility, you know, it was like something inside of me could touch something that wasn't seen . . . when I was seven. (T: Mhm, hmm. Mhm, hmm) And I can't remember what the book was that Young wrote, or whatever. (T: Mhm, hmm) But it had an extraordinary effect on me, this seven- year-old, you know? (T: Mhm, hmm) You know, I started writing poetry. My first poem. But I guess I did lose it. I did lose it. Like I still had it, but all this garbage about me being . . .</p>"
      ],
      "text/plain": [
       "<IPython.core.display.HTML object>"
      ]
     },
     "metadata": {
      "tags": []
     },
     "output_type": "display_data"
    },
    {
     "data": {
      "text/html": [
       "<p><b>Therapist: It was well buried?</b>"
      ],
      "text/plain": [
       "<IPython.core.display.HTML object>"
      ]
     },
     "metadata": {
      "tags": []
     },
     "output_type": "display_data"
    },
    {
     "data": {
      "text/html": [
       "Client: Yeah. Yeah. And then other people were shaping me up by saying, well, you know, \"You're really good if you do it this way, or whatever.\"</p>"
      ],
      "text/plain": [
       "<IPython.core.display.HTML object>"
      ]
     },
     "metadata": {
      "tags": []
     },
     "output_type": "display_data"
    },
    {
     "data": {
      "text/html": [
       "<p><b>Therapist: \"You're a credit to your race.\"</b>"
      ],
      "text/plain": [
       "<IPython.core.display.HTML object>"
      ]
     },
     "metadata": {
      "tags": []
     },
     "output_type": "display_data"
    },
    {
     "data": {
      "text/html": [
       "Client: Oh, yeah. \"You're extraordinary. You're a credit to your race.\" You know, and, I don't know. Maybe they meant very well, or whatever, but it didn't do the job. It didn't do the job, you know, because in a way, by accepting that kind of praise, and their kind of . . . buying into their kind of system, or whatever, like, I gave up something that I knew already at 7 years old.</p>"
      ],
      "text/plain": [
       "<IPython.core.display.HTML object>"
      ]
     },
     "metadata": {
      "tags": []
     },
     "output_type": "display_data"
    },
    {
     "data": {
      "text/html": [
       "<p><b>Therapist: And that something, as I get it, is you were giving up something of yourself.</b>"
      ],
      "text/plain": [
       "<IPython.core.display.HTML object>"
      ]
     },
     "metadata": {
      "tags": []
     },
     "output_type": "display_data"
    },
    {
     "data": {
      "text/html": [
       "Client: Yeah. I've . . . sounds good. Yeah, I did. I did. You know, maybe I'd have been better off if I'd just gone on and lived my life rather than try to live other people's lives or whatever, you know. But I gave up being happy myself. You know, I didn't expect you know, I guess I didn't expect myself to be happy, or to really maybe deserve happiness, or something.</p>"
      ],
      "text/plain": [
       "<IPython.core.display.HTML object>"
      ]
     },
     "metadata": {
      "tags": []
     },
     "output_type": "display_data"
    },
    {
     "data": {
      "text/html": [
       "<p><b>Therapist: Sounds like you wanted so much to help people, that ah helping yourself didn't fit into that picture at all.</b>"
      ],
      "text/plain": [
       "<IPython.core.display.HTML object>"
      ]
     },
     "metadata": {
      "tags": []
     },
     "output_type": "display_data"
    },
    {
     "data": {
      "text/html": [
       "Client: Not at all. Not at all. There was enough to do without worrying about your own (T: Mhm, hmm) little problems and things like that (T: Mhm, hmm) at that time, so I said to myself then, you know? Oh, yeah. A lot of things are racing through my mind as we talk and, but there are certain things that go through this whole thing that I pick out in terms of when I was seven, and those are just really important times for me, you know. They were important times in terms of when I was alone, and when I was sure, and when I felt good and I felt a part of the you know, the stars, the universe. I really did feel that. You know, I remember I used to go out when I was 7, 8, 9 years old . . . three or four o'clock in the morning, look up in that beautiful sky and see those stars (T: Mhm, hmm) or whatever, (T: Mhm, hmm) and I'd say, \"That's mine over there and I'm going to be there.\" And I felt good. I felt I don't know, in a sense integrated, more integrated than after . . . and as I continued (T: Mhm, hmm) to do this and fill out the forms for a scholarship, or things like that, I lost it. I really lost it.</p>"
      ],
      "text/plain": [
       "<IPython.core.display.HTML object>"
      ]
     },
     "metadata": {
      "tags": []
     },
     "output_type": "display_data"
    },
    {
     "data": {
      "text/html": [
       "<p><b>Therapist: At seven, you were really a part of the universe and you knew it.</b>"
      ],
      "text/plain": [
       "<IPython.core.display.HTML object>"
      ]
     },
     "metadata": {
      "tags": []
     },
     "output_type": "display_data"
    },
    {
     "data": {
      "text/html": [
       "Client: That's what I thought. But you know, what does a 7 year old know, you know, I don't know. I think I did. Yes, I knew it. I knew it because I knew, because I was always drawn to the stars, you know. (T: Mhm, hmm) It wasn't anything like my parents would wake me up in the middle of the night, or whatever, I woke up; I don't know why.</p>"
      ],
      "text/plain": [
       "<IPython.core.display.HTML object>"
      ]
     },
     "metadata": {
      "tags": []
     },
     "output_type": "display_data"
    },
    {
     "data": {
      "text/html": [
       "<p><b>Therapist: It was something that you wanted to do. It was something you had a view. Not because somebody else said, \"Hey you should be interested in the stars or something like that.\"</b>"
      ],
      "text/plain": [
       "<IPython.core.display.HTML object>"
      ]
     },
     "metadata": {
      "tags": []
     },
     "output_type": "display_data"
    },
    {
     "data": {
      "text/html": [
       "Client: For sure. For sure. And I was, I think at that time I was really the best person that I could be. And you know, I guess, for some reason, I don't want to heap it on everybody else you know, but I was just taught, conditioned or something that . . . to not trust that anymore. (T: Mhm, hmm) To . . . you know. (T: Uh, huh) It's like those things when you're young you hold onto or whatever.</p>"
      ],
      "text/plain": [
       "<IPython.core.display.HTML object>"
      ]
     },
     "metadata": {
      "tags": []
     },
     "output_type": "display_data"
    },
    {
     "data": {
      "text/html": [
       "<p><b>Therapist: \"But then, that's just childish. That's just . . . \"</b>"
      ],
      "text/plain": [
       "<IPython.core.display.HTML object>"
      ]
     },
     "metadata": {
      "tags": []
     },
     "output_type": "display_data"
    },
    {
     "data": {
      "text/html": [
       "Client: Right. Right. Yeah.</p>"
      ],
      "text/plain": [
       "<IPython.core.display.HTML object>"
      ]
     },
     "metadata": {
      "tags": []
     },
     "output_type": "display_data"
    },
    {
     "data": {
      "text/html": [
       "<p><b>Therapist: \"Don't trust that stuff.\" (C: Mhm, hmm) \"They're telling you what's right.\" (C: Yeah.)</b>"
      ],
      "text/plain": [
       "<IPython.core.display.HTML object>"
      ]
     },
     "metadata": {
      "tags": []
     },
     "output_type": "display_data"
    },
    {
     "data": {
      "text/html": [
       "Client: Yeah, yeah. I've really suppressed . . . I guess a hell of a lot of anger. 'Cause you know, when you said that, you know, I felt you know, like . . . you know, I think of all kind of words now. Really for sure. You’re a minority . . . and in terms of a minority within a minority within a minority. Like mother's Osage. She's part Indian, (T: Mhm, hmm) her family . . . that history. (T: Mhm, hmm) Father a descendant of black slaves. (T: Mhm, hmm) You know? And then being picked out, you know? (T: Mhm, hmm) Because that's what it was, you know, 'cause I knew what was happening to other people in the class, whether they were white or black or whatever. But it was . . . you know, but I always really understood that I had to be 200 percent better than everybody else so I'd achieve. I almost killed myself playing football because I wanted to be the littlest superstar, whatever that means. (T: Mhm, hmm. Mhm, hmm) It's crazy things. You know, it was that competitiveness, or whatever, you know. And it was that I wouldn't have anything if I didn't compete and if I didn't do it like, you know, somebody else told me to do. (T: Mhm, hmm) I guess.</p>"
      ],
      "text/plain": [
       "<IPython.core.display.HTML object>"
      ]
     },
     "metadata": {
      "tags": []
     },
     "output_type": "display_data"
    },
    {
     "data": {
      "text/html": [
       "<p><b>Therapist: So those standards and what they did to you really, really dominated your life, if I get it right.</b>"
      ],
      "text/plain": [
       "<IPython.core.display.HTML object>"
      ]
     },
     "metadata": {
      "tags": []
     },
     "output_type": "display_data"
    },
    {
     "data": {
      "text/html": [
       "Client: I think so. I really think so. I, I uh, my reference point became . . . and I guess I bought into that. You know, I really bought into that. And I really, it really seems foreign to me now. It seems as foreign, I think, as leukemia, you know. (T: Mhm, hmm) You know I've . . . it really does, you know.</p>"
      ],
      "text/plain": [
       "<IPython.core.display.HTML object>"
      ]
     },
     "metadata": {
      "tags": []
     },
     "output_type": "display_data"
    },
    {
     "data": {
      "text/html": [
       "<p><b>Therapist: Yeah. One way of putting it is I feel you are saying, \"Damn it, that seven year old was more right than all that's gone on in between.\"</b>"
      ],
      "text/plain": [
       "<IPython.core.display.HTML object>"
      ]
     },
     "metadata": {
      "tags": []
     },
     "output_type": "display_data"
    },
    {
     "data": {
      "text/html": [
       "Client: Yeah. Yeah. And maybe trying to get back to that, and whatever, and now and uh, you know, I just wonder how, how that person at 7 would have been dealing with the leukemia and all those other problems now. (T: Mhm, hmm) It would have been interesting, I think. Probably would've handled it much better. (T: Mhm, hmm. Mhm, hmm) (Pause 7 seconds) (Laughs) Feel some kind of release. I don't know. I told a lot of people you know, about um, about me. You know, and something that came out you know, and that other part of me may be . . . I'm really wondering about trusting too, right now. (T: Mhm, hmm) You know (T: Mhm, hmm) 'cause I've trusted a lot of other people, too. (T: Mhm, hmm)</p>"
      ],
      "text/plain": [
       "<IPython.core.display.HTML object>"
      ]
     },
     "metadata": {
      "tags": []
     },
     "output_type": "display_data"
    },
    {
     "data": {
      "text/html": [
       "<p><b>Therapist: And so you're wondering, \"Yeah, but can I trust him?\"</b>"
      ],
      "text/plain": [
       "<IPython.core.display.HTML object>"
      ]
     },
     "metadata": {
      "tags": []
     },
     "output_type": "display_data"
    },
    {
     "data": {
      "text/html": [
       "Client: Hmm. Well . . .</p>"
      ],
      "text/plain": [
       "<IPython.core.display.HTML object>"
      ]
     },
     "metadata": {
      "tags": []
     },
     "output_type": "display_data"
    },
    {
     "data": {
      "text/html": [
       "<p><b>Therapist: Maybe part of that reason is you feel, \"My God, I've told him a lot. I've trusted him. Have I trusted him too much?\"</b>"
      ],
      "text/plain": [
       "<IPython.core.display.HTML object>"
      ]
     },
     "metadata": {
      "tags": []
     },
     "output_type": "display_data"
    },
    {
     "data": {
      "text/html": [
       "Client: Sure. Well, I guess I'm just going to have to deal with it in terms of do I trust myself to tell you. (T: Mhm, hmm) You know, but I do have that, you know. I have that history. (Laughs) You know, . . . but I've really been you know, like a lot of other people, like a lot of other people, you know, or whatever. But I've learned so many things from this, this whole thing, or whatever, you know. And even just sitting here and talking with you, whether you're Carl Rogers or Jesus Christ or whatever, you know . . .</p>"
      ],
      "text/plain": [
       "<IPython.core.display.HTML object>"
      ]
     },
     "metadata": {
      "tags": []
     },
     "output_type": "display_data"
    },
    {
     "data": {
      "text/html": [
       "<p><b>Therapist: Or Joe Doakes.</b>"
      ],
      "text/plain": [
       "<IPython.core.display.HTML object>"
      ]
     },
     "metadata": {
      "tags": []
     },
     "output_type": "display_data"
    },
    {
     "data": {
      "text/html": [
       "Client: Or whomever, you know, it's a, still it's a very difficult thing for me to . . .</p>"
      ],
      "text/plain": [
       "<IPython.core.display.HTML object>"
      ]
     },
     "metadata": {
      "tags": []
     },
     "output_type": "display_data"
    },
    {
     "data": {
      "text/html": [
       "<p><b>Therapist: Yeah. Yeah.</b>"
      ],
      "text/plain": [
       "<IPython.core.display.HTML object>"
      ]
     },
     "metadata": {
      "tags": []
     },
     "output_type": "display_data"
    },
    {
     "data": {
      "text/html": [
       "Client: And I don't know if I just haven't allowed myself to be open, you know, and to be needy or whatever. But is that junk? That \"credit to . . .\" You know, that really makes me mad. That really made me mad. I mean, I keep, in mind as I'm talking, it keeps coming back to me, you know. \"Credit to my race, to my race.\" I remember that teacher so well, with big boobs, and she put my head right in them and said I was a credit to her race. And you know, that . . . oh, that burned me up.</p>"
      ],
      "text/plain": [
       "<IPython.core.display.HTML object>"
      ]
     },
     "metadata": {
      "tags": []
     },
     "output_type": "display_data"
    },
    {
     "data": {
      "text/html": [
       "<p><b>Therapist: So as you get deeper into that feeling it isn't just that you, earlier, you said you wondered if it was wise of her to do that. Now you know, \"Damn it, I'm really angry at her for doing that to me.\"</b>"
      ],
      "text/plain": [
       "<IPython.core.display.HTML object>"
      ]
     },
     "metadata": {
      "tags": []
     },
     "output_type": "display_data"
    },
    {
     "data": {
      "text/html": [
       "Client: Yeah. And I'm even more angrier when I see it happening all the time. And I don't want it to happen to my kids. (T: Mhm, hmm) And I didn't really want my kids to be a credit to their race. You know? (T: Mhm, hmm) And I know that now. Getting militant. (Laughter)(Pause 6 seconds)(Sigh)</p>"
      ],
      "text/plain": [
       "<IPython.core.display.HTML object>"
      ]
     },
     "metadata": {
      "tags": []
     },
     "output_type": "display_data"
    },
    {
     "data": {
      "text/html": [
       "<p><b>Therapist: Our time's about up and I don't know if there’s more you want to say now for today, okay. Or if not, we can call it quits for today.</b>"
      ],
      "text/plain": [
       "<IPython.core.display.HTML object>"
      ]
     },
     "metadata": {
      "tags": []
     },
     "output_type": "display_data"
    },
    {
     "data": {
      "text/html": [
       "Client: Well I'd like to be able to tell you something.</p>"
      ],
      "text/plain": [
       "<IPython.core.display.HTML object>"
      ]
     },
     "metadata": {
      "tags": []
     },
     "output_type": "display_data"
    },
    {
     "data": {
      "text/html": [
       "<p><b>Therapist: All right.</b>"
      ],
      "text/plain": [
       "<IPython.core.display.HTML object>"
      ]
     },
     "metadata": {
      "tags": []
     },
     "output_type": "display_data"
    },
    {
     "data": {
      "text/html": [
       "Client: That is going to make me feel good. That is going to continue to have me feel positive about myself and to grow and to be nourished or whatever, but I'm really not sure what to say. You know, but I really want to do that, so that I can continue to live, you know. (T: Mhm, hmm. Mhm, hmm) That's important to me, and so (T: Mhm, hmm) um, but it's just not coming. But I think I really want to say that and be comfortable in saying, you know, \"I got raked over the coals and I resent it and I'm mad and I'm angry and I need to get that to be angry (T: Okay) You know. (T: Mhm, hmm)</p>"
      ],
      "text/plain": [
       "<IPython.core.display.HTML object>"
      ]
     },
     "metadata": {
      "tags": []
     },
     "output_type": "display_data"
    },
    {
     "data": {
      "text/html": [
       "<p><b>Therapist: \"Okay. I was really screwed by a lot of people, and I have reason to be angry, and I am angry, and I need to say that.\" I can hear the anger in there.</b>"
      ],
      "text/plain": [
       "<IPython.core.display.HTML object>"
      ]
     },
     "metadata": {
      "tags": []
     },
     "output_type": "display_data"
    },
    {
     "data": {
      "text/html": [
       "Client: Yeah. But you know how I haven't said it yet, though, you know. I really haven't. You know, I think it um, I think it's just a part of being civilized maybe.</p>"
      ],
      "text/plain": [
       "<IPython.core.display.HTML object>"
      ]
     },
     "metadata": {
      "tags": []
     },
     "output_type": "display_data"
    },
    {
     "data": {
      "text/html": [
       "<p><b>Therapist: Mhm, hmm. You're talking about it in a very civilized fashion. (C: Right) Living up to those standards.</b>"
      ],
      "text/plain": [
       "<IPython.core.display.HTML object>"
      ]
     },
     "metadata": {
      "tags": []
     },
     "output_type": "display_data"
    },
    {
     "data": {
      "text/html": [
       "Client: Yeah. Which I'd like to just go back and kick some butts, I think. (Sigh) Well, enough of the militancy.</p>"
      ],
      "text/plain": [
       "<IPython.core.display.HTML object>"
      ]
     },
     "metadata": {
      "tags": []
     },
     "output_type": "display_data"
    },
    {
     "data": {
      "text/html": [
       "<p><b>Therapist: Okay? Shall we call it quits for today?</b>"
      ],
      "text/plain": [
       "<IPython.core.display.HTML object>"
      ]
     },
     "metadata": {
      "tags": []
     },
     "output_type": "display_data"
    },
    {
     "data": {
      "text/html": [
       "Client: Yeah. I think so.</p>"
      ],
      "text/plain": [
       "<IPython.core.display.HTML object>"
      ]
     },
     "metadata": {
      "tags": []
     },
     "output_type": "display_data"
    },
    {
     "data": {
      "text/html": [
       "<p><b>Therapist: Alright good. See you tomorrow.</b>"
      ],
      "text/plain": [
       "<IPython.core.display.HTML object>"
      ]
     },
     "metadata": {
      "tags": []
     },
     "output_type": "display_data"
    },
    {
     "data": {
      "text/html": [
       "Client: Uh, I don't know. I wa ... I was thinking that when we ... when we talked earlier about the, the anger ... (T: Mmm.) I've been thinking a great deal about that.</p>"
      ],
      "text/plain": [
       "<IPython.core.display.HTML object>"
      ]
     },
     "metadata": {
      "tags": []
     },
     "output_type": "display_data"
    },
    {
     "data": {
      "text/html": [
       "<p><b>Therapist: I've thought a lot about what you had to say about that.</b>"
      ],
      "text/plain": [
       "<IPython.core.display.HTML object>"
      ]
     },
     "metadata": {
      "tags": []
     },
     "output_type": "display_data"
    },
    {
     "data": {
      "text/html": [
       "Client: Right, you know, and I'm not sure that, uh, that I really don't want to be angry, you know, and I'm not sure if anger ... being angry now, is a part of the process and I've got to do that, but I'd like to ... I guess my uh ... I guess my mind uh academically or something, you know, and something other than emotion or whatever, like, would like to tell me that, uh, I'd like to uh ... to not be angry and to skip over that part, if that's a part of the process, you know? But I'm not sure I can do that (small laugh), you know.</p>"
      ],
      "text/plain": [
       "<IPython.core.display.HTML object>"
      ]
     },
     "metadata": {
      "tags": []
     },
     "output_type": "display_data"
    },
    {
     "data": {
      "text/html": [
       "<p><b>Therapist: Your mind says sort of, \"Oh, cool it. Don't ... don't get into uh, such strong emotion\".</b>"
      ],
      "text/plain": [
       "<IPython.core.display.HTML object>"
      ]
     },
     "metadata": {
      "tags": []
     },
     "output_type": "display_data"
    },
    {
     "data": {
      "text/html": [
       "Client: For sure. It almost seems like that ... that uh whatever is happening in my environment or whatever happened in my environment is pulling me into again uh, that kind of a trap ... that kind of a system that I don't particularly care ... er, er, you know, if you know what I mean.</p>"
      ],
      "text/plain": [
       "<IPython.core.display.HTML object>"
      ]
     },
     "metadata": {
      "tags": []
     },
     "output_type": "display_data"
    },
    {
     "data": {
      "text/html": [
       "<p><b>Therapist: Mmm. I think I get that: that your ... your mind is taking the place of the system in saying now, uh, \"Play it right. Do the right ... do the proper thing\".</b>"
      ],
      "text/plain": [
       "<IPython.core.display.HTML object>"
      ]
     },
     "metadata": {
      "tags": []
     },
     "output_type": "display_data"
    },
    {
     "data": {
      "text/html": [
       "Client: Right.</p>"
      ],
      "text/plain": [
       "<IPython.core.display.HTML object>"
      ]
     },
     "metadata": {
      "tags": []
     },
     "output_type": "display_data"
    },
    {
     "data": {
      "text/html": [
       "<p><b>Therapist: But some other part of you is saying, \"Yeah, but there's some anger there\".</b>"
      ],
      "text/plain": [
       "<IPython.core.display.HTML object>"
      ]
     },
     "metadata": {
      "tags": []
     },
     "output_type": "display_data"
    },
    {
     "data": {
      "text/html": [
       "Client: For sure. For sure.</p>"
      ],
      "text/plain": [
       "<IPython.core.display.HTML object>"
      ]
     },
     "metadata": {
      "tags": []
     },
     "output_type": "display_data"
    },
    {
     "data": {
      "text/html": [
       "<p><b>Therapist: There's some real anger there.</b>"
      ],
      "text/plain": [
       "<IPython.core.display.HTML object>"
      ]
     },
     "metadata": {
      "tags": []
     },
     "output_type": "display_data"
    },
    {
     "data": {
      "text/html": [
       "Client: Right. It's ... it's almost like in this country ... and, and I've always felt like this ... you only have about two options, you know, when you deal with race ... you either have to be ... you're either a racist or you're an anti racist. (T: Mmm.) And that doesn't really seem to be the kind of thing that I'm, you know .... I don't really care to be an anti racist, if you know what I mean (T: Mmm.) anymore. Uh, and I don't wanna be a reflection of any other ... of any other larger society at all. (T: Mmm.) I really don't want to ...</p>"
      ],
      "text/plain": [
       "<IPython.core.display.HTML object>"
      ]
     },
     "metadata": {
      "tags": []
     },
     "output_type": "display_data"
    },
    {
     "data": {
      "text/html": [
       "<p><b>Therapist: You'd like to get in touch with what's going on in you.</b>"
      ],
      "text/plain": [
       "<IPython.core.display.HTML object>"
      ]
     },
     "metadata": {
      "tags": []
     },
     "output_type": "display_data"
    },
    {
     "data": {
      "text/html": [
       "Client: For sure.</p>"
      ],
      "text/plain": [
       "<IPython.core.display.HTML object>"
      ]
     },
     "metadata": {
      "tags": []
     },
     "output_type": "display_data"
    },
    {
     "data": {
      "text/html": [
       "<p><b>Therapist: Not ... not some label or other.</b>"
      ],
      "text/plain": [
       "<IPython.core.display.HTML object>"
      ]
     },
     "metadata": {
      "tags": []
     },
     "output_type": "display_data"
    },
    {
     "data": {
      "text/html": [
       "Client: For sure. I think that I could probably trust that a lot better than, than, than trusting what's happening or what has happened. (T: Mmm.) And, um, and when I think about that ... when I think about all of that, you know, uh, the things that we talked about ... I, I, I think that, um, that's worse than the leukemia.</p>"
      ],
      "text/plain": [
       "<IPython.core.display.HTML object>"
      ]
     },
     "metadata": {
      "tags": []
     },
     "output_type": "display_data"
    },
    {
     "data": {
      "text/html": [
       "<p><b>Therapist: Uh, uh-huh.</b>"
      ],
      "text/plain": [
       "<IPython.core.display.HTML object>"
      ]
     },
     "metadata": {
      "tags": []
     },
     "output_type": "display_data"
    },
    {
     "data": {
      "text/html": [
       "Client: You know? I know that may sound very strange or whatever, but a lot of things have been strange</p>"
      ],
      "text/plain": [
       "<IPython.core.display.HTML object>"
      ]
     },
     "metadata": {
      "tags": []
     },
     "output_type": "display_data"
    },
    {
     "data": {
      "text/html": [
       "<p><b>Therapist: Mmm. Mmm.</b>"
      ],
      "text/plain": [
       "<IPython.core.display.HTML object>"
      ]
     },
     "metadata": {
      "tags": []
     },
     "output_type": "display_data"
    },
    {
     "data": {
      "text/html": [
       "Client: You know, since this time; and, and what has happened to me didn't just start when I found out that I, you know, was going to die. (T: Mmm.) Kind of thing.</p>"
      ],
      "text/plain": [
       "<IPython.core.display.HTML object>"
      ]
     },
     "metadata": {
      "tags": []
     },
     "output_type": "display_data"
    },
    {
     "data": {
      "text/html": [
       "<p><b>Therapist: Let me see if I understand that. That you feel as though, um, what the culture and people and so on have ... have done to you ... that's really caused you more suffering than the leukemia. Is that what you're saying?</b>"
      ],
      "text/plain": [
       "<IPython.core.display.HTML object>"
      ]
     },
     "metadata": {
      "tags": []
     },
     "output_type": "display_data"
    },
    {
     "data": {
      "text/html": [
       "Client: I think so. (T: Mmm.) I think so. And to some extent that ... that would ... that is mild ... like, for instance, you know, you ... I don't know what would have happened if I had died or if I will or whatever, but I certainly know what's happening now and what happened.</p>"
      ],
      "text/plain": [
       "<IPython.core.display.HTML object>"
      ]
     },
     "metadata": {
      "tags": []
     },
     "output_type": "display_data"
    },
    {
     "data": {
      "text/html": [
       "<p><b>Therapist: Mmm.</b>"
      ],
      "text/plain": [
       "<IPython.core.display.HTML object>"
      ]
     },
     "metadata": {
      "tags": []
     },
     "output_type": "display_data"
    },
    {
     "data": {
      "text/html": [
       "Client: You see.</p>"
      ],
      "text/plain": [
       "<IPython.core.display.HTML object>"
      ]
     },
     "metadata": {
      "tags": []
     },
     "output_type": "display_data"
    },
    {
     "data": {
      "text/html": [
       "<p><b>Therapist: Mmm.</b>"
      ],
      "text/plain": [
       "<IPython.core.display.HTML object>"
      ]
     },
     "metadata": {
      "tags": []
     },
     "output_type": "display_data"
    },
    {
     "data": {
      "text/html": [
       "Client: And to some extent that ... that kind of leukemia, that kind of deterioration of the body is the same kind of thing that happened to my mind. (T: Mmm.) And um ... (T: Mmm.) You know, it’s ...</p>"
      ],
      "text/plain": [
       "<IPython.core.display.HTML object>"
      ]
     },
     "metadata": {
      "tags": []
     },
     "output_type": "display_data"
    },
    {
     "data": {
      "text/html": [
       "<p><b>Therapist: So really, what the culture did to you was give you a cancer of the mind.</b>"
      ],
      "text/plain": [
       "<IPython.core.display.HTML object>"
      ]
     },
     "metadata": {
      "tags": []
     },
     "output_type": "display_data"
    },
    {
     "data": {
      "text/html": [
       "Client: Yeah. I, I, I, I really ... I think, I really want to say that and I really want to, um, and I believe it, you know, and I guess that part of me that's, that's my culture or is a part of the total, ... is saying that it's not all that good to be angry, you know, because militancy is frowned upon or whatever, you know. (T: Mmm, mmm, mmm.) And I guess I'm using mili- militant in my sense because of ... it's, it's just traditionally, you know, when blacks become angry they're, they're not angry ... they're militant. (T: Mmm.) You know what I mean (slight laughter)?</p>"
      ],
      "text/plain": [
       "<IPython.core.display.HTML object>"
      ]
     },
     "metadata": {
      "tags": []
     },
     "output_type": "display_data"
    },
    {
     "data": {
      "text/html": [
       "<p><b>Therapist: I know. Another label.</b>"
      ],
      "text/plain": [
       "<IPython.core.display.HTML object>"
      ]
     },
     "metadata": {
      "tags": []
     },
     "output_type": "display_data"
    },
    {
     "data": {
      "text/html": [
       "Client: Mmm. For sure, for sure, for sure. Yeah. And I ... and there's nobody that I can put my finger on, you know ... that person that started the whole thing ... that process, you know, because that would probably be a lot better for me, you know, then I probably would, would try to, to do ... to do that person in.</p>"
      ],
      "text/plain": [
       "<IPython.core.display.HTML object>"
      ]
     },
     "metadata": {
      "tags": []
     },
     "output_type": "display_data"
    },
    {
     "data": {
      "text/html": [
       "<p><b>Therapist: Yeah ... If you could ... (C: You know?) If you could pin it on one person, then your rage would be justified and you could really get after that person.</b>"
      ],
      "text/plain": [
       "<IPython.core.display.HTML object>"
      ]
     },
     "metadata": {
      "tags": []
     },
     "output_type": "display_data"
    },
    {
     "data": {
      "text/html": [
       "Client: Mmm. But how, you know ... but how do you blame somebody else who's sick? (T: Mmm.) You know? And I think that people that do that to other people, or at least when it was done to me, um ... they're really sick, you know. And here I am, you know, trying to ... you know, I don't know if it was forgiving, I don't know if I'm sounding confused or whatever, maybe, you know, but trying to accept their sickness, you know.</p>"
      ],
      "text/plain": [
       "<IPython.core.display.HTML object>"
      ]
     },
     "metadata": {
      "tags": []
     },
     "output_type": "display_data"
    },
    {
     "data": {
      "text/html": [
       "<p><b>Therapist: Mmm.</b>"
      ],
      "text/plain": [
       "<IPython.core.display.HTML object>"
      ]
     },
     "metadata": {
      "tags": []
     },
     "output_type": "display_data"
    },
    {
     "data": {
      "text/html": [
       "Client: And at the same time, you know, I really haven't had the opportunity of letting anybody accept mine.</p>"
      ],
      "text/plain": [
       "<IPython.core.display.HTML object>"
      ]
     },
     "metadata": {
      "tags": []
     },
     "output_type": "display_data"
    },
    {
     "data": {
      "text/html": [
       "<p><b>Therapist: Mmm.</b>"
      ],
      "text/plain": [
       "<IPython.core.display.HTML object>"
      ]
     },
     "metadata": {
      "tags": []
     },
     "output_type": "display_data"
    },
    {
     "data": {
      "text/html": [
       "Client: Or maybe I haven't given it to them, but ...</p>"
      ],
      "text/plain": [
       "<IPython.core.display.HTML object>"
      ]
     },
     "metadata": {
      "tags": []
     },
     "output_type": "display_data"
    },
    {
     "data": {
      "text/html": [
       "<p><b>Therapist: Yeah, maybe you haven't given it to them.</b>"
      ],
      "text/plain": [
       "<IPython.core.display.HTML object>"
      ]
     },
     "metadata": {
      "tags": []
     },
     "output_type": "display_data"
    },
    {
     "data": {
      "text/html": [
       "Client: Right.</p>"
      ],
      "text/plain": [
       "<IPython.core.display.HTML object>"
      ]
     },
     "metadata": {
      "tags": []
     },
     "output_type": "display_data"
    },
    {
     "data": {
      "text/html": [
       "<p><b>Therapist: That's what I sense is going on now ... that you feel \"there's so many reasons why I really shouldn't express my anger. I'll, I'll talk about all those reasons\".</b>"
      ],
      "text/plain": [
       "<IPython.core.display.HTML object>"
      ]
     },
     "metadata": {
      "tags": []
     },
     "output_type": "display_data"
    },
    {
     "data": {
      "text/html": [
       "Client: Yeah (small laugh), for sure. I don't know really, you know. Maybe I'll just be angry one day (small laugh) and maybe I'll really feel better or whatever, you know, and, and I ... when I, when I smile, I ... I'm uh, you know, I'm smiling but there’s a lot of ... and I'm sure you know that ... there's a lot of anger there. (T: Mmm.) You know, but it's not my nature to be angry (T: Mmm.) It's not my nature to be angry, but I feel angry.</p>"
      ],
      "text/plain": [
       "<IPython.core.display.HTML object>"
      ]
     },
     "metadata": {
      "tags": []
     },
     "output_type": "display_data"
    },
    {
     "data": {
      "text/html": [
       "<p><b>Therapist: Yeah. Um, and uh so I hear you explaining and explaining that uh, uh, \"that's not my nature to be angry. It's just that I am angry right now\".</b>"
      ],
      "text/plain": [
       "<IPython.core.display.HTML object>"
      ]
     },
     "metadata": {
      "tags": []
     },
     "output_type": "display_data"
    },
    {
     "data": {
      "text/html": [
       "Client: For sure (slight laugh), for sure. And to try to be angry in a productive ... I don't know how you'd be angry in a productive way ... you know, in terms of ... It's like now when I ... when I respond to people, you know ... if, if when you encounter people, you know, whether it's in the street, whether it's in a professional situation or whatever, you know ...if people send out certain messages and wh ... no matter what they're saying or whatever ... there are certain kinds of messages that I'm getting, you know. They're saying that, \"hey, you know ... that isn't for me\" kind of thing, you know. And that's before, you know, I'd like to work with that, and ride it ... like to try to communicate without alienating ... (T: Mmm.) people or whatever, but now, you know, I'm ending up saying, you know, like ...\"hey, that's a bunch of crap\", (T: Mmm.) you know. \"Don't ... don't, don't tell me about the way that I should do it or, or give me all that nonverbal stuff about, um, you saying that I'm OK, but by nonverbally saying ... \"hey\", you know, \"you're really not OK\", you know. And I don't want to hear that kind of stuff anymore.</p>"
      ],
      "text/plain": [
       "<IPython.core.display.HTML object>"
      ]
     },
     "metadata": {
      "tags": []
     },
     "output_type": "display_data"
    },
    {
     "data": {
      "text/html": [
       "<p><b>Therapist: I get what you're saying and I also feel quite strongly that I want to say, \"it's OK with me if you're angry here\"...</b>"
      ],
      "text/plain": [
       "<IPython.core.display.HTML object>"
      ]
     },
     "metadata": {
      "tags": []
     },
     "output_type": "display_data"
    },
    {
     "data": {
      "text/html": [
       "Client: (Pause) ... But I don't, you know ... it's hard to know how to be angry, you know ... hard to ...</p>"
      ],
      "text/plain": [
       "<IPython.core.display.HTML object>"
      ]
     },
     "metadata": {
      "tags": []
     },
     "output_type": "display_data"
    },
    {
     "data": {
      "text/html": [
       "<p><b>Therapist: Sure, sure, I'm not saying you have to be. (C: Sure). I'm just saying it's OK with me.</b>"
      ],
      "text/plain": [
       "<IPython.core.display.HTML object>"
      ]
     },
     "metadata": {
      "tags": []
     },
     "output_type": "display_data"
    },
    {
     "data": {
      "text/html": [
       "Client: Mmm.</p>"
      ],
      "text/plain": [
       "<IPython.core.display.HTML object>"
      ]
     },
     "metadata": {
      "tags": []
     },
     "output_type": "display_data"
    },
    {
     "data": {
      "text/html": [
       "<p><b>Therapist: If you feel like being angry, you can be angry.</b>"
      ],
      "text/plain": [
       "<IPython.core.display.HTML object>"
      ]
     },
     "metadata": {
      "tags": []
     },
     "output_type": "display_data"
    },
    {
     "data": {
      "text/html": [
       "Client: You really believe that?</p>"
      ],
      "text/plain": [
       "<IPython.core.display.HTML object>"
      ]
     },
     "metadata": {
      "tags": []
     },
     "output_type": "display_data"
    },
    {
     "data": {
      "text/html": [
       "<p><b>Therapist: Damn right.</b>"
      ],
      "text/plain": [
       "<IPython.core.display.HTML object>"
      ]
     },
     "metadata": {
      "tags": []
     },
     "output_type": "display_data"
    },
    {
     "data": {
      "text/html": [
       "Client: (12 second pause.) Well. (15 second pause.) (Sigh.) I'm not sure how to respond to that at all, you know, because a part of that anger is, you know, the ... the hurt, and maybe if I’m... maybe what's happening is that if I'm ... if I become angry and I really let it hang out, that I really will see how hurt I am.</p>"
      ],
      "text/plain": [
       "<IPython.core.display.HTML object>"
      ]
     },
     "metadata": {
      "tags": []
     },
     "output_type": "display_data"
    },
    {
     "data": {
      "text/html": [
       "<p><b>Therapist: Mmm, mmm.</b>"
      ],
      "text/plain": [
       "<IPython.core.display.HTML object>"
      ]
     },
     "metadata": {
      "tags": []
     },
     "output_type": "display_data"
    },
    {
     "data": {
      "text/html": [
       "Client: And um, you know, that just came to me as you were talking.</p>"
      ],
      "text/plain": [
       "<IPython.core.display.HTML object>"
      ]
     },
     "metadata": {
      "tags": []
     },
     "output_type": "display_data"
    },
    {
     "data": {
      "text/html": [
       "<p><b>Therapist: Mmm, mmm.</b>"
      ],
      "text/plain": [
       "<IPython.core.display.HTML object>"
      ]
     },
     "metadata": {
      "tags": []
     },
     "output_type": "display_data"
    },
    {
     "data": {
      "text/html": [
       "Client: That, you know ...</p>"
      ],
      "text/plain": [
       "<IPython.core.display.HTML object>"
      ]
     },
     "metadata": {
      "tags": []
     },
     "output_type": "display_data"
    },
    {
     "data": {
      "text/html": [
       "<p><b>Therapist: Perhaps at a deeper level you're afraid of the hurt that you may experience if you let yourself experience the anger.</b>"
      ],
      "text/plain": [
       "<IPython.core.display.HTML object>"
      ]
     },
     "metadata": {
      "tags": []
     },
     "output_type": "display_data"
    },
    {
     "data": {
      "text/html": [
       "Client: For sure.</p>"
      ],
      "text/plain": [
       "<IPython.core.display.HTML object>"
      ]
     },
     "metadata": {
      "tags": []
     },
     "output_type": "display_data"
    },
    {
     "data": {
      "text/html": [
       "<p><b>Therapist: Mmm.</b>"
      ],
      "text/plain": [
       "<IPython.core.display.HTML object>"
      ]
     },
     "metadata": {
      "tags": []
     },
     "output_type": "display_data"
    },
    {
     "data": {
      "text/html": [
       "Client: Really.</p>"
      ],
      "text/plain": [
       "<IPython.core.display.HTML object>"
      ]
     },
     "metadata": {
      "tags": []
     },
     "output_type": "display_data"
    },
    {
     "data": {
      "text/html": [
       "<p><b>Therapist: Mmm.</b>"
      ],
      "text/plain": [
       "<IPython.core.display.HTML object>"
      ]
     },
     "metadata": {
      "tags": []
     },
     "output_type": "display_data"
    },
    {
     "data": {
      "text/html": [
       "Client: (Small laugh. Pause.) Um, whew ... (Pause.) I keep getting these blocks, you know ... these, you know ... when I come to something like that, you know, because, you know, to me that's a revelation and I'm not really sure that, uh, risking being angry I guess ... (T: Mmm.) or something like that, you know.</p>"
      ],
      "text/plain": [
       "<IPython.core.display.HTML object>"
      ]
     },
     "metadata": {
      "tags": []
     },
     "output_type": "display_data"
    },
    {
     "data": {
      "text/html": [
       "<p><b>Therapist: Mmm.</b>"
      ],
      "text/plain": [
       "<IPython.core.display.HTML object>"
      ]
     },
     "metadata": {
      "tags": []
     },
     "output_type": "display_data"
    },
    {
     "data": {
      "text/html": [
       "Client: Losing control, maybe.</p>"
      ],
      "text/plain": [
       "<IPython.core.display.HTML object>"
      ]
     },
     "metadata": {
      "tags": []
     },
     "output_type": "display_data"
    },
    {
     "data": {
      "text/html": [
       "<p><b>Therapist: Yeah, mmm.</b>"
      ],
      "text/plain": [
       "<IPython.core.display.HTML object>"
      ]
     },
     "metadata": {
      "tags": []
     },
     "output_type": "display_data"
    },
    {
     "data": {
      "text/html": [
       "Client: You know? (Pause.) Well ... (takes a drink of water).</p>"
      ],
      "text/plain": [
       "<IPython.core.display.HTML object>"
      ]
     },
     "metadata": {
      "tags": []
     },
     "output_type": "display_data"
    },
    {
     "data": {
      "text/html": [
       "<p><b>Therapist: I really do get that ... that this ... this realization that, \"Maybe what I'm most afraid of is the hurt that I might experience\", um, makes you more cautious about whether you should, whether you should or could really let go of the ... of the anger.</b>"
      ],
      "text/plain": [
       "<IPython.core.display.HTML object>"
      ]
     },
     "metadata": {
      "tags": []
     },
     "output_type": "display_data"
    },
    {
     "data": {
      "text/html": [
       "Client: I really don't know, I think that ...</p>"
      ],
      "text/plain": [
       "<IPython.core.display.HTML object>"
      ]
     },
     "metadata": {
      "tags": []
     },
     "output_type": "display_data"
    },
    {
     "data": {
      "text/html": [
       "<p><b>Therapist: It's a risk.</b>"
      ],
      "text/plain": [
       "<IPython.core.display.HTML object>"
      ]
     },
     "metadata": {
      "tags": []
     },
     "output_type": "display_data"
    },
    {
     "data": {
      "text/html": [
       "Client: Right. And it's, you know ... I hadn't really thought about that before.</p>"
      ],
      "text/plain": [
       "<IPython.core.display.HTML object>"
      ]
     },
     "metadata": {
      "tags": []
     },
     "output_type": "display_data"
    },
    {
     "data": {
      "text/html": [
       "<p><b>Therapist: Mmm. It's new.</b>"
      ],
      "text/plain": [
       "<IPython.core.display.HTML object>"
      ]
     },
     "metadata": {
      "tags": []
     },
     "output_type": "display_data"
    },
    {
     "data": {
      "text/html": [
       "Client: Yeah. It's, uh ... I guess I would be ... and I'd re-really would admit openly that I'm hurt. I, I said that I've been hurt.</p>"
      ],
      "text/plain": [
       "<IPython.core.display.HTML object>"
      ]
     },
     "metadata": {
      "tags": []
     },
     "output_type": "display_data"
    },
    {
     "data": {
      "text/html": [
       "<p><b>Therapist: Mmm.</b>"
      ],
      "text/plain": [
       "<IPython.core.display.HTML object>"
      ]
     },
     "metadata": {
      "tags": []
     },
     "output_type": "display_data"
    },
    {
     "data": {
      "text/html": [
       "Client: And I think, you know, that I, I feel I've been hurt, but to really ... to show that, you know ...</p>"
      ],
      "text/plain": [
       "<IPython.core.display.HTML object>"
      ]
     },
     "metadata": {
      "tags": []
     },
     "output_type": "display_data"
    },
    {
     "data": {
      "text/html": [
       "<p><b>Therapist: To show it and ... I guess to let yourself sort of ... experience it, that ... that, I guess would be difficult.</b>"
      ],
      "text/plain": [
       "<IPython.core.display.HTML object>"
      ]
     },
     "metadata": {
      "tags": []
     },
     "output_type": "display_data"
    },
    {
     "data": {
      "text/html": [
       "Client: Yeah, I, I don't know. It ... it's, it, it's as scary, I think, as the possibility of ... that I had before ... more than before, about dying, you know.</p>"
      ],
      "text/plain": [
       "<IPython.core.display.HTML object>"
      ]
     },
     "metadata": {
      "tags": []
     },
     "output_type": "display_data"
    },
    {
     "data": {
      "text/html": [
       "<p><b>Therapist: Mmm. Mmm.</b>"
      ],
      "text/plain": [
       "<IPython.core.display.HTML object>"
      ]
     },
     "metadata": {
      "tags": []
     },
     "output_type": "display_data"
    },
    {
     "data": {
      "text/html": [
       "Client: And maybe, you know ... guess I was really scared because of the symptoms, you know, of, of, you know ... not being able to walk and not being able to see, and things like that, you know. And having to depend on somebody, you know. And for God's sake, you know ... having to show somebody that I'm ... that I'm hurt.(T: Mmm.) And how, you know, how can I trust that to somebody, (T: Mmm) you know. Umm ...</p>"
      ],
      "text/plain": [
       "<IPython.core.display.HTML object>"
      ]
     },
     "metadata": {
      "tags": []
     },
     "output_type": "display_data"
    },
    {
     "data": {
      "text/html": [
       "<p><b>Therapist: Seems like a horribly big risk.</b>"
      ],
      "text/plain": [
       "<IPython.core.display.HTML object>"
      ]
     },
     "metadata": {
      "tags": []
     },
     "output_type": "display_data"
    },
    {
     "data": {
      "text/html": [
       "Client: Yeah, it is (small laugh). Seems to be getting bigger and bigger as we talk!</p>"
      ],
      "text/plain": [
       "<IPython.core.display.HTML object>"
      ]
     },
     "metadata": {
      "tags": []
     },
     "output_type": "display_data"
    },
    {
     "data": {
      "text/html": [
       "<p><b>Therapist: Mmm, mmm, mmm. \"Suppose I really expose to somebody the fact that I'm deeply, deeply hurt\". That in a sense would be comparable to having to be dependent on someone when you can't walk or something like that.</b>"
      ],
      "text/plain": [
       "<IPython.core.display.HTML object>"
      ]
     },
     "metadata": {
      "tags": []
     },
     "output_type": "display_data"
    },
    {
     "data": {
      "text/html": [
       "Client: (Smiles and sighs.) Right. (Pause.) Yeah. I'd like to just to say it's my ... it’s trying my conditioning. I try not to ... one way out of it ... and, uh (laughs) ... But that ... that isn't really acceptable to me now because I ... I, I, I, I feel that I ... I feel like ... that I have to express that, that hurt or whatever, but you know, I can say that, you know, and I know right down here, you know, I'm ... I'm saying that and when I say it, you know, it kind of keeps something down here. (Gestures, hand to chest, palm down. Laughs.), you know.</p>"
      ],
      "text/plain": [
       "<IPython.core.display.HTML object>"
      ]
     },
     "metadata": {
      "tags": []
     },
     "output_type": "display_data"
    },
    {
     "data": {
      "text/html": [
       "<p><b>Therapist: Mmm. You're saying it from here up. (Gestures, hand at chest, palm down).</b>"
      ],
      "text/plain": [
       "<IPython.core.display.HTML object>"
      ]
     },
     "metadata": {
      "tags": []
     },
     "output_type": "display_data"
    },
    {
     "data": {
      "text/html": [
       "Client: For sure. For sure (small laugh). I don't know how to do that exactly ... whatever ... It's like I don't drink a lot, you know, because I don't really want to, uh ... (T: Mmm.) ... experience that kind of, uh, you know ... alcohol to me is a depressant anyway, and um, you know ... that's about the only thing I really like to get out ... to really get out, you know, and maybe saying, you know, like I'll love somebody. \"I gave of myself\". I did the ... hell ... the best I could, and it wasn't good enough, you know, and you know, demand on top of demand and everything like that, you know ... It's just, you know ... Shit ... you know, it's, it's like that I'd like to be able uhh ... and I said this here, the other day or when I was talking to you ... that I'd like to be able to, to say that ... yeah, \"I was screwed over and I got hurt and everything else\", like that, or whatever, but it's an ... it's almost an admission in a, in a way on another level of, of ... of saying that they got the best of me, you know.</p>"
      ],
      "text/plain": [
       "<IPython.core.display.HTML object>"
      ]
     },
     "metadata": {
      "tags": []
     },
     "output_type": "display_data"
    },
    {
     "data": {
      "text/html": [
       "<p><b>Therapist: Mmm, mmm, mmm.</b>"
      ],
      "text/plain": [
       "<IPython.core.display.HTML object>"
      ]
     },
     "metadata": {
      "tags": []
     },
     "output_type": "display_data"
    },
    {
     "data": {
      "text/html": [
       "Client: And I really don' want ...</p>"
      ],
      "text/plain": [
       "<IPython.core.display.HTML object>"
      ]
     },
     "metadata": {
      "tags": []
     },
     "output_type": "display_data"
    },
    {
     "data": {
      "text/html": [
       "<p><b>Therapist: Mmm.</b>"
      ],
      "text/plain": [
       "<IPython.core.display.HTML object>"
      ]
     },
     "metadata": {
      "tags": []
     },
     "output_type": "display_data"
    },
    {
     "data": {
      "text/html": [
       "Client: You know, I really don't want anybody historically to get, have ... to have gotten the best of me ... but they did. They did. They beat the hell out of me.</p>"
      ],
      "text/plain": [
       "<IPython.core.display.HTML object>"
      ]
     },
     "metadata": {
      "tags": []
     },
     "output_type": "display_data"
    },
    {
     "data": {
      "text/html": [
       "<p><b>Therapist: You don't want to say, \"I really was defeated at times\", and yet that's the truth.</b>"
      ],
      "text/plain": [
       "<IPython.core.display.HTML object>"
      ]
     },
     "metadata": {
      "tags": []
     },
     "output_type": "display_data"
    },
    {
     "data": {
      "text/html": [
       "Client: Mmm. It is. (Sighs.) (Pause.) You know, being ... having it being all right to be defeated and be beaten and I don't know if there's any value in, you know ... maybe to myself ... admitting it to myself, or whatever, you know, but you know, I ... I'm really finding out I got a lot of (laughs), hangups in terms of, in that line that I hadn't thought of before, you know ... in terms of, you know, because I don't want to be beaten. (T: Mmm.) But I was, you know.</p>"
      ],
      "text/plain": [
       "<IPython.core.display.HTML object>"
      ]
     },
     "metadata": {
      "tags": []
     },
     "output_type": "display_data"
    },
    {
     "data": {
      "text/html": [
       "<p><b>Therapist: Mmm.</b>"
      ],
      "text/plain": [
       "<IPython.core.display.HTML object>"
      ]
     },
     "metadata": {
      "tags": []
     },
     "output_type": "display_data"
    },
    {
     "data": {
      "text/html": [
       "Client: Because I think when you are hurt, that's being beaten except, you know ...</p>"
      ],
      "text/plain": [
       "<IPython.core.display.HTML object>"
      ]
     },
     "metadata": {
      "tags": []
     },
     "output_type": "display_data"
    },
    {
     "data": {
      "text/html": [
       "<p><b>Therapist: Mmm, mmm.</b>"
      ],
      "text/plain": [
       "<IPython.core.display.HTML object>"
      ]
     },
     "metadata": {
      "tags": []
     },
     "output_type": "display_data"
    },
    {
     "data": {
      "text/html": [
       "Client: And I allowed myself to, and I don't regret caring, and I don't regret loving or whatever, but you know ... like I'm a ... I'm a kid, you know, I'm a kid in a way. I like to be loved too; I like to be uh ... (T: Mmm, mmm.) ... some reciprocity. And I'm going to start, I think, expecting that. You know ... without being cold or anything like that. (T: Mmm.) But I have to, you know, start getting something back in return.</p>"
      ],
      "text/plain": [
       "<IPython.core.display.HTML object>"
      ]
     },
     "metadata": {
      "tags": []
     },
     "output_type": "display_data"
    },
    {
     "data": {
      "text/html": [
       "<p><b>Therapist: You want love to be mutual.</b>"
      ],
      "text/plain": [
       "<IPython.core.display.HTML object>"
      ]
     },
     "metadata": {
      "tags": []
     },
     "output_type": "display_data"
    },
    {
     "data": {
      "text/html": [
       "Client: For sure, for sure. (T: Mmm,hmm.) And I don't want to have, uh get in the situation like I'm in now, you know, where I'm afraid to, to, to, show anybody that I am, I'm hurt, you know. (T: Mmm,mmm.) Scared to death ... terrified.</p>"
      ],
      "text/plain": [
       "<IPython.core.display.HTML object>"
      ]
     },
     "metadata": {
      "tags": []
     },
     "output_type": "display_data"
    },
    {
     "data": {
      "text/html": [
       "<p><b>Therapist: Something really awful about showing ... letting anyone know that \"I'm hurt\". (C: Yeah.) \"I'm hurting\".</b>"
      ],
      "text/plain": [
       "<IPython.core.display.HTML object>"
      ]
     },
     "metadata": {
      "tags": []
     },
     "output_type": "display_data"
    },
    {
     "data": {
      "text/html": [
       "Client: Sure, sure. It's, you know ... it has something to do with being a man and it has something to do with ... with the race thing, you know.</p>"
      ],
      "text/plain": [
       "<IPython.core.display.HTML object>"
      ]
     },
     "metadata": {
      "tags": []
     },
     "output_type": "display_data"
    },
    {
     "data": {
      "text/html": [
       "<p><b>Therapist: Mmm.</b>"
      ],
      "text/plain": [
       "<IPython.core.display.HTML object>"
      ]
     },
     "metadata": {
      "tags": []
     },
     "output_type": "display_data"
    },
    {
     "data": {
      "text/html": [
       "Client: It has something to do with the relationship ...</p>"
      ],
      "text/plain": [
       "<IPython.core.display.HTML object>"
      ]
     },
     "metadata": {
      "tags": []
     },
     "output_type": "display_data"
    },
    {
     "data": {
      "text/html": [
       "<p><b>Therapist: Mmm.</b>"
      ],
      "text/plain": [
       "<IPython.core.display.HTML object>"
      ]
     },
     "metadata": {
      "tags": []
     },
     "output_type": "display_data"
    },
    {
     "data": {
      "text/html": [
       "Client: Maybe the failure of a relationship, uh. A ... a lot of things, you know ... a father not being in the home with his children.</p>"
      ],
      "text/plain": [
       "<IPython.core.display.HTML object>"
      ]
     },
     "metadata": {
      "tags": []
     },
     "output_type": "display_data"
    },
    {
     "data": {
      "text/html": [
       "<p><b>Therapist: Mmm.</b>"
      ],
      "text/plain": [
       "<IPython.core.display.HTML object>"
      ]
     },
     "metadata": {
      "tags": []
     },
     "output_type": "display_data"
    },
    {
     "data": {
      "text/html": [
       "Client: (Pause.) You know, I really feel like being a victim.</p>"
      ],
      "text/plain": [
       "<IPython.core.display.HTML object>"
      ]
     },
     "metadata": {
      "tags": []
     },
     "output_type": "display_data"
    },
    {
     "data": {
      "text/html": [
       "<p><b>Therapist: Mmm.</b>"
      ],
      "text/plain": [
       "<IPython.core.display.HTML object>"
      ]
     },
     "metadata": {
      "tags": []
     },
     "output_type": "display_data"
    },
    {
     "data": {
      "text/html": [
       "Client: (18 seconds pause. Smiles, takes a drink of water.) I don't know how to get that up at all. (Small laugh.) Every time I get close to that, I take a drink of water! (Laughs.) (T: Laughs.) Uh, I don't know if that acts to keep it down there or what.</p>"
      ],
      "text/plain": [
       "<IPython.core.display.HTML object>"
      ]
     },
     "metadata": {
      "tags": []
     },
     "output_type": "display_data"
    },
    {
     "data": {
      "text/html": [
       "<p><b>Therapist: Maybe ... maybe, maybe that'll keep it from coming up above this level (gestures).</b>"
      ],
      "text/plain": [
       "<IPython.core.display.HTML object>"
      ]
     },
     "metadata": {
      "tags": []
     },
     "output_type": "display_data"
    },
    {
     "data": {
      "text/html": [
       "Client: For sure. I, I don't know. See, how it, it really isn't what I want either. You know, I want it to get out and stay out, you know.</p>"
      ],
      "text/plain": [
       "<IPython.core.display.HTML object>"
      ]
     },
     "metadata": {
      "tags": []
     },
     "output_type": "display_data"
    },
    {
     "data": {
      "text/html": [
       "<p><b>Therapist: \"I would like to let it out\".</b>"
      ],
      "text/plain": [
       "<IPython.core.display.HTML object>"
      ]
     },
     "metadata": {
      "tags": []
     },
     "output_type": "display_data"
    },
    {
     "data": {
      "text/html": [
       "Client: Yeah. So maybe if you have any (sigh) exorcism type powers or whatever, (T: slight laugh.) that, uh ... maybe you can just do that and then I'll be free of that, you know. Because that's what it feels like ... it feels like there's something there, you know, that I really ... and I've identified it. I think I've identified it, you know, because I know there're some times when there’s such a big lump in my throat, you know, and that I explain, I give myself a lot of reasons why I shouldn't be feeling like that, you know.</p>"
      ],
      "text/plain": [
       "<IPython.core.display.HTML object>"
      ]
     },
     "metadata": {
      "tags": []
     },
     "output_type": "display_data"
    },
    {
     "data": {
      "text/html": [
       "<p><b>Therapist: A big lump of hurt, though. (C: Mmmm.) (15 second pause.) And how to let that hurt come out in the open ... how to let it ... emerge and be out here instead of way down locked in here.</b>"
      ],
      "text/plain": [
       "<IPython.core.display.HTML object>"
      ]
     },
     "metadata": {
      "tags": []
     },
     "output_type": "display_data"
    },
    {
     "data": {
      "text/html": [
       "Client: Right. (Small laugh.) Yeah. You know, I, I, I never believe in cookbook answers to anything, even when I cook I don't use a cookbook. I just don't believe in it. I think, but I'd really like to be able for somebody to tell me (T: Mmm) to, you know, maybe how to do that in about five minutes (T: Mmm) and be through with it so I can live the rest of my life in peace. (T: laughs.) You know what I mean?</p>"
      ],
      "text/plain": [
       "<IPython.core.display.HTML object>"
      ]
     },
     "metadata": {
      "tags": []
     },
     "output_type": "display_data"
    },
    {
     "data": {
      "text/html": [
       "<p><b>Therapist: (Laughs.) Sure. It'd be awfully nice if somebody could say, \"Now, if you do this and this, all your hurt will come out and it will be gone forever\".</b>"
      ],
      "text/plain": [
       "<IPython.core.display.HTML object>"
      ]
     },
     "metadata": {
      "tags": []
     },
     "output_type": "display_data"
    },
    {
     "data": {
      "text/html": [
       "Client: For sure.</p>"
      ],
      "text/plain": [
       "<IPython.core.display.HTML object>"
      ]
     },
     "metadata": {
      "tags": []
     },
     "output_type": "display_data"
    },
    {
     "data": {
      "text/html": [
       "<p><b>Therapist: Be great, wouldn't it?</b>"
      ],
      "text/plain": [
       "<IPython.core.display.HTML object>"
      ]
     },
     "metadata": {
      "tags": []
     },
     "output_type": "display_data"
    },
    {
     "data": {
      "text/html": [
       "Client: For sure. (Laughs.) I have a suspicion that maybe you know some things that I don't know. (Laughs.)</p>"
      ],
      "text/plain": [
       "<IPython.core.display.HTML object>"
      ]
     },
     "metadata": {
      "tags": []
     },
     "output_type": "display_data"
    },
    {
     "data": {
      "text/html": [
       "<p><b>Therapist: (Laughs.) No.</b>"
      ],
      "text/plain": [
       "<IPython.core.display.HTML object>"
      ]
     },
     "metadata": {
      "tags": []
     },
     "output_type": "display_data"
    },
    {
     "data": {
      "text/html": [
       "Client: Mmm.</p>"
      ],
      "text/plain": [
       "<IPython.core.display.HTML object>"
      ]
     },
     "metadata": {
      "tags": []
     },
     "output_type": "display_data"
    },
    {
     "data": {
      "text/html": [
       "<p><b>Therapist: No, I'm not holding out on you.</b>"
      ],
      "text/plain": [
       "<IPython.core.display.HTML object>"
      ]
     },
     "metadata": {
      "tags": []
     },
     "output_type": "display_data"
    },
    {
     "data": {
      "text/html": [
       "Client: Hey, I, I believe that. I, I ... it feels like I'm holding out on myself ... (T: Mmm.) You know. But hell, you know. I don't know.</p>"
      ],
      "text/plain": [
       "<IPython.core.display.HTML object>"
      ]
     },
     "metadata": {
      "tags": []
     },
     "output_type": "display_data"
    },
    {
     "data": {
      "text/html": [
       "<p><b>Therapist: I think it goes back to some of the things you mentioned. A man doesn't admit he's hurt ... a black man especially doesn't admit that he's been hurt by anything. (C: Sure.) Uh, a father doesn't admit he's been hurt by being away from his children. Just too many things that say: no, no, no ... don't let it out. (Pause.) But inside there's the hurt.</b>"
      ],
      "text/plain": [
       "<IPython.core.display.HTML object>"
      ]
     },
     "metadata": {
      "tags": []
     },
     "output_type": "display_data"
    },
    {
     "data": {
      "text/html": [
       "Client: Yeah.</p>"
      ],
      "text/plain": [
       "<IPython.core.display.HTML object>"
      ]
     },
     "metadata": {
      "tags": []
     },
     "output_type": "display_data"
    },
    {
     "data": {
      "text/html": [
       "<p><b>Therapist: A phrase came to me a minute ago that, “If you could let that out, ...” I don't know whether this will ring true to you or not ... “If you could let that out, it would be the Voice of a Victim.” I don't know if that makes any sense or not.</b>"
      ],
      "text/plain": [
       "<IPython.core.display.HTML object>"
      ]
     },
     "metadata": {
      "tags": []
     },
     "output_type": "display_data"
    },
    {
     "data": {
      "text/html": [
       "Client: Mmm, yeah. And I don't know what, you know, I don't know if I have any control over that, (T: Mmm.) you know, of what, of what ... of what would happen, you know. It's like a friend of mine the other day, who helped me through my illness and everything, he says, you know, when I've encountered another person that, you know, a very intelligent sort that was talking a bunch of intellectual garbage about feelings and things like that ... that I really wa ... wanted to just, to, you know, I really saw the ... him ... the society, the culture, right in him, you know. (T: Mmm, mmm.) And I really wanted to just ... to kind of deck him, you know, and that's something that's not uh my nature whatever, but I could just really wonder that ...</p>"
      ],
      "text/plain": [
       "<IPython.core.display.HTML object>"
      ]
     },
     "metadata": {
      "tags": []
     },
     "output_type": "display_data"
    },
    {
     "data": {
      "text/html": [
       "<p><b>Therapist: Mmm, just like to have socked him.</b>"
      ],
      "text/plain": [
       "<IPython.core.display.HTML object>"
      ]
     },
     "metadata": {
      "tags": []
     },
     "output_type": "display_data"
    },
    {
     "data": {
      "text/html": [
       "Client: Yeah, yeah. And my friend said, you know, \"one of these days\", he says, if you ... \"if you don't get it together\" or, or something, he says ... not \"that if you don't get it together\", but he says, \"one of these days you're gonna really lose it, you know\". You know what I mean? It ... it's that I want to get rid of all that stuff that was done to me and not have to hear all that other stuff, (T: Mmm.) or to be able to deal with it in a very (T: Mmm) constructive kind of a way, you know. But still it grinds me because of all the other stuff that's happened to me. (T: Mmm.) And when I see other people doing it to other people, or whatever, it grinds me ... it makes me angry, you know? And I would think that in those situations, I've begun to kind of strike out, you know, or like you know, protecting somebody else or fighting for somebody else or whatever, and like I'm not sure what I did for myself, though, over those years that all that happened to me or whatever. (Pause.) Annnd, if I could cry and have it be all right...</p>"
      ],
      "text/plain": [
       "<IPython.core.display.HTML object>"
      ]
     },
     "metadata": {
      "tags": []
     },
     "output_type": "display_data"
    },
    {
     "data": {
      "text/html": [
       "<p><b>Therapist: That's what I was thinking. (C: That would be ...) I was just thinking, if you could only cry.</b>"
      ],
      "text/plain": [
       "<IPython.core.display.HTML object>"
      ]
     },
     "metadata": {
      "tags": []
     },
     "output_type": "display_data"
    },
    {
     "data": {
      "text/html": [
       "Client: Yeah. It would, you know, but that's, that's a trip, you know ... that's a trip like uh...</p>"
      ],
      "text/plain": [
       "<IPython.core.display.HTML object>"
      ]
     },
     "metadata": {
      "tags": []
     },
     "output_type": "display_data"
    },
    {
     "data": {
      "text/html": [
       "<p><b>Therapist: First place, a man doesn't cry.</b>"
      ],
      "text/plain": [
       "<IPython.core.display.HTML object>"
      ]
     },
     "metadata": {
      "tags": []
     },
     "output_type": "display_data"
    },
    {
     "data": {
      "text/html": [
       "Client: Yeah. For sure, for sure. That's a fact.</p>"
      ],
      "text/plain": [
       "<IPython.core.display.HTML object>"
      ]
     },
     "metadata": {
      "tags": []
     },
     "output_type": "display_data"
    },
    {
     "data": {
      "text/html": [
       "<p><b>Therapist: But I guess you're saying that times you have that lump in your throat and you sure as hell feel like crying.</b>"
      ],
      "text/plain": [
       "<IPython.core.display.HTML object>"
      ]
     },
     "metadata": {
      "tags": []
     },
     "output_type": "display_data"
    },
    {
     "data": {
      "text/html": [
       "Client: For sure, for sure. (Pause.) Uhh, I don't know. (Sighs.) I don't know. Maybe going to a movie or one of those old, you know, (sighs) movies, dramas, or something like that ...</p>"
      ],
      "text/plain": [
       "<IPython.core.display.HTML object>"
      ]
     },
     "metadata": {
      "tags": []
     },
     "output_type": "display_data"
    },
    {
     "data": {
      "text/html": [
       "<p><b>Therapist: Tear jerkers?</b>"
      ],
      "text/plain": [
       "<IPython.core.display.HTML object>"
      ]
     },
     "metadata": {
      "tags": []
     },
     "output_type": "display_data"
    },
    {
     "data": {
      "text/html": [
       "Client: Right ... so I can cry, you know, and have an excuse to cry, you know, but crying for myself, I'm not sure that, uh ... I'm just not sure that's going to be constructive, you know (laughs).</p>"
      ],
      "text/plain": [
       "<IPython.core.display.HTML object>"
      ]
     },
     "metadata": {
      "tags": []
     },
     "output_type": "display_data"
    },
    {
     "data": {
      "text/html": [
       "<p><b>Therapist: Mmm, you say you're not sure whether crying for yourself is constructive. I feel also you're afraid of crying for yourself.</b>"
      ],
      "text/plain": [
       "<IPython.core.display.HTML object>"
      ]
     },
     "metadata": {
      "tags": []
     },
     "output_type": "display_data"
    },
    {
     "data": {
      "text/html": [
       "Client: I may be, I may be, because if I feel like crying and I don't, whenever there's some things that are, you know ... but you see, that's a part of it too, you know? It's ... you know, and I, and I can't ... I, I hate to keep using these things of, you know, we're just being so conditioned not to, you know, from a little thing of, you know, like oh, you know, \"be little, little men or big boys\", or whatever. \"Don't cry\", and, and ...</p>"
      ],
      "text/plain": [
       "<IPython.core.display.HTML object>"
      ]
     },
     "metadata": {
      "tags": []
     },
     "output_type": "display_data"
    },
    {
     "data": {
      "text/html": [
       "<p><b>Therapist: Probably your seven-year-old could cry.</b>"
      ],
      "text/plain": [
       "<IPython.core.display.HTML object>"
      ]
     },
     "metadata": {
      "tags": []
     },
     "output_type": "display_data"
    },
    {
     "data": {
      "text/html": [
       "Client: Yeah, for sure. I cried, I remember crying, but I cried alone. I never let anybody see me cry, you know? I wonder how many people have seen me cry! (Laughs.) (T: Laughs.) Two or three in the whole world. It's kind of interesting, you know. I remember living with my ex-wife, or whatever, she cried all the time. She cried getting up in the morning, and you know, just crying for crying, you know. I asked her sometimes about why she cried, and she just said, \"I don't know, just wanted to, felt good\". I don't know if that was healthy or whatever, but it probably is a lot more healthier than what I did.</p>"
      ],
      "text/plain": [
       "<IPython.core.display.HTML object>"
      ]
     },
     "metadata": {
      "tags": []
     },
     "output_type": "display_data"
    },
    {
     "data": {
      "text/html": [
       "<p><b>Therapist: Mmm. It probably is better than never letting anyone see you cry.</b>"
      ],
      "text/plain": [
       "<IPython.core.display.HTML object>"
      ]
     },
     "metadata": {
      "tags": []
     },
     "output_type": "display_data"
    },
    {
     "data": {
      "text/html": [
       "Client: Right. There's just so many other ways to do it, you know, that I've learned, you know, like working hard. (T: Mmm.) Not thinking about it, (T: Mmm) you know. Not thinking about it.</p>"
      ],
      "text/plain": [
       "<IPython.core.display.HTML object>"
      ]
     },
     "metadata": {
      "tags": []
     },
     "output_type": "display_data"
    },
    {
     "data": {
      "text/html": [
       "<p><b>Therapist: Just seeing that all the sorrow that you feel for yourself and for what's happened to you and all that, uh, \"that doesn't really exist\". It's just uh, you're too busy to have any thoughts of that.</b>"
      ],
      "text/plain": [
       "<IPython.core.display.HTML object>"
      ]
     },
     "metadata": {
      "tags": []
     },
     "output_type": "display_data"
    },
    {
     "data": {
      "text/html": [
       "Client: For sure.</p>"
      ],
      "text/plain": [
       "<IPython.core.display.HTML object>"
      ]
     },
     "metadata": {
      "tags": []
     },
     "output_type": "display_data"
    },
    {
     "data": {
      "text/html": [
       "<p><b>Therapist: But the sorrow is still there.</b>"
      ],
      "text/plain": [
       "<IPython.core.display.HTML object>"
      ]
     },
     "metadata": {
      "tags": []
     },
     "output_type": "display_data"
    },
    {
     "data": {
      "text/html": [
       "Client: For sure. Yeah. And I really don't know how to de ... and I really don't know how to deal with that. I really don't. I really don't. (Sighs.) You know, just really giving so much of yourself and it's really crazy. Too much. (Sighs).</p>"
      ],
      "text/plain": [
       "<IPython.core.display.HTML object>"
      ]
     },
     "metadata": {
      "tags": []
     },
     "output_type": "display_data"
    },
    {
     "data": {
      "text/html": [
       "<p><b>Therapist: If you did cry, what would some of the themes of that crying be?</b>"
      ],
      "text/plain": [
       "<IPython.core.display.HTML object>"
      ]
     },
     "metadata": {
      "tags": []
     },
     "output_type": "display_data"
    },
    {
     "data": {
      "text/html": [
       "Client: Well, just you know, all those, you know, hours that I, you know, that I spent away from my family and that I gave up my family and didn't see my children grow, you know. I really wanted that to be for some kind of a higher level, some kind of a cause, you know. But not to have that uh, to see anything, any benefit that I did. You know, all of that work, I mean, hours and hours and ... but it's just incredible, and I think that would be one, you know, I was saying, \"Damn it, why in the hell did I spend so much time?\" (T: Mmm.) \"Why did I spend so much time?\". You know, the leukemia, the ... everything that happened to me or whatever would be properly deserved if one person's life would have been changed, or something, you know. (T: Mmm.) And like, and maybe, maybe it has or whatever, but, but I think that I, I don't trust that ... that it was worth it, you see?</p>"
      ],
      "text/plain": [
       "<IPython.core.display.HTML object>"
      ]
     },
     "metadata": {
      "tags": []
     },
     "output_type": "display_data"
    },
    {
     "data": {
      "text/html": [
       "<p><b>Therapist: Mmm. Yeah. You invested a whole lot of caring, a whole lot of your self, and you feel real sorrow that maybe nothing came of that.</b>"
      ],
      "text/plain": [
       "<IPython.core.display.HTML object>"
      ]
     },
     "metadata": {
      "tags": []
     },
     "output_type": "display_data"
    },
    {
     "data": {
      "text/html": [
       "Client: Yeah, and I'd also like to uh just kind of cry for my father-in-law too, who was killed before I ... (T: Mmm,mmm, mmm, mmm.) about six months before I got the leukemia. (T: Mmm) I'd like to really tell him that I uh, that I really loved him a great deal.</p>"
      ],
      "text/plain": [
       "<IPython.core.display.HTML object>"
      ]
     },
     "metadata": {
      "tags": []
     },
     "output_type": "display_data"
    },
    {
     "data": {
      "text/html": [
       "<p><b>Therapist: Mmm ... So you're telling me in place of telling him and maybe you could even speak to him, I don't know. But at any rate, you really would like to tell him, \"I loved you, you know that? I loved you\".</b>"
      ],
      "text/plain": [
       "<IPython.core.display.HTML object>"
      ]
     },
     "metadata": {
      "tags": []
     },
     "output_type": "display_data"
    },
    {
     "data": {
      "text/html": [
       "Client: Well, I, I really would, you know. Th-thisss situation that we started out ... I was married, and we married somebody of a different race, and we fought it out tooth and nail or whatever, and but, but yet we loved each other and we fished together and he was great with me. You know, he had a very ... to other people, a very cold way, you know, of, you know, \"By God, this is the way it's going to be\" and so forth. But I saw him when he was hurt too, and um when he was killed in, in 1975, in a, in a hunting accident, it just really took all of it, you know. (T: Mmm, mmm.) Because you see, he helped me to, to try to get out of that stuff. He's saying, \"Hey, what are you doing, you know? Do ... what do you really want to do?\". And at the time I wanted to, you know, to open my own restaurant or whatever. (T: Mmm.) And so he was going to help me finance that restaurant, you know. And so a week later he was killed. One week. And um, and so we were getting so close, but that I really never told him that, \"Hey Dad, you know, hey Dad, I love you, I really love you\". And we told each other, I guess, in some ways or whatever, but it's not the same as saying it, you know, as saying, \"Dad, I really love you. I really care\".</p>"
      ],
      "text/plain": [
       "<IPython.core.display.HTML object>"
      ]
     },
     "metadata": {
      "tags": []
     },
     "output_type": "display_data"
    },
    {
     "data": {
      "text/html": [
       "<p><b>Therapist: You feel really sad that you never gave him a straight message on that, that \"I love you\".</b>"
      ],
      "text/plain": [
       "<IPython.core.display.HTML object>"
      ]
     },
     "metadata": {
      "tags": []
     },
     "output_type": "display_data"
    },
    {
     "data": {
      "text/html": [
       "Client: For sure, for sure, because he was straighter th ... with me than a lot of people, you know.</p>"
      ],
      "text/plain": [
       "<IPython.core.display.HTML object>"
      ]
     },
     "metadata": {
      "tags": []
     },
     "output_type": "display_data"
    },
    {
     "data": {
      "text/html": [
       "<p><b>Therapist: Mmm.</b>"
      ],
      "text/plain": [
       "<IPython.core.display.HTML object>"
      ]
     },
     "metadata": {
      "tags": []
     },
     "output_type": "display_data"
    },
    {
     "data": {
      "text/html": [
       "Client: And to now to be taken away from all of that, you see, because it's only been, I don't know, eight months or so since I ceased all communication with my family, you know, family that ... my wife's family that I've loved and I've cared for and that I buried my father-in-law and that was it. That was the ... and then even the family began to take on those same things of the culture, you know.</p>"
      ],
      "text/plain": [
       "<IPython.core.display.HTML object>"
      ]
     },
     "metadata": {
      "tags": []
     },
     "output_type": "display_data"
    },
    {
     "data": {
      "text/html": [
       "<p><b>Therapist: Things began to fall apart for you there, mmm, mmm.</b>"
      ],
      "text/plain": [
       "<IPython.core.display.HTML object>"
      ]
     },
     "metadata": {
      "tags": []
     },
     "output_type": "display_data"
    },
    {
     "data": {
      "text/html": [
       "Client: For sure, for sure, you know. And lately, I don't know, falling apart or at least my being able to see that uh that it really wasn't, it wasn't true. (T: I see.) It wasn't real, I wasn't getting, I wasn't getting anything back, I wasn't getting any nourishment back, you know. (T: Mmm, mmm, mmm) Smiles and polite kisses and things like that, you know. That is, you know, part of the hurt, you know. I'd rather for somebody to say, you know, \"I think you're a lousy S.O.B. or whatever\", as opposed to saying, \"Hello, dear, how are you?\" You know, you know?.</p>"
      ],
      "text/plain": [
       "<IPython.core.display.HTML object>"
      ]
     },
     "metadata": {
      "tags": []
     },
     "output_type": "display_data"
    },
    {
     "data": {
      "text/html": [
       "<p><b>Therapist: Mmm, mmm, mmm. When the real message perhaps is, \"I think you're a lousy S.O.B.\".</b>"
      ],
      "text/plain": [
       "<IPython.core.display.HTML object>"
      ]
     },
     "metadata": {
      "tags": []
     },
     "output_type": "display_data"
    },
    {
     "data": {
      "text/html": [
       "Client: Right, right, you know.</p>"
      ],
      "text/plain": [
       "<IPython.core.display.HTML object>"
      ]
     },
     "metadata": {
      "tags": []
     },
     "output_type": "display_data"
    },
    {
     "data": {
      "text/html": [
       "<p><b>Therapist: Mmm.</b>"
      ],
      "text/plain": [
       "<IPython.core.display.HTML object>"
      ]
     },
     "metadata": {
      "tags": []
     },
     "output_type": "display_data"
    },
    {
     "data": {
      "text/html": [
       "Client: (25 second pause). Yeah, so there's, you know, there's a few things.</p>"
      ],
      "text/plain": [
       "<IPython.core.display.HTML object>"
      ]
     },
     "metadata": {
      "tags": []
     },
     "output_type": "display_data"
    },
    {
     "data": {
      "text/html": [
       "<p><b>Therapist: Part of the sorrow would be for your father-in-law. You'd really weep for him.</b>"
      ],
      "text/plain": [
       "<IPython.core.display.HTML object>"
      ]
     },
     "metadata": {
      "tags": []
     },
     "output_type": "display_data"
    },
    {
     "data": {
      "text/html": [
       "Client: I ... yeah, I think I would, you know. And just maybe I still think that I really wish that I could, you know, just say, \"Hey, you know, you guys, you really don't realize what you did to me\", you know? Because for a while, I just, you know, saying, well, you know, \"racist\", \"terrible\", \"blah, blah, blah\". But that doesn't say anything, you know, because it doesn't say how I really feel, you know. (T: I see.) But they, but it, but it ... they wouldn't understand that, they wouldn't understand how a black person could be hurt, you know, because if you don't accept a person as human, how can you, how can you think about, you know, like ... it's like thinking a dog could be hurt of whatever, you know, people that don't have dogs and don't understand them, you know?</p>"
      ],
      "text/plain": [
       "<IPython.core.display.HTML object>"
      ]
     },
     "metadata": {
      "tags": []
     },
     "output_type": "display_data"
    },
    {
     "data": {
      "text/html": [
       "<p><b>Therapist: But you get some satisfaction out of saying, \"You people don't realize how much you hurt me\". They might not be able to hear that message, but you'd get some satisfaction out of ... out of expressing that, out of ... out of letting, letting yourself know, letting others know that, \"God, I've been hurt!\"</b>"
      ],
      "text/plain": [
       "<IPython.core.display.HTML object>"
      ]
     },
     "metadata": {
      "tags": []
     },
     "output_type": "display_data"
    },
    {
     "data": {
      "text/html": [
       "Client: Yeah.</p>"
      ],
      "text/plain": [
       "<IPython.core.display.HTML object>"
      ]
     },
     "metadata": {
      "tags": []
     },
     "output_type": "display_data"
    },
    {
     "data": {
      "text/html": [
       "<p><b>Therapist: \"I've been wounded\".</b>"
      ],
      "text/plain": [
       "<IPython.core.display.HTML object>"
      ]
     },
     "metadata": {
      "tags": []
     },
     "output_type": "display_data"
    },
    {
     "data": {
      "text/html": [
       "Client: I just don't think I could do that 'cause I just don't think that that that, I just don't trust, you know, you know, I wouldn't do it because I just wouldn't want to give them the satisfaction, you know. It's like I feel like, you know, my saying, you know, \"Maybe that is my feeling\". But I, I have too many times, you know, when you know, I opened up a little bit or whatever, and someone says ... (T: Mmm.) ... you know, squash!</p>"
      ],
      "text/plain": [
       "<IPython.core.display.HTML object>"
      ]
     },
     "metadata": {
      "tags": []
     },
     "output_type": "display_data"
    },
    {
     "data": {
      "text/html": [
       "<p><b>Therapist: So there are probably loads of people you wouldn't dare open up to on that, but I guess you're opening up to me to say, \"Yes, but I have been really wounded, badly, by a lot of people\".</b>"
      ],
      "text/plain": [
       "<IPython.core.display.HTML object>"
      ]
     },
     "metadata": {
      "tags": []
     },
     "output_type": "display_data"
    },
    {
     "data": {
      "text/html": [
       "Client: For sure. Mmm. I maybe think that you can understand that a little bit in terms of about hurt and that, you know, that ... you know, that I, you know, that I'm a person and uh, (pause) you know, I'm a person. And I don't really want that denied to me ... (T: Mmm.) you know, ever again.</p>"
      ],
      "text/plain": [
       "<IPython.core.display.HTML object>"
      ]
     },
     "metadata": {
      "tags": []
     },
     "output_type": "display_data"
    },
    {
     "data": {
      "text/html": [
       "<p><b>Therapist: Mmm, mmm.</b>"
      ],
      "text/plain": [
       "<IPython.core.display.HTML object>"
      ]
     },
     "metadata": {
      "tags": []
     },
     "output_type": "display_data"
    },
    {
     "data": {
      "text/html": [
       "Client: You know. I could really get angry.</p>"
      ],
      "text/plain": [
       "<IPython.core.display.HTML object>"
      ]
     },
     "metadata": {
      "tags": []
     },
     "output_type": "display_data"
    },
    {
     "data": {
      "text/html": [
       "<p><b>Therapist: Mmm. mmm.</b>"
      ],
      "text/plain": [
       "<IPython.core.display.HTML object>"
      ]
     },
     "metadata": {
      "tags": []
     },
     "output_type": "display_data"
    },
    {
     "data": {
      "text/html": [
       "Client: I don't you know, I just ... that's not going to happen to me, you know. In a way, you know, I don't want to love anybody like I did my father-in-law again, and for God's sake, you know, that's, that's painful, but I know that's terribly sick too, that you have to love, you have to continue to love people. Or whatever. But at that time, it was the only thing that was productive. It was the only thing that was something that was, you know, as Fromm talks about, biophilic. It was growth; it was nourishing. And that was the only thing, and that was just taken away from me, and it was taken away from me just ...</p>"
      ],
      "text/plain": [
       "<IPython.core.display.HTML object>"
      ]
     },
     "metadata": {
      "tags": []
     },
     "output_type": "display_data"
    },
    {
     "data": {
      "text/html": [
       "<p><b>Therapist: Just like that.</b>"
      ],
      "text/plain": [
       "<IPython.core.display.HTML object>"
      ]
     },
     "metadata": {
      "tags": []
     },
     "output_type": "display_data"
    },
    {
     "data": {
      "text/html": [
       "Client: You know, It was just really strange, you know.</p>"
      ],
      "text/plain": [
       "<IPython.core.display.HTML object>"
      ]
     },
     "metadata": {
      "tags": []
     },
     "output_type": "display_data"
    },
    {
     "data": {
      "text/html": [
       "<p><b>Therapist: So that, that's been a ... a hurt and a shock and makes you feel, \"I can't risk myself loving somebody else like that because that might disappear some way or other\".</b>"
      ],
      "text/plain": [
       "<IPython.core.display.HTML object>"
      ]
     },
     "metadata": {
      "tags": []
     },
     "output_type": "display_data"
    },
    {
     "data": {
      "text/html": [
       "Client: For sure, for sure. For sure. I certainly don't want any more in-laws. (Laughs). Be they uh whatever color. I'm not sure I want them, but now you know ... And that's ... I think that's part of it, you know. More so than, than the risking loving somebody, just because their death ... death I know is inevitable. But it's that, that other collection of things around it, or whatever. But you know, it's... it’s crazy.</p>"
      ],
      "text/plain": [
       "<IPython.core.display.HTML object>"
      ]
     },
     "metadata": {
      "tags": []
     },
     "output_type": "display_data"
    },
    {
     "data": {
      "text/html": [
       "<p><b>Therapist: It's what?</b>"
      ],
      "text/plain": [
       "<IPython.core.display.HTML object>"
      ]
     },
     "metadata": {
      "tags": []
     },
     "output_type": "display_data"
    },
    {
     "data": {
      "text/html": [
       "Client: It's crazy to love, you know, it's just like loving a pet rock or something, you know, it's nothing. Nothing, you don't feel.</p>"
      ],
      "text/plain": [
       "<IPython.core.display.HTML object>"
      ]
     },
     "metadata": {
      "tags": []
     },
     "output_type": "display_data"
    },
    {
     "data": {
      "text/html": [
       "<p><b>Therapist: Mmm. mmm. \"Love goes out from me but nothing comes back\".</b>"
      ],
      "text/plain": [
       "<IPython.core.display.HTML object>"
      ]
     },
     "metadata": {
      "tags": []
     },
     "output_type": "display_data"
    },
    {
     "data": {
      "text/html": [
       "Client: Right. And I'm not so sure that that, that I want that, it to work like that again, you know. And maybe by ... maybe saying that, I don't know, maybe you know, calling, say, \"Hey, I really was hurt\" and everything like that or whatever. Maybe that would be a start or whatever, but I just don't really trust that they really understand that. (T: Mmm) I don't really, really uh ... it took my wife who lived with me for seven years, you know, after I left, maybe six, seven months to understand that I was, that I was hurt, that I was ... that I was desperate.</p>"
      ],
      "text/plain": [
       "<IPython.core.display.HTML object>"
      ]
     },
     "metadata": {
      "tags": []
     },
     "output_type": "display_data"
    },
    {
     "data": {
      "text/html": [
       "<p><b>Therapist: You feel there's so little chance of anyone else really understanding you.</b>"
      ],
      "text/plain": [
       "<IPython.core.display.HTML object>"
      ]
     },
     "metadata": {
      "tags": []
     },
     "output_type": "display_data"
    },
    {
     "data": {
      "text/html": [
       "Client: Mmm, that sounds kind of, yeah, well, (small laugh), so little chance for that group of people understanding me. (T: OK.) And I believe it. I really believe it, you know. It would just, it would be like me trying to, uh, to understand or to, to tell Dick Nixon or something about my feelings, that I just don't think he could relate to that,you know. (T: Mmm.) And I'm using, and ... and I'm really serious about that example, because he's so far away from me and my reality, and that family, you know, I found out was so far away from me and my reality that, you know, it was insane, you know. It was really insane, you know. So I think on one level I feel OK for loving them.</p>"
      ],
      "text/plain": [
       "<IPython.core.display.HTML object>"
      ]
     },
     "metadata": {
      "tags": []
     },
     "output_type": "display_data"
    },
    {
     "data": {
      "text/html": [
       "<p><b>Therapist: You feel...?</b>"
      ],
      "text/plain": [
       "<IPython.core.display.HTML object>"
      ]
     },
     "metadata": {
      "tags": []
     },
     "output_type": "display_data"
    },
    {
     "data": {
      "text/html": [
       "Client: OK for loving them.</p>"
      ],
      "text/plain": [
       "<IPython.core.display.HTML object>"
      ]
     },
     "metadata": {
      "tags": []
     },
     "output_type": "display_data"
    },
    {
     "data": {
      "text/html": [
       "<p><b>Therapist: I see, mmm, mmm.</b>"
      ],
      "text/plain": [
       "<IPython.core.display.HTML object>"
      ]
     },
     "metadata": {
      "tags": []
     },
     "output_type": "display_data"
    },
    {
     "data": {
      "text/html": [
       "Client: But I don't feel OK for sharing any more with them. (T: Mmm.) And sharing that hurt is just, (T: Mmm) you know ... and maybe sharing it with other people would be OK. But I know I'm moving away from the other too, you know, that's really important to me right now. And I don't know ... maybe I won't ... I'm not rushing it, it just seems to want to get out and jump out or whatever, but, you know, you know. It's clearly must have really gone through ... my body really must have gone through some changes or whatever because, you know, something there is just keeping it, keeping it down, and I know all those reasons but I can't uh, I can't seem to muster that power to ... (T: Mmm.) ... to get it, to get that out, you know, to really, you know.</p>"
      ],
      "text/plain": [
       "<IPython.core.display.HTML object>"
      ]
     },
     "metadata": {
      "tags": []
     },
     "output_type": "display_data"
    },
    {
     "data": {
      "text/html": [
       "<p><b>Therapist: It's still too much locked in.</b>"
      ],
      "text/plain": [
       "<IPython.core.display.HTML object>"
      ]
     },
     "metadata": {
      "tags": []
     },
     "output_type": "display_data"
    },
    {
     "data": {
      "text/html": [
       "Client: Yeah, for sure. But it really, it really helps, you know, um, 'cause it's, it's, it's just, you know ... it's incredible, you know, this is the first time I've talked to anybody that, you know, that I haven't really been in control. To some extent I've really given up a lot of control uh ... to you.</p>"
      ],
      "text/plain": [
       "<IPython.core.display.HTML object>"
      ]
     },
     "metadata": {
      "tags": []
     },
     "output_type": "display_data"
    },
    {
     "data": {
      "text/html": [
       "<p><b>Therapist: Mmm, mmm, sort of letting things loose rather than ... (C: For sure.) ... keeping them under your control.</b>"
      ],
      "text/plain": [
       "<IPython.core.display.HTML object>"
      ]
     },
     "metadata": {
      "tags": []
     },
     "output_type": "display_data"
    },
    {
     "data": {
      "text/html": [
       "Client: For sure.</p>"
      ],
      "text/plain": [
       "<IPython.core.display.HTML object>"
      ]
     },
     "metadata": {
      "tags": []
     },
     "output_type": "display_data"
    },
    {
     "data": {
      "text/html": [
       "<p><b>Therapist: And that's a new experience.</b>"
      ],
      "text/plain": [
       "<IPython.core.display.HTML object>"
      ]
     },
     "metadata": {
      "tags": []
     },
     "output_type": "display_data"
    },
    {
     "data": {
      "text/html": [
       "Client: A very new experience for me. Very new experience. And maybe I don't know if it's just not, just it's a function, function of that too, you know, or something, you know. Things are rattling around in my head now (laughs), you know. But all the other, it's just bullshit, and like I have been hurt and I really don't want to get involved anymore in terms of with people that can't return love and can't accept people. I just don't really want to get involved anymore. I'm sick and tired ... sick of it.</p>"
      ],
      "text/plain": [
       "<IPython.core.display.HTML object>"
      ]
     },
     "metadata": {
      "tags": []
     },
     "output_type": "display_data"
    },
    {
     "data": {
      "text/html": [
       "<p><b>Therapist: Sounds as though you're more accepting of yourself as a person who is vulnerable, who has been hurt, who is hurting, and who wants love ... who doesn't want it all to be a one-way street of giving love. You want love back in return.</b>"
      ],
      "text/plain": [
       "<IPython.core.display.HTML object>"
      ]
     },
     "metadata": {
      "tags": []
     },
     "output_type": "display_data"
    },
    {
     "data": {
      "text/html": [
       "Client: Mmm, mmm. Yeah. And I wanna be able to uh, to feel and to, and to cry. (T: Mmm.) And not to be afraid of crying, and, and not to be afraid of, uh ... I want to be able and I'm going to work for that. I really wanna work for that. I, I know I do, you know, I just have this thing, ah, you know. If I trust the doctors, I'd have them cut 'em, cut me open and get that out, you know, but I don't. (Laughing.)</p>"
      ],
      "text/plain": [
       "<IPython.core.display.HTML object>"
      ]
     },
     "metadata": {
      "tags": []
     },
     "output_type": "display_data"
    },
    {
     "data": {
      "text/html": [
       "<p><b>Therapist: (Laughs.) Mmm. Probably'd be simpler to have an operation.</b>"
      ],
      "text/plain": [
       "<IPython.core.display.HTML object>"
      ]
     },
     "metadata": {
      "tags": []
     },
     "output_type": "display_data"
    },
    {
     "data": {
      "text/html": [
       "Client: Oh yeah! (Sighs). Yeah, yeah, yeah. But I, but do you, do you, do you, do you, do you feel that ... you know, like I really wanna, you know, tell you how hurt I am, but I'm not, I can't tell you?</p>"
      ],
      "text/plain": [
       "<IPython.core.display.HTML object>"
      ]
     },
     "metadata": {
      "tags": []
     },
     "output_type": "display_data"
    },
    {
     "data": {
      "text/html": [
       "<p><b>Therapist: I understand that. I ... you're, you're uh, it visualizes in my mind you're walking all around the edge of that pit, but you're not really letting yourself down into it; so you're letting me know all about it (clears throat), but, but not it.</b>"
      ],
      "text/plain": [
       "<IPython.core.display.HTML object>"
      ]
     },
     "metadata": {
      "tags": []
     },
     "output_type": "display_data"
    },
    {
     "data": {
      "text/html": [
       "Client: Yeah. For sure. Yeah. Don't know how to do that. (T: Mmm.) You know?</p>"
      ],
      "text/plain": [
       "<IPython.core.display.HTML object>"
      ]
     },
     "metadata": {
      "tags": []
     },
     "output_type": "display_data"
    },
    {
     "data": {
      "text/html": [
       "<p><b>Therapist: Yeah. I, I hear you saying, \"I really want to get to that, but it will have to be at my pace. I can't ... I can't force it. I can't... but I do want to get to it\".</b>"
      ],
      "text/plain": [
       "<IPython.core.display.HTML object>"
      ]
     },
     "metadata": {
      "tags": []
     },
     "output_type": "display_data"
    },
    {
     "data": {
      "text/html": [
       "Client: Yeah. 'Cause I want to get to it really fast, you know, because that's all a part of me right now that's really ... I really feel that's sick, that's really the cancer, (T: Mmm) you know. That if I could eliminate that, I could eliminate all the cancer from my body. (T: Mmm.) I really believe it, you know. And I really blame, I really blame the way I lived and the stress and everything else like that on, on on the disease. I really do.</p>"
      ],
      "text/plain": [
       "<IPython.core.display.HTML object>"
      ]
     },
     "metadata": {
      "tags": []
     },
     "output_type": "display_data"
    },
    {
     "data": {
      "text/html": [
       "<p><b>Therapist: You mean, you blame the disease on all that stress, is what you mean?</b>"
      ],
      "text/plain": [
       "<IPython.core.display.HTML object>"
      ]
     },
     "metadata": {
      "tags": []
     },
     "output_type": "display_data"
    },
    {
     "data": {
      "text/html": [
       "Client: Right, for sure, yeah. I have it turned around. For sure. I do. I do. And to some extent, I blame racism. (T: Mmm, mmm.) You know, I just don't want to get caught up into that anymore, you know, and I want to continue to give, but I don't, I, I, I'm just not going to do it the way I did it before. And uh, I don't know. May ... yelling sometimes you know, like when I came in here, I was thinking about yelling, you know, one of those long, big long ... you know. But I'm not sure that I want to do that. (Smiles.)</p>"
      ],
      "text/plain": [
       "<IPython.core.display.HTML object>"
      ]
     },
     "metadata": {
      "tags": []
     },
     "output_type": "display_data"
    },
    {
     "data": {
      "text/html": [
       "<p><b>Therapist: You could try it.</b>"
      ],
      "text/plain": [
       "<IPython.core.display.HTML object>"
      ]
     },
     "metadata": {
      "tags": []
     },
     "output_type": "display_data"
    },
    {
     "data": {
      "text/html": [
       "Client: (Laughs.) You know, I don't know, you know (Laughs.) That wouldn't be cultured.</p>"
      ],
      "text/plain": [
       "<IPython.core.display.HTML object>"
      ]
     },
     "metadata": {
      "tags": []
     },
     "output_type": "display_data"
    },
    {
     "data": {
      "text/html": [
       "<p><b>Therapist: (Laughs.) Standards, standards, standards.</b>"
      ],
      "text/plain": [
       "<IPython.core.display.HTML object>"
      ]
     },
     "metadata": {
      "tags": []
     },
     "output_type": "display_data"
    },
    {
     "data": {
      "text/html": [
       "Client: Sure, I mean, I'm really, I was really socialized.</p>"
      ],
      "text/plain": [
       "<IPython.core.display.HTML object>"
      ]
     },
     "metadata": {
      "tags": []
     },
     "output_type": "display_data"
    },
    {
     "data": {
      "text/html": [
       "<p><b>Therapist: You were brought up right ... weren't you?</b>"
      ],
      "text/plain": [
       "<IPython.core.display.HTML object>"
      ]
     },
     "metadata": {
      "tags": []
     },
     "output_type": "display_data"
    },
    {
     "data": {
      "text/html": [
       "Client: Oh yeah, I was. I learned all of it ... all of it.</p>"
      ],
      "text/plain": [
       "<IPython.core.display.HTML object>"
      ]
     },
     "metadata": {
      "tags": []
     },
     "output_type": "display_data"
    },
    {
     "data": {
      "text/html": [
       "<p><b>Therapist: And still in spite of yourself, buy a good deal of it.</b>"
      ],
      "text/plain": [
       "<IPython.core.display.HTML object>"
      ]
     },
     "metadata": {
      "tags": []
     },
     "output_type": "display_data"
    },
    {
     "data": {
      "text/html": [
       "Client: Yeah. Yeah.</p>"
      ],
      "text/plain": [
       "<IPython.core.display.HTML object>"
      ]
     },
     "metadata": {
      "tags": []
     },
     "output_type": "display_data"
    },
    {
     "data": {
      "text/html": [
       "<p><b>Therapist: You really don't want to, but still you find ... (C: Yeah.) ... you can't do the uncultured thing.</b>"
      ],
      "text/plain": [
       "<IPython.core.display.HTML object>"
      ]
     },
     "metadata": {
      "tags": []
     },
     "output_type": "display_data"
    },
    {
     "data": {
      "text/html": [
       "Client: For sure. There were standards, I guess, and uh, that are really foreign to me, but uh, you know, the, the thing that, you know ... that I thought about you know, and like you know, I was like in terms of expressing my anger, whatever, comes out in terms of, you know (sighs), possible obscenity, you know (laughs), you know, like calling somebody a bunch of something or whatever would really, you know, I don't know what it would do, but you know, I'd really like to do that, you know.</p>"
      ],
      "text/plain": [
       "<IPython.core.display.HTML object>"
      ]
     },
     "metadata": {
      "tags": []
     },
     "output_type": "display_data"
    },
    {
     "data": {
      "text/html": [
       "<p><b>Therapist: That helps to explain why I feel you've kept your language more, quite guarded here. I, I, I realize I've used more profanity than you have. (Laughs.)</b>"
      ],
      "text/plain": [
       "<IPython.core.display.HTML object>"
      ]
     },
     "metadata": {
      "tags": []
     },
     "output_type": "display_data"
    },
    {
     "data": {
      "text/html": [
       "Client: (Laughs.) For sure, you know. It's not because of, you know, but I don't know, it's just a, a part of that, you know, like I was just ...</p>"
      ],
      "text/plain": [
       "<IPython.core.display.HTML object>"
      ]
     },
     "metadata": {
      "tags": []
     },
     "output_type": "display_data"
    },
    {
     "data": {
      "text/html": [
       "<p><b>Therapist: You'd like to just tell off the bastard!</b>"
      ],
      "text/plain": [
       "<IPython.core.display.HTML object>"
      ]
     },
     "metadata": {
      "tags": []
     },
     "output_type": "display_data"
    },
    {
     "data": {
      "text/html": [
       "Client: Yeah, right, right, right. For sure. (Laughs.) Oh my goodness! (Laughs.)</p>"
      ],
      "text/plain": [
       "<IPython.core.display.HTML object>"
      ]
     },
     "metadata": {
      "tags": []
     },
     "output_type": "display_data"
    },
    {
     "data": {
      "text/html": [
       "<p><b>Therapist: You can't even do that. (Laughs.)</b>"
      ],
      "text/plain": [
       "<IPython.core.display.HTML object>"
      ]
     },
     "metadata": {
      "tags": []
     },
     "output_type": "display_data"
    },
    {
     "data": {
      "text/html": [
       "Client: (Sighs.) Oh, it's incredible. I don't know. Whew! I'm getting warm.</p>"
      ],
      "text/plain": [
       "<IPython.core.display.HTML object>"
      ]
     },
     "metadata": {
      "tags": []
     },
     "output_type": "display_data"
    },
    {
     "data": {
      "text/html": [
       "<p><b>Therapist: (Laughs.) Both inside and outside</b>"
      ],
      "text/plain": [
       "<IPython.core.display.HTML object>"
      ]
     },
     "metadata": {
      "tags": []
     },
     "output_type": "display_data"
    },
    {
     "data": {
      "text/html": [
       "Client: Yes, right, right. I'm getting extremely warm. Um, yeah, maybe I'll be able to do it one day, I guess. Maybe I'll be able to do it (laughs). I really haven't used ... but see, when I get out of here, I'll use a lot of profanity, you know. I don't, you know, just in terms of, you know, like I ... I, I, I, I think I did, you know, when I was really angry talking to my wife and things like that, you know, where I was just, \"Goddammit\", and all of that, you know, \"bastards\" and some other things and like, you know, I was raised properly, you know (laughs.). Uh, yeah, but I think part of that would be a part of expressing my (T: Mmm) feelings and everything like that, you know.</p>"
      ],
      "text/plain": [
       "<IPython.core.display.HTML object>"
      ]
     },
     "metadata": {
      "tags": []
     },
     "output_type": "display_data"
    },
    {
     "data": {
      "text/html": [
       "<p><b>Therapist: It wouldn't come out in nice, polite language.</b>"
      ],
      "text/plain": [
       "<IPython.core.display.HTML object>"
      ]
     },
     "metadata": {
      "tags": []
     },
     "output_type": "display_data"
    },
    {
     "data": {
      "text/html": [
       "Client: No, it wouldn't. It, it really wouldn't. It really wouldn't. To my teachers that I had, to the family that I had, uh, to a lot of my colleagues, you know, and others. And ... but I don't know if I really want to tell them, you know, maybe it's just a part of just being proud and, and everything else like that, but at least to myself I, I need to get it out and openly.</p>"
      ],
      "text/plain": [
       "<IPython.core.display.HTML object>"
      ]
     },
     "metadata": {
      "tags": []
     },
     "output_type": "display_data"
    },
    {
     "data": {
      "text/html": [
       "<p><b>Therapist: Yeah. You may not tell it to them face to face, but you need to get it out of yourself somehow.</b>"
      ],
      "text/plain": [
       "<IPython.core.display.HTML object>"
      ]
     },
     "metadata": {
      "tags": []
     },
     "output_type": "display_data"
    },
    {
     "data": {
      "text/html": [
       "Client: Mmm. Somehow, yeah, yeah. Really rotten and I really feel s ... you know, really screwed. I really feel ... (T: Mmm.) ... so badly.</p>"
      ],
      "text/plain": [
       "<IPython.core.display.HTML object>"
      ]
     },
     "metadata": {
      "tags": []
     },
     "output_type": "display_data"
    },
    {
     "data": {
      "text/html": [
       "<p><b>Therapist: \"The bastards really screwed me\".</b>"
      ],
      "text/plain": [
       "<IPython.core.display.HTML object>"
      ]
     },
     "metadata": {
      "tags": []
     },
     "output_type": "display_data"
    },
    {
     "data": {
      "text/html": [
       "Client: Yeah, I know. They ... they got me, you know. It was just like uh, being part, I guess, that had something to do with being in, you know, I guess, you know, I just ... I just wipe 'em out, you know, if you don't get them with their bodies you do it in their mind, you know, like it happened, you know, and it was ... it was real, you know, and you know, to try to describe that hell to somebody is just the, the hardest thing, you know. But it's like, you know, just somebody knocking you down ... (T: Mmm.) ... and it's somebody coming and stomping on you and spitting on you and everything like that, and like it's just, you know, and just being at ... feeling like garbage.</p>"
      ],
      "text/plain": [
       "<IPython.core.display.HTML object>"
      ]
     },
     "metadata": {
      "tags": []
     },
     "output_type": "display_data"
    },
    {
     "data": {
      "text/html": [
       "<p><b>Therapist: Mmm, mmm.</b>"
      ],
      "text/plain": [
       "<IPython.core.display.HTML object>"
      ]
     },
     "metadata": {
      "tags": []
     },
     "output_type": "display_data"
    },
    {
     "data": {
      "text/html": [
       "Client: And I have the feeling that people have made me feel like garbage, you know, and like ... you know? I'm sure that my friends would say, you know, God, I had everything. But I didn't have everything. I didn't have everything. Certainly didn't have that respect as a person.</p>"
      ],
      "text/plain": [
       "<IPython.core.display.HTML object>"
      ]
     },
     "metadata": {
      "tags": []
     },
     "output_type": "display_data"
    },
    {
     "data": {
      "text/html": [
       "<p><b>Therapist: But there were a lot of people who, though they may or may not have beaten you physically, treated you in a way that just trampled on you and beat you up and spit on you and made you a nobody, a piece of garbage.</b>"
      ],
      "text/plain": [
       "<IPython.core.display.HTML object>"
      ]
     },
     "metadata": {
      "tags": []
     },
     "output_type": "display_data"
    },
    {
     "data": {
      "text/html": [
       "Client: Right. And it won't happen again. Not if I can help it (small laugh).</p>"
      ],
      "text/plain": [
       "<IPython.core.display.HTML object>"
      ]
     },
     "metadata": {
      "tags": []
     },
     "output_type": "display_data"
    },
    {
     "data": {
      "text/html": [
       "<p><b>Therapist: Mmm.</b>"
      ],
      "text/plain": [
       "<IPython.core.display.HTML object>"
      ]
     },
     "metadata": {
      "tags": []
     },
     "output_type": "display_data"
    },
    {
     "data": {
      "text/html": [
       "Client: It's 'cause I'm really tired of fighting. (T: Mmm.) Really tired of expending that kind of energy. (T: Mmm.) It really is just, is straining, it's too draining, and like, you know, I don't really know what's gonna happen in terms of, you know, how I'm going to do that, you know. Get it out or (sighs) or whatever, but you know, I just don't really want to say that I'm hurt or whatever, because that is ... that isn't even descriptive (small laugh) enough for what really happened.</p>"
      ],
      "text/plain": [
       "<IPython.core.display.HTML object>"
      ]
     },
     "metadata": {
      "tags": []
     },
     "output_type": "display_data"
    },
    {
     "data": {
      "text/html": [
       "<p><b>Therapist: Yeah. To say a word like that or several of the words you've used just isn't at all the same as feeling those feelings inside and really feeling them fully.</b>"
      ],
      "text/plain": [
       "<IPython.core.display.HTML object>"
      ]
     },
     "metadata": {
      "tags": []
     },
     "output_type": "display_data"
    },
    {
     "data": {
      "text/html": [
       "Client: It really is, uh, I don't know if you saw \"The Excorcist\", but it really is, really is, you know, that oohf, you know, I remember a scene in that movie where the girl who threw up this green slime, you know, and that's really, it's that, you know, it's that bad, you know, it's, you know, it's that, it's that bad. 'Cause I know it ... I know it now, you know. It's not a part of me and my body really wants to reject that, but how to, how to throw that up is ...</p>"
      ],
      "text/plain": [
       "<IPython.core.display.HTML object>"
      ]
     },
     "metadata": {
      "tags": []
     },
     "output_type": "display_data"
    },
    {
     "data": {
      "text/html": [
       "<p><b>Therapist: Yeah, how to ... how to vomit up that green slime that's been a part of your experience.</b>"
      ],
      "text/plain": [
       "<IPython.core.display.HTML object>"
      ]
     },
     "metadata": {
      "tags": []
     },
     "output_type": "display_data"
    },
    {
     "data": {
      "text/html": [
       "Client: Yeah. Maybe I'm just afraid I'll look horrible, you know, or, or that I'd look horrible, or whatever, expressing that kind of anger, that kind of uh, that kind of hurt or whatever.</p>"
      ],
      "text/plain": [
       "<IPython.core.display.HTML object>"
      ]
     },
     "metadata": {
      "tags": []
     },
     "output_type": "display_data"
    },
    {
     "data": {
      "text/html": [
       "<p><b>Therapist: You wouldn't look civilized; you wouldn't look cultured.</b>"
      ],
      "text/plain": [
       "<IPython.core.display.HTML object>"
      ]
     },
     "metadata": {
      "tags": []
     },
     "output_type": "display_data"
    },
    {
     "data": {
      "text/html": [
       "Client: (Laughs.) I don't, I don't know, you know. (Sighs.) I don't really know. But right now, the ... more than getting that out, I think the, uh, the overriding thing is that I wanna keep at least that control, to control that, for fear of, you see, I don't really want to get sick again (T: Mmm, mmm.) You know, and like I think this, the slightest, you know, just by being weak, by submitting to that kind of pain, um, somehow bring back my uh ...</p>"
      ],
      "text/plain": [
       "<IPython.core.display.HTML object>"
      ]
     },
     "metadata": {
      "tags": []
     },
     "output_type": "display_data"
    },
    {
     "data": {
      "text/html": [
       "<p><b>Therapist: You wonder about that ... whether if you, if you let out all the ... all the hell that you've experienced inside, it might uh, it might bring back your illness.</b>"
      ],
      "text/plain": [
       "<IPython.core.display.HTML object>"
      ]
     },
     "metadata": {
      "tags": []
     },
     "output_type": "display_data"
    },
    {
     "data": {
      "text/html": [
       "Client: And that doesn't sound logical, does it? (Laughs.) I know that. (T: Smiles.)</p>"
      ],
      "text/plain": [
       "<IPython.core.display.HTML object>"
      ]
     },
     "metadata": {
      "tags": []
     },
     "output_type": "display_data"
    },
    {
     "data": {
      "text/html": [
       "<p><b>Therapist: O.K. (Laughs.)</b>"
      ],
      "text/plain": [
       "<IPython.core.display.HTML object>"
      ]
     },
     "metadata": {
      "tags": []
     },
     "output_type": "display_data"
    },
    {
     "data": {
      "text/html": [
       "Client: Thank you, thank you very much. (Sighs.) Oh, God. What a ... mmm. (20 second pause). I don't know. God, you know, I feel so beaten. I ... when I feel beaten right now, and I'm not sure why, but that in a way the, that I got, uh ... I really got something to say and it just, you know, and I know I'd feel better. But maybe I wouldn't, you know, I really talk ... God, I realize how I'm talking in circles. I seem to be talking in circles. Does it sound like uh?</p>"
      ],
      "text/plain": [
       "<IPython.core.display.HTML object>"
      ]
     },
     "metadata": {
      "tags": []
     },
     "output_type": "display_data"
    },
    {
     "data": {
      "text/html": [
       "<p><b>Therapist: No, not quite. It's more spirals, I think. (C: Laughs.) Getting, as you say, getting very close, you feel, you feel beaten right now as though, if only something could come out, you wouldn't feel beaten.</b>"
      ],
      "text/plain": [
       "<IPython.core.display.HTML object>"
      ]
     },
     "metadata": {
      "tags": []
     },
     "output_type": "display_data"
    },
    {
     "data": {
      "text/html": [
       "Client: (Pause) Yeah (sighs) Think that you know, just ... that turned, that almost turned me into something really inhuman.</p>"
      ],
      "text/plain": [
       "<IPython.core.display.HTML object>"
      ]
     },
     "metadata": {
      "tags": []
     },
     "output_type": "display_data"
    },
    {
     "data": {
      "text/html": [
       "<p><b>Therapist: Mmm.</b>"
      ],
      "text/plain": [
       "<IPython.core.display.HTML object>"
      ]
     },
     "metadata": {
      "tags": []
     },
     "output_type": "display_data"
    },
    {
     "data": {
      "text/html": [
       "Client: I really almost let it turn me into something really inhuman.</p>"
      ],
      "text/plain": [
       "<IPython.core.display.HTML object>"
      ]
     },
     "metadata": {
      "tags": []
     },
     "output_type": "display_data"
    },
    {
     "data": {
      "text/html": [
       "<p><b>Therapist: It damn near made an animal out of you.</b>"
      ],
      "text/plain": [
       "<IPython.core.display.HTML object>"
      ]
     },
     "metadata": {
      "tags": []
     },
     "output_type": "display_data"
    },
    {
     "data": {
      "text/html": [
       "Client: Damn near, damn near, yeah. So you see, if uh, I don't want that to happen anymore. At all. Not gonna do it to me again (laughs).</p>"
      ],
      "text/plain": [
       "<IPython.core.display.HTML object>"
      ]
     },
     "metadata": {
      "tags": []
     },
     "output_type": "display_data"
    },
    {
     "data": {
      "text/html": [
       "<p><b>Therapist: No. That's very clear.</b>"
      ],
      "text/plain": [
       "<IPython.core.display.HTML object>"
      ]
     },
     "metadata": {
      "tags": []
     },
     "output_type": "display_data"
    },
    {
     "data": {
      "text/html": [
       "Client: No. I know that doesn't help the other problem, but at least I know that (laughs), and I really do know that, you know. (T: Mmm, mmm.) Because I don't think anybody has a right to do that to anybody. Nobody ... teacher, wife, husband, whatever. Uh uh, and it, and it really wasn't my fault either and uh, and like I'm not the blameless ... I mean, I'm not without any blame or whatever, but you know, you know ... just like somebody took a big goddamned tree and just rammed it up ... ooh, so, you know? (Sighs.) Hard to describe, you know, you know?</p>"
      ],
      "text/plain": [
       "<IPython.core.display.HTML object>"
      ]
     },
     "metadata": {
      "tags": []
     },
     "output_type": "display_data"
    },
    {
     "data": {
      "text/html": [
       "<p><b>Therapist: Took a great big stick and rammed it up your ass ... Is that what you're saying?</b>"
      ],
      "text/plain": [
       "<IPython.core.display.HTML object>"
      ]
     },
     "metadata": {
      "tags": []
     },
     "output_type": "display_data"
    },
    {
     "data": {
      "text/html": [
       "Client: (Laughs.) I, I didn't say that.</p>"
      ],
      "text/plain": [
       "<IPython.core.display.HTML object>"
      ]
     },
     "metadata": {
      "tags": []
     },
     "output_type": "display_data"
    },
    {
     "data": {
      "text/html": [
       "<p><b>Therapist: Is that what you meant?</b>"
      ],
      "text/plain": [
       "<IPython.core.display.HTML object>"
      ]
     },
     "metadata": {
      "tags": []
     },
     "output_type": "display_data"
    },
    {
     "data": {
      "text/html": [
       "Client: That's what I meant.</p>"
      ],
      "text/plain": [
       "<IPython.core.display.HTML object>"
      ]
     },
     "metadata": {
      "tags": []
     },
     "output_type": "display_data"
    },
    {
     "data": {
      "text/html": [
       "<p><b>Therapist: OK. That's what I want to know, whether I was catching your meaning correctly.</b>"
      ],
      "text/plain": [
       "<IPython.core.display.HTML object>"
      ]
     },
     "metadata": {
      "tags": []
     },
     "output_type": "display_data"
    },
    {
     "data": {
      "text/html": [
       "Client: Yeah, for sure. You know, and you know that that probably would be painful. (Sighs.)</p>"
      ],
      "text/plain": [
       "<IPython.core.display.HTML object>"
      ]
     },
     "metadata": {
      "tags": []
     },
     "output_type": "display_data"
    },
    {
     "data": {
      "text/html": [
       "<p><b>Therapist: And it's that kind of pain that you've suffered.</b>"
      ],
      "text/plain": [
       "<IPython.core.display.HTML object>"
      ]
     },
     "metadata": {
      "tags": []
     },
     "output_type": "display_data"
    },
    {
     "data": {
      "text/html": [
       "Client: Yeah. (Pause). You just can't let it ... I just, I just can't let it happen again. (Sighs. 18 second pause.) I um really, uh, I just really don't know how to tell you how badly I've been hurt, you know. I really don't.</p>"
      ],
      "text/plain": [
       "<IPython.core.display.HTML object>"
      ]
     },
     "metadata": {
      "tags": []
     },
     "output_type": "display_data"
    },
    {
     "data": {
      "text/html": [
       "<p><b>Therapist: Goes beyond words.</b>"
      ],
      "text/plain": [
       "<IPython.core.display.HTML object>"
      ]
     },
     "metadata": {
      "tags": []
     },
     "output_type": "display_data"
    },
    {
     "data": {
      "text/html": [
       "Client: Yeah. But I know, you know, it's there, and maybe I should attend to it a little bit more. But, goddammit, you know, just ooh...</p>"
      ],
      "text/plain": [
       "<IPython.core.display.HTML object>"
      ]
     },
     "metadata": {
      "tags": []
     },
     "output_type": "display_data"
    },
    {
     "data": {
      "text/html": [
       "<p><b>Therapist: You're feeling some of that hurt now.</b>"
      ],
      "text/plain": [
       "<IPython.core.display.HTML object>"
      ]
     },
     "metadata": {
      "tags": []
     },
     "output_type": "display_data"
    },
    {
     "data": {
      "text/html": [
       "Client: Yeah. I am. I was thinking a ... about a wino on a street that continues to drink, doesn't have a place to live. You know I've seen so many people go by, they're the kind of person, you know, disgusting, don't want to work or whatever. But you know, I really feel like there may be some reasons. (T: Mmm.) And I know one thing, I'm gonna allow that person to be desperate ... (T: Mmm, mmm.) Because I'm thinking that probably people like that do things out of desperation. And um, 'cause I know, you know? I never really had a drinking problem or anything like that, but it's the kind of sensitivity that I've gotten from all of that.</p>"
      ],
      "text/plain": [
       "<IPython.core.display.HTML object>"
      ]
     },
     "metadata": {
      "tags": []
     },
     "output_type": "display_data"
    },
    {
     "data": {
      "text/html": [
       "<p><b>Therapist: Mmm, mmm. It seems, it seems to me that you're uh feeling it ... you know what it's like to be in desperation and you know what it could drag you to, and so maybe that’s what’s happened to some of them. Something like that.</b>"
      ],
      "text/plain": [
       "<IPython.core.display.HTML object>"
      ]
     },
     "metadata": {
      "tags": []
     },
     "output_type": "display_data"
    },
    {
     "data": {
      "text/html": [
       "Client: For sure. For sure. And I think that I ... I think my, my heart goes out to people like that, people who can't afford to to do this or whatever, and ... because see, I had a lot of money and you know, it all left. And uh, but in a way I'm happier now, you know. But I really don't know, not sure really where to go next, but I know that I don't really want that kind of life anymore. That I wanna give, I wanna help, and I wanna talk to people or whatever, and before I do that, you know, I wanna get my thing together, and a part of that is just maybe admitting, you know, and I guess maybe admitting that I'm hurt and showing and expressing my hurt or whatever will, will reaffirm the fact that I'm a person (T: Mmm, mmm.) Because apart from that, I think showing that is a, you know, pulling myself up too high, (T: Mmm.) you know, and that’s what everybody, you know, that's the way everything was.</p>"
      ],
      "text/plain": [
       "<IPython.core.display.HTML object>"
      ]
     },
     "metadata": {
      "tags": []
     },
     "output_type": "display_data"
    },
    {
     "data": {
      "text/html": [
       "<p><b>Therapist: \"I don't, I don't feel it ... I don't hurt, I'm, I'm fine\"... That’s a lot of bullshit.</b>"
      ],
      "text/plain": [
       "<IPython.core.display.HTML object>"
      ]
     },
     "metadata": {
      "tags": []
     },
     "output_type": "display_data"
    },
    {
     "data": {
      "text/html": [
       "Client: For sure. But at least I'm admitting to you that I'm hurt, you know.</p>"
      ],
      "text/plain": [
       "<IPython.core.display.HTML object>"
      ]
     },
     "metadata": {
      "tags": []
     },
     "output_type": "display_data"
    },
    {
     "data": {
      "text/html": [
       "<p><b>Therapist: Yeah, that's right, mmm. And just for a moment there, I felt you really were experiencing that too, really feeling that stick shoved up your ass.</b>"
      ],
      "text/plain": [
       "<IPython.core.display.HTML object>"
      ]
     },
     "metadata": {
      "tags": []
     },
     "output_type": "display_data"
    },
    {
     "data": {
      "text/html": [
       "Client: Oh, yeah, you know, when I, you know, what is, you know how your natural reaction, you know, when you start feeling stuff like that, or at least when I do, I just kind of, you know, I've got to put it all out of, out of my mind, bring it down to a different level. And I think that's what I'm doing, I keep doing, you know, when I get to the point. Gotta bring it to a safe level.</p>"
      ],
      "text/plain": [
       "<IPython.core.display.HTML object>"
      ]
     },
     "metadata": {
      "tags": []
     },
     "output_type": "display_data"
    },
    {
     "data": {
      "text/html": [
       "<p><b>Therapist: Yeah. That's right. You get that close, you get that close to the pit and then pull away a little.</b>"
      ],
      "text/plain": [
       "<IPython.core.display.HTML object>"
      ]
     },
     "metadata": {
      "tags": []
     },
     "output_type": "display_data"
    },
    {
     "data": {
      "text/html": [
       "Client: (Pause.) For sure. You, you ... is it all right to have everybody else to blame? (Laughs.) (T: laughs.) You know, for your, for your problem, instead of sharing some of that. But I shared, you know, I, I, I think I've really, I shared that, you know.</p>"
      ],
      "text/plain": [
       "<IPython.core.display.HTML object>"
      ]
     },
     "metadata": {
      "tags": []
     },
     "output_type": "display_data"
    },
    {
     "data": {
      "text/html": [
       "<p><b>Therapist: I think ... I think what you're saying is, \"I feel as though, dammit, everybody else is to blame. My mind says, Oh, no, you have, you probably have a part in it too, but...\" (C: Sure. Sure.) ...your feelings are ...</b>"
      ],
      "text/plain": [
       "<IPython.core.display.HTML object>"
      ]
     },
     "metadata": {
      "tags": []
     },
     "output_type": "display_data"
    },
    {
     "data": {
      "text/html": [
       "Client: Yeah, yeah. And I guess I hurt myself. I didn't, other people ... maybe if I can clarify that ... I let myself be hurt. (T: Mmm, mmm.) You know, because I just gave too much, you know.</p>"
      ],
      "text/plain": [
       "<IPython.core.display.HTML object>"
      ]
     },
     "metadata": {
      "tags": []
     },
     "output_type": "display_data"
    },
    {
     "data": {
      "text/html": [
       "<p><b>Therapist: Mmm. Made yourself vulnerable sometimes.</b>"
      ],
      "text/plain": [
       "<IPython.core.display.HTML object>"
      ]
     },
     "metadata": {
      "tags": []
     },
     "output_type": "display_data"
    },
    {
     "data": {
      "text/html": [
       "Client: Really. And not sometimes ... most of the times.</p>"
      ],
      "text/plain": [
       "<IPython.core.display.HTML object>"
      ]
     },
     "metadata": {
      "tags": []
     },
     "output_type": "display_data"
    },
    {
     "data": {
      "text/html": [
       "<p><b>Therapist: Most of the times.</b>"
      ],
      "text/plain": [
       "<IPython.core.display.HTML object>"
      ]
     },
     "metadata": {
      "tags": []
     },
     "output_type": "display_data"
    },
    {
     "data": {
      "text/html": [
       "Client: You know, by being, you know, just by being, by sharing, by being there, by giving, you know, and really loving. Because I do have that sense of a total, you know, that just, I wanna love, that's my nature.</p>"
      ],
      "text/plain": [
       "<IPython.core.display.HTML object>"
      ]
     },
     "metadata": {
      "tags": []
     },
     "output_type": "display_data"
    },
    {
     "data": {
      "text/html": [
       "<p><b>Therapist: Mmm, mmm.</b>"
      ],
      "text/plain": [
       "<IPython.core.display.HTML object>"
      ]
     },
     "metadata": {
      "tags": []
     },
     "output_type": "display_data"
    },
    {
     "data": {
      "text/html": [
       "Client: But you know, I, I've really never been this beaten. I never ... you know, never have.</p>"
      ],
      "text/plain": [
       "<IPython.core.display.HTML object>"
      ]
     },
     "metadata": {
      "tags": []
     },
     "output_type": "display_data"
    },
    {
     "data": {
      "text/html": [
       "<p><b>Therapist: I want to be clear about your meaning. You've never felt so much of being beaten as you do right now? Is that what you're saying?</b>"
      ],
      "text/plain": [
       "<IPython.core.display.HTML object>"
      ]
     },
     "metadata": {
      "tags": []
     },
     "output_type": "display_data"
    },
    {
     "data": {
      "text/html": [
       "Client: Well, through this whole thing, you know.</p>"
      ],
      "text/plain": [
       "<IPython.core.display.HTML object>"
      ]
     },
     "metadata": {
      "tags": []
     },
     "output_type": "display_data"
    },
    {
     "data": {
      "text/html": [
       "<p><b>Therapist: Yeah.</b>"
      ],
      "text/plain": [
       "<IPython.core.display.HTML object>"
      ]
     },
     "metadata": {
      "tags": []
     },
     "output_type": "display_data"
    },
    {
     "data": {
      "text/html": [
       "Client: Just beaten, you know, just really beaten, and I think that if I show you how much I've been beaten or whatever, you know, like I'd probably, you know, become nothing in this chair, you know, just ... (T: Mmm, mmm.) You know? (Laughs.)</p>"
      ],
      "text/plain": [
       "<IPython.core.display.HTML object>"
      ]
     },
     "metadata": {
      "tags": []
     },
     "output_type": "display_data"
    },
    {
     "data": {
      "text/html": [
       "<p><b>Therapist: You might practically disappear if you really let me know how hurt and beaten and awful you feel.</b>"
      ],
      "text/plain": [
       "<IPython.core.display.HTML object>"
      ]
     },
     "metadata": {
      "tags": []
     },
     "output_type": "display_data"
    },
    {
     "data": {
      "text/html": [
       "Client: Mmm, for sure. For sure. You know, I could tell you some times I mean that would just, you know, maybe blow you away, you know. (T: Mmmm.) ... (Sighs and appears on the edge of crying during a 20 second pause.) Really too much for me.</p>"
      ],
      "text/plain": [
       "<IPython.core.display.HTML object>"
      ]
     },
     "metadata": {
      "tags": []
     },
     "output_type": "display_data"
    },
    {
     "data": {
      "text/html": [
       "<p><b>Therapist: Hmm?</b>"
      ],
      "text/plain": [
       "<IPython.core.display.HTML object>"
      ]
     },
     "metadata": {
      "tags": []
     },
     "output_type": "display_data"
    },
    {
     "data": {
      "text/html": [
       "Client: It's really too much for me.</p>"
      ],
      "text/plain": [
       "<IPython.core.display.HTML object>"
      ]
     },
     "metadata": {
      "tags": []
     },
     "output_type": "display_data"
    },
    {
     "data": {
      "text/html": [
       "<p><b>Therapist: Too much. Mmm.</b>"
      ],
      "text/plain": [
       "<IPython.core.display.HTML object>"
      ]
     },
     "metadata": {
      "tags": []
     },
     "output_type": "display_data"
    },
    {
     "data": {
      "text/html": [
       "Client: I feel like it.</p>"
      ],
      "text/plain": [
       "<IPython.core.display.HTML object>"
      ]
     },
     "metadata": {
      "tags": []
     },
     "output_type": "display_data"
    },
    {
     "data": {
      "text/html": [
       "<p><b>Therapist: I, I think you feel as though, \"I've gone about as far as I can go at this point\".</b>"
      ],
      "text/plain": [
       "<IPython.core.display.HTML object>"
      ]
     },
     "metadata": {
      "tags": []
     },
     "output_type": "display_data"
    },
    {
     "data": {
      "text/html": [
       "Client: Yeah. Mmm, yeah, really. (Laughs.) When I start smiling, I know I am.</p>"
      ],
      "text/plain": [
       "<IPython.core.display.HTML object>"
      ]
     },
     "metadata": {
      "tags": []
     },
     "output_type": "display_data"
    },
    {
     "data": {
      "text/html": [
       "<p><b>Therapist: Mmm. Taking a drink of water.</b>"
      ],
      "text/plain": [
       "<IPython.core.display.HTML object>"
      ]
     },
     "metadata": {
      "tags": []
     },
     "output_type": "display_data"
    },
    {
     "data": {
      "text/html": [
       "Client: For sure. (Laughs.) Well, you know, but I'm being truthful about it anyway.</p>"
      ],
      "text/plain": [
       "<IPython.core.display.HTML object>"
      ]
     },
     "metadata": {
      "tags": []
     },
     "output_type": "display_data"
    },
    {
     "data": {
      "text/html": [
       "<p><b>Therapist: Mmm, yeah. Yeah, I feel, I feel too. Uh, you've walked around that pit of hurt and pain and beaten-ness, and you've, you've felt some of it and uh, and perhaps that's as far as you can go right at this moment.</b>"
      ],
      "text/plain": [
       "<IPython.core.display.HTML object>"
      ]
     },
     "metadata": {
      "tags": []
     },
     "output_type": "display_data"
    },
    {
     "data": {
      "text/html": [
       "Client: Yeah.</p>"
      ],
      "text/plain": [
       "<IPython.core.display.HTML object>"
      ]
     },
     "metadata": {
      "tags": []
     },
     "output_type": "display_data"
    },
    {
     "data": {
      "text/html": [
       "<p><b>Therapist: Even though you know there's more there, you know that you're keeping some of it down. Um and to know those things may be helpful too.</b>"
      ],
      "text/plain": [
       "<IPython.core.display.HTML object>"
      ]
     },
     "metadata": {
      "tags": []
     },
     "output_type": "display_data"
    },
    {
     "data": {
      "text/html": [
       "Client: Yeah. You see, because I, I can talk about this leukemia and and all this stuff and everything like that and ... (T: Mmm, mmm.) well, I guess it's you know...</p>"
      ],
      "text/plain": [
       "<IPython.core.display.HTML object>"
      ]
     },
     "metadata": {
      "tags": []
     },
     "output_type": "display_data"
    },
    {
     "data": {
      "text/html": [
       "<p><b>Therapist: Fascinating. And it's easier to talk about leukemia and the possibility of death and all that, than it is to talk about all the hurt and awfulness that you've suffered.</b>"
      ],
      "text/plain": [
       "<IPython.core.display.HTML object>"
      ]
     },
     "metadata": {
      "tags": []
     },
     "output_type": "display_data"
    },
    {
     "data": {
      "text/html": [
       "Client: Yeah. (Sighs.) Whew, oh, I really, whew, a lot, you know (sighs). I have to stop. OK?</p>"
      ],
      "text/plain": [
       "<IPython.core.display.HTML object>"
      ]
     },
     "metadata": {
      "tags": []
     },
     "output_type": "display_data"
    },
    {
     "data": {
      "text/html": [
       "<p><b>Therapist: OK. All right, mmm. Gone about as far as you can go.</b>"
      ],
      "text/plain": [
       "<IPython.core.display.HTML object>"
      ]
     },
     "metadata": {
      "tags": []
     },
     "output_type": "display_data"
    },
    {
     "data": {
      "text/html": [
       "Client: Right.</p>"
      ],
      "text/plain": [
       "<IPython.core.display.HTML object>"
      ]
     },
     "metadata": {
      "tags": []
     },
     "output_type": "display_data"
    },
    {
     "data": {
      "text/html": [
       "<p><b>Therapist: Mmm. OK, we'll call it quits.</b>"
      ],
      "text/plain": [
       "<IPython.core.display.HTML object>"
      ]
     },
     "metadata": {
      "tags": []
     },
     "output_type": "display_data"
    }
   ],
   "source": [
    "from IPython.core.display import HTML, display\n",
    "for i in range(0, len(lines), 2):\n",
    "    display(HTML('Client: ' + lines[i] + '</p>'))\n",
    "    display(HTML('<p><b>Therapist: ' + lines[i + 1] + '</b>'))"
   ]
  },
  {
   "cell_type": "code",
   "execution_count": 0,
   "metadata": {
    "ExecuteTime": {
     "end_time": "2019-09-29T15:52:24.850565Z",
     "start_time": "2019-09-29T15:52:24.846120Z"
    },
    "colab": {},
    "colab_type": "code",
    "id": "CKVD24RtJqo3"
   },
   "outputs": [],
   "source": [
    "data = [(lines[i], lines[i + 1]) for i in range(0, len(lines), 2)]\n",
    "random.seed(12345)  # para resultados reproducibles\n",
    "                    # for reproducible results\n",
    "random.shuffle(data)"
   ]
  },
  {
   "cell_type": "code",
   "execution_count": 8,
   "metadata": {
    "ExecuteTime": {
     "end_time": "2019-09-29T15:52:25.290061Z",
     "start_time": "2019-09-29T15:52:25.286241Z"
    },
    "colab": {
     "base_uri": "https://localhost:8080/",
     "height": 35
    },
    "colab_type": "code",
    "id": "u1sZ68RpJqo6",
    "outputId": "319d1834-c1ce-4c04-c537-6e712b797309"
   },
   "outputs": [
    {
     "data": {
      "text/plain": [
       "481"
      ]
     },
     "execution_count": 8,
     "metadata": {
      "tags": []
     },
     "output_type": "execute_result"
    }
   ],
   "source": [
    "len(data)"
   ]
  },
  {
   "cell_type": "markdown",
   "metadata": {
    "colab_type": "text",
    "id": "55I8Dv9aJVMz",
    "lang": "es"
   },
   "source": [
    "### Definir el modelo"
   ]
  },
  {
   "cell_type": "markdown",
   "metadata": {
    "colab_type": "text",
    "id": "VBWdsn8oYPDp",
    "lang": "en"
   },
   "source": [
    "### Define the model"
   ]
  },
  {
   "cell_type": "code",
   "execution_count": 0,
   "metadata": {
    "ExecuteTime": {
     "end_time": "2019-09-29T15:52:33.204897Z",
     "start_time": "2019-09-29T15:52:30.769733Z"
    },
    "colab": {},
    "colab_type": "code",
    "id": "EgiCpvzWJqo_"
   },
   "outputs": [],
   "source": [
    "modelo_de_bert = 'bert_uncased_L-12_H-768_A-12/1'  #@param [\"bert_uncased_L-12_H-768_A-12/1\", \"bert_cased_L-12_H-768_A-12/1\", \"bert_uncased_L-24_H-1024_A-16/1\", \"bert_cased_L-24_H-1024_A-16/1\", \"bert_multi_cased_L-12_H-768_A-12/1\"]\n",
    "bert = hub.Module('https://tfhub.dev/google/' + modelo_de_bert)\n",
    "\n",
    "# instanciar el tokenizador\n",
    "# create instance of tokenizer\n",
    "tokenization_info = bert(signature='tokenization_info', as_dict=True)\n",
    "vocab_file, do_lower_case = sess.run([\n",
    "    tokenization_info['vocab_file'],\n",
    "    tokenization_info['do_lower_case'],\n",
    "])\n",
    "tokenizer = tokenization.FullTokenizer(vocab_file=vocab_file,\n",
    "                                       do_lower_case=do_lower_case)"
   ]
  },
  {
   "cell_type": "code",
   "execution_count": 0,
   "metadata": {
    "ExecuteTime": {
     "end_time": "2019-09-29T15:52:33.216372Z",
     "start_time": "2019-09-29T15:52:33.206601Z"
    },
    "colab": {},
    "colab_type": "code",
    "id": "F2hGtZWfJqpJ"
   },
   "outputs": [],
   "source": [
    "class BertEmbeddingLayer(Layer):\n",
    "    def __init__(\n",
    "            self,\n",
    "            output_key='sequence_output',  # 'sequence_output': embedding de las palabras, 'pooled_ouput': embedding de la frase\n",
    "                                           # 'sequence_output': word embedding, 'pooled_output': sentence embdding\n",
    "            n_fine_tune_layers=0,  # número de capas a entrenar (sin contar la de pooling)\n",
    "                                   # number of layers to train (not counting the pooling layer)\n",
    "            bert_path=\"https://tfhub.dev/google/bert_uncased_L-12_H-768_A-12/1\",  # modelo de BERT preentrenado\n",
    "                                                                                  # pre-trained BERT model\n",
    "            max_len=512,  # número máximo de tokens en las secuencias\n",
    "                          # maximum number of tokens in the sequences\n",
    "            **kwargs):\n",
    "        assert output_key == 'sequence_output' or output_key == 'pooled_output'\n",
    "        super(BertEmbeddingLayer, self).__init__(**kwargs)\n",
    "        self.output_key = output_key\n",
    "        self.n_fine_tune_layers = n_fine_tune_layers\n",
    "        self.bert_path = bert_path\n",
    "        self.max_len = max_len\n",
    "\n",
    "    def build(self, input_shape):\n",
    "        self.bert = hub.Module(self.bert_path,\n",
    "                               trainable=self.trainable,\n",
    "                               name=\"{}_module\".format(self.name))\n",
    "        if self.trainable:\n",
    "            if self.output_key == 'pooled_output':\n",
    "                # añadir las variables de la capa de pooling a las que vamos a entrenar\n",
    "                # add the pooling layer variables to those we are going to train\n",
    "                self.trainable_weights += [\n",
    "                    var for var in self.bert.variables if 'pooler/' in var.name\n",
    "                ]\n",
    "            # añadir las variables de las últimas n capas a las que vamos a entrenar\n",
    "            # add the variables from the last n layers to those we are going to train\n",
    "            top_layer = max([\n",
    "                int(_[_.find('layer_'):][6:_[_.find('layer_'):].find('/')])\n",
    "                for _ in\n",
    "                [var.name for var in bert.variables if 'layer_' in var.name]\n",
    "            ])\n",
    "            self.trainable_weights += [\n",
    "                var for var in self.bert.variables if any([\n",
    "                    f'layer_{top_layer-i}/' in var.name\n",
    "                    for i in range(self.n_fine_tune_layers)\n",
    "                ])\n",
    "            ]\n",
    "            self.non_trainable_weights += [\n",
    "                var for var in self.bert.variables\n",
    "                if var not in self.trainable_weights\n",
    "            ]\n",
    "        super(BertEmbeddingLayer, self).build(input_shape)\n",
    "\n",
    "    def call(self, inputs):\n",
    "        inputs = [K.cast(x, dtype='int32') for x in inputs]\n",
    "        input_ids, input_mask, segment_ids = inputs\n",
    "        bert_inputs = dict(input_ids=input_ids,\n",
    "                           input_mask=input_mask,\n",
    "                           segment_ids=segment_ids)\n",
    "        result = self.bert(inputs=bert_inputs,\n",
    "                           signature='tokens',\n",
    "                           as_dict=True)[self.output_key]\n",
    "        return result\n",
    "\n",
    "    def compute_output_shape(self, input_shape):\n",
    "        if self.output_key == 'pooled_output':\n",
    "            # embedding de la frase\n",
    "            # sentence embedding\n",
    "            return (input_shape[0], self.bert.get_output_info_dict('tokens')[\n",
    "                self.output_key].get_shape()[1].value)\n",
    "        else:\n",
    "            # embedding de las palabras\n",
    "            # word embedding\n",
    "            return (input_shape[0], self.max_len,\n",
    "                    self.bert.get_output_info_dict('tokens')[\n",
    "                        self.output_key].get_shape()[2].value)"
   ]
  },
  {
   "cell_type": "code",
   "execution_count": 0,
   "metadata": {
    "ExecuteTime": {
     "end_time": "2019-09-29T15:52:33.229940Z",
     "start_time": "2019-09-29T15:52:33.217875Z"
    },
    "colab": {},
    "colab_type": "code",
    "id": "ydmCcCSzJqpM"
   },
   "outputs": [],
   "source": [
    "def build_bert_classification_model(\n",
    "        trainable=True,\n",
    "        n_fine_tune_layers=10,\n",
    "        bert_path=\"https://tfhub.dev/google/bert_uncased_L-12_H-768_A-12/1\",\n",
    "        max_len=limite_de_palabras_en_la_secuencia,\n",
    "        num_classes=2):\n",
    "    in_id = Input(shape=(max_len, ), name=\"input_ids\")\n",
    "    in_mask = Input(shape=(max_len, ), name=\"input_masks\")\n",
    "    in_segment = Input(shape=(max_len, ), name=\"segment_ids\")\n",
    "    bert_inputs = [in_id, in_mask, in_segment]\n",
    "    embedding = BertEmbeddingLayer(trainable=trainable,\n",
    "                                   output_key='pooled_output',\n",
    "                                   n_fine_tune_layers=n_fine_tune_layers,\n",
    "                                   bert_path=bert_path,\n",
    "                                   max_len=max_len)(bert_inputs)\n",
    "    dropout = Dropout(0.1)(embedding)\n",
    "    pred = Dense(num_classes, activation='sigmoid')(dropout)\n",
    "    model = Model(inputs=bert_inputs, outputs=pred)\n",
    "    model.compile(loss='categorical_crossentropy',\n",
    "                  optimizer=Adam(),\n",
    "                  metrics=['accuracy'])\n",
    "    model.summary()\n",
    "    return model"
   ]
  },
  {
   "cell_type": "markdown",
   "metadata": {
    "ExecuteTime": {
     "end_time": "2019-08-18T01:22:42.926988Z",
     "start_time": "2019-08-18T01:22:42.924486Z"
    },
    "colab_type": "text",
    "id": "tthbs8OpJVNF",
    "lang": "es"
   },
   "source": [
    "### Preparar los datos en el formato que espera BERT\n",
    "```python\n",
    "example = [CLS] How are you? [SEP] Fine, thanks [SEP]\n",
    "\n",
    "mask    =   1    1   1   1     1     1     1      1    0 ... 0\n",
    "\n",
    "segment =   0    0   0   0     1     1     1      1    0 ... 0\n",
    "```"
   ]
  },
  {
   "cell_type": "markdown",
   "metadata": {
    "colab_type": "text",
    "id": "gE13HFFiYPD6",
    "lang": "en"
   },
   "source": [
    "### Prepare the data in the format expected by BERT\n",
    "```python\n",
    "example = [CLS] How are you? [SEP] Fine, thanks [SEP]\n",
    "\n",
    "mask    =   1    1   1   1     1     1     1      1    0 ... 0\n",
    "\n",
    "segment =   0    0   0   0     1     1     1      1    0 ... 0\n",
    "```"
   ]
  },
  {
   "cell_type": "code",
   "execution_count": 0,
   "metadata": {
    "ExecuteTime": {
     "end_time": "2019-09-29T15:52:36.674600Z",
     "start_time": "2019-09-29T15:52:35.805173Z"
    },
    "colab": {},
    "colab_type": "code",
    "id": "SwaDp66xJqpO"
   },
   "outputs": [],
   "source": [
    "train_test_split = 400\n",
    "\n",
    "\n",
    "# generar casos positivos y negativos\n",
    "# generate positive and negative cases\n",
    "def get_data(data, max_len):\n",
    "    examples = []\n",
    "    mask = []\n",
    "    segment = []\n",
    "    label = []\n",
    "    for i in range(len(data)):\n",
    "        # consecutivos\n",
    "        # consecutive phrases\n",
    "        q = tokenizer.tokenize(data[i][0])\n",
    "        a = tokenizer.tokenize(data[i][1])\n",
    "        pad = [0] * (max_len - (len(q) + len(a) + 3))\n",
    "        examples.append(\n",
    "            (tokenizer.convert_tokens_to_ids(['[CLS]'] + q + ['[SEP]'] + a +\n",
    "                                             ['[SEP]'])[:max_len] +\n",
    "             pad)[:max_len])\n",
    "        mask.append(([1] * (len(q) + len(a) + 3) + pad)[:max_len])\n",
    "        segment.append(\n",
    "            ([0] * (len(q) + 2) + [1] * (len(a) + 1) + pad)[:max_len])\n",
    "        label.append('1')  # resultado positivo\n",
    "        # positive result\n",
    "\n",
    "        # no consecutivos\n",
    "        # non-consecutive phrases\n",
    "        for _ in range(1):\n",
    "            noti = (random.randrange(len(data) - 3) + i + 2) % len(data)\n",
    "            assert (noti < i - 1 or noti > i + 1)\n",
    "            q = tokenizer.tokenize(data[i][0])\n",
    "            a = tokenizer.tokenize(data[noti][1])\n",
    "            pad = [0] * (max_len - (len(q) + len(a) + 3))\n",
    "            examples.append(\n",
    "                (tokenizer.convert_tokens_to_ids(['[CLS]'] + q + ['[SEP]'] +\n",
    "                                                 a + ['[SEP]'])[:max_len] +\n",
    "                 pad)[:max_len])\n",
    "            mask.append(([1] * (len(q) + len(a) + 3) + pad)[:max_len])\n",
    "            segment.append(\n",
    "                ([0] * (len(q) + 2) + [1] * (len(a) + 1) + pad)[:max_len])\n",
    "            label.append('0')  # resultado negativo\n",
    "            # negative result\n",
    "    return (np.array(examples), np.array(mask), np.array(segment),\n",
    "            to_categorical(label, 2))\n",
    "\n",
    "\n",
    "train_examples, train_mask, train_segment, train_label = get_data(\n",
    "    data[:train_test_split], limite_de_palabras_en_la_secuencia)\n",
    "test_examples, test_mask, test_segment, test_label = get_data(\n",
    "    data[train_test_split:], limite_de_palabras_en_la_secuencia)"
   ]
  },
  {
   "cell_type": "markdown",
   "metadata": {
    "colab_type": "text",
    "id": "REVyQxOLJVNL",
    "lang": "es"
   },
   "source": [
    "### Entrenar el modelo"
   ]
  },
  {
   "cell_type": "markdown",
   "metadata": {
    "colab_type": "text",
    "id": "hSrj-c0oYPEB",
    "lang": "en"
   },
   "source": [
    "### Train the model"
   ]
  },
  {
   "cell_type": "code",
   "execution_count": 16,
   "metadata": {
    "ExecuteTime": {
     "end_time": "2019-09-29T15:52:45.722884Z",
     "start_time": "2019-09-29T15:52:43.585566Z"
    },
    "colab": {
     "base_uri": "https://localhost:8080/",
     "height": 454
    },
    "colab_type": "code",
    "id": "zEzuZnWcJqpR",
    "outputId": "4d880eb2-960b-4691-d5ef-8d540eac247e"
   },
   "outputs": [
    {
     "name": "stdout",
     "output_type": "stream",
     "text": [
      "INFO:tensorflow:Saver not created because there are no variables in the graph to restore\n"
     ]
    },
    {
     "name": "stderr",
     "output_type": "stream",
     "text": [
      "INFO:tensorflow:Saver not created because there are no variables in the graph to restore\n"
     ]
    },
    {
     "name": "stdout",
     "output_type": "stream",
     "text": [
      "Model: \"model_2\"\n",
      "__________________________________________________________________________________________________\n",
      "Layer (type)                    Output Shape         Param #     Connected to                     \n",
      "==================================================================================================\n",
      "input_ids (InputLayer)          (None, 512)          0                                            \n",
      "__________________________________________________________________________________________________\n",
      "input_masks (InputLayer)        (None, 512)          0                                            \n",
      "__________________________________________________________________________________________________\n",
      "segment_ids (InputLayer)        (None, 512)          0                                            \n",
      "__________________________________________________________________________________________________\n",
      "bert_embedding_layer_2 (BertEmb ((None, 512), 768)   0           input_ids[0][0]                  \n",
      "                                                                 input_masks[0][0]                \n",
      "                                                                 segment_ids[0][0]                \n",
      "__________________________________________________________________________________________________\n",
      "dropout_2 (Dropout)             ((None, 512), 768)   0           bert_embedding_layer_2[0][0]     \n",
      "__________________________________________________________________________________________________\n",
      "dense_2 (Dense)                 ((None, 512), 2)     1538        dropout_2[0][0]                  \n",
      "==================================================================================================\n",
      "Total params: 1,538\n",
      "Trainable params: 1,538\n",
      "Non-trainable params: 0\n",
      "__________________________________________________________________________________________________\n"
     ]
    }
   ],
   "source": [
    "# trainable?\n",
    "entrenable = False  #@param {type : 'boolean'}\n",
    "# number of layers to fine-tune\n",
    "numero_de_capas_a_tunear = 0  #@param {type: 'slider', min : 0, max : 24}\n",
    "checkpoint_filename = '/DrBertModel.h5'\n",
    "bert_model = build_bert_classification_model(\n",
    "    trainable=entrenable,\n",
    "    n_fine_tune_layers=numero_de_capas_a_tunear,\n",
    "    bert_path='https://tfhub.dev/google/' + modelo_de_bert,\n",
    "    max_len=limite_de_palabras_en_la_secuencia,\n",
    "    num_classes=2)"
   ]
  },
  {
   "cell_type": "code",
   "execution_count": 17,
   "metadata": {
    "ExecuteTime": {
     "end_time": "2019-09-29T15:53:08.518733Z",
     "start_time": "2019-09-29T15:52:50.263854Z"
    },
    "colab": {
     "base_uri": "https://localhost:8080/",
     "height": 90
    },
    "colab_type": "code",
    "id": "-tYnpZmbJqpU",
    "outputId": "217f6999-1874-4f02-d83c-53437a43cb97"
   },
   "outputs": [
    {
     "name": "stdout",
     "output_type": "stream",
     "text": [
      "Train on 800 samples, validate on 162 samples\n",
      "Epoch 1/1\n",
      "800/800 [==============================] - 82s 103ms/step - loss: 0.6824 - acc: 0.5725 - val_loss: 0.6532 - val_acc: 0.6543\n"
     ]
    },
    {
     "data": {
      "text/plain": [
       "<keras.callbacks.History at 0x7f8a128840b8>"
      ]
     },
     "execution_count": 17,
     "metadata": {
      "tags": []
     },
     "output_type": "execute_result"
    }
   ],
   "source": [
    "bert_model.fit(\n",
    "    [train_examples, train_mask, train_segment],\n",
    "    train_label,\n",
    "    validation_data=([test_examples, test_mask, test_segment], test_label),\n",
    "    epochs=1,\n",
    "    batch_size=32  #@param {type : \"number\"}\n",
    "    #@markdown La memoría utilizada por el GPU depende del tamaño del batch y el número de palabras en las sequencias\n",
    "    #@markdown The memory used by the GPU depends on the batch size and the number of words in the sequences\n",
    "    )"
   ]
  },
  {
   "cell_type": "markdown",
   "metadata": {
    "colab_type": "text",
    "id": "SfI1fyaoJVNV",
    "lang": "es"
   },
   "source": [
    "### Ahora podemos empezar la sesión de psicoterapia..."
   ]
  },
  {
   "cell_type": "markdown",
   "metadata": {
    "colab_type": "text",
    "id": "_E7i3cUcYPER",
    "lang": "en"
   },
   "source": [
    "### Now we can start the psychotherapy session ..."
   ]
  },
  {
   "cell_type": "code",
   "execution_count": 0,
   "metadata": {
    "ExecuteTime": {
     "end_time": "2019-09-29T15:56:57.109267Z",
     "start_time": "2019-09-29T15:53:15.329676Z"
    },
    "colab": {},
    "colab_type": "code",
    "id": "0gTZl7jpJqpd",
    "outputId": "f4a1baf8-3749-4f5e-bf1a-92cc4564cf8d"
   },
   "outputs": [
    {
     "name": "stdout",
     "output_type": "stream",
     "text": [
      "You: Hello Dr Bert\n",
      "Dr Bert: Hi.\n",
      "You: I am feeling so depressed, I just don't know what to do!\n",
      "Dr Bert: Well, all I can do is what I am feeling- that is I feel close to you in this moment.\n",
      "You: That's nice of you to say that. I feel fine when I am in session, but when I go home, I feel much worse.\n",
      "Dr Bert: Mmm, you say you're not sure whether crying for yourself is constructive. I feel also you're afraid of crying for yourself.\n",
      "You: I am afraid of doing that. But what good does it do?\n",
      "Dr Bert: Are you afraid of the responsibility or, or what aspect of it is most frightening?\n",
      "You: I'm afraid of hurting people around me.\n",
      "Dr Bert: Perhaps at a deeper level you're afraid of the hurt that you may experience if you let yourself experience the anger.\n",
      "You: That could be it. I am terrified of losing control.\n",
      "Dr Bert: Mhm. Yeah being, being frightened of what you’re taking on and sad of what you’re losing for yourself. (S: Nods.) Those are two very real (S: Hmm.) feelings.\n",
      "You: OK, thanks. I have to go now. Bye!\n",
      "Dr Bert: Alright good. See you tomorrow.\n",
      "Dr Bert: Bye!\n"
     ]
    }
   ],
   "source": [
    "max_len = limite_de_palabras_en_la_secuencia\n",
    "try:\n",
    "    while True:\n",
    "        texto = input('You: ')\n",
    "        examples = []\n",
    "        mask = []\n",
    "        segment = []\n",
    "        label = []\n",
    "        for i in range(len(data)):\n",
    "            # consecutivos\n",
    "            # consecutive phrases\n",
    "            q = tokenizer.tokenize(texto)\n",
    "            a = tokenizer.tokenize(data[i][1])\n",
    "            pad = [0] * (max_len - (len(q) + len(a) + 3))\n",
    "            examples.append(\n",
    "                tokenizer.convert_tokens_to_ids(['[CLS]'] + q + ['[SEP]'] + a +\n",
    "                                                ['[SEP]'])[:max_len] + pad)\n",
    "            mask.append([1] * (len(q) + len(a) + 3) + pad)\n",
    "            segment.append([0] * (len(q) + 2) + [1] * (len(a) + 1) + pad)\n",
    "        result = bert_model.predict([examples, mask, segment])\n",
    "        print('Dr Bert: ' + data[np.argmax(softmax(result, axis=1)[:,1])][1])\n",
    "except:\n",
    "    print('Dr Bert: Bye!')"
   ]
  },
  {
   "cell_type": "code",
   "execution_count": 0,
   "metadata": {
    "colab": {},
    "colab_type": "code",
    "id": "JG1qtXduYPEf"
   },
   "outputs": [],
   "source": []
  }
 ],
 "metadata": {
  "accelerator": "GPU",
  "colab": {
   "include_colab_link": true,
   "name": "Dr Bert.ipynb",
   "provenance": []
  },
  "kernelspec": {
   "display_name": "Python 3",
   "language": "python",
   "name": "python3"
  },
  "language_info": {
   "codemirror_mode": {
    "name": "ipython",
    "version": 3
   },
   "file_extension": ".py",
   "mimetype": "text/x-python",
   "name": "python",
   "nbconvert_exporter": "python",
   "pygments_lexer": "ipython3",
   "version": "3.6.9"
  },
  "nbTranslate": {
   "displayLangs": [
    "en"
   ],
   "hotkey": "alt-t",
   "langInMainMenu": true,
   "sourceLang": "es",
   "targetLang": "en",
   "useGoogleTranslate": true
  },
  "toc": {
   "base_numbering": 1,
   "nav_menu": {},
   "number_sections": false,
   "sideBar": true,
   "skip_h1_title": false,
   "title_cell": "Table of Contents",
   "title_sidebar": "Contents",
   "toc_cell": false,
   "toc_position": {},
   "toc_section_display": true,
   "toc_window_display": false
  },
  "varInspector": {
   "cols": {
    "lenName": 16,
    "lenType": 16,
    "lenVar": 40
   },
   "kernels_config": {
    "python": {
     "delete_cmd_postfix": "",
     "delete_cmd_prefix": "del ",
     "library": "var_list.py",
     "varRefreshCmd": "print(var_dic_list())"
    },
    "r": {
     "delete_cmd_postfix": ") ",
     "delete_cmd_prefix": "rm(",
     "library": "var_list.r",
     "varRefreshCmd": "cat(var_dic_list()) "
    }
   },
   "types_to_exclude": [
    "module",
    "function",
    "builtin_function_or_method",
    "instance",
    "_Feature"
   ],
   "window_display": false
  }
 },
 "nbformat": 4,
 "nbformat_minor": 1
}
