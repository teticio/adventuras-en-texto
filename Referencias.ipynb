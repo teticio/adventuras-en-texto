{
 "cells": [
  {
   "cell_type": "markdown",
   "metadata": {},
   "source": [
    "# Referencias\n",
    "\n",
    "[Notes on Deep Learning for NLP](https://arxiv.org/abs/1808.09772)\n",
    "\n",
    "Word2Vec\n",
    "\n",
    "[Efficient Estimation of Word Representations in Vector Space](https://arxiv.org/abs/1301.3781)\n",
    "\n",
    "[word2vec Parameter Learning Explained](https://www.researchgate.net/publication/268226652_word2vec_Parameter_Learning_Explained)\n",
    "\n",
    "ELMo\n",
    "\n",
    "[Deep contextualized word representations](https://arxiv.org/abs/1802.05365)\n",
    "\n",
    "ULMFiT\n",
    "\n",
    "[Universal Language Model Fine-tuning for Text Classification](https://arxiv.org/abs/1801.06146)\n",
    "\n",
    "Attention\n",
    "\n",
    "[Neural Machine Translation by Jointly Learning to Align and Translate](https://arxiv.org/abs/1409.0473)\n",
    "\n",
    "[Effective Approaches to Attention-based Neural Machine Translation](https://arxiv.org/abs/1508.04025)\n",
    "\n",
    "Transformer\n",
    "\n",
    "[Attention Is All You Need](https://arxiv.org/abs/1706.03762)\n",
    "\n",
    "BERT\n",
    "\n",
    "[BERT: Pre-training of Deep Bidirectional Transformers for Language Understanding](https://arxiv.org/abs/1810.04805)\n",
    "\n",
    "GPT-2\n",
    "\n",
    "[Language Models are Unsupervised Multitask Learners](https://d4mucfpksywv.cloudfront.net/better-language-models/language_models_are_unsupervised_multitask_learners.pdf)\n",
    "\n",
    "XLNet\n",
    "\n",
    "[XLNet: Generalized Autoregressive Pretraining for Language Understanding](https://arxiv.org/abs/1906.08237)\n",
    "\n",
    "Traducción neuronal no supervisada\n",
    "\n",
    "[Phrase-Based & Neural Unsupervised Machine Translation](https://arxiv.org/abs/1804.07755)\n",
    "\n",
    "[Word Translation Without Parallel Data](https://arxiv.org/abs/1710.04087)"
   ]
  }
 ],
 "metadata": {
  "kernelspec": {
   "display_name": "Python 3",
   "language": "python",
   "name": "python3"
  },
  "language_info": {
   "codemirror_mode": {
    "name": "ipython",
    "version": 3
   },
   "file_extension": ".py",
   "mimetype": "text/x-python",
   "name": "python",
   "nbconvert_exporter": "python",
   "pygments_lexer": "ipython3",
   "version": "3.6.8"
  }
 },
 "nbformat": 4,
 "nbformat_minor": 2
}
